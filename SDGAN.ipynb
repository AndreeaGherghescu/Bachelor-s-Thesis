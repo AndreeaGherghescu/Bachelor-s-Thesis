{
 "cells": [
  {
   "cell_type": "markdown",
   "source": [
    "### Siamese GAN\n",
    "\n",
    "image_size = 32\n",
    "channels = 1\n"
   ],
   "metadata": {
    "collapsed": false
   }
  },
  {
   "cell_type": "code",
   "execution_count": 1,
   "metadata": {
    "collapsed": true,
    "ExecuteTime": {
     "end_time": "2023-06-09T16:33:36.517624210Z",
     "start_time": "2023-06-09T16:33:34.527067925Z"
    }
   },
   "outputs": [],
   "source": [
    "import pathlib\n",
    "import torch\n",
    "import numpy as np\n",
    "import matplotlib.pyplot as plt\n",
    "import torchvision\n",
    "from tqdm import tqdm\n",
    "from PIL import Image\n",
    "import os\n",
    "from torch.optim.lr_scheduler import ReduceLROnPlateau\n",
    "import joblib"
   ]
  },
  {
   "cell_type": "code",
   "execution_count": 2,
   "outputs": [],
   "source": [
    "ngpu = 0\n",
    "pathA = \"Data/SpectrogramsA\"\n",
    "pathB = \"Data/SpectrogramsB\"\n",
    "filename_gen = \"SDGAN/smoothing_with_noise_gen4layers_40epoci/SDGAN-Gen.joblib\"\n",
    "filename_dis = \"SDGAN/smoothing_with_noise_gen4layers_40epoci/SDGAN-Dis.joblib\"\n",
    "workers = 2\n",
    "batch_size = 32\n",
    "\n",
    "image_size = 32\n",
    "\n",
    "# channels nr for input images\n",
    "nc = 1\n",
    "# size of feature maps in generator\n",
    "ngf = 64\n",
    "# size of feature maps in discriminator\n",
    "ndf = 64\n",
    "# length of latent vector\n",
    "lenvec = 32\n",
    "\n",
    "num_epochs = 40\n",
    "lr = 0.0002\n",
    "lrD = 0.000001\n",
    "beta1 = 0.5\n",
    "\n",
    "def find_classes(directory:str):\n",
    "    classes = sorted(entry.name for entry in os.scandir(directory) if entry.is_dir())\n",
    "\n",
    "    class_to_index = {class_name: i for i, class_name in enumerate(classes)}\n",
    "\n",
    "    return classes, class_to_index"
   ],
   "metadata": {
    "collapsed": false,
    "ExecuteTime": {
     "end_time": "2023-06-09T16:33:36.523007255Z",
     "start_time": "2023-06-09T16:33:36.520748894Z"
    }
   }
  },
  {
   "cell_type": "code",
   "execution_count": 3,
   "outputs": [],
   "source": [
    "class MyImageFolder(torch.utils.data.Dataset):\n",
    "    def __init__(self, directory:str, transform=None):\n",
    "\n",
    "        self.paths = list(pathlib.Path(directory).glob('*/*.jpg')) * 3\n",
    "\n",
    "        self.transform = transform\n",
    "        self.classes, self.class_to_index = find_classes(directory)\n",
    "\n",
    "    def __len__(self):\n",
    "        return len(self.paths)\n",
    "\n",
    "    def __getitem__(self, index):\n",
    "        img = self.load_image(index)\n",
    "        class_name = self.paths[index].parent.name\n",
    "        class_index = self.class_to_index[class_name]\n",
    "\n",
    "        if self.transform:\n",
    "            return self.transform(img), class_index\n",
    "        else:\n",
    "            return img, class_index\n",
    "\n",
    "    def load_image(self, index):\n",
    "        image_path = self.paths[index]\n",
    "        return Image.open(image_path)\n",
    "\n",
    "transform = torchvision.transforms.Compose([\n",
    "            torchvision.transforms.ToTensor(),  # imaginile sunt normalizate intre [0, 1]\n",
    "            torchvision.transforms.Normalize(0.5, 0.5),  # imaginile sunt normalizate intre [-1, 1]\n",
    "        ])\n"
   ],
   "metadata": {
    "collapsed": false,
    "ExecuteTime": {
     "end_time": "2023-06-09T16:33:36.531430597Z",
     "start_time": "2023-06-09T16:33:36.529206190Z"
    }
   }
  },
  {
   "cell_type": "code",
   "execution_count": 4,
   "outputs": [
    {
     "name": "stdout",
     "output_type": "stream",
     "text": [
      "17220\n",
      "32\n",
      "17156\n",
      "32\n",
      "537\n"
     ]
    }
   ],
   "source": [
    "train_data_A = MyImageFolder(directory=pathA, transform=transform)\n",
    "train_data_A, test_data_A, validation_data_A = \\\n",
    "    torch.utils.data.random_split(train_data_A, [len(train_data_A) - 64, 32, 32])\n",
    "\n",
    "print(len(test_data_A))\n",
    "print(len(train_data_A))\n",
    "print(len(validation_data_A))\n",
    "\n",
    "train_data_B = MyImageFolder(directory=pathB, transform=transform)\n",
    "\n",
    "dataloader_A = torch.utils.data.DataLoader(train_data_A, batch_size=batch_size, shuffle=True, num_workers=2)\n",
    "print(len(dataloader_A))\n",
    "testloader_A = torch.utils.data.DataLoader(test_data_A, batch_size=batch_size, shuffle=True, num_workers=2)\n",
    "validationloader_A = torch.utils.data.DataLoader(test_data_A, batch_size=batch_size, shuffle=True, num_workers=2)\n",
    "\n",
    "dataloader_B = torch.utils.data.DataLoader(train_data_B, batch_size=batch_size, shuffle=True, num_workers=2)\n",
    "device = torch.device(\"cuda:0\" if (torch.cuda.is_available() and ngpu > 0) else \"cpu\")\n"
   ],
   "metadata": {
    "collapsed": false,
    "ExecuteTime": {
     "end_time": "2023-06-09T16:33:36.624573958Z",
     "start_time": "2023-06-09T16:33:36.537327686Z"
    }
   }
  },
  {
   "cell_type": "code",
   "execution_count": 5,
   "outputs": [],
   "source": [
    "'''\n",
    "Gaussian distribution (also known as normal distribution) is a bell-shaped curve, and it is assumed that during any measurement values will follow a normal distribution with an equal number of measurements above and below the mean value.\n",
    "'''\n",
    "class GaussianNoise(torch.nn.Module):\n",
    "    def __init__(self, std=0.1, decay=0):\n",
    "        super().__init__()\n",
    "        self.std = std\n",
    "        self.decay = decay\n",
    "\n",
    "    def step(self):\n",
    "        self.std = max(self.std - self.decay, 0)\n",
    "\n",
    "    def forward(self, x):\n",
    "        if self.training:\n",
    "            return x + torch.empty_like(x).normal_(std=self.std)\n",
    "        else:\n",
    "            return x"
   ],
   "metadata": {
    "collapsed": false,
    "ExecuteTime": {
     "end_time": "2023-06-09T16:33:36.630859727Z",
     "start_time": "2023-06-09T16:33:36.629124941Z"
    }
   }
  },
  {
   "cell_type": "code",
   "execution_count": 6,
   "outputs": [],
   "source": [
    "'''\n",
    "From the DCGAN paper, the authors specify that all model weights shall be randomly initialized from a Normal distribution with mean=0, stdev=0.02. The weights_init function takes an initialized model as input and reinitializes all convolutional, convolutional-transpose, and batch normalization layers to meet this criteria. This function is applied to the models immediately after initialization.\n",
    "'''\n",
    "def weights_init(m):\n",
    "    classname = m.__class__.__name__\n",
    "    if classname.find('Conv') != -1:\n",
    "        torch.nn.init.normal_(m.weight.data, 0.0, 0.02)\n",
    "    elif classname.find('BatchNorm') != -1:\n",
    "        torch.nn.init.normal_(m.weight.data, 1.0, 0.02)\n",
    "        torch.nn.init.constant_(m.bias.data, 0)"
   ],
   "metadata": {
    "collapsed": false,
    "ExecuteTime": {
     "end_time": "2023-06-09T16:33:36.680019375Z",
     "start_time": "2023-06-09T16:33:36.635866842Z"
    }
   }
  },
  {
   "cell_type": "code",
   "execution_count": 7,
   "outputs": [
    {
     "data": {
      "text/plain": "Sequential(\n  (0): Conv2d(1, 64, kernel_size=(4, 4), stride=(2, 2), padding=(1, 1), bias=False)\n  (1): BatchNorm2d(64, eps=1e-05, momentum=0.1, affine=True, track_running_stats=True)\n  (2): LeakyReLU(negative_slope=True)\n  (3): Conv2d(64, 128, kernel_size=(4, 4), stride=(2, 2), padding=(1, 1), bias=False)\n  (4): BatchNorm2d(128, eps=1e-05, momentum=0.1, affine=True, track_running_stats=True)\n  (5): LeakyReLU(negative_slope=True)\n  (6): ConvTranspose2d(128, 64, kernel_size=(4, 4), stride=(2, 2), padding=(1, 1), bias=False)\n  (7): BatchNorm2d(64, eps=1e-05, momentum=0.1, affine=True, track_running_stats=True)\n  (8): LeakyReLU(negative_slope=True)\n  (9): ConvTranspose2d(64, 1, kernel_size=(4, 4), stride=(2, 2), padding=(1, 1), bias=False)\n  (10): Tanh()\n)"
     },
     "execution_count": 7,
     "metadata": {},
     "output_type": "execute_result"
    }
   ],
   "source": [
    "generator = torch.nn.Sequential(\n",
    "    # 1 x 32 x 32\n",
    "    # downsampling\n",
    "    torch.nn.Conv2d(nc, ngf, kernel_size=4, stride=2, padding=1, bias=False),\n",
    "    torch.nn.BatchNorm2d(ngf),\n",
    "    torch.nn.LeakyReLU(True),\n",
    "    # ngf x 16 x 16\n",
    "\n",
    "    torch.nn.Conv2d(ngf, ngf * 2, kernel_size=4, stride=2, padding=1, bias=False),\n",
    "    torch.nn.BatchNorm2d(ngf * 2),\n",
    "    torch.nn.LeakyReLU(True),\n",
    "    # ngf*2 x 8 x 8\n",
    "\n",
    "    # upsampling\n",
    "    torch.nn.ConvTranspose2d(ngf * 2, ngf, kernel_size=4, stride=2, padding=1, bias=False),\n",
    "    torch.nn.BatchNorm2d(ngf),\n",
    "    torch.nn.LeakyReLU(True),\n",
    "    # ngf x 16 x 16\n",
    "\n",
    "    torch.nn.ConvTranspose2d(ngf, nc, kernel_size=4, stride=2, padding=1, bias=False),\n",
    "    torch.nn.Tanh(),\n",
    "    # nc x 32 x 32\n",
    ")\n",
    "\n",
    "generator.apply(weights_init)"
   ],
   "metadata": {
    "collapsed": false,
    "ExecuteTime": {
     "end_time": "2023-06-09T16:33:36.684324854Z",
     "start_time": "2023-06-09T16:33:36.678578262Z"
    }
   }
  },
  {
   "cell_type": "code",
   "execution_count": 8,
   "outputs": [
    {
     "data": {
      "text/plain": "Sequential(\n  (0): GaussianNoise()\n  (1): Conv2d(1, 64, kernel_size=(4, 4), stride=(2, 2), padding=(1, 1), bias=False)\n  (2): LeakyReLU(negative_slope=0.2, inplace=True)\n  (3): GaussianNoise()\n  (4): Conv2d(64, 128, kernel_size=(3, 3), stride=(1, 1), padding=(1, 1), bias=False)\n  (5): BatchNorm2d(128, eps=1e-05, momentum=0.1, affine=True, track_running_stats=True)\n  (6): LeakyReLU(negative_slope=0.2, inplace=True)\n  (7): GaussianNoise()\n  (8): Conv2d(128, 256, kernel_size=(4, 4), stride=(2, 2), padding=(1, 1), bias=False)\n  (9): BatchNorm2d(256, eps=1e-05, momentum=0.1, affine=True, track_running_stats=True)\n  (10): LeakyReLU(negative_slope=0.2, inplace=True)\n  (11): GaussianNoise()\n  (12): Conv2d(256, 1, kernel_size=(3, 7), stride=(1, 1), padding=(1, 1), bias=False)\n  (13): Sigmoid()\n)"
     },
     "execution_count": 8,
     "metadata": {},
     "output_type": "execute_result"
    }
   ],
   "source": [
    "discriminator = torch.nn.Sequential(\n",
    "    # nc x 32 x 32\n",
    "    GaussianNoise(),\n",
    "    torch.nn.Conv2d(nc, ndf, 4, 2, 1, bias=False),\n",
    "    torch.nn.LeakyReLU(0.2, inplace=True),\n",
    "    # ndf x 16 x 16\n",
    "\n",
    "    GaussianNoise(),\n",
    "    torch.nn.Conv2d(ndf, ndf * 2, 3, 1, 1, bias=False),\n",
    "    torch.nn.BatchNorm2d(ndf * 2),\n",
    "    torch.nn.LeakyReLU(0.2, inplace=True),\n",
    "    # ndf*2 x 16 x 16\n",
    "\n",
    "    GaussianNoise(),\n",
    "    torch.nn.Conv2d(ndf * 2, ndf * 4, 4, 2, 1, bias=False),\n",
    "    torch.nn.BatchNorm2d(ndf * 4),\n",
    "    torch.nn.LeakyReLU(0.2, inplace=True),\n",
    "    # ndf*4 x 8 x 8\n",
    "\n",
    "    GaussianNoise(),\n",
    "    torch.nn.Conv2d(ndf * 4, nc, (3, 7), 1, 1, bias=False),\n",
    "    torch.nn.Sigmoid(),\n",
    "    # 1 x 8 x 4\n",
    ")\n",
    "\n",
    "discriminator.apply(weights_init)"
   ],
   "metadata": {
    "collapsed": false,
    "ExecuteTime": {
     "end_time": "2023-06-09T16:33:36.687640797Z",
     "start_time": "2023-06-09T16:33:36.678960730Z"
    }
   }
  },
  {
   "cell_type": "code",
   "execution_count": 9,
   "outputs": [],
   "source": [
    "adversarial_loss = torch.nn.BCELoss()\n",
    "contrastive_loss = torch.nn.CosineEmbeddingLoss(margin=0.2)\n",
    "\n",
    "fixed_noise = torch.randn(batch_size, nc, image_size, image_size, device=device)\n",
    "different_classes = -1\n",
    "same_class = 1\n",
    "real_label = 0\n",
    "fake_label = 1\n",
    "\n",
    "gen_optimizer = torch.optim.Adam(generator.parameters(), lr=lr, betas=(beta1, 0.999))\n",
    "dis_optimizer = torch.optim.Adam(discriminator.parameters(), lr=lrD, betas=(beta1, 0.999))\n",
    "scheduler_gen = ReduceLROnPlateau(gen_optimizer, patience=2, factor=0.1, min_lr=0.00000001, verbose=True)\n",
    "scheduler_dis = ReduceLROnPlateau(dis_optimizer, patience=1, factor=0.1, min_lr=0.0000001)"
   ],
   "metadata": {
    "collapsed": false,
    "ExecuteTime": {
     "end_time": "2023-06-09T16:33:36.745881711Z",
     "start_time": "2023-06-09T16:33:36.679261854Z"
    }
   }
  },
  {
   "cell_type": "code",
   "execution_count": 10,
   "outputs": [],
   "source": [
    "def normalize(x, minim, maxim):\n",
    "    return (x - minim) / (maxim - minim)\n",
    "\n",
    "def smooth_label(label, size1, size2):\n",
    "    arr = torch.rand((size1, size2), dtype=torch.float, device=device)\n",
    "    if label == 1:\n",
    "        for i in range(arr.shape[0]):\n",
    "            arr[i] = normalize(arr[i], 0.7, 1.2)\n",
    "    else:\n",
    "        for i in range(arr.shape[0]):\n",
    "            arr[i] = normalize(arr[i], 0.0, 0.3)\n",
    "    return arr\n",
    "\n",
    "img_lists = []\n",
    "gen_losses = []\n",
    "dis_losses = []\n",
    "iters = 0\n"
   ],
   "metadata": {
    "collapsed": false,
    "ExecuteTime": {
     "end_time": "2023-06-09T16:33:36.750342964Z",
     "start_time": "2023-06-09T16:33:36.722320581Z"
    }
   }
  },
  {
   "cell_type": "code",
   "execution_count": 11,
   "outputs": [
    {
     "name": "stderr",
     "output_type": "stream",
     "text": [
      "101it [00:22,  4.64it/s]"
     ]
    },
    {
     "name": "stdout",
     "output_type": "stream",
     "text": [
      "[0/39] [100/536]\tLoss_dis: 3.1666\tLoss_gen: 1.8081\tD(x): 0.3927\tD(G(x)): 0.5008 / 0.5035\n"
     ]
    },
    {
     "name": "stderr",
     "output_type": "stream",
     "text": [
      "201it [00:44,  4.40it/s]"
     ]
    },
    {
     "name": "stdout",
     "output_type": "stream",
     "text": [
      "[0/39] [200/536]\tLoss_dis: 3.0111\tLoss_gen: 1.6820\tD(x): 0.4323\tD(G(x)): 0.5113 / 0.5152\n"
     ]
    },
    {
     "name": "stderr",
     "output_type": "stream",
     "text": [
      "301it [01:09,  4.54it/s]"
     ]
    },
    {
     "name": "stdout",
     "output_type": "stream",
     "text": [
      "[0/39] [300/536]\tLoss_dis: 2.8785\tLoss_gen: 1.6366\tD(x): 0.4531\tD(G(x)): 0.5183 / 0.5259\n"
     ]
    },
    {
     "name": "stderr",
     "output_type": "stream",
     "text": [
      "401it [01:32,  4.53it/s]"
     ]
    },
    {
     "name": "stdout",
     "output_type": "stream",
     "text": [
      "[0/39] [400/536]\tLoss_dis: 2.7891\tLoss_gen: 1.6213\tD(x): 0.4879\tD(G(x)): 0.5392 / 0.5274\n"
     ]
    },
    {
     "name": "stderr",
     "output_type": "stream",
     "text": [
      "500it [01:56,  4.27it/s]"
     ]
    },
    {
     "name": "stdout",
     "output_type": "stream",
     "text": [
      "[0/39] [500/536]\tLoss_dis: 2.7470\tLoss_gen: 1.3961\tD(x): 0.5226\tD(G(x)): 0.5651 / 0.5682\n"
     ]
    },
    {
     "name": "stderr",
     "output_type": "stream",
     "text": [
      "537it [02:06,  4.25it/s]\n",
      "/tmp/ipykernel_31053/3600575303.py:91: FutureWarning: The input object of type 'Tensor' is an array-like implementing one of the corresponding protocols (`__array__`, `__array_interface__` or `__array_struct__`); but not a sequence (or 0-D). In the future, this object will be coerced as if it was first converted using `np.array(obj)`. To retain the old behaviour, you have to either modify the type 'Tensor', or assign to an empty array created with `np.empty(correct_shape, dtype=object)`.\n",
      "  img_arr = np.array(img_lists, dtype=object)\n",
      "101it [00:25,  4.34it/s]"
     ]
    },
    {
     "name": "stdout",
     "output_type": "stream",
     "text": [
      "[1/39] [100/536]\tLoss_dis: 2.5028\tLoss_gen: 1.3667\tD(x): 0.5592\tD(G(x)): 0.5688 / 0.5752\n"
     ]
    },
    {
     "name": "stderr",
     "output_type": "stream",
     "text": [
      "201it [00:50,  4.15it/s]"
     ]
    },
    {
     "name": "stdout",
     "output_type": "stream",
     "text": [
      "[1/39] [200/536]\tLoss_dis: 2.4758\tLoss_gen: 1.3333\tD(x): 0.5843\tD(G(x)): 0.5738 / 0.5759\n"
     ]
    },
    {
     "name": "stderr",
     "output_type": "stream",
     "text": [
      "301it [01:15,  3.95it/s]"
     ]
    },
    {
     "name": "stdout",
     "output_type": "stream",
     "text": [
      "[1/39] [300/536]\tLoss_dis: 2.5590\tLoss_gen: 1.2209\tD(x): 0.5824\tD(G(x)): 0.5916 / 0.5957\n"
     ]
    },
    {
     "name": "stderr",
     "output_type": "stream",
     "text": [
      "401it [01:40,  4.06it/s]"
     ]
    },
    {
     "name": "stdout",
     "output_type": "stream",
     "text": [
      "[1/39] [400/536]\tLoss_dis: 2.4599\tLoss_gen: 1.3210\tD(x): 0.6030\tD(G(x)): 0.6002 / 0.5904\n"
     ]
    },
    {
     "name": "stderr",
     "output_type": "stream",
     "text": [
      "501it [02:05,  4.09it/s]"
     ]
    },
    {
     "name": "stdout",
     "output_type": "stream",
     "text": [
      "[1/39] [500/536]\tLoss_dis: 2.3828\tLoss_gen: 1.3380\tD(x): 0.6097\tD(G(x)): 0.5944 / 0.5929\n"
     ]
    },
    {
     "name": "stderr",
     "output_type": "stream",
     "text": [
      "537it [02:14,  4.01it/s]\n",
      "101it [00:25,  4.12it/s]"
     ]
    },
    {
     "name": "stdout",
     "output_type": "stream",
     "text": [
      "[2/39] [100/536]\tLoss_dis: 2.4822\tLoss_gen: 1.1470\tD(x): 0.6270\tD(G(x)): 0.6229 / 0.6226\n"
     ]
    },
    {
     "name": "stderr",
     "output_type": "stream",
     "text": [
      "201it [00:50,  4.11it/s]"
     ]
    },
    {
     "name": "stdout",
     "output_type": "stream",
     "text": [
      "[2/39] [200/536]\tLoss_dis: 2.4447\tLoss_gen: 1.1745\tD(x): 0.6201\tD(G(x)): 0.6139 / 0.6211\n"
     ]
    },
    {
     "name": "stderr",
     "output_type": "stream",
     "text": [
      "301it [01:14,  4.18it/s]"
     ]
    },
    {
     "name": "stdout",
     "output_type": "stream",
     "text": [
      "[2/39] [300/536]\tLoss_dis: 2.4850\tLoss_gen: 1.1523\tD(x): 0.6277\tD(G(x)): 0.6197 / 0.6221\n"
     ]
    },
    {
     "name": "stderr",
     "output_type": "stream",
     "text": [
      "401it [01:39,  3.94it/s]"
     ]
    },
    {
     "name": "stdout",
     "output_type": "stream",
     "text": [
      "[2/39] [400/536]\tLoss_dis: 2.3991\tLoss_gen: 1.1423\tD(x): 0.6403\tD(G(x)): 0.6322 / 0.6294\n"
     ]
    },
    {
     "name": "stderr",
     "output_type": "stream",
     "text": [
      "501it [02:04,  3.95it/s]"
     ]
    },
    {
     "name": "stdout",
     "output_type": "stream",
     "text": [
      "[2/39] [500/536]\tLoss_dis: 2.4271\tLoss_gen: 1.0812\tD(x): 0.6298\tD(G(x)): 0.6284 / 0.6297\n"
     ]
    },
    {
     "name": "stderr",
     "output_type": "stream",
     "text": [
      "537it [02:13,  4.03it/s]\n",
      "101it [00:25,  3.92it/s]"
     ]
    },
    {
     "name": "stdout",
     "output_type": "stream",
     "text": [
      "[3/39] [100/536]\tLoss_dis: 2.5498\tLoss_gen: 1.0778\tD(x): 0.6236\tD(G(x)): 0.6319 / 0.6366\n"
     ]
    },
    {
     "name": "stderr",
     "output_type": "stream",
     "text": [
      "201it [00:50,  4.11it/s]"
     ]
    },
    {
     "name": "stdout",
     "output_type": "stream",
     "text": [
      "[3/39] [200/536]\tLoss_dis: 2.5292\tLoss_gen: 1.1290\tD(x): 0.6325\tD(G(x)): 0.6317 / 0.6244\n"
     ]
    },
    {
     "name": "stderr",
     "output_type": "stream",
     "text": [
      "301it [01:15,  4.11it/s]"
     ]
    },
    {
     "name": "stdout",
     "output_type": "stream",
     "text": [
      "[3/39] [300/536]\tLoss_dis: 2.4652\tLoss_gen: 1.1201\tD(x): 0.6330\tD(G(x)): 0.6279 / 0.6275\n"
     ]
    },
    {
     "name": "stderr",
     "output_type": "stream",
     "text": [
      "401it [01:40,  4.12it/s]"
     ]
    },
    {
     "name": "stdout",
     "output_type": "stream",
     "text": [
      "[3/39] [400/536]\tLoss_dis: 2.4138\tLoss_gen: 1.1224\tD(x): 0.6343\tD(G(x)): 0.6332 / 0.6244\n"
     ]
    },
    {
     "name": "stderr",
     "output_type": "stream",
     "text": [
      "501it [02:05,  4.03it/s]"
     ]
    },
    {
     "name": "stdout",
     "output_type": "stream",
     "text": [
      "[3/39] [500/536]\tLoss_dis: 2.4954\tLoss_gen: 1.0963\tD(x): 0.6270\tD(G(x)): 0.6240 / 0.6298\n"
     ]
    },
    {
     "name": "stderr",
     "output_type": "stream",
     "text": [
      "537it [02:13,  4.01it/s]\n",
      "101it [00:25,  4.07it/s]"
     ]
    },
    {
     "name": "stdout",
     "output_type": "stream",
     "text": [
      "[4/39] [100/536]\tLoss_dis: 2.4225\tLoss_gen: 1.1933\tD(x): 0.6335\tD(G(x)): 0.6255 / 0.6216\n"
     ]
    },
    {
     "name": "stderr",
     "output_type": "stream",
     "text": [
      "201it [00:50,  4.09it/s]"
     ]
    },
    {
     "name": "stdout",
     "output_type": "stream",
     "text": [
      "[4/39] [200/536]\tLoss_dis: 2.4306\tLoss_gen: 1.1036\tD(x): 0.6385\tD(G(x)): 0.6216 / 0.6260\n"
     ]
    },
    {
     "name": "stderr",
     "output_type": "stream",
     "text": [
      "301it [01:14,  4.01it/s]"
     ]
    },
    {
     "name": "stdout",
     "output_type": "stream",
     "text": [
      "[4/39] [300/536]\tLoss_dis: 2.4561\tLoss_gen: 1.1713\tD(x): 0.6353\tD(G(x)): 0.6298 / 0.6236\n"
     ]
    },
    {
     "name": "stderr",
     "output_type": "stream",
     "text": [
      "401it [01:39,  3.82it/s]"
     ]
    },
    {
     "name": "stdout",
     "output_type": "stream",
     "text": [
      "[4/39] [400/536]\tLoss_dis: 2.3399\tLoss_gen: 1.1443\tD(x): 0.6373\tD(G(x)): 0.6198 / 0.6207\n"
     ]
    },
    {
     "name": "stderr",
     "output_type": "stream",
     "text": [
      "501it [02:04,  4.14it/s]"
     ]
    },
    {
     "name": "stdout",
     "output_type": "stream",
     "text": [
      "[4/39] [500/536]\tLoss_dis: 2.3767\tLoss_gen: 1.1189\tD(x): 0.6345\tD(G(x)): 0.6267 / 0.6247\n"
     ]
    },
    {
     "name": "stderr",
     "output_type": "stream",
     "text": [
      "537it [02:13,  4.02it/s]\n",
      "101it [00:25,  3.96it/s]"
     ]
    },
    {
     "name": "stdout",
     "output_type": "stream",
     "text": [
      "[5/39] [100/536]\tLoss_dis: 2.5334\tLoss_gen: 1.0795\tD(x): 0.6341\tD(G(x)): 0.6410 / 0.6378\n"
     ]
    },
    {
     "name": "stderr",
     "output_type": "stream",
     "text": [
      "201it [00:50,  4.10it/s]"
     ]
    },
    {
     "name": "stdout",
     "output_type": "stream",
     "text": [
      "[5/39] [200/536]\tLoss_dis: 2.5878\tLoss_gen: 1.0428\tD(x): 0.6257\tD(G(x)): 0.6429 / 0.6366\n"
     ]
    },
    {
     "name": "stderr",
     "output_type": "stream",
     "text": [
      "301it [01:14,  4.03it/s]"
     ]
    },
    {
     "name": "stdout",
     "output_type": "stream",
     "text": [
      "[5/39] [300/536]\tLoss_dis: 2.4923\tLoss_gen: 1.0127\tD(x): 0.6305\tD(G(x)): 0.6330 / 0.6384\n"
     ]
    },
    {
     "name": "stderr",
     "output_type": "stream",
     "text": [
      "401it [01:40,  4.11it/s]"
     ]
    },
    {
     "name": "stdout",
     "output_type": "stream",
     "text": [
      "[5/39] [400/536]\tLoss_dis: 2.4064\tLoss_gen: 1.0593\tD(x): 0.6294\tD(G(x)): 0.6290 / 0.6272\n"
     ]
    },
    {
     "name": "stderr",
     "output_type": "stream",
     "text": [
      "501it [02:05,  3.97it/s]"
     ]
    },
    {
     "name": "stdout",
     "output_type": "stream",
     "text": [
      "[5/39] [500/536]\tLoss_dis: 2.5366\tLoss_gen: 1.1051\tD(x): 0.6275\tD(G(x)): 0.6373 / 0.6303\n"
     ]
    },
    {
     "name": "stderr",
     "output_type": "stream",
     "text": [
      "537it [02:13,  4.01it/s]\n",
      "101it [00:25,  4.07it/s]"
     ]
    },
    {
     "name": "stdout",
     "output_type": "stream",
     "text": [
      "[6/39] [100/536]\tLoss_dis: 2.4714\tLoss_gen: 1.0790\tD(x): 0.6311\tD(G(x)): 0.6412 / 0.6323\n"
     ]
    },
    {
     "name": "stderr",
     "output_type": "stream",
     "text": [
      "201it [00:50,  3.98it/s]"
     ]
    },
    {
     "name": "stdout",
     "output_type": "stream",
     "text": [
      "[6/39] [200/536]\tLoss_dis: 2.4555\tLoss_gen: 1.1078\tD(x): 0.6230\tD(G(x)): 0.6294 / 0.6356\n"
     ]
    },
    {
     "name": "stderr",
     "output_type": "stream",
     "text": [
      "301it [01:16,  3.91it/s]"
     ]
    },
    {
     "name": "stdout",
     "output_type": "stream",
     "text": [
      "[6/39] [300/536]\tLoss_dis: 2.3945\tLoss_gen: 1.0630\tD(x): 0.6320\tD(G(x)): 0.6335 / 0.6339\n"
     ]
    },
    {
     "name": "stderr",
     "output_type": "stream",
     "text": [
      "401it [01:41,  3.96it/s]"
     ]
    },
    {
     "name": "stdout",
     "output_type": "stream",
     "text": [
      "[6/39] [400/536]\tLoss_dis: 2.4491\tLoss_gen: 1.0898\tD(x): 0.6314\tD(G(x)): 0.6373 / 0.6318\n"
     ]
    },
    {
     "name": "stderr",
     "output_type": "stream",
     "text": [
      "501it [02:06,  3.98it/s]"
     ]
    },
    {
     "name": "stdout",
     "output_type": "stream",
     "text": [
      "[6/39] [500/536]\tLoss_dis: 2.4687\tLoss_gen: 1.1124\tD(x): 0.6305\tD(G(x)): 0.6315 / 0.6295\n"
     ]
    },
    {
     "name": "stderr",
     "output_type": "stream",
     "text": [
      "537it [02:15,  3.95it/s]\n"
     ]
    },
    {
     "name": "stdout",
     "output_type": "stream",
     "text": [
      "Epoch 00007: reducing learning rate of group 0 to 2.0000e-05.\n"
     ]
    },
    {
     "name": "stderr",
     "output_type": "stream",
     "text": [
      "101it [00:25,  4.14it/s]"
     ]
    },
    {
     "name": "stdout",
     "output_type": "stream",
     "text": [
      "[7/39] [100/536]\tLoss_dis: 2.4292\tLoss_gen: 1.0793\tD(x): 0.6278\tD(G(x)): 0.6250 / 0.6366\n"
     ]
    },
    {
     "name": "stderr",
     "output_type": "stream",
     "text": [
      "201it [00:49,  4.14it/s]"
     ]
    },
    {
     "name": "stdout",
     "output_type": "stream",
     "text": [
      "[7/39] [200/536]\tLoss_dis: 2.4960\tLoss_gen: 1.1452\tD(x): 0.6294\tD(G(x)): 0.6332 / 0.6305\n"
     ]
    },
    {
     "name": "stderr",
     "output_type": "stream",
     "text": [
      "301it [01:14,  4.10it/s]"
     ]
    },
    {
     "name": "stdout",
     "output_type": "stream",
     "text": [
      "[7/39] [300/536]\tLoss_dis: 2.4102\tLoss_gen: 1.0857\tD(x): 0.6284\tD(G(x)): 0.6316 / 0.6386\n"
     ]
    },
    {
     "name": "stderr",
     "output_type": "stream",
     "text": [
      "401it [01:39,  4.06it/s]"
     ]
    },
    {
     "name": "stdout",
     "output_type": "stream",
     "text": [
      "[7/39] [400/536]\tLoss_dis: 2.5055\tLoss_gen: 1.0550\tD(x): 0.6284\tD(G(x)): 0.6296 / 0.6342\n"
     ]
    },
    {
     "name": "stderr",
     "output_type": "stream",
     "text": [
      "501it [02:03,  4.01it/s]"
     ]
    },
    {
     "name": "stdout",
     "output_type": "stream",
     "text": [
      "[7/39] [500/536]\tLoss_dis: 2.4364\tLoss_gen: 1.1238\tD(x): 0.6350\tD(G(x)): 0.6271 / 0.6245\n"
     ]
    },
    {
     "name": "stderr",
     "output_type": "stream",
     "text": [
      "537it [02:12,  4.05it/s]\n",
      "101it [00:25,  4.16it/s]"
     ]
    },
    {
     "name": "stdout",
     "output_type": "stream",
     "text": [
      "[8/39] [100/536]\tLoss_dis: 2.4398\tLoss_gen: 1.0823\tD(x): 0.6311\tD(G(x)): 0.6336 / 0.6306\n"
     ]
    },
    {
     "name": "stderr",
     "output_type": "stream",
     "text": [
      "201it [00:50,  4.16it/s]"
     ]
    },
    {
     "name": "stdout",
     "output_type": "stream",
     "text": [
      "[8/39] [200/536]\tLoss_dis: 2.5237\tLoss_gen: 1.0791\tD(x): 0.6236\tD(G(x)): 0.6359 / 0.6337\n"
     ]
    },
    {
     "name": "stderr",
     "output_type": "stream",
     "text": [
      "301it [01:14,  3.96it/s]"
     ]
    },
    {
     "name": "stdout",
     "output_type": "stream",
     "text": [
      "[8/39] [300/536]\tLoss_dis: 2.4756\tLoss_gen: 1.0875\tD(x): 0.6308\tD(G(x)): 0.6278 / 0.6269\n"
     ]
    },
    {
     "name": "stderr",
     "output_type": "stream",
     "text": [
      "401it [01:39,  4.11it/s]"
     ]
    },
    {
     "name": "stdout",
     "output_type": "stream",
     "text": [
      "[8/39] [400/536]\tLoss_dis: 2.4434\tLoss_gen: 1.1253\tD(x): 0.6383\tD(G(x)): 0.6336 / 0.6325\n"
     ]
    },
    {
     "name": "stderr",
     "output_type": "stream",
     "text": [
      "501it [02:04,  3.88it/s]"
     ]
    },
    {
     "name": "stdout",
     "output_type": "stream",
     "text": [
      "[8/39] [500/536]\tLoss_dis: 2.4485\tLoss_gen: 1.0506\tD(x): 0.6331\tD(G(x)): 0.6381 / 0.6338\n"
     ]
    },
    {
     "name": "stderr",
     "output_type": "stream",
     "text": [
      "537it [02:13,  4.02it/s]\n",
      "101it [00:26,  4.05it/s]"
     ]
    },
    {
     "name": "stdout",
     "output_type": "stream",
     "text": [
      "[9/39] [100/536]\tLoss_dis: 2.4573\tLoss_gen: 1.1166\tD(x): 0.6216\tD(G(x)): 0.6332 / 0.6285\n"
     ]
    },
    {
     "name": "stderr",
     "output_type": "stream",
     "text": [
      "201it [00:51,  4.04it/s]"
     ]
    },
    {
     "name": "stdout",
     "output_type": "stream",
     "text": [
      "[9/39] [200/536]\tLoss_dis: 2.4628\tLoss_gen: 1.0517\tD(x): 0.6305\tD(G(x)): 0.6319 / 0.6295\n"
     ]
    },
    {
     "name": "stderr",
     "output_type": "stream",
     "text": [
      "301it [01:17,  3.85it/s]"
     ]
    },
    {
     "name": "stdout",
     "output_type": "stream",
     "text": [
      "[9/39] [300/536]\tLoss_dis: 2.4503\tLoss_gen: 1.0719\tD(x): 0.6324\tD(G(x)): 0.6349 / 0.6371\n"
     ]
    },
    {
     "name": "stderr",
     "output_type": "stream",
     "text": [
      "401it [01:42,  3.92it/s]"
     ]
    },
    {
     "name": "stdout",
     "output_type": "stream",
     "text": [
      "[9/39] [400/536]\tLoss_dis: 2.4997\tLoss_gen: 1.0554\tD(x): 0.6271\tD(G(x)): 0.6358 / 0.6352\n"
     ]
    },
    {
     "name": "stderr",
     "output_type": "stream",
     "text": [
      "501it [02:08,  3.99it/s]"
     ]
    },
    {
     "name": "stdout",
     "output_type": "stream",
     "text": [
      "[9/39] [500/536]\tLoss_dis: 2.4176\tLoss_gen: 1.0949\tD(x): 0.6353\tD(G(x)): 0.6283 / 0.6338\n"
     ]
    },
    {
     "name": "stderr",
     "output_type": "stream",
     "text": [
      "537it [02:17,  3.90it/s]\n"
     ]
    },
    {
     "name": "stdout",
     "output_type": "stream",
     "text": [
      "Epoch 00010: reducing learning rate of group 0 to 2.0000e-06.\n"
     ]
    },
    {
     "name": "stderr",
     "output_type": "stream",
     "text": [
      "101it [00:26,  4.06it/s]"
     ]
    },
    {
     "name": "stdout",
     "output_type": "stream",
     "text": [
      "[10/39] [100/536]\tLoss_dis: 2.4744\tLoss_gen: 1.0666\tD(x): 0.6331\tD(G(x)): 0.6338 / 0.6322\n"
     ]
    },
    {
     "name": "stderr",
     "output_type": "stream",
     "text": [
      "201it [00:51,  3.98it/s]"
     ]
    },
    {
     "name": "stdout",
     "output_type": "stream",
     "text": [
      "[10/39] [200/536]\tLoss_dis: 2.3998\tLoss_gen: 1.0480\tD(x): 0.6368\tD(G(x)): 0.6347 / 0.6415\n"
     ]
    },
    {
     "name": "stderr",
     "output_type": "stream",
     "text": [
      "301it [01:16,  3.96it/s]"
     ]
    },
    {
     "name": "stdout",
     "output_type": "stream",
     "text": [
      "[10/39] [300/536]\tLoss_dis: 2.4034\tLoss_gen: 1.0948\tD(x): 0.6339\tD(G(x)): 0.6372 / 0.6331\n"
     ]
    },
    {
     "name": "stderr",
     "output_type": "stream",
     "text": [
      "401it [01:41,  4.02it/s]"
     ]
    },
    {
     "name": "stdout",
     "output_type": "stream",
     "text": [
      "[10/39] [400/536]\tLoss_dis: 2.4275\tLoss_gen: 1.1540\tD(x): 0.6334\tD(G(x)): 0.6330 / 0.6294\n"
     ]
    },
    {
     "name": "stderr",
     "output_type": "stream",
     "text": [
      "501it [02:06,  4.06it/s]"
     ]
    },
    {
     "name": "stdout",
     "output_type": "stream",
     "text": [
      "[10/39] [500/536]\tLoss_dis: 2.3984\tLoss_gen: 1.0387\tD(x): 0.6321\tD(G(x)): 0.6358 / 0.6372\n"
     ]
    },
    {
     "name": "stderr",
     "output_type": "stream",
     "text": [
      "537it [02:15,  3.98it/s]\n",
      "101it [00:26,  3.96it/s]"
     ]
    },
    {
     "name": "stdout",
     "output_type": "stream",
     "text": [
      "[11/39] [100/536]\tLoss_dis: 2.4038\tLoss_gen: 1.0600\tD(x): 0.6404\tD(G(x)): 0.6321 / 0.6345\n"
     ]
    },
    {
     "name": "stderr",
     "output_type": "stream",
     "text": [
      "201it [00:51,  4.03it/s]"
     ]
    },
    {
     "name": "stdout",
     "output_type": "stream",
     "text": [
      "[11/39] [200/536]\tLoss_dis: 2.4877\tLoss_gen: 1.1082\tD(x): 0.6296\tD(G(x)): 0.6393 / 0.6372\n"
     ]
    },
    {
     "name": "stderr",
     "output_type": "stream",
     "text": [
      "301it [01:16,  3.90it/s]"
     ]
    },
    {
     "name": "stdout",
     "output_type": "stream",
     "text": [
      "[11/39] [300/536]\tLoss_dis: 2.3972\tLoss_gen: 1.1073\tD(x): 0.6281\tD(G(x)): 0.6322 / 0.6325\n"
     ]
    },
    {
     "name": "stderr",
     "output_type": "stream",
     "text": [
      "401it [01:42,  3.67it/s]"
     ]
    },
    {
     "name": "stdout",
     "output_type": "stream",
     "text": [
      "[11/39] [400/536]\tLoss_dis: 2.3994\tLoss_gen: 1.0071\tD(x): 0.6259\tD(G(x)): 0.6284 / 0.6355\n"
     ]
    },
    {
     "name": "stderr",
     "output_type": "stream",
     "text": [
      "501it [02:10,  3.67it/s]"
     ]
    },
    {
     "name": "stdout",
     "output_type": "stream",
     "text": [
      "[11/39] [500/536]\tLoss_dis: 2.4242\tLoss_gen: 1.1079\tD(x): 0.6264\tD(G(x)): 0.6311 / 0.6329\n"
     ]
    },
    {
     "name": "stderr",
     "output_type": "stream",
     "text": [
      "537it [02:20,  3.83it/s]\n",
      "101it [00:28,  3.71it/s]"
     ]
    },
    {
     "name": "stdout",
     "output_type": "stream",
     "text": [
      "[12/39] [100/536]\tLoss_dis: 2.4552\tLoss_gen: 1.1488\tD(x): 0.6351\tD(G(x)): 0.6313 / 0.6300\n"
     ]
    },
    {
     "name": "stderr",
     "output_type": "stream",
     "text": [
      "201it [00:55,  3.58it/s]"
     ]
    },
    {
     "name": "stdout",
     "output_type": "stream",
     "text": [
      "[12/39] [200/536]\tLoss_dis: 2.3479\tLoss_gen: 1.0974\tD(x): 0.6349\tD(G(x)): 0.6290 / 0.6343\n"
     ]
    },
    {
     "name": "stderr",
     "output_type": "stream",
     "text": [
      "301it [01:22,  4.51it/s]"
     ]
    },
    {
     "name": "stdout",
     "output_type": "stream",
     "text": [
      "[12/39] [300/536]\tLoss_dis: 2.4973\tLoss_gen: 1.0680\tD(x): 0.6256\tD(G(x)): 0.6354 / 0.6335\n"
     ]
    },
    {
     "name": "stderr",
     "output_type": "stream",
     "text": [
      "401it [01:46,  4.14it/s]"
     ]
    },
    {
     "name": "stdout",
     "output_type": "stream",
     "text": [
      "[12/39] [400/536]\tLoss_dis: 2.4469\tLoss_gen: 1.1179\tD(x): 0.6301\tD(G(x)): 0.6317 / 0.6326\n"
     ]
    },
    {
     "name": "stderr",
     "output_type": "stream",
     "text": [
      "501it [02:10,  4.40it/s]"
     ]
    },
    {
     "name": "stdout",
     "output_type": "stream",
     "text": [
      "[12/39] [500/536]\tLoss_dis: 2.3949\tLoss_gen: 1.0664\tD(x): 0.6310\tD(G(x)): 0.6331 / 0.6403\n"
     ]
    },
    {
     "name": "stderr",
     "output_type": "stream",
     "text": [
      "537it [02:19,  3.85it/s]\n"
     ]
    },
    {
     "name": "stdout",
     "output_type": "stream",
     "text": [
      "Epoch 00013: reducing learning rate of group 0 to 2.0000e-07.\n"
     ]
    },
    {
     "name": "stderr",
     "output_type": "stream",
     "text": [
      "101it [00:25,  4.40it/s]"
     ]
    },
    {
     "name": "stdout",
     "output_type": "stream",
     "text": [
      "[13/39] [100/536]\tLoss_dis: 2.4805\tLoss_gen: 1.0930\tD(x): 0.6296\tD(G(x)): 0.6339 / 0.6289\n"
     ]
    },
    {
     "name": "stderr",
     "output_type": "stream",
     "text": [
      "201it [00:50,  4.46it/s]"
     ]
    },
    {
     "name": "stdout",
     "output_type": "stream",
     "text": [
      "[13/39] [200/536]\tLoss_dis: 2.4670\tLoss_gen: 1.0729\tD(x): 0.6316\tD(G(x)): 0.6354 / 0.6297\n"
     ]
    },
    {
     "name": "stderr",
     "output_type": "stream",
     "text": [
      "301it [01:15,  4.52it/s]"
     ]
    },
    {
     "name": "stdout",
     "output_type": "stream",
     "text": [
      "[13/39] [300/536]\tLoss_dis: 2.4459\tLoss_gen: 1.0432\tD(x): 0.6300\tD(G(x)): 0.6334 / 0.6374\n"
     ]
    },
    {
     "name": "stderr",
     "output_type": "stream",
     "text": [
      "401it [01:40,  3.78it/s]"
     ]
    },
    {
     "name": "stdout",
     "output_type": "stream",
     "text": [
      "[13/39] [400/536]\tLoss_dis: 2.4544\tLoss_gen: 1.0409\tD(x): 0.6332\tD(G(x)): 0.6322 / 0.6347\n"
     ]
    },
    {
     "name": "stderr",
     "output_type": "stream",
     "text": [
      "501it [02:07,  3.82it/s]"
     ]
    },
    {
     "name": "stdout",
     "output_type": "stream",
     "text": [
      "[13/39] [500/536]\tLoss_dis: 2.4025\tLoss_gen: 1.0778\tD(x): 0.6325\tD(G(x)): 0.6305 / 0.6337\n"
     ]
    },
    {
     "name": "stderr",
     "output_type": "stream",
     "text": [
      "537it [02:16,  3.94it/s]\n",
      "101it [00:26,  3.70it/s]"
     ]
    },
    {
     "name": "stdout",
     "output_type": "stream",
     "text": [
      "[14/39] [100/536]\tLoss_dis: 2.4050\tLoss_gen: 1.0196\tD(x): 0.6288\tD(G(x)): 0.6290 / 0.6388\n"
     ]
    },
    {
     "name": "stderr",
     "output_type": "stream",
     "text": [
      "201it [00:51,  4.69it/s]"
     ]
    },
    {
     "name": "stdout",
     "output_type": "stream",
     "text": [
      "[14/39] [200/536]\tLoss_dis: 2.3782\tLoss_gen: 1.0794\tD(x): 0.6329\tD(G(x)): 0.6275 / 0.6316\n"
     ]
    },
    {
     "name": "stderr",
     "output_type": "stream",
     "text": [
      "301it [01:17,  4.39it/s]"
     ]
    },
    {
     "name": "stdout",
     "output_type": "stream",
     "text": [
      "[14/39] [300/536]\tLoss_dis: 2.4944\tLoss_gen: 1.0547\tD(x): 0.6233\tD(G(x)): 0.6398 / 0.6304\n"
     ]
    },
    {
     "name": "stderr",
     "output_type": "stream",
     "text": [
      "401it [01:41,  4.30it/s]"
     ]
    },
    {
     "name": "stdout",
     "output_type": "stream",
     "text": [
      "[14/39] [400/536]\tLoss_dis: 2.4300\tLoss_gen: 1.0858\tD(x): 0.6362\tD(G(x)): 0.6291 / 0.6357\n"
     ]
    },
    {
     "name": "stderr",
     "output_type": "stream",
     "text": [
      "501it [02:05,  4.48it/s]"
     ]
    },
    {
     "name": "stdout",
     "output_type": "stream",
     "text": [
      "[14/39] [500/536]\tLoss_dis: 2.4803\tLoss_gen: 1.1023\tD(x): 0.6354\tD(G(x)): 0.6398 / 0.6312\n"
     ]
    },
    {
     "name": "stderr",
     "output_type": "stream",
     "text": [
      "537it [02:13,  4.01it/s]\n",
      "101it [00:24,  4.38it/s]"
     ]
    },
    {
     "name": "stdout",
     "output_type": "stream",
     "text": [
      "[15/39] [100/536]\tLoss_dis: 2.4599\tLoss_gen: 1.1303\tD(x): 0.6281\tD(G(x)): 0.6386 / 0.6284\n"
     ]
    },
    {
     "name": "stderr",
     "output_type": "stream",
     "text": [
      "201it [00:50,  3.00it/s]"
     ]
    },
    {
     "name": "stdout",
     "output_type": "stream",
     "text": [
      "[15/39] [200/536]\tLoss_dis: 2.4683\tLoss_gen: 1.0854\tD(x): 0.6291\tD(G(x)): 0.6317 / 0.6336\n"
     ]
    },
    {
     "name": "stderr",
     "output_type": "stream",
     "text": [
      "301it [01:15,  3.16it/s]"
     ]
    },
    {
     "name": "stdout",
     "output_type": "stream",
     "text": [
      "[15/39] [300/536]\tLoss_dis: 2.3476\tLoss_gen: 1.0562\tD(x): 0.6334\tD(G(x)): 0.6297 / 0.6328\n"
     ]
    },
    {
     "name": "stderr",
     "output_type": "stream",
     "text": [
      "401it [01:40,  4.43it/s]"
     ]
    },
    {
     "name": "stdout",
     "output_type": "stream",
     "text": [
      "[15/39] [400/536]\tLoss_dis: 2.3562\tLoss_gen: 1.0967\tD(x): 0.6344\tD(G(x)): 0.6284 / 0.6313\n"
     ]
    },
    {
     "name": "stderr",
     "output_type": "stream",
     "text": [
      "501it [02:05,  4.46it/s]"
     ]
    },
    {
     "name": "stdout",
     "output_type": "stream",
     "text": [
      "[15/39] [500/536]\tLoss_dis: 2.3692\tLoss_gen: 1.0718\tD(x): 0.6337\tD(G(x)): 0.6340 / 0.6238\n"
     ]
    },
    {
     "name": "stderr",
     "output_type": "stream",
     "text": [
      "537it [02:13,  4.03it/s]\n"
     ]
    },
    {
     "name": "stdout",
     "output_type": "stream",
     "text": [
      "Epoch 00016: reducing learning rate of group 0 to 2.0000e-08.\n"
     ]
    },
    {
     "name": "stderr",
     "output_type": "stream",
     "text": [
      "101it [00:24,  4.40it/s]"
     ]
    },
    {
     "name": "stdout",
     "output_type": "stream",
     "text": [
      "[16/39] [100/536]\tLoss_dis: 2.3784\tLoss_gen: 1.0438\tD(x): 0.6298\tD(G(x)): 0.6290 / 0.6316\n"
     ]
    },
    {
     "name": "stderr",
     "output_type": "stream",
     "text": [
      "201it [00:49,  4.59it/s]"
     ]
    },
    {
     "name": "stdout",
     "output_type": "stream",
     "text": [
      "[16/39] [200/536]\tLoss_dis: 2.4121\tLoss_gen: 1.0741\tD(x): 0.6302\tD(G(x)): 0.6348 / 0.6323\n"
     ]
    },
    {
     "name": "stderr",
     "output_type": "stream",
     "text": [
      "301it [01:15,  3.75it/s]"
     ]
    },
    {
     "name": "stdout",
     "output_type": "stream",
     "text": [
      "[16/39] [300/536]\tLoss_dis: 2.4310\tLoss_gen: 1.1072\tD(x): 0.6340\tD(G(x)): 0.6377 / 0.6326\n"
     ]
    },
    {
     "name": "stderr",
     "output_type": "stream",
     "text": [
      "401it [01:39,  3.64it/s]"
     ]
    },
    {
     "name": "stdout",
     "output_type": "stream",
     "text": [
      "[16/39] [400/536]\tLoss_dis: 2.4004\tLoss_gen: 1.0824\tD(x): 0.6365\tD(G(x)): 0.6335 / 0.6357\n"
     ]
    },
    {
     "name": "stderr",
     "output_type": "stream",
     "text": [
      "501it [02:03,  3.66it/s]"
     ]
    },
    {
     "name": "stdout",
     "output_type": "stream",
     "text": [
      "[16/39] [500/536]\tLoss_dis: 2.3454\tLoss_gen: 1.1349\tD(x): 0.6344\tD(G(x)): 0.6273 / 0.6316\n"
     ]
    },
    {
     "name": "stderr",
     "output_type": "stream",
     "text": [
      "537it [02:13,  4.03it/s]\n",
      "101it [00:23,  4.46it/s]"
     ]
    },
    {
     "name": "stdout",
     "output_type": "stream",
     "text": [
      "[17/39] [100/536]\tLoss_dis: 2.3842\tLoss_gen: 1.1203\tD(x): 0.6378\tD(G(x)): 0.6306 / 0.6301\n"
     ]
    },
    {
     "name": "stderr",
     "output_type": "stream",
     "text": [
      "201it [00:49,  3.72it/s]"
     ]
    },
    {
     "name": "stdout",
     "output_type": "stream",
     "text": [
      "[17/39] [200/536]\tLoss_dis: 2.4170\tLoss_gen: 1.1197\tD(x): 0.6381\tD(G(x)): 0.6305 / 0.6276\n"
     ]
    },
    {
     "name": "stderr",
     "output_type": "stream",
     "text": [
      "301it [01:12,  3.62it/s]"
     ]
    },
    {
     "name": "stdout",
     "output_type": "stream",
     "text": [
      "[17/39] [300/536]\tLoss_dis: 2.4115\tLoss_gen: 1.0944\tD(x): 0.6319\tD(G(x)): 0.6289 / 0.6294\n"
     ]
    },
    {
     "name": "stderr",
     "output_type": "stream",
     "text": [
      "401it [01:37,  3.42it/s]"
     ]
    },
    {
     "name": "stdout",
     "output_type": "stream",
     "text": [
      "[17/39] [400/536]\tLoss_dis: 2.3535\tLoss_gen: 1.0466\tD(x): 0.6350\tD(G(x)): 0.6325 / 0.6302\n"
     ]
    },
    {
     "name": "stderr",
     "output_type": "stream",
     "text": [
      "501it [02:04,  4.36it/s]"
     ]
    },
    {
     "name": "stdout",
     "output_type": "stream",
     "text": [
      "[17/39] [500/536]\tLoss_dis: 2.3897\tLoss_gen: 1.0936\tD(x): 0.6304\tD(G(x)): 0.6326 / 0.6311\n"
     ]
    },
    {
     "name": "stderr",
     "output_type": "stream",
     "text": [
      "537it [02:12,  4.05it/s]\n",
      "101it [00:27,  4.41it/s]"
     ]
    },
    {
     "name": "stdout",
     "output_type": "stream",
     "text": [
      "[18/39] [100/536]\tLoss_dis: 2.3902\tLoss_gen: 1.1150\tD(x): 0.6360\tD(G(x)): 0.6337 / 0.6324\n"
     ]
    },
    {
     "name": "stderr",
     "output_type": "stream",
     "text": [
      "201it [00:52,  4.37it/s]"
     ]
    },
    {
     "name": "stdout",
     "output_type": "stream",
     "text": [
      "[18/39] [200/536]\tLoss_dis: 2.4125\tLoss_gen: 1.0849\tD(x): 0.6349\tD(G(x)): 0.6298 / 0.6329\n"
     ]
    },
    {
     "name": "stderr",
     "output_type": "stream",
     "text": [
      "301it [01:18,  4.36it/s]"
     ]
    },
    {
     "name": "stdout",
     "output_type": "stream",
     "text": [
      "[18/39] [300/536]\tLoss_dis: 2.4089\tLoss_gen: 1.1247\tD(x): 0.6318\tD(G(x)): 0.6300 / 0.6307\n"
     ]
    },
    {
     "name": "stderr",
     "output_type": "stream",
     "text": [
      "401it [01:42,  4.22it/s]"
     ]
    },
    {
     "name": "stdout",
     "output_type": "stream",
     "text": [
      "[18/39] [400/536]\tLoss_dis: 2.4417\tLoss_gen: 1.1119\tD(x): 0.6253\tD(G(x)): 0.6307 / 0.6313\n"
     ]
    },
    {
     "name": "stderr",
     "output_type": "stream",
     "text": [
      "501it [02:07,  4.24it/s]"
     ]
    },
    {
     "name": "stdout",
     "output_type": "stream",
     "text": [
      "[18/39] [500/536]\tLoss_dis: 2.2837\tLoss_gen: 1.1110\tD(x): 0.6352\tD(G(x)): 0.6207 / 0.6250\n"
     ]
    },
    {
     "name": "stderr",
     "output_type": "stream",
     "text": [
      "537it [02:18,  3.88it/s]\n"
     ]
    },
    {
     "name": "stdout",
     "output_type": "stream",
     "text": [
      "Epoch 00019: reducing learning rate of group 0 to 1.0000e-08.\n"
     ]
    },
    {
     "name": "stderr",
     "output_type": "stream",
     "text": [
      "101it [00:26,  4.24it/s]"
     ]
    },
    {
     "name": "stdout",
     "output_type": "stream",
     "text": [
      "[19/39] [100/536]\tLoss_dis: 2.3634\tLoss_gen: 1.1118\tD(x): 0.6300\tD(G(x)): 0.6231 / 0.6307\n"
     ]
    },
    {
     "name": "stderr",
     "output_type": "stream",
     "text": [
      "201it [00:50,  4.05it/s]"
     ]
    },
    {
     "name": "stdout",
     "output_type": "stream",
     "text": [
      "[19/39] [200/536]\tLoss_dis: 2.4888\tLoss_gen: 1.0561\tD(x): 0.6242\tD(G(x)): 0.6292 / 0.6293\n"
     ]
    },
    {
     "name": "stderr",
     "output_type": "stream",
     "text": [
      "301it [01:16,  4.15it/s]"
     ]
    },
    {
     "name": "stdout",
     "output_type": "stream",
     "text": [
      "[19/39] [300/536]\tLoss_dis: 2.4434\tLoss_gen: 1.0432\tD(x): 0.6315\tD(G(x)): 0.6291 / 0.6342\n"
     ]
    },
    {
     "name": "stderr",
     "output_type": "stream",
     "text": [
      "401it [01:41,  4.33it/s]"
     ]
    },
    {
     "name": "stdout",
     "output_type": "stream",
     "text": [
      "[19/39] [400/536]\tLoss_dis: 2.4490\tLoss_gen: 1.1145\tD(x): 0.6293\tD(G(x)): 0.6293 / 0.6268\n"
     ]
    },
    {
     "name": "stderr",
     "output_type": "stream",
     "text": [
      "501it [02:05,  4.40it/s]"
     ]
    },
    {
     "name": "stdout",
     "output_type": "stream",
     "text": [
      "[19/39] [500/536]\tLoss_dis: 2.4279\tLoss_gen: 1.0644\tD(x): 0.6295\tD(G(x)): 0.6297 / 0.6358\n"
     ]
    },
    {
     "name": "stderr",
     "output_type": "stream",
     "text": [
      "537it [02:14,  4.00it/s]\n",
      "101it [00:24,  4.16it/s]"
     ]
    },
    {
     "name": "stdout",
     "output_type": "stream",
     "text": [
      "[20/39] [100/536]\tLoss_dis: 2.3531\tLoss_gen: 1.1117\tD(x): 0.6339\tD(G(x)): 0.6231 / 0.6272\n"
     ]
    },
    {
     "name": "stderr",
     "output_type": "stream",
     "text": [
      "201it [00:49,  4.23it/s]"
     ]
    },
    {
     "name": "stdout",
     "output_type": "stream",
     "text": [
      "[20/39] [200/536]\tLoss_dis: 2.3979\tLoss_gen: 1.0692\tD(x): 0.6361\tD(G(x)): 0.6272 / 0.6314\n"
     ]
    },
    {
     "name": "stderr",
     "output_type": "stream",
     "text": [
      "301it [01:13,  3.45it/s]"
     ]
    },
    {
     "name": "stdout",
     "output_type": "stream",
     "text": [
      "[20/39] [300/536]\tLoss_dis: 2.3865\tLoss_gen: 1.1043\tD(x): 0.6321\tD(G(x)): 0.6360 / 0.6273\n"
     ]
    },
    {
     "name": "stderr",
     "output_type": "stream",
     "text": [
      "401it [01:38,  3.86it/s]"
     ]
    },
    {
     "name": "stdout",
     "output_type": "stream",
     "text": [
      "[20/39] [400/536]\tLoss_dis: 2.4137\tLoss_gen: 1.0909\tD(x): 0.6340\tD(G(x)): 0.6348 / 0.6288\n"
     ]
    },
    {
     "name": "stderr",
     "output_type": "stream",
     "text": [
      "501it [02:01,  4.22it/s]"
     ]
    },
    {
     "name": "stdout",
     "output_type": "stream",
     "text": [
      "[20/39] [500/536]\tLoss_dis: 2.3586\tLoss_gen: 1.0676\tD(x): 0.6327\tD(G(x)): 0.6291 / 0.6338\n"
     ]
    },
    {
     "name": "stderr",
     "output_type": "stream",
     "text": [
      "537it [02:09,  4.14it/s]\n",
      "101it [00:25,  3.64it/s]"
     ]
    },
    {
     "name": "stdout",
     "output_type": "stream",
     "text": [
      "[21/39] [100/536]\tLoss_dis: 2.3973\tLoss_gen: 1.0768\tD(x): 0.6307\tD(G(x)): 0.6317 / 0.6294\n"
     ]
    },
    {
     "name": "stderr",
     "output_type": "stream",
     "text": [
      "201it [00:50,  4.15it/s]"
     ]
    },
    {
     "name": "stdout",
     "output_type": "stream",
     "text": [
      "[21/39] [200/536]\tLoss_dis: 2.4145\tLoss_gen: 1.0950\tD(x): 0.6336\tD(G(x)): 0.6336 / 0.6288\n"
     ]
    },
    {
     "name": "stderr",
     "output_type": "stream",
     "text": [
      "301it [01:17,  3.65it/s]"
     ]
    },
    {
     "name": "stdout",
     "output_type": "stream",
     "text": [
      "[21/39] [300/536]\tLoss_dis: 2.3643\tLoss_gen: 1.0711\tD(x): 0.6380\tD(G(x)): 0.6287 / 0.6326\n"
     ]
    },
    {
     "name": "stderr",
     "output_type": "stream",
     "text": [
      "401it [01:40,  4.35it/s]"
     ]
    },
    {
     "name": "stdout",
     "output_type": "stream",
     "text": [
      "[21/39] [400/536]\tLoss_dis: 2.3640\tLoss_gen: 1.0954\tD(x): 0.6373\tD(G(x)): 0.6329 / 0.6355\n"
     ]
    },
    {
     "name": "stderr",
     "output_type": "stream",
     "text": [
      "501it [02:04,  4.26it/s]"
     ]
    },
    {
     "name": "stdout",
     "output_type": "stream",
     "text": [
      "[21/39] [500/536]\tLoss_dis: 2.4290\tLoss_gen: 1.1400\tD(x): 0.6299\tD(G(x)): 0.6314 / 0.6289\n"
     ]
    },
    {
     "name": "stderr",
     "output_type": "stream",
     "text": [
      "537it [02:12,  4.04it/s]\n",
      "101it [00:25,  4.33it/s]"
     ]
    },
    {
     "name": "stdout",
     "output_type": "stream",
     "text": [
      "[22/39] [100/536]\tLoss_dis: 2.3717\tLoss_gen: 1.1007\tD(x): 0.6331\tD(G(x)): 0.6224 / 0.6339\n"
     ]
    },
    {
     "name": "stderr",
     "output_type": "stream",
     "text": [
      "201it [00:52,  4.31it/s]"
     ]
    },
    {
     "name": "stdout",
     "output_type": "stream",
     "text": [
      "[22/39] [200/536]\tLoss_dis: 2.3889\tLoss_gen: 1.1116\tD(x): 0.6291\tD(G(x)): 0.6334 / 0.6278\n"
     ]
    },
    {
     "name": "stderr",
     "output_type": "stream",
     "text": [
      "301it [01:17,  3.75it/s]"
     ]
    },
    {
     "name": "stdout",
     "output_type": "stream",
     "text": [
      "[22/39] [300/536]\tLoss_dis: 2.3864\tLoss_gen: 1.0678\tD(x): 0.6338\tD(G(x)): 0.6304 / 0.6304\n"
     ]
    },
    {
     "name": "stderr",
     "output_type": "stream",
     "text": [
      "401it [01:42,  4.52it/s]"
     ]
    },
    {
     "name": "stdout",
     "output_type": "stream",
     "text": [
      "[22/39] [400/536]\tLoss_dis: 2.4083\tLoss_gen: 1.1277\tD(x): 0.6324\tD(G(x)): 0.6269 / 0.6290\n"
     ]
    },
    {
     "name": "stderr",
     "output_type": "stream",
     "text": [
      "501it [02:05,  4.45it/s]"
     ]
    },
    {
     "name": "stdout",
     "output_type": "stream",
     "text": [
      "[22/39] [500/536]\tLoss_dis: 2.4584\tLoss_gen: 1.0984\tD(x): 0.6273\tD(G(x)): 0.6297 / 0.6272\n"
     ]
    },
    {
     "name": "stderr",
     "output_type": "stream",
     "text": [
      "537it [02:14,  3.98it/s]\n",
      "101it [00:26,  4.44it/s]"
     ]
    },
    {
     "name": "stdout",
     "output_type": "stream",
     "text": [
      "[23/39] [100/536]\tLoss_dis: 2.4166\tLoss_gen: 1.1076\tD(x): 0.6324\tD(G(x)): 0.6348 / 0.6322\n"
     ]
    },
    {
     "name": "stderr",
     "output_type": "stream",
     "text": [
      "201it [00:52,  3.64it/s]"
     ]
    },
    {
     "name": "stdout",
     "output_type": "stream",
     "text": [
      "[23/39] [200/536]\tLoss_dis: 2.3461\tLoss_gen: 1.0957\tD(x): 0.6303\tD(G(x)): 0.6292 / 0.6282\n"
     ]
    },
    {
     "name": "stderr",
     "output_type": "stream",
     "text": [
      "301it [01:19,  4.35it/s]"
     ]
    },
    {
     "name": "stdout",
     "output_type": "stream",
     "text": [
      "[23/39] [300/536]\tLoss_dis: 2.4108\tLoss_gen: 1.0665\tD(x): 0.6309\tD(G(x)): 0.6323 / 0.6330\n"
     ]
    },
    {
     "name": "stderr",
     "output_type": "stream",
     "text": [
      "401it [01:43,  4.44it/s]"
     ]
    },
    {
     "name": "stdout",
     "output_type": "stream",
     "text": [
      "[23/39] [400/536]\tLoss_dis: 2.3721\tLoss_gen: 1.0994\tD(x): 0.6349\tD(G(x)): 0.6270 / 0.6278\n"
     ]
    },
    {
     "name": "stderr",
     "output_type": "stream",
     "text": [
      "501it [02:07,  3.69it/s]"
     ]
    },
    {
     "name": "stdout",
     "output_type": "stream",
     "text": [
      "[23/39] [500/536]\tLoss_dis: 2.3478\tLoss_gen: 1.0875\tD(x): 0.6327\tD(G(x)): 0.6320 / 0.6363\n"
     ]
    },
    {
     "name": "stderr",
     "output_type": "stream",
     "text": [
      "537it [02:16,  3.93it/s]\n",
      "101it [00:25,  4.05it/s]"
     ]
    },
    {
     "name": "stdout",
     "output_type": "stream",
     "text": [
      "[24/39] [100/536]\tLoss_dis: 2.3486\tLoss_gen: 1.0772\tD(x): 0.6359\tD(G(x)): 0.6247 / 0.6368\n"
     ]
    },
    {
     "name": "stderr",
     "output_type": "stream",
     "text": [
      "201it [00:50,  3.72it/s]"
     ]
    },
    {
     "name": "stdout",
     "output_type": "stream",
     "text": [
      "[24/39] [200/536]\tLoss_dis: 2.4289\tLoss_gen: 1.1333\tD(x): 0.6301\tD(G(x)): 0.6273 / 0.6272\n"
     ]
    },
    {
     "name": "stderr",
     "output_type": "stream",
     "text": [
      "301it [01:13,  4.51it/s]"
     ]
    },
    {
     "name": "stdout",
     "output_type": "stream",
     "text": [
      "[24/39] [300/536]\tLoss_dis: 2.3574\tLoss_gen: 1.1222\tD(x): 0.6392\tD(G(x)): 0.6257 / 0.6304\n"
     ]
    },
    {
     "name": "stderr",
     "output_type": "stream",
     "text": [
      "401it [01:36,  4.28it/s]"
     ]
    },
    {
     "name": "stdout",
     "output_type": "stream",
     "text": [
      "[24/39] [400/536]\tLoss_dis: 2.3539\tLoss_gen: 1.1475\tD(x): 0.6405\tD(G(x)): 0.6301 / 0.6281\n"
     ]
    },
    {
     "name": "stderr",
     "output_type": "stream",
     "text": [
      "501it [02:00,  4.44it/s]"
     ]
    },
    {
     "name": "stdout",
     "output_type": "stream",
     "text": [
      "[24/39] [500/536]\tLoss_dis: 2.4176\tLoss_gen: 1.0604\tD(x): 0.6399\tD(G(x)): 0.6328 / 0.6376\n"
     ]
    },
    {
     "name": "stderr",
     "output_type": "stream",
     "text": [
      "537it [02:09,  4.14it/s]\n",
      "101it [00:26,  4.39it/s]"
     ]
    },
    {
     "name": "stdout",
     "output_type": "stream",
     "text": [
      "[25/39] [100/536]\tLoss_dis: 2.3177\tLoss_gen: 1.1153\tD(x): 0.6378\tD(G(x)): 0.6254 / 0.6286\n"
     ]
    },
    {
     "name": "stderr",
     "output_type": "stream",
     "text": [
      "201it [00:50,  4.36it/s]"
     ]
    },
    {
     "name": "stdout",
     "output_type": "stream",
     "text": [
      "[25/39] [200/536]\tLoss_dis: 2.3490\tLoss_gen: 1.0441\tD(x): 0.6369\tD(G(x)): 0.6314 / 0.6328\n"
     ]
    },
    {
     "name": "stderr",
     "output_type": "stream",
     "text": [
      "301it [01:15,  4.37it/s]"
     ]
    },
    {
     "name": "stdout",
     "output_type": "stream",
     "text": [
      "[25/39] [300/536]\tLoss_dis: 2.4685\tLoss_gen: 1.0900\tD(x): 0.6285\tD(G(x)): 0.6302 / 0.6267\n"
     ]
    },
    {
     "name": "stderr",
     "output_type": "stream",
     "text": [
      "401it [01:39,  4.25it/s]"
     ]
    },
    {
     "name": "stdout",
     "output_type": "stream",
     "text": [
      "[25/39] [400/536]\tLoss_dis: 2.3022\tLoss_gen: 1.0985\tD(x): 0.6381\tD(G(x)): 0.6264 / 0.6291\n"
     ]
    },
    {
     "name": "stderr",
     "output_type": "stream",
     "text": [
      "501it [02:03,  4.08it/s]"
     ]
    },
    {
     "name": "stdout",
     "output_type": "stream",
     "text": [
      "[25/39] [500/536]\tLoss_dis: 2.3814\tLoss_gen: 1.0925\tD(x): 0.6292\tD(G(x)): 0.6285 / 0.6292\n"
     ]
    },
    {
     "name": "stderr",
     "output_type": "stream",
     "text": [
      "537it [02:11,  4.07it/s]\n",
      "101it [00:25,  4.39it/s]"
     ]
    },
    {
     "name": "stdout",
     "output_type": "stream",
     "text": [
      "[26/39] [100/536]\tLoss_dis: 2.4072\tLoss_gen: 1.1231\tD(x): 0.6344\tD(G(x)): 0.6264 / 0.6237\n"
     ]
    },
    {
     "name": "stderr",
     "output_type": "stream",
     "text": [
      "201it [00:50,  4.33it/s]"
     ]
    },
    {
     "name": "stdout",
     "output_type": "stream",
     "text": [
      "[26/39] [200/536]\tLoss_dis: 2.3234\tLoss_gen: 1.1298\tD(x): 0.6287\tD(G(x)): 0.6219 / 0.6290\n"
     ]
    },
    {
     "name": "stderr",
     "output_type": "stream",
     "text": [
      "301it [01:16,  4.22it/s]"
     ]
    },
    {
     "name": "stdout",
     "output_type": "stream",
     "text": [
      "[26/39] [300/536]\tLoss_dis: 2.3918\tLoss_gen: 1.0749\tD(x): 0.6415\tD(G(x)): 0.6344 / 0.6325\n"
     ]
    },
    {
     "name": "stderr",
     "output_type": "stream",
     "text": [
      "401it [01:41,  3.72it/s]"
     ]
    },
    {
     "name": "stdout",
     "output_type": "stream",
     "text": [
      "[26/39] [400/536]\tLoss_dis: 2.4156\tLoss_gen: 1.0852\tD(x): 0.6317\tD(G(x)): 0.6294 / 0.6297\n"
     ]
    },
    {
     "name": "stderr",
     "output_type": "stream",
     "text": [
      "501it [02:05,  4.50it/s]"
     ]
    },
    {
     "name": "stdout",
     "output_type": "stream",
     "text": [
      "[26/39] [500/536]\tLoss_dis: 2.4114\tLoss_gen: 1.1016\tD(x): 0.6266\tD(G(x)): 0.6245 / 0.6324\n"
     ]
    },
    {
     "name": "stderr",
     "output_type": "stream",
     "text": [
      "537it [02:13,  4.01it/s]\n",
      "101it [00:24,  3.59it/s]"
     ]
    },
    {
     "name": "stdout",
     "output_type": "stream",
     "text": [
      "[27/39] [100/536]\tLoss_dis: 2.3831\tLoss_gen: 1.1285\tD(x): 0.6234\tD(G(x)): 0.6261 / 0.6270\n"
     ]
    },
    {
     "name": "stderr",
     "output_type": "stream",
     "text": [
      "201it [00:49,  4.54it/s]"
     ]
    },
    {
     "name": "stdout",
     "output_type": "stream",
     "text": [
      "[27/39] [200/536]\tLoss_dis: 2.2957\tLoss_gen: 1.0800\tD(x): 0.6440\tD(G(x)): 0.6326 / 0.6267\n"
     ]
    },
    {
     "name": "stderr",
     "output_type": "stream",
     "text": [
      "301it [01:13,  4.35it/s]"
     ]
    },
    {
     "name": "stdout",
     "output_type": "stream",
     "text": [
      "[27/39] [300/536]\tLoss_dis: 2.3078\tLoss_gen: 1.0783\tD(x): 0.6446\tD(G(x)): 0.6318 / 0.6318\n"
     ]
    },
    {
     "name": "stderr",
     "output_type": "stream",
     "text": [
      "401it [01:38,  3.74it/s]"
     ]
    },
    {
     "name": "stdout",
     "output_type": "stream",
     "text": [
      "[27/39] [400/536]\tLoss_dis: 2.3134\tLoss_gen: 1.0937\tD(x): 0.6346\tD(G(x)): 0.6278 / 0.6271\n"
     ]
    },
    {
     "name": "stderr",
     "output_type": "stream",
     "text": [
      "501it [02:02,  3.67it/s]"
     ]
    },
    {
     "name": "stdout",
     "output_type": "stream",
     "text": [
      "[27/39] [500/536]\tLoss_dis: 2.3357\tLoss_gen: 1.1454\tD(x): 0.6337\tD(G(x)): 0.6236 / 0.6261\n"
     ]
    },
    {
     "name": "stderr",
     "output_type": "stream",
     "text": [
      "537it [02:12,  4.05it/s]\n",
      "101it [00:28,  3.64it/s]"
     ]
    },
    {
     "name": "stdout",
     "output_type": "stream",
     "text": [
      "[28/39] [100/536]\tLoss_dis: 2.3497\tLoss_gen: 1.1530\tD(x): 0.6354\tD(G(x)): 0.6259 / 0.6275\n"
     ]
    },
    {
     "name": "stderr",
     "output_type": "stream",
     "text": [
      "201it [00:51,  3.97it/s]"
     ]
    },
    {
     "name": "stdout",
     "output_type": "stream",
     "text": [
      "[28/39] [200/536]\tLoss_dis: 2.3974\tLoss_gen: 1.0893\tD(x): 0.6311\tD(G(x)): 0.6314 / 0.6274\n"
     ]
    },
    {
     "name": "stderr",
     "output_type": "stream",
     "text": [
      "301it [01:16,  3.48it/s]"
     ]
    },
    {
     "name": "stdout",
     "output_type": "stream",
     "text": [
      "[28/39] [300/536]\tLoss_dis: 2.3861\tLoss_gen: 1.0778\tD(x): 0.6381\tD(G(x)): 0.6260 / 0.6364\n"
     ]
    },
    {
     "name": "stderr",
     "output_type": "stream",
     "text": [
      "401it [01:40,  4.39it/s]"
     ]
    },
    {
     "name": "stdout",
     "output_type": "stream",
     "text": [
      "[28/39] [400/536]\tLoss_dis: 2.3549\tLoss_gen: 1.1170\tD(x): 0.6351\tD(G(x)): 0.6240 / 0.6224\n"
     ]
    },
    {
     "name": "stderr",
     "output_type": "stream",
     "text": [
      "501it [02:08,  3.74it/s]"
     ]
    },
    {
     "name": "stdout",
     "output_type": "stream",
     "text": [
      "[28/39] [500/536]\tLoss_dis: 2.3948\tLoss_gen: 1.1102\tD(x): 0.6332\tD(G(x)): 0.6244 / 0.6230\n"
     ]
    },
    {
     "name": "stderr",
     "output_type": "stream",
     "text": [
      "537it [02:16,  3.95it/s]\n",
      "101it [00:26,  4.27it/s]"
     ]
    },
    {
     "name": "stdout",
     "output_type": "stream",
     "text": [
      "[29/39] [100/536]\tLoss_dis: 2.2743\tLoss_gen: 1.1857\tD(x): 0.6379\tD(G(x)): 0.6186 / 0.6175\n"
     ]
    },
    {
     "name": "stderr",
     "output_type": "stream",
     "text": [
      "201it [00:50,  4.19it/s]"
     ]
    },
    {
     "name": "stdout",
     "output_type": "stream",
     "text": [
      "[29/39] [200/536]\tLoss_dis: 2.3706\tLoss_gen: 1.1397\tD(x): 0.6347\tD(G(x)): 0.6244 / 0.6241\n"
     ]
    },
    {
     "name": "stderr",
     "output_type": "stream",
     "text": [
      "301it [01:14,  4.36it/s]"
     ]
    },
    {
     "name": "stdout",
     "output_type": "stream",
     "text": [
      "[29/39] [300/536]\tLoss_dis: 2.3120\tLoss_gen: 1.1778\tD(x): 0.6408\tD(G(x)): 0.6251 / 0.6183\n"
     ]
    },
    {
     "name": "stderr",
     "output_type": "stream",
     "text": [
      "401it [01:40,  4.48it/s]"
     ]
    },
    {
     "name": "stdout",
     "output_type": "stream",
     "text": [
      "[29/39] [400/536]\tLoss_dis: 2.4392\tLoss_gen: 1.1211\tD(x): 0.6297\tD(G(x)): 0.6309 / 0.6258\n"
     ]
    },
    {
     "name": "stderr",
     "output_type": "stream",
     "text": [
      "501it [02:04,  4.32it/s]"
     ]
    },
    {
     "name": "stdout",
     "output_type": "stream",
     "text": [
      "[29/39] [500/536]\tLoss_dis: 2.3764\tLoss_gen: 1.1198\tD(x): 0.6237\tD(G(x)): 0.6278 / 0.6257\n"
     ]
    },
    {
     "name": "stderr",
     "output_type": "stream",
     "text": [
      "537it [02:12,  4.05it/s]\n",
      "101it [00:25,  4.36it/s]"
     ]
    },
    {
     "name": "stdout",
     "output_type": "stream",
     "text": [
      "[30/39] [100/536]\tLoss_dis: 2.2896\tLoss_gen: 1.1669\tD(x): 0.6373\tD(G(x)): 0.6203 / 0.6205\n"
     ]
    },
    {
     "name": "stderr",
     "output_type": "stream",
     "text": [
      "201it [00:51,  4.35it/s]"
     ]
    },
    {
     "name": "stdout",
     "output_type": "stream",
     "text": [
      "[30/39] [200/536]\tLoss_dis: 2.3728\tLoss_gen: 1.1842\tD(x): 0.6256\tD(G(x)): 0.6221 / 0.6244\n"
     ]
    },
    {
     "name": "stderr",
     "output_type": "stream",
     "text": [
      "301it [01:17,  3.69it/s]"
     ]
    },
    {
     "name": "stdout",
     "output_type": "stream",
     "text": [
      "[30/39] [300/536]\tLoss_dis: 2.3034\tLoss_gen: 1.1902\tD(x): 0.6312\tD(G(x)): 0.6229 / 0.6193\n"
     ]
    },
    {
     "name": "stderr",
     "output_type": "stream",
     "text": [
      "401it [01:41,  3.68it/s]"
     ]
    },
    {
     "name": "stdout",
     "output_type": "stream",
     "text": [
      "[30/39] [400/536]\tLoss_dis: 2.3010\tLoss_gen: 1.1929\tD(x): 0.6398\tD(G(x)): 0.6145 / 0.6184\n"
     ]
    },
    {
     "name": "stderr",
     "output_type": "stream",
     "text": [
      "501it [02:06,  3.55it/s]"
     ]
    },
    {
     "name": "stdout",
     "output_type": "stream",
     "text": [
      "[30/39] [500/536]\tLoss_dis: 2.2961\tLoss_gen: 1.1423\tD(x): 0.6407\tD(G(x)): 0.6195 / 0.6251\n"
     ]
    },
    {
     "name": "stderr",
     "output_type": "stream",
     "text": [
      "537it [02:16,  3.94it/s]\n",
      "101it [00:25,  3.58it/s]"
     ]
    },
    {
     "name": "stdout",
     "output_type": "stream",
     "text": [
      "[31/39] [100/536]\tLoss_dis: 2.2971\tLoss_gen: 1.1220\tD(x): 0.6358\tD(G(x)): 0.6253 / 0.6270\n"
     ]
    },
    {
     "name": "stderr",
     "output_type": "stream",
     "text": [
      "201it [00:49,  4.38it/s]"
     ]
    },
    {
     "name": "stdout",
     "output_type": "stream",
     "text": [
      "[31/39] [200/536]\tLoss_dis: 2.2728\tLoss_gen: 1.1138\tD(x): 0.6410\tD(G(x)): 0.6221 / 0.6242\n"
     ]
    },
    {
     "name": "stderr",
     "output_type": "stream",
     "text": [
      "301it [01:12,  4.27it/s]"
     ]
    },
    {
     "name": "stdout",
     "output_type": "stream",
     "text": [
      "[31/39] [300/536]\tLoss_dis: 2.3198\tLoss_gen: 1.0986\tD(x): 0.6372\tD(G(x)): 0.6277 / 0.6224\n"
     ]
    },
    {
     "name": "stderr",
     "output_type": "stream",
     "text": [
      "401it [01:36,  4.36it/s]"
     ]
    },
    {
     "name": "stdout",
     "output_type": "stream",
     "text": [
      "[31/39] [400/536]\tLoss_dis: 2.3043\tLoss_gen: 1.1370\tD(x): 0.6336\tD(G(x)): 0.6263 / 0.6169\n"
     ]
    },
    {
     "name": "stderr",
     "output_type": "stream",
     "text": [
      "501it [02:01,  3.67it/s]"
     ]
    },
    {
     "name": "stdout",
     "output_type": "stream",
     "text": [
      "[31/39] [500/536]\tLoss_dis: 2.3215\tLoss_gen: 1.1691\tD(x): 0.6382\tD(G(x)): 0.6210 / 0.6208\n"
     ]
    },
    {
     "name": "stderr",
     "output_type": "stream",
     "text": [
      "537it [02:11,  4.09it/s]\n",
      "101it [00:25,  4.30it/s]"
     ]
    },
    {
     "name": "stdout",
     "output_type": "stream",
     "text": [
      "[32/39] [100/536]\tLoss_dis: 2.2681\tLoss_gen: 1.1413\tD(x): 0.6432\tD(G(x)): 0.6189 / 0.6247\n"
     ]
    },
    {
     "name": "stderr",
     "output_type": "stream",
     "text": [
      "201it [00:50,  4.25it/s]"
     ]
    },
    {
     "name": "stdout",
     "output_type": "stream",
     "text": [
      "[32/39] [200/536]\tLoss_dis: 2.3328\tLoss_gen: 1.0916\tD(x): 0.6327\tD(G(x)): 0.6234 / 0.6205\n"
     ]
    },
    {
     "name": "stderr",
     "output_type": "stream",
     "text": [
      "301it [01:15,  4.39it/s]"
     ]
    },
    {
     "name": "stdout",
     "output_type": "stream",
     "text": [
      "[32/39] [300/536]\tLoss_dis: 2.3068\tLoss_gen: 1.1726\tD(x): 0.6300\tD(G(x)): 0.6131 / 0.6191\n"
     ]
    },
    {
     "name": "stderr",
     "output_type": "stream",
     "text": [
      "401it [01:38,  4.31it/s]"
     ]
    },
    {
     "name": "stdout",
     "output_type": "stream",
     "text": [
      "[32/39] [400/536]\tLoss_dis: 2.3041\tLoss_gen: 1.1937\tD(x): 0.6385\tD(G(x)): 0.6218 / 0.6216\n"
     ]
    },
    {
     "name": "stderr",
     "output_type": "stream",
     "text": [
      "501it [02:03,  3.99it/s]"
     ]
    },
    {
     "name": "stdout",
     "output_type": "stream",
     "text": [
      "[32/39] [500/536]\tLoss_dis: 2.3837\tLoss_gen: 1.2060\tD(x): 0.6349\tD(G(x)): 0.6250 / 0.6180\n"
     ]
    },
    {
     "name": "stderr",
     "output_type": "stream",
     "text": [
      "537it [02:11,  4.07it/s]\n",
      "101it [00:25,  4.06it/s]"
     ]
    },
    {
     "name": "stdout",
     "output_type": "stream",
     "text": [
      "[33/39] [100/536]\tLoss_dis: 2.2742\tLoss_gen: 1.1194\tD(x): 0.6346\tD(G(x)): 0.6139 / 0.6163\n"
     ]
    },
    {
     "name": "stderr",
     "output_type": "stream",
     "text": [
      "201it [00:50,  4.18it/s]"
     ]
    },
    {
     "name": "stdout",
     "output_type": "stream",
     "text": [
      "[33/39] [200/536]\tLoss_dis: 2.3276\tLoss_gen: 1.1537\tD(x): 0.6440\tD(G(x)): 0.6202 / 0.6188\n"
     ]
    },
    {
     "name": "stderr",
     "output_type": "stream",
     "text": [
      "301it [01:15,  4.23it/s]"
     ]
    },
    {
     "name": "stdout",
     "output_type": "stream",
     "text": [
      "[33/39] [300/536]\tLoss_dis: 2.2890\tLoss_gen: 1.1711\tD(x): 0.6351\tD(G(x)): 0.6172 / 0.6209\n"
     ]
    },
    {
     "name": "stderr",
     "output_type": "stream",
     "text": [
      "401it [01:41,  4.18it/s]"
     ]
    },
    {
     "name": "stdout",
     "output_type": "stream",
     "text": [
      "[33/39] [400/536]\tLoss_dis: 2.2601\tLoss_gen: 1.1620\tD(x): 0.6466\tD(G(x)): 0.6202 / 0.6213\n"
     ]
    },
    {
     "name": "stderr",
     "output_type": "stream",
     "text": [
      "501it [02:06,  4.28it/s]"
     ]
    },
    {
     "name": "stdout",
     "output_type": "stream",
     "text": [
      "[33/39] [500/536]\tLoss_dis: 2.2854\tLoss_gen: 1.1722\tD(x): 0.6410\tD(G(x)): 0.6192 / 0.6187\n"
     ]
    },
    {
     "name": "stderr",
     "output_type": "stream",
     "text": [
      "537it [02:16,  3.94it/s]\n",
      "101it [00:25,  4.45it/s]"
     ]
    },
    {
     "name": "stdout",
     "output_type": "stream",
     "text": [
      "[34/39] [100/536]\tLoss_dis: 2.3103\tLoss_gen: 1.1703\tD(x): 0.6322\tD(G(x)): 0.6163 / 0.6186\n"
     ]
    },
    {
     "name": "stderr",
     "output_type": "stream",
     "text": [
      "201it [00:50,  4.30it/s]"
     ]
    },
    {
     "name": "stdout",
     "output_type": "stream",
     "text": [
      "[34/39] [200/536]\tLoss_dis: 2.3179\tLoss_gen: 1.1488\tD(x): 0.6338\tD(G(x)): 0.6145 / 0.6207\n"
     ]
    },
    {
     "name": "stderr",
     "output_type": "stream",
     "text": [
      "301it [01:16,  4.35it/s]"
     ]
    },
    {
     "name": "stdout",
     "output_type": "stream",
     "text": [
      "[34/39] [300/536]\tLoss_dis: 2.3395\tLoss_gen: 1.2032\tD(x): 0.6236\tD(G(x)): 0.6176 / 0.6117\n"
     ]
    },
    {
     "name": "stderr",
     "output_type": "stream",
     "text": [
      "401it [01:40,  4.19it/s]"
     ]
    },
    {
     "name": "stdout",
     "output_type": "stream",
     "text": [
      "[34/39] [400/536]\tLoss_dis: 2.3936\tLoss_gen: 1.1863\tD(x): 0.6292\tD(G(x)): 0.6194 / 0.6118\n"
     ]
    },
    {
     "name": "stderr",
     "output_type": "stream",
     "text": [
      "501it [02:08,  3.70it/s]"
     ]
    },
    {
     "name": "stdout",
     "output_type": "stream",
     "text": [
      "[34/39] [500/536]\tLoss_dis: 2.3248\tLoss_gen: 1.1956\tD(x): 0.6320\tD(G(x)): 0.6135 / 0.6101\n"
     ]
    },
    {
     "name": "stderr",
     "output_type": "stream",
     "text": [
      "537it [02:17,  3.90it/s]\n",
      "101it [00:23,  4.33it/s]"
     ]
    },
    {
     "name": "stdout",
     "output_type": "stream",
     "text": [
      "[35/39] [100/536]\tLoss_dis: 2.3103\tLoss_gen: 1.1710\tD(x): 0.6289\tD(G(x)): 0.6123 / 0.6139\n"
     ]
    },
    {
     "name": "stderr",
     "output_type": "stream",
     "text": [
      "201it [00:49,  4.49it/s]"
     ]
    },
    {
     "name": "stdout",
     "output_type": "stream",
     "text": [
      "[35/39] [200/536]\tLoss_dis: 2.1974\tLoss_gen: 1.1643\tD(x): 0.6472\tD(G(x)): 0.6134 / 0.6166\n"
     ]
    },
    {
     "name": "stderr",
     "output_type": "stream",
     "text": [
      "301it [01:14,  4.21it/s]"
     ]
    },
    {
     "name": "stdout",
     "output_type": "stream",
     "text": [
      "[35/39] [300/536]\tLoss_dis: 2.3138\tLoss_gen: 1.1913\tD(x): 0.6282\tD(G(x)): 0.6111 / 0.6146\n"
     ]
    },
    {
     "name": "stderr",
     "output_type": "stream",
     "text": [
      "401it [01:38,  4.46it/s]"
     ]
    },
    {
     "name": "stdout",
     "output_type": "stream",
     "text": [
      "[35/39] [400/536]\tLoss_dis: 2.2076\tLoss_gen: 1.1926\tD(x): 0.6376\tD(G(x)): 0.6084 / 0.6099\n"
     ]
    },
    {
     "name": "stderr",
     "output_type": "stream",
     "text": [
      "501it [02:03,  4.26it/s]"
     ]
    },
    {
     "name": "stdout",
     "output_type": "stream",
     "text": [
      "[35/39] [500/536]\tLoss_dis: 2.1687\tLoss_gen: 1.1614\tD(x): 0.6485\tD(G(x)): 0.6117 / 0.6190\n"
     ]
    },
    {
     "name": "stderr",
     "output_type": "stream",
     "text": [
      "537it [02:11,  4.08it/s]\n",
      "101it [00:24,  4.46it/s]"
     ]
    },
    {
     "name": "stdout",
     "output_type": "stream",
     "text": [
      "[36/39] [100/536]\tLoss_dis: 2.1356\tLoss_gen: 1.1949\tD(x): 0.6494\tD(G(x)): 0.6081 / 0.6055\n"
     ]
    },
    {
     "name": "stderr",
     "output_type": "stream",
     "text": [
      "201it [00:50,  3.59it/s]"
     ]
    },
    {
     "name": "stdout",
     "output_type": "stream",
     "text": [
      "[36/39] [200/536]\tLoss_dis: 2.2903\tLoss_gen: 1.1830\tD(x): 0.6369\tD(G(x)): 0.6109 / 0.6145\n"
     ]
    },
    {
     "name": "stderr",
     "output_type": "stream",
     "text": [
      "301it [01:15,  3.61it/s]"
     ]
    },
    {
     "name": "stdout",
     "output_type": "stream",
     "text": [
      "[36/39] [300/536]\tLoss_dis: 2.3377\tLoss_gen: 1.2227\tD(x): 0.6177\tD(G(x)): 0.6037 / 0.6055\n"
     ]
    },
    {
     "name": "stderr",
     "output_type": "stream",
     "text": [
      "401it [01:39,  3.57it/s]"
     ]
    },
    {
     "name": "stdout",
     "output_type": "stream",
     "text": [
      "[36/39] [400/536]\tLoss_dis: 2.0913\tLoss_gen: 1.2289\tD(x): 0.6535\tD(G(x)): 0.6091 / 0.6046\n"
     ]
    },
    {
     "name": "stderr",
     "output_type": "stream",
     "text": [
      "501it [02:04,  3.63it/s]"
     ]
    },
    {
     "name": "stdout",
     "output_type": "stream",
     "text": [
      "[36/39] [500/536]\tLoss_dis: 2.2634\tLoss_gen: 1.1808\tD(x): 0.6336\tD(G(x)): 0.6023 / 0.6111\n"
     ]
    },
    {
     "name": "stderr",
     "output_type": "stream",
     "text": [
      "537it [02:14,  3.99it/s]\n",
      "101it [00:25,  3.61it/s]"
     ]
    },
    {
     "name": "stdout",
     "output_type": "stream",
     "text": [
      "[37/39] [100/536]\tLoss_dis: 2.0946\tLoss_gen: 1.2589\tD(x): 0.6507\tD(G(x)): 0.6056 / 0.6038\n"
     ]
    },
    {
     "name": "stderr",
     "output_type": "stream",
     "text": [
      "201it [00:53,  3.45it/s]"
     ]
    },
    {
     "name": "stdout",
     "output_type": "stream",
     "text": [
      "[37/39] [200/536]\tLoss_dis: 2.0261\tLoss_gen: 1.2547\tD(x): 0.6768\tD(G(x)): 0.6038 / 0.6028\n"
     ]
    },
    {
     "name": "stderr",
     "output_type": "stream",
     "text": [
      "301it [01:18,  3.45it/s]"
     ]
    },
    {
     "name": "stdout",
     "output_type": "stream",
     "text": [
      "[37/39] [300/536]\tLoss_dis: 2.3398\tLoss_gen: 1.2489\tD(x): 0.6127\tD(G(x)): 0.6062 / 0.6040\n"
     ]
    },
    {
     "name": "stderr",
     "output_type": "stream",
     "text": [
      "401it [01:44,  3.48it/s]"
     ]
    },
    {
     "name": "stdout",
     "output_type": "stream",
     "text": [
      "[37/39] [400/536]\tLoss_dis: 2.2735\tLoss_gen: 1.2306\tD(x): 0.6165\tD(G(x)): 0.6051 / 0.6025\n"
     ]
    },
    {
     "name": "stderr",
     "output_type": "stream",
     "text": [
      "501it [02:10,  3.19it/s]"
     ]
    },
    {
     "name": "stdout",
     "output_type": "stream",
     "text": [
      "[37/39] [500/536]\tLoss_dis: 2.2205\tLoss_gen: 1.1965\tD(x): 0.6386\tD(G(x)): 0.6023 / 0.6044\n"
     ]
    },
    {
     "name": "stderr",
     "output_type": "stream",
     "text": [
      "537it [02:20,  3.81it/s]\n",
      "101it [00:26,  4.11it/s]"
     ]
    },
    {
     "name": "stdout",
     "output_type": "stream",
     "text": [
      "[38/39] [100/536]\tLoss_dis: 2.1919\tLoss_gen: 1.2444\tD(x): 0.6348\tD(G(x)): 0.5941 / 0.5975\n"
     ]
    },
    {
     "name": "stderr",
     "output_type": "stream",
     "text": [
      "201it [00:52,  3.67it/s]"
     ]
    },
    {
     "name": "stdout",
     "output_type": "stream",
     "text": [
      "[38/39] [200/536]\tLoss_dis: 2.1992\tLoss_gen: 1.1987\tD(x): 0.6438\tD(G(x)): 0.6082 / 0.6105\n"
     ]
    },
    {
     "name": "stderr",
     "output_type": "stream",
     "text": [
      "301it [01:18,  4.51it/s]"
     ]
    },
    {
     "name": "stdout",
     "output_type": "stream",
     "text": [
      "[38/39] [300/536]\tLoss_dis: 2.2577\tLoss_gen: 1.1848\tD(x): 0.6274\tD(G(x)): 0.6029 / 0.6098\n"
     ]
    },
    {
     "name": "stderr",
     "output_type": "stream",
     "text": [
      "401it [01:44,  3.79it/s]"
     ]
    },
    {
     "name": "stdout",
     "output_type": "stream",
     "text": [
      "[38/39] [400/536]\tLoss_dis: 2.1052\tLoss_gen: 1.2371\tD(x): 0.6641\tD(G(x)): 0.6041 / 0.6031\n"
     ]
    },
    {
     "name": "stderr",
     "output_type": "stream",
     "text": [
      "501it [02:10,  4.00it/s]"
     ]
    },
    {
     "name": "stdout",
     "output_type": "stream",
     "text": [
      "[38/39] [500/536]\tLoss_dis: 2.3320\tLoss_gen: 1.1588\tD(x): 0.6073\tD(G(x)): 0.5994 / 0.6093\n"
     ]
    },
    {
     "name": "stderr",
     "output_type": "stream",
     "text": [
      "537it [02:21,  3.81it/s]\n",
      "101it [00:28,  4.33it/s]"
     ]
    },
    {
     "name": "stdout",
     "output_type": "stream",
     "text": [
      "[39/39] [100/536]\tLoss_dis: 2.1944\tLoss_gen: 1.2584\tD(x): 0.6359\tD(G(x)): 0.6031 / 0.5919\n"
     ]
    },
    {
     "name": "stderr",
     "output_type": "stream",
     "text": [
      "201it [00:55,  4.44it/s]"
     ]
    },
    {
     "name": "stdout",
     "output_type": "stream",
     "text": [
      "[39/39] [200/536]\tLoss_dis: 2.2593\tLoss_gen: 1.2739\tD(x): 0.6365\tD(G(x)): 0.6059 / 0.6015\n"
     ]
    },
    {
     "name": "stderr",
     "output_type": "stream",
     "text": [
      "301it [01:22,  3.94it/s]"
     ]
    },
    {
     "name": "stdout",
     "output_type": "stream",
     "text": [
      "[39/39] [300/536]\tLoss_dis: 2.2792\tLoss_gen: 1.2697\tD(x): 0.6159\tD(G(x)): 0.5904 / 0.5912\n"
     ]
    },
    {
     "name": "stderr",
     "output_type": "stream",
     "text": [
      "401it [01:46,  4.16it/s]"
     ]
    },
    {
     "name": "stdout",
     "output_type": "stream",
     "text": [
      "[39/39] [400/536]\tLoss_dis: 1.8271\tLoss_gen: 1.2598\tD(x): 0.6984\tD(G(x)): 0.5927 / 0.5964\n"
     ]
    },
    {
     "name": "stderr",
     "output_type": "stream",
     "text": [
      "501it [02:12,  4.02it/s]"
     ]
    },
    {
     "name": "stdout",
     "output_type": "stream",
     "text": [
      "[39/39] [500/536]\tLoss_dis: 2.2502\tLoss_gen: 1.2599\tD(x): 0.6268\tD(G(x)): 0.5942 / 0.5928\n"
     ]
    },
    {
     "name": "stderr",
     "output_type": "stream",
     "text": [
      "537it [02:21,  3.79it/s]\n"
     ]
    }
   ],
   "source": [
    "for epoch in range(num_epochs):\n",
    "    err_dis = 0\n",
    "    err_gen = 0\n",
    "    for i, (data_A, data_B) in tqdm(enumerate(zip(dataloader_A, dataloader_B))):\n",
    "\n",
    "        A = data_A[0].to(device)\n",
    "        B = data_B[0].to(device)\n",
    "        # data[0] sunt imaginile si data[1] sunt labelurile\n",
    "        A_size = A.size(0)  # batch size\n",
    "        B_size = B.size(0)\n",
    "\n",
    "        # Training the discriminator\n",
    "        discriminator.zero_grad()\n",
    "        output = discriminator(B).view(B_size, -1)\n",
    "        class_ = torch.full((B_size,), same_class, dtype=torch.float, device=device)\n",
    "        #label = torch.full((B_size, output.shape[1],), real_label, dtype=torch.float, device=device)\n",
    "        label = smooth_label(real_label, B_size, output.shape[1])\n",
    "        zero_point = torch.full((B_size, output.shape[1],), 0, dtype=torch.float, device=device)\n",
    "\n",
    "        err_dis_real_contrs = contrastive_loss(output, zero_point, class_)\n",
    "        err_dis_real_bce = adversarial_loss(output, label)\n",
    "        err_dis_real = err_dis_real_bce + err_dis_real_contrs\n",
    "        # counting changes in weights\n",
    "        err_dis_real.backward()\n",
    "        dis_x = output.mean().item()\n",
    "\n",
    "        generated = generator(A)\n",
    "        class_ = torch.full((A_size,), different_classes, dtype=torch.float, device=device)\n",
    "        output = discriminator(generated.detach()).view(A_size, -1)\n",
    "        #label = torch.full((A_size, output.shape[1],), fake_label, dtype=torch.float, device=device)\n",
    "        label = smooth_label(fake_label, A_size, output.shape[1])\n",
    "        zero_point = torch.full((A_size, output.shape[1],), 0, dtype=torch.float, device=device)\n",
    "\n",
    "        err_dis_fake_contrs = contrastive_loss(output, zero_point, class_)\n",
    "        err_dis_fake_bce = adversarial_loss(output, label)\n",
    "        err_dis_fake = err_dis_fake_bce + err_dis_fake_contrs\n",
    "        err_dis_fake.backward()\n",
    "        dis_gen_z1 = output.mean().item()\n",
    "        err_dis = err_dis_real + err_dis_fake\n",
    "        # Update discriminator\n",
    "        dis_optimizer.step()\n",
    "\n",
    "        generator.zero_grad()\n",
    "        class_.fill_(same_class)\n",
    "        label = smooth_label(real_label, A_size, output.shape[1])\n",
    "        output = discriminator(generated).view(A_size, -1)\n",
    "        zero_point = torch.full((A_size,output.shape[1],), 0, dtype=torch.float, device=device)\n",
    "\n",
    "        err_gen_contra = contrastive_loss(output, zero_point, class_)\n",
    "        err_gen_bce = adversarial_loss(output, label)\n",
    "        err_gen = err_gen_bce + err_gen_contra\n",
    "        err_gen.backward()\n",
    "        dis_gen_z2 = output.mean().item()\n",
    "        gen_optimizer.step()\n",
    "\n",
    "        if i % 100 == 0 and i != 0:\n",
    "            print(f\"[{epoch}/{num_epochs - 1}] [{i}/{len(dataloader_A) - 1}]\\tLoss_dis: {err_dis.item():.4f}\\tLoss_gen: {err_gen.item():.4f}\\tD(x): {dis_x:.4f}\\tD(G(x)): {dis_gen_z1:.4f} / {dis_gen_z2:.4f}\")\n",
    "\n",
    "        gen_losses.append(err_gen.item())\n",
    "        dis_losses.append(err_dis.item())\n",
    "\n",
    "        if iters % 500 == 0 or ((epoch == num_epochs - 1) and (i == len(dataloader_A) - 1)):\n",
    "            with torch.no_grad():\n",
    "                for fake in validationloader_A:\n",
    "                    fake = fake[0]\n",
    "                #fake = generator(fake).detach().cpu()\n",
    "                    genererated = generator(fake)\n",
    "            img_lists.append(torchvision.utils.make_grid(genererated, padding=2, normalize=True))\n",
    "\n",
    "        iters += 1\n",
    "\n",
    "    scheduler_gen.step(err_gen.item())\n",
    "    # scheduler_dis.step(err_dis.item())\n",
    "\n",
    "    joblib.dump(generator, filename_gen)\n",
    "    joblib.dump(generator, filename_dis)\n",
    "\n",
    "    gen_losses_arr = np.array(gen_losses, dtype=object)\n",
    "    dis_losses_arr = np.array(dis_losses, dtype=object)\n",
    "    img_arr = np.array(img_lists, dtype=object)\n",
    "    np.save('SDGAN/smoothing_with_noise_gen4layers_40epoci/SDGAN-gen_losses.npy', gen_losses_arr)\n",
    "    np.save('SDGAN/smoothing_with_noise_gen4layers_40epoci/SDGAN-dis_losses.npy', dis_losses_arr)\n",
    "    np.save('SDGAN/smoothing_with_noise_gen4layers_40epoci/SDGAN-imgs.npy', img_arr)\n"
   ],
   "metadata": {
    "collapsed": false,
    "ExecuteTime": {
     "end_time": "2023-06-09T18:03:31.752236003Z",
     "start_time": "2023-06-09T16:33:36.722682739Z"
    }
   }
  },
  {
   "cell_type": "code",
   "execution_count": 11,
   "outputs": [],
   "source": [],
   "metadata": {
    "collapsed": false,
    "ExecuteTime": {
     "end_time": "2023-06-09T18:03:31.757944281Z",
     "start_time": "2023-06-09T18:03:31.755560588Z"
    }
   }
  },
  {
   "cell_type": "code",
   "execution_count": 12,
   "outputs": [
    {
     "data": {
      "text/plain": "<Figure size 640x480 with 1 Axes>",
      "image/png": "[encoded data removed]"
     },
     "metadata": {},
     "output_type": "display_data"
    },
    {
     "data": {
      "text/plain": "<Figure size 640x480 with 1 Axes>",
      "image/png": "[encoded data removed]"
     },
     "metadata": {},
     "output_type": "display_data"
    }
   ],
   "source": [
    "test_spec = Image.open(\"Data/SpectrogramsA/pop/pop_spec28.jpg\")\n",
    "make_tensor = torchvision.transforms.ToTensor()\n",
    "test_spec = transform(test_spec)\n",
    "test_spec = torch.transpose(test_spec, 0, 2)\n",
    "\n",
    "fig, axs = plt.subplots(1)\n",
    "axs.imshow(test_spec)\n",
    "plt.show()\n",
    "\n",
    "\n",
    "test_spec = torch.transpose(test_spec, 0, 2)\n",
    "test_spec = torch.unsqueeze(test_spec, 0)\n",
    "# test_spec = torch.transpose(test_spec, 0, 1)\n",
    "\n",
    "test_spec = generator(test_spec)\n",
    "\n",
    "test_spec = torch.squeeze(test_spec, 0)\n",
    "test_spec = torch.transpose(test_spec, 0, 2)\n",
    "\n",
    "fig, axs = plt.subplots(1)\n",
    "axs.imshow(test_spec.detach())\n",
    "plt.show()\n",
    "\n"
   ],
   "metadata": {
    "collapsed": false,
    "ExecuteTime": {
     "end_time": "2023-06-09T18:03:32.313316869Z",
     "start_time": "2023-06-09T18:03:31.763800702Z"
    }
   }
  },
  {
   "cell_type": "code",
   "execution_count": 27,
   "outputs": [
    {
     "data": {
      "text/plain": "<matplotlib.image.AxesImage at 0x7fca05faa640>"
     },
     "execution_count": 27,
     "metadata": {},
     "output_type": "execute_result"
    },
    {
     "data": {
      "text/plain": "<Figure size 1500x1500 with 2 Axes>",
      "image/png": "[encoded data removed]"
     },
     "metadata": {},
     "output_type": "display_data"
    }
   ],
   "source": [
    "# real_batch = next(iter(dataloader))\n",
    "real_batch = next(iter(dataloader_B))\n",
    "p = real_batch[0]\n",
    "res = generator(p)\n",
    "\n",
    "plt.figure(figsize=(15,15))\n",
    "plt.subplot(1,2,1)\n",
    "plt.axis(\"off\")\n",
    "plt.title(\"Real images\")\n",
    "plt.imshow(np.transpose(torchvision.utils.make_grid(real_batch[0].to(device)[:64], padding=5, normalize=True).cpu(),(1,2,0)))\n",
    "\n",
    "\n",
    "plt.subplot(1,2,2)\n",
    "plt.axis(\"off\")\n",
    "plt.title(\"Fake images\")\n",
    "plt.imshow(np.transpose(torchvision.utils.make_grid(res.to(device), padding=5, normalize=True).cpu(),(1,2,0)))\n",
    "\n",
    "\n",
    "\n",
    "# plt.subplot(1,2,2)\n",
    "# plt.axis(\"off\")\n",
    "# plt.title(\"Fake Images\")\n",
    "# plt.imshow(np.transpose(img_lists[0],(1,2,0)))\n",
    "# plt.show()"
   ],
   "metadata": {
    "collapsed": false,
    "ExecuteTime": {
     "end_time": "2023-06-09T18:04:54.138427858Z",
     "start_time": "2023-06-09T18:04:53.558743746Z"
    }
   }
  }
 ],
 "metadata": {
  "kernelspec": {
   "display_name": "Python 3",
   "language": "python",
   "name": "python3"
  },
  "language_info": {
   "codemirror_mode": {
    "name": "ipython",
    "version": 2
   },
   "file_extension": ".py",
   "mimetype": "text/x-python",
   "name": "python",
   "nbconvert_exporter": "python",
   "pygments_lexer": "ipython2",
   "version": "2.7.6"
  }
 },
 "nbformat": 4,
 "nbformat_minor": 0
}
