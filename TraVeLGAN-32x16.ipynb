{
 "cells": [
  {
   "cell_type": "markdown",
   "source": [
    "### TraVeL GAN"
   ],
   "metadata": {
    "collapsed": false
   }
  },
  {
   "cell_type": "code",
   "execution_count": 1,
   "metadata": {
    "collapsed": true,
    "ExecuteTime": {
     "end_time": "2023-06-10T17:04:42.767661105Z",
     "start_time": "2023-06-10T17:04:41.280349252Z"
    }
   },
   "outputs": [],
   "source": [
    "import pathlib\n",
    "import torch\n",
    "import numpy as np\n",
    "import matplotlib.pyplot as plt\n",
    "import torchvision\n",
    "from tqdm import tqdm\n",
    "from PIL import Image\n",
    "import os\n",
    "from torch.optim.lr_scheduler import ReduceLROnPlateau\n",
    "import joblib"
   ]
  },
  {
   "cell_type": "code",
   "execution_count": 2,
   "outputs": [],
   "source": [
    "ngpu = 0\n",
    "pathA = \"Data/SpectrogramsA\"\n",
    "pathB = \"Data/SpectrogramsB\"\n",
    "filename_gen = \"TraVeLGAN/no_smoothing_with_noise_gen4layers_20epoci_new/TraVeLGAN-Gen.joblib\"\n",
    "filename_dis = \"TraVeLGAN/no_smoothing_with_noise_gen4layers_20epoci_new/TraVeLGAN-Dis.joblib\"\n",
    "filename_sim = \"TraVeLGAN/no_smoothing_with_noise_gen4layers_20epoci_new/TraVeLGAN-Siam.joblib\"\n",
    "workers = 2\n",
    "batch_size = 32\n",
    "\n",
    "image_size = 32\n",
    "\n",
    "# channels nr for input images\n",
    "nc = 1\n",
    "# size of feature maps in generator\n",
    "ngf = 64\n",
    "# size of feature maps in discriminator\n",
    "ndf = 64\n",
    "# length of latent vector\n",
    "lenvec = 128\n",
    "\n",
    "num_epochs = 20\n",
    "lr = 0.0002\n",
    "lrD = 0.000001\n",
    "beta1 = 0.5\n",
    "\n",
    "def find_classes(directory:str):\n",
    "    classes = sorted(entry.name for entry in os.scandir(directory) if entry.is_dir())\n",
    "\n",
    "    class_to_index = {class_name: i for i, class_name in enumerate(classes)}\n",
    "\n",
    "    return classes, class_to_index"
   ],
   "metadata": {
    "collapsed": false,
    "ExecuteTime": {
     "end_time": "2023-06-10T17:04:42.773089318Z",
     "start_time": "2023-06-10T17:04:42.770052631Z"
    }
   }
  },
  {
   "cell_type": "code",
   "execution_count": 3,
   "outputs": [],
   "source": [
    "class MyImageFolder(torch.utils.data.Dataset):\n",
    "    def __init__(self, directory:str, transform=None):\n",
    "\n",
    "        self.paths = list(pathlib.Path(directory).glob('*/*.jpg')) * 3\n",
    "\n",
    "        self.transform = transform\n",
    "        self.classes, self.class_to_index = find_classes(directory)\n",
    "\n",
    "    def __len__(self):\n",
    "        return len(self.paths)\n",
    "\n",
    "    def __getitem__(self, index):\n",
    "        img = self.load_image(index)\n",
    "        class_name = self.paths[index].parent.name\n",
    "        class_index = self.class_to_index[class_name]\n",
    "\n",
    "        if self.transform:\n",
    "            return self.transform(img), class_index\n",
    "        else:\n",
    "            return img, class_index\n",
    "\n",
    "    def load_image(self, index):\n",
    "        image_path = self.paths[index]\n",
    "        return Image.open(image_path)\n",
    "\n",
    "transform = torchvision.transforms.Compose([\n",
    "            torchvision.transforms.ToTensor(),  # imaginile sunt normalizate intre [0, 1]\n",
    "            torchvision.transforms.Normalize(0.5, 0.5),  # imaginile sunt normalizate intre [-1, 1]\n",
    "        ])\n"
   ],
   "metadata": {
    "collapsed": false,
    "ExecuteTime": {
     "end_time": "2023-06-10T17:04:42.798853415Z",
     "start_time": "2023-06-10T17:04:42.775718819Z"
    }
   }
  },
  {
   "cell_type": "code",
   "execution_count": 4,
   "outputs": [],
   "source": [
    "train_data_A = MyImageFolder(directory=pathA, transform=transform)\n",
    "train_data_B = MyImageFolder(directory=pathB, transform=transform)\n",
    "\n",
    "dataloader_A = torch.utils.data.DataLoader(train_data_A, batch_size=batch_size, shuffle=True, num_workers=2)\n",
    "dataloader_B = torch.utils.data.DataLoader(train_data_B, batch_size=batch_size, shuffle=True, num_workers=2)\n",
    "device = torch.device(\"cuda:0\" if (torch.cuda.is_available() and ngpu > 0) else \"cpu\")\n"
   ],
   "metadata": {
    "collapsed": false,
    "ExecuteTime": {
     "end_time": "2023-06-10T17:04:42.872603899Z",
     "start_time": "2023-06-10T17:04:42.794178740Z"
    }
   }
  },
  {
   "cell_type": "code",
   "execution_count": 5,
   "outputs": [],
   "source": [
    "'''\n",
    "Gaussian distribution (also known as normal distribution) is a bell-shaped curve, and it is assumed that during any measurement values will follow a normal distribution with an equal number of measurements above and below the mean value.\n",
    "'''\n",
    "class GaussianNoise(torch.nn.Module):\n",
    "    def __init__(self, std=0.1, decay=0):\n",
    "        super().__init__()\n",
    "        self.std = std\n",
    "        self.decay = decay\n",
    "\n",
    "    def step(self):\n",
    "        self.std = max(self.std - self.decay, 0)\n",
    "\n",
    "    def forward(self, x):\n",
    "        if self.training:\n",
    "            return x + torch.empty_like(x).normal_(std=self.std)\n",
    "        else:\n",
    "            return x"
   ],
   "metadata": {
    "collapsed": false,
    "ExecuteTime": {
     "end_time": "2023-06-10T17:04:42.878843883Z",
     "start_time": "2023-06-10T17:04:42.876491310Z"
    }
   }
  },
  {
   "cell_type": "code",
   "execution_count": 6,
   "outputs": [],
   "source": [
    "'''\n",
    "From the DCGAN paper, the authors specify that all model weights shall be randomly initialized from a Normal distribution with mean=0, stdev=0.02. The weights_init function takes an initialized model as input and reinitializes all convolutional, convolutional-transpose, and batch normalization layers to meet this criteria. This function is applied to the models immediately after initialization.\n",
    "'''\n",
    "def weights_init(m):\n",
    "    classname = m.__class__.__name__\n",
    "    if classname.find('Conv') != -1:\n",
    "        torch.nn.init.normal_(m.weight.data, 0.0, 0.02)\n",
    "    elif classname.find('BatchNorm') != -1:\n",
    "        torch.nn.init.normal_(m.weight.data, 1.0, 0.02)\n",
    "        torch.nn.init.constant_(m.bias.data, 0)"
   ],
   "metadata": {
    "collapsed": false,
    "ExecuteTime": {
     "end_time": "2023-06-10T17:04:42.922330350Z",
     "start_time": "2023-06-10T17:04:42.881324461Z"
    }
   }
  },
  {
   "cell_type": "code",
   "execution_count": 7,
   "outputs": [
    {
     "data": {
      "text/plain": "Sequential(\n  (0): Conv2d(1, 64, kernel_size=(4, 4), stride=(2, 2), padding=(1, 1), bias=False)\n  (1): BatchNorm2d(64, eps=1e-05, momentum=0.1, affine=True, track_running_stats=True)\n  (2): LeakyReLU(negative_slope=True)\n  (3): Conv2d(64, 128, kernel_size=(4, 4), stride=(2, 2), padding=(1, 1), bias=False)\n  (4): BatchNorm2d(128, eps=1e-05, momentum=0.1, affine=True, track_running_stats=True)\n  (5): LeakyReLU(negative_slope=True)\n  (6): ConvTranspose2d(128, 64, kernel_size=(4, 4), stride=(2, 2), padding=(1, 1), bias=False)\n  (7): BatchNorm2d(64, eps=1e-05, momentum=0.1, affine=True, track_running_stats=True)\n  (8): LeakyReLU(negative_slope=True)\n  (9): ConvTranspose2d(64, 1, kernel_size=(4, 4), stride=(2, 2), padding=(1, 1), bias=False)\n  (10): Tanh()\n)"
     },
     "execution_count": 7,
     "metadata": {},
     "output_type": "execute_result"
    }
   ],
   "source": [
    "generator = torch.nn.Sequential(\n",
    "\n",
    "    # downsampling\n",
    "    torch.nn.Conv2d(nc, ngf, kernel_size=4, stride=2, padding=1, bias=False),\n",
    "    torch.nn.BatchNorm2d(ngf),\n",
    "    torch.nn.LeakyReLU(True),\n",
    "\n",
    "    torch.nn.Conv2d(ngf, ngf * 2, kernel_size=4, stride=2, padding=1, bias=False),\n",
    "    torch.nn.BatchNorm2d(ngf * 2),\n",
    "    torch.nn.LeakyReLU(True),\n",
    "\n",
    "    # upsampling\n",
    "    torch.nn.ConvTranspose2d(ngf * 2, ngf, kernel_size=4, stride=2, padding=1, bias=False),\n",
    "    torch.nn.BatchNorm2d(ngf),\n",
    "    torch.nn.LeakyReLU(True),\n",
    "\n",
    "    torch.nn.ConvTranspose2d(ngf, nc, kernel_size=4, stride=2, padding=1, bias=False),\n",
    "    torch.nn.Tanh(),\n",
    "    # nc x 32 x 16\n",
    ")\n",
    "\n",
    "generator.apply(weights_init)\n",
    "\n",
    "\n"
   ],
   "metadata": {
    "collapsed": false,
    "ExecuteTime": {
     "end_time": "2023-06-10T17:04:42.922688989Z",
     "start_time": "2023-06-10T17:04:42.922098748Z"
    }
   }
  },
  {
   "cell_type": "code",
   "execution_count": 8,
   "outputs": [],
   "source": [
    "# Siamese model\n",
    "siamese = torch.nn.Sequential(\n",
    "    # 1 x 32 x 16\n",
    "    torch.nn.Conv2d(nc, ngf, kernel_size=4, stride=2, padding=1, bias=False),\n",
    "    torch.nn.BatchNorm2d(ngf),\n",
    "    torch.nn.LeakyReLU(True),\n",
    "    # ngf x 16 x 8\n",
    "\n",
    "    torch.nn.Conv2d(ngf, ngf, kernel_size=(3, 3), stride=(2, 1), padding=(1, 1), bias=False),\n",
    "    torch.nn.BatchNorm2d(ngf),\n",
    "    torch.nn.LeakyReLU(True),\n",
    "    # ngf x 8 x 8\n",
    "\n",
    "    torch.nn.Conv2d(ngf, ngf * 2, kernel_size=(3, 3), stride=(1, 2), padding=(1, 1), bias=False),\n",
    "    torch.nn.BatchNorm2d(ngf * 2),\n",
    "    torch.nn.LeakyReLU(True),\n",
    "    # ngf*2 x 8 x 4\n",
    "\n",
    "    torch.nn.Flatten(),\n",
    "    # ngf*2*8*4\n",
    "    torch.nn.Linear(ngf * 64, lenvec)\n",
    ")"
   ],
   "metadata": {
    "collapsed": false,
    "ExecuteTime": {
     "end_time": "2023-06-10T17:04:42.922793742Z",
     "start_time": "2023-06-10T17:04:42.922486065Z"
    }
   }
  },
  {
   "cell_type": "code",
   "execution_count": 9,
   "outputs": [
    {
     "data": {
      "text/plain": "Sequential(\n  (0): GaussianNoise()\n  (1): Conv2d(1, 64, kernel_size=(4, 4), stride=(2, 2), padding=(1, 1), bias=False)\n  (2): BatchNorm2d(64, eps=1e-05, momentum=0.1, affine=True, track_running_stats=True)\n  (3): LeakyReLU(negative_slope=0.2, inplace=True)\n  (4): GaussianNoise()\n  (5): Conv2d(64, 128, kernel_size=(4, 4), stride=(2, 2), padding=(1, 1), bias=False)\n  (6): BatchNorm2d(128, eps=1e-05, momentum=0.1, affine=True, track_running_stats=True)\n  (7): LeakyReLU(negative_slope=0.2, inplace=True)\n  (8): GaussianNoise()\n  (9): Conv2d(128, 256, kernel_size=(4, 4), stride=(2, 2), padding=(1, 1), bias=False)\n  (10): BatchNorm2d(256, eps=1e-05, momentum=0.1, affine=True, track_running_stats=True)\n  (11): LeakyReLU(negative_slope=0.2, inplace=True)\n  (12): GaussianNoise()\n  (13): Conv2d(256, 1, kernel_size=(4, 4), stride=(1, 1), bias=False)\n  (14): Sigmoid()\n)"
     },
     "execution_count": 9,
     "metadata": {},
     "output_type": "execute_result"
    }
   ],
   "source": [
    "# Discriminator model\n",
    "discriminator = torch.nn.Sequential(\n",
    "    # nc x 32 x 32\n",
    "    GaussianNoise(),\n",
    "    torch.nn.Conv2d(nc, ndf, 4, 2, 1, bias=False),\n",
    "    torch.nn.BatchNorm2d(ndf),\n",
    "    torch.nn.LeakyReLU(0.2, inplace=True),\n",
    "    # ndf x 16 x 16\n",
    "\n",
    "    GaussianNoise(),\n",
    "    torch.nn.Conv2d(ndf, ndf * 2, 4, 2, 1, bias=False),\n",
    "    torch.nn.BatchNorm2d(ndf * 2),\n",
    "    torch.nn.LeakyReLU(0.2, inplace=True),\n",
    "    # ndf*2 x 8 x 8\n",
    "\n",
    "    GaussianNoise(),\n",
    "    torch.nn.Conv2d(ndf * 2, ndf * 4, 4, 2, 1, bias=False),\n",
    "    torch.nn.BatchNorm2d(ndf * 4),\n",
    "    torch.nn.LeakyReLU(0.2, inplace=True),\n",
    "    # ndf*4 x 4 x 4\n",
    "\n",
    "    GaussianNoise(),\n",
    "    torch.nn.Conv2d(ndf * 4, 1, 4, 1, 0, bias=False),\n",
    "    torch.nn.Sigmoid(),\n",
    "    # 1 x 1 x 1\n",
    ")\n",
    "discriminator.apply(weights_init)\n",
    "\n"
   ],
   "metadata": {
    "collapsed": false,
    "ExecuteTime": {
     "end_time": "2023-06-10T17:04:42.966643021Z",
     "start_time": "2023-06-10T17:04:42.922606954Z"
    }
   }
  },
  {
   "cell_type": "code",
   "execution_count": 10,
   "outputs": [],
   "source": [
    "class IdentityLoss(torch.nn.Module):\n",
    "    def __init__(self):\n",
    "        super(IdentityLoss, self).__init__()\n",
    "\n",
    "    def forward(self, real, generated):\n",
    "        identity_loss = torch.nn.functional.l1_loss(real, generated)\n",
    "        return identity_loss\n",
    "\n",
    "class CosineSimilarityLoss(torch.nn.Module):\n",
    "    def __init__(self):\n",
    "        super(CosineSimilarityLoss, self).__init__()\n",
    "\n",
    "    def forward(self, a, b):\n",
    "        a_normalized = torch.nn.functional.normalize(a, dim=1)\n",
    "        b_normalized = torch.nn.functional.normalize(b, dim=1)\n",
    "        cos_sim = torch.mean(torch.nn.functional.cosine_similarity(a_normalized, b_normalized, dim=1))\n",
    "        return cos_sim\n",
    "\n",
    "class SiameseLoss(torch.nn.Module):\n",
    "    def __init__(self, margin):\n",
    "        super(SiameseLoss, self).__init__()\n",
    "        self.margin = margin\n",
    "\n",
    "    def forward(self, a1, a2):\n",
    "        distances = torch.sqrt(torch.sum((a1 - a2) ** 2, dim=-1, keepdim=True))\n",
    "        hinge_loss = torch.square(torch.maximum((self.margin - distances), torch.tensor(0)))\n",
    "        loss = torch.mean(hinge_loss)\n",
    "        return loss"
   ],
   "metadata": {
    "collapsed": false,
    "ExecuteTime": {
     "end_time": "2023-06-10T17:04:42.966822423Z",
     "start_time": "2023-06-10T17:04:42.966464579Z"
    }
   }
  },
  {
   "cell_type": "code",
   "execution_count": 11,
   "outputs": [],
   "source": [
    "adversarial_loss = torch.nn.BCELoss()\n",
    "identity_loss = IdentityLoss()\n",
    "cossine_loss = CosineSimilarityLoss()\n",
    "siamese_loss = SiameseLoss(1)\n",
    "\n",
    "fixed_noise = torch.randn(batch_size, nc, image_size, image_size, device=device)\n",
    "different_classes = -1\n",
    "same_class = 1\n",
    "real_label = 0\n",
    "fake_label = 1\n",
    "\n",
    "gen_optimizer = torch.optim.Adam(generator.parameters(), lr=lr, betas=(beta1, 0.999))\n",
    "dis_optimizer = torch.optim.Adam(discriminator.parameters(), lr=lrD, betas=(beta1, 0.999))\n",
    "scheduler_gen = ReduceLROnPlateau(gen_optimizer, patience=1, factor=0.1, min_lr=0.00000001, verbose=True)\n",
    "#scheduler_dis = ReduceLROnPlateau(dis_optimizer, patience=1, factor=0.1, min_lr=0.0000001)"
   ],
   "metadata": {
    "collapsed": false,
    "ExecuteTime": {
     "end_time": "2023-06-10T17:04:42.966935627Z",
     "start_time": "2023-06-10T17:04:42.966748101Z"
    }
   }
  },
  {
   "cell_type": "code",
   "execution_count": 12,
   "outputs": [],
   "source": [
    "def normalize(x, minim, maxim):\n",
    "    return (x - minim) / (maxim - minim)\n",
    "\n",
    "# def smooth_label(label):\n",
    "#     arr = torch.rand((b_size,), dtype=torch.float, device=device)\n",
    "#     if label == 1:\n",
    "#         for i in range(arr.shape[0]):\n",
    "#             arr[i] = normalize(arr[i], 0.7, 1.2)\n",
    "#     else:\n",
    "#         for i in range(arr.shape[0]):\n",
    "#             arr[i] = normalize(arr[i], 0.0, 0.3)\n",
    "#     return arr\n",
    "\n",
    "def slice_images(batch):\n",
    "    part1 = batch[:, :, :, :batch.shape[3] // 2].clone()\n",
    "    part2 = batch[:, :, :, batch.shape[3] // 2 :].clone()\n",
    "    return part1, part2\n",
    "\n",
    "def assemble_images(part1, part2):\n",
    "    image = torch.cat([part1, part2], dim=3)\n",
    "    return image\n",
    "\n",
    "img_lists = []\n",
    "gen_losses = []\n",
    "dis_losses = []\n",
    "iters = 0\n"
   ],
   "metadata": {
    "collapsed": false,
    "ExecuteTime": {
     "end_time": "2023-06-10T17:04:42.967050856Z",
     "start_time": "2023-06-10T17:04:42.966879093Z"
    }
   }
  },
  {
   "cell_type": "code",
   "execution_count": 13,
   "outputs": [],
   "source": [
    "def traind_discriminator(A, B):\n",
    "    A1, A2 = slice_images(A)\n",
    "    A_b_size = A1.size(0)\n",
    "    B_b_size = B.size(0)\n",
    "    gen_A1 = generator(A1)\n",
    "    gen_A2 = generator(A2)\n",
    "    AB = assemble_images(gen_A1, gen_A2)\n",
    "    output_AB = discriminator(AB.detach()).view(-1)\n",
    "    output_B = discriminator(B).view(-1)\n",
    "\n",
    "    label_fake = torch.full((B_b_size,), fake_label, dtype=torch.float, device=device)\n",
    "    zero = torch.full((B_b_size,), 0, dtype=torch.float, device=device)\n",
    "    d_loss_real = torch.mean(torch.max(label_fake + output_B, zero))\n",
    "\n",
    "    zero = torch.full((A_b_size,), 0, dtype=torch.float, device=device)\n",
    "    label_f = torch.full((A_b_size,), fake_label, dtype=torch.float, device=device)\n",
    "    d_loss_fake = torch.mean(torch.max(label_f - output_AB, zero))\n",
    "\n",
    "    d_total_loss = (d_loss_real + d_loss_fake) / 2\n",
    "\n",
    "    dis_optimizer.zero_grad()\n",
    "    d_total_loss.backward()\n",
    "    dis_optimizer.step()\n",
    "\n",
    "    return d_loss_real, d_loss_fake"
   ],
   "metadata": {
    "collapsed": false,
    "ExecuteTime": {
     "end_time": "2023-06-10T17:04:43.014370755Z",
     "start_time": "2023-06-10T17:04:42.966995384Z"
    }
   }
  },
  {
   "cell_type": "code",
   "execution_count": null,
   "outputs": [
    {
     "name": "stderr",
     "output_type": "stream",
     "text": [
      "1it [00:00,  4.53it/s]"
     ]
    },
    {
     "name": "stdout",
     "output_type": "stream",
     "text": [
      "Id loss 0.9858\n",
      "tensor([0.5207, 0.5728, 0.7009, 0.6354, 0.8902, 0.4525, 0.5090, 0.4213, 0.6665,\n",
      "        0.5486, 0.5599, 0.5575, 0.8462, 0.5609, 0.3520, 0.6421, 0.7544, 0.5796,\n",
      "        0.8853, 0.6821, 0.8126, 0.4909, 0.5965, 0.7253, 0.6199, 0.6286, 0.8769,\n",
      "        0.4683, 0.7523, 0.5877, 0.6040, 0.3608], grad_fn=<ViewBackward0>) tensor([0.5103, 0.5911, 0.5245, 0.5630, 0.6532, 0.6956, 0.9156, 0.5865, 0.4673,\n",
      "        0.5896, 0.3059, 0.5617, 0.4784, 0.8172, 0.4938, 0.5593, 0.7253, 0.6825,\n",
      "        0.5519, 0.5919, 0.5237, 0.3899, 0.5565, 0.5386, 0.5756, 0.4114, 0.6107,\n",
      "        0.5001, 0.5463, 0.6147, 0.3624, 0.6468], grad_fn=<ViewBackward0>)\n",
      "D loss real: 1.5669\n",
      "D loss fake: 0.3793\n",
      "Ts loss 2.9000\n",
      "G loss :-0.4155\n",
      "[0/19] [0/538]\tLoss_dis: 0.9731\tLoss_gen: 29.0769\tD(x): 0.5669\tD(G(x)): 0.6207\n"
     ]
    },
    {
     "name": "stderr",
     "output_type": "stream",
     "text": [
      "61it [00:11,  5.07it/s]"
     ]
    },
    {
     "name": "stdout",
     "output_type": "stream",
     "text": [
      "Id loss 0.9089\n",
      "tensor([0.4786, 0.6756, 0.5469, 0.7599, 0.2737, 0.4949, 0.4892, 0.7286, 0.8557,\n",
      "        0.6223, 0.5880, 0.7334, 0.6770, 0.9441, 0.9697, 0.5112, 0.7015, 0.5861,\n",
      "        0.6989, 0.5865, 0.7231, 0.6911, 0.3041, 0.6438, 0.6063, 0.5020, 0.4868,\n",
      "        0.5725, 0.5285, 0.6891, 0.4139, 0.6520], grad_fn=<ViewBackward0>) tensor([0.2484, 0.5665, 0.2932, 0.2475, 0.9261, 0.3473, 0.5203, 0.4995, 0.3089,\n",
      "        0.6918, 0.4391, 0.6367, 0.4148, 0.3277, 0.3894, 0.3806, 0.1969, 0.3174,\n",
      "        0.2242, 0.2975, 0.4414, 0.9187, 0.4420, 0.4826, 0.5398, 0.3948, 0.3597,\n",
      "        0.3502, 0.5611, 0.9012, 0.4306, 0.3928], grad_fn=<ViewBackward0>)\n",
      "D loss real: 1.4528\n",
      "D loss fake: 0.3833\n",
      "Ts loss 2.2255\n",
      "G loss :-0.3789\n",
      "[0/19] [60/538]\tLoss_dis: 0.9180\tLoss_gen: 22.3301\tD(x): 0.4528\tD(G(x)): 0.6167\n"
     ]
    },
    {
     "name": "stderr",
     "output_type": "stream",
     "text": [
      "121it [00:24,  4.75it/s]"
     ]
    },
    {
     "name": "stdout",
     "output_type": "stream",
     "text": [
      "Id loss 0.8774\n",
      "tensor([0.6919, 0.6780, 0.9067, 0.8059, 0.7766, 0.8633, 0.7293, 0.6331, 0.7741,\n",
      "        0.7365, 0.5019, 0.7569, 0.7287, 0.6767, 0.8706, 0.8434, 0.7438, 0.8033,\n",
      "        0.8157, 0.6905, 0.6680, 0.8325, 0.5890, 0.7889, 0.8029, 0.7811, 0.7514,\n",
      "        0.8330, 0.9188, 0.8467, 0.7254, 0.8039], grad_fn=<ViewBackward0>) tensor([0.1624, 0.4760, 0.2796, 0.3969, 0.2605, 0.4075, 0.3611, 0.3214, 0.2442,\n",
      "        0.3258, 0.3481, 0.3525, 0.3937, 0.3337, 0.3223, 0.2109, 0.5140, 0.3012,\n",
      "        0.4116, 0.8901, 0.3180, 0.2426, 0.2239, 0.3302, 0.2728, 0.7931, 0.3725,\n",
      "        0.6216, 0.4209, 0.4904, 0.3976, 0.3146], grad_fn=<ViewBackward0>)\n",
      "D loss real: 1.3785\n",
      "D loss fake: 0.2385\n",
      "Ts loss 2.1267\n",
      "G loss :-0.2460\n",
      "[0/19] [120/538]\tLoss_dis: 0.8085\tLoss_gen: 21.4594\tD(x): 0.3785\tD(G(x)): 0.7615\n"
     ]
    },
    {
     "name": "stderr",
     "output_type": "stream",
     "text": [
      "180it [00:37,  4.14it/s]"
     ]
    },
    {
     "name": "stdout",
     "output_type": "stream",
     "text": [
      "Id loss 0.8494\n",
      "tensor([0.6659, 0.8030, 0.8089, 0.7303, 0.8617, 0.6948, 0.7283, 0.8233, 0.9089,\n",
      "        0.9871, 0.8037, 0.7638, 0.8640, 0.7155, 0.8510, 0.8801, 0.7961, 0.8147,\n",
      "        0.8449, 0.8195, 0.8276, 0.8714, 0.8738, 0.5863, 0.6831, 0.7808, 0.6947,\n",
      "        0.8892, 0.8294, 0.7036, 0.9267, 0.8542], grad_fn=<ViewBackward0>) tensor([0.2392, 0.1480, 0.1545, 0.7220, 0.4148, 0.2544, 0.1365, 0.3750, 0.1227,\n",
      "        0.1893, 0.2797, 0.2987, 0.2382, 0.4411, 0.2147, 0.3970, 0.7428, 0.2170,\n",
      "        0.0855, 0.1263, 0.2440, 0.3999, 0.2615, 0.1909, 0.1177, 0.0631, 0.1482,\n",
      "        0.1228, 0.2408, 0.1272, 0.1290, 0.2548], grad_fn=<ViewBackward0>)\n",
      "D loss real: 1.2530\n",
      "D loss fake: 0.1973\n",
      "Ts loss 2.0956\n",
      "G loss :-0.2044\n",
      "[0/19] [180/538]\tLoss_dis: 0.7252\tLoss_gen: 21.1759\tD(x): 0.2530\tD(G(x)): 0.8027\n"
     ]
    },
    {
     "name": "stderr",
     "output_type": "stream",
     "text": [
      "241it [00:51,  4.65it/s]"
     ]
    },
    {
     "name": "stdout",
     "output_type": "stream",
     "text": [
      "Id loss 0.8009\n",
      "tensor([0.8507, 0.9925, 0.7808, 0.7211, 0.8442, 0.8176, 0.8547, 0.9297, 0.8748,\n",
      "        0.7599, 0.8599, 0.6645, 0.7794, 0.8038, 0.8521, 0.8904, 0.8061, 0.8711,\n",
      "        0.8844, 0.9736, 0.9166, 0.8626, 0.8748, 0.8985, 0.9311, 0.7002, 0.8113,\n",
      "        0.8076, 0.6154, 0.7934, 0.8838, 0.9778], grad_fn=<ViewBackward0>) tensor([0.3612, 0.0641, 0.1640, 0.2446, 0.5806, 0.1684, 0.0891, 0.4047, 0.2113,\n",
      "        0.1568, 0.0804, 0.2332, 0.1377, 0.3853, 0.2310, 0.1145, 0.3449, 0.3820,\n",
      "        0.3190, 0.1485, 0.2182, 0.3353, 0.2299, 0.1385, 0.1478, 0.1315, 0.2106,\n",
      "        0.0966, 0.3849, 0.1214, 0.2503, 0.2145], grad_fn=<ViewBackward0>)\n",
      "D loss real: 1.2282\n",
      "D loss fake: 0.1599\n",
      "Ts loss 2.0907\n",
      "G loss :-0.1693\n",
      "[0/19] [240/538]\tLoss_dis: 0.6940\tLoss_gen: 21.1385\tD(x): 0.2282\tD(G(x)): 0.8401\n"
     ]
    },
    {
     "name": "stderr",
     "output_type": "stream",
     "text": [
      "300it [01:06,  3.68it/s]"
     ]
    },
    {
     "name": "stdout",
     "output_type": "stream",
     "text": [
      "Id loss 0.7690\n",
      "tensor([0.6843, 0.8911, 0.7234, 0.8486, 0.8120, 0.7647, 0.7382, 0.7018, 0.7723,\n",
      "        0.6991, 0.8467, 0.8439, 0.8309, 0.8119, 0.7404, 0.8120, 0.9294, 0.7882,\n",
      "        0.8793, 0.5850, 0.9608, 0.8993, 0.8565, 0.7349, 0.7492, 0.9335, 0.7995,\n",
      "        0.8638, 0.7838, 0.9563, 0.7688, 0.9367], grad_fn=<ViewBackward0>) tensor([0.1910, 0.2192, 0.3162, 0.1061, 0.0714, 0.1260, 0.1417, 0.5013, 0.0871,\n",
      "        0.2046, 0.6853, 0.1774, 0.0891, 0.0749, 0.2435, 0.1500, 0.1566, 0.1134,\n",
      "        0.2995, 0.1610, 0.1493, 0.2476, 0.1565, 0.0858, 0.1847, 0.0911, 0.1581,\n",
      "        0.1700, 0.1685, 0.1670, 0.1409, 0.1040], grad_fn=<ViewBackward0>)\n",
      "D loss real: 1.1856\n",
      "D loss fake: 0.1892\n",
      "Ts loss 1.9882\n",
      "G loss :-0.1681\n"
     ]
    },
    {
     "name": "stderr",
     "output_type": "stream",
     "text": [
      "301it [01:06,  3.67it/s]"
     ]
    },
    {
     "name": "stdout",
     "output_type": "stream",
     "text": [
      "[0/19] [300/538]\tLoss_dis: 0.6874\tLoss_gen: 20.0989\tD(x): 0.1856\tD(G(x)): 0.8108\n"
     ]
    },
    {
     "name": "stderr",
     "output_type": "stream",
     "text": [
      "361it [01:21,  4.50it/s]"
     ]
    },
    {
     "name": "stdout",
     "output_type": "stream",
     "text": [
      "Id loss 0.7446\n",
      "tensor([0.6705, 0.2746, 0.7286, 0.7257, 0.9427, 0.6579, 0.8810, 0.9888, 0.5691,\n",
      "        0.6458, 0.7893, 0.5381, 0.7962, 0.8716, 0.5228, 0.9431, 0.7779, 0.4566,\n",
      "        0.6367, 0.5612, 0.6662, 0.8404, 0.5492, 0.7344, 0.6861, 0.4396, 0.8093,\n",
      "        0.7792, 0.6118, 0.6579, 0.7124, 0.6912], grad_fn=<ViewBackward0>) tensor([0.0864, 0.1563, 0.1132, 0.1812, 0.1045, 0.0794, 0.1222, 0.0815, 0.0459,\n",
      "        0.0523, 0.1235, 0.0730, 0.0100, 0.1605, 0.1214, 0.2382, 0.0882, 0.1498,\n",
      "        0.1739, 0.0870, 0.1563, 0.3502, 0.1256, 0.1138, 0.0680, 0.3289, 0.1976,\n",
      "        0.0269, 0.1009, 0.1187, 0.1077, 0.2138], grad_fn=<ViewBackward0>)\n",
      "D loss real: 1.1299\n",
      "D loss fake: 0.3076\n",
      "Ts loss 2.1010\n",
      "G loss :-0.3051\n",
      "[0/19] [360/538]\tLoss_dis: 0.7188\tLoss_gen: 21.0775\tD(x): 0.1299\tD(G(x)): 0.6924\n"
     ]
    },
    {
     "name": "stderr",
     "output_type": "stream",
     "text": [
      "421it [01:35,  4.19it/s]"
     ]
    },
    {
     "name": "stdout",
     "output_type": "stream",
     "text": [
      "Id loss 0.6770\n",
      "tensor([0.8265, 0.7221, 0.6345, 0.4905, 0.9104, 0.6311, 0.7892, 0.9727, 0.6986,\n",
      "        0.5243, 0.8076, 0.5498, 0.7804, 0.4546, 0.6591, 0.8660, 0.8919, 0.8056,\n",
      "        0.4531, 0.6756, 0.6110, 0.7940, 0.6548, 0.5650, 0.6017, 0.7401, 0.8713,\n",
      "        0.5285, 0.6459, 0.6141, 0.5856, 0.5120], grad_fn=<ViewBackward0>) tensor([0.1076, 0.1733, 0.0938, 0.1363, 0.1512, 0.1138, 0.1349, 0.1026, 0.3734,\n",
      "        0.1346, 0.2651, 0.1359, 0.1311, 0.0922, 0.1452, 0.3535, 0.2772, 0.1213,\n",
      "        0.1997, 0.1442, 0.0747, 0.1401, 0.0464, 0.4059, 0.1802, 0.1035, 0.2187,\n",
      "        0.2061, 0.1365, 0.1691, 0.2075, 0.0718], grad_fn=<ViewBackward0>)\n",
      "D loss real: 1.1671\n",
      "D loss fake: 0.3166\n",
      "Ts loss 1.9039\n",
      "G loss :-0.3038\n",
      "[0/19] [420/538]\tLoss_dis: 0.7419\tLoss_gen: 19.0735\tD(x): 0.1671\tD(G(x)): 0.6834\n"
     ]
    },
    {
     "name": "stderr",
     "output_type": "stream",
     "text": [
      "481it [01:48,  4.63it/s]"
     ]
    },
    {
     "name": "stdout",
     "output_type": "stream",
     "text": [
      "Id loss 0.6408\n",
      "tensor([0.8002, 0.8032, 0.4417, 0.8750, 0.4923, 0.9255, 0.6365, 0.5388, 0.5190,\n",
      "        0.6046, 0.5355, 0.3127, 0.3812, 0.6205, 0.3736, 0.9168, 0.4384, 0.7862,\n",
      "        0.6610, 0.6098, 0.5956, 0.6011, 0.6671, 0.7195, 0.5324, 0.6075, 0.9218,\n",
      "        0.4637, 0.3860, 0.6728, 0.6592, 0.3924], grad_fn=<ViewBackward0>) tensor([0.1050, 0.2026, 0.1867, 0.1117, 0.1947, 0.1235, 0.1420, 0.1859, 0.1013,\n",
      "        0.1521, 0.1686, 0.2340, 0.3764, 0.2427, 0.2052, 0.2689, 0.0664, 0.1953,\n",
      "        0.1450, 0.6683, 0.1123, 0.0933, 0.4739, 0.1735, 0.0801, 0.0867, 0.2437,\n",
      "        0.1183, 0.1665, 0.2113, 0.7528, 0.0803], grad_fn=<ViewBackward0>)\n",
      "D loss real: 1.2084\n",
      "D loss fake: 0.3909\n",
      "Ts loss 2.0746\n",
      "G loss :-0.4011\n",
      "[0/19] [480/538]\tLoss_dis: 0.7996\tLoss_gen: 20.6657\tD(x): 0.2084\tD(G(x)): 0.6091\n"
     ]
    },
    {
     "name": "stderr",
     "output_type": "stream",
     "text": [
      "539it [02:03,  4.38it/s]\n",
      "/tmp/ipykernel_11821/3147339900.py:127: FutureWarning: The input object of type 'Tensor' is an array-like implementing one of the corresponding protocols (`__array__`, `__array_interface__` or `__array_struct__`); but not a sequence (or 0-D). In the future, this object will be coerced as if it was first converted using `np.array(obj)`. To retain the old behaviour, you have to either modify the type 'Tensor', or assign to an empty array created with `np.empty(correct_shape, dtype=object)`.\n",
      "  img_arr = np.array(img_lists, dtype=object)\n",
      "0it [00:00, ?it/s]"
     ]
    },
    {
     "name": "stdout",
     "output_type": "stream",
     "text": [
      "Id loss 0.5822\n",
      "tensor([0.6273, 0.5293, 0.6424, 0.8470, 0.6497, 0.6455, 0.6046, 0.4964, 0.6693,\n",
      "        0.5679, 0.5447, 0.6951, 0.5406, 0.6537, 0.4611, 0.4361, 0.4024, 0.7644,\n",
      "        0.6166, 0.8561, 0.5014, 0.6548, 0.5932, 0.6420, 0.8180, 0.7976, 0.4081,\n",
      "        0.5873, 0.5711, 0.6425, 0.6976, 0.6606], grad_fn=<ViewBackward0>) tensor([0.2468, 0.2169, 0.8236, 0.1400, 0.1001, 0.1118, 0.1105, 0.6528, 0.1042,\n",
      "        0.2054, 0.0890, 0.0923, 0.1157, 0.1081, 0.1320, 0.1320, 0.1258, 0.1856,\n",
      "        0.2357, 0.3948, 0.0986, 0.2711, 0.2131, 0.1483, 0.1196, 0.4065, 0.0947,\n",
      "        0.1856, 0.1437, 0.0773, 0.3569, 0.2260], grad_fn=<ViewBackward0>)\n",
      "D loss real: 1.2083\n",
      "D loss fake: 0.3805\n",
      "Ts loss 1.9243\n",
      "G loss :-0.3887\n",
      "[1/19] [0/538]\tLoss_dis: 0.7944\tLoss_gen: 19.1453\tD(x): 0.2083\tD(G(x)): 0.6195\n"
     ]
    },
    {
     "name": "stderr",
     "output_type": "stream",
     "text": [
      "61it [00:13,  4.60it/s]"
     ]
    },
    {
     "name": "stdout",
     "output_type": "stream",
     "text": [
      "Id loss 0.5605\n",
      "tensor([0.6581, 0.7474, 0.4922, 0.3118, 0.2783, 0.3952, 0.6326, 0.7489, 0.6551,\n",
      "        0.7169, 0.6240, 0.6797, 0.5661, 0.8103, 0.2857, 0.8061, 0.4783, 0.8009,\n",
      "        0.5884, 0.5938, 0.4442, 0.8794, 0.6280, 0.4891, 0.4475, 0.7574, 0.4747,\n",
      "        0.6659, 0.5266, 0.6196, 0.6780, 0.5164], grad_fn=<ViewBackward0>) tensor([0.0507, 0.1966, 0.1957, 0.1470, 0.1148, 0.0673, 0.0501, 0.1586, 0.2644,\n",
      "        0.0443, 0.3312, 0.0469, 0.2372, 0.1380, 0.0868, 0.1796, 0.1956, 0.1821,\n",
      "        0.0739, 0.1462, 0.0638, 0.0784, 0.1270, 0.0916, 0.0713, 0.1569, 0.1386,\n",
      "        0.1904, 0.1894, 0.0639, 0.0390, 0.3001], grad_fn=<ViewBackward0>)\n",
      "D loss real: 1.1380\n",
      "D loss fake: 0.4064\n",
      "Ts loss 1.9267\n",
      "G loss :-0.4787\n",
      "[1/19] [60/538]\tLoss_dis: 0.7722\tLoss_gen: 19.0682\tD(x): 0.1380\tD(G(x)): 0.5936\n"
     ]
    },
    {
     "name": "stderr",
     "output_type": "stream",
     "text": [
      "121it [00:27,  4.56it/s]"
     ]
    },
    {
     "name": "stdout",
     "output_type": "stream",
     "text": [
      "Id loss 0.5324\n",
      "tensor([0.4882, 0.5881, 0.3679, 0.3219, 0.7339, 0.3796, 0.6537, 0.5081, 0.8050,\n",
      "        0.5290, 0.6655, 0.4393, 0.3947, 0.6000, 0.4371, 0.3986, 0.6872, 0.5505,\n",
      "        0.6337, 0.4601, 0.3080, 0.4284, 0.6064, 0.7002, 0.8198, 0.4093, 0.4577,\n",
      "        0.5868, 0.8144, 0.7696, 0.2837, 0.8620], grad_fn=<ViewBackward0>) tensor([0.2073, 0.1573, 0.0696, 0.1623, 0.2087, 0.2424, 0.3838, 0.2326, 0.1837,\n",
      "        0.1430, 0.1351, 0.1194, 0.0704, 0.0635, 0.1325, 0.0716, 0.0768, 0.0862,\n",
      "        0.1803, 0.0877, 0.0823, 0.0874, 0.1829, 0.1386, 0.1414, 0.0717, 0.2646,\n",
      "        0.2836, 0.1162, 0.0856, 0.0710, 0.1104], grad_fn=<ViewBackward0>)\n",
      "D loss real: 1.1453\n",
      "D loss fake: 0.4472\n",
      "Ts loss 1.9992\n",
      "G loss :-0.4348\n",
      "[1/19] [120/538]\tLoss_dis: 0.7963\tLoss_gen: 19.8237\tD(x): 0.1453\tD(G(x)): 0.5528\n"
     ]
    },
    {
     "name": "stderr",
     "output_type": "stream",
     "text": [
      "180it [00:41,  3.41it/s]"
     ]
    },
    {
     "name": "stdout",
     "output_type": "stream",
     "text": [
      "Id loss 0.4933\n",
      "tensor([0.2591, 0.2862, 0.3828, 0.5518, 0.3856, 0.4915, 0.4409, 0.4522, 0.3738,\n",
      "        0.5350, 0.3555, 0.4544, 0.6243, 0.7949, 0.2571, 0.5212, 0.3546, 0.4204,\n",
      "        0.3619, 0.6128, 0.3275, 0.5572, 0.6948, 0.4829, 0.5453, 0.5426, 0.9271,\n",
      "        0.3395, 0.8025, 0.3365, 0.8996, 0.4500], grad_fn=<ViewBackward0>) tensor([0.1464, 0.5675, 0.1425, 0.0903, 0.0633, 0.0681, 0.0443, 0.2376, 0.1367,\n",
      "        0.1145, 0.0688, 0.0717, 0.0705, 0.3823, 0.2918, 0.1165, 0.1772, 0.0572,\n",
      "        0.1017, 0.1662, 0.3731, 0.1166, 0.1870, 0.1651, 0.0617, 0.1652, 0.3024,\n",
      "        0.0930, 0.3025, 0.0812, 0.1212, 0.1121], grad_fn=<ViewBackward0>)\n",
      "D loss real: 1.1624\n",
      "D loss fake: 0.5056\n",
      "Ts loss 1.9862\n",
      "G loss :-0.4884\n"
     ]
    },
    {
     "name": "stderr",
     "output_type": "stream",
     "text": [
      "181it [00:41,  3.29it/s]"
     ]
    },
    {
     "name": "stdout",
     "output_type": "stream",
     "text": [
      "[1/19] [180/538]\tLoss_dis: 0.8340\tLoss_gen: 19.6207\tD(x): 0.1624\tD(G(x)): 0.4944\n"
     ]
    },
    {
     "name": "stderr",
     "output_type": "stream",
     "text": [
      "241it [00:55,  4.38it/s]"
     ]
    },
    {
     "name": "stdout",
     "output_type": "stream",
     "text": [
      "Id loss 0.4749\n",
      "tensor([0.4535, 0.6711, 0.2843, 0.5262, 0.5759, 0.5790, 0.5856, 0.4458, 0.3687,\n",
      "        0.8421, 0.7336, 0.7022, 0.5930, 0.7410, 0.5440, 0.6089, 0.2818, 0.4916,\n",
      "        0.7146, 0.5709, 0.6169, 0.5931, 0.4326, 0.7123, 0.7983, 0.7061, 0.5217,\n",
      "        0.4960, 0.4811, 0.4932, 0.4856, 0.5069], grad_fn=<ViewBackward0>) tensor([0.1040, 0.2298, 0.1506, 0.2739, 0.0650, 0.0493, 0.0937, 0.0759, 0.2066,\n",
      "        0.1867, 0.0630, 0.0227, 0.1181, 0.0998, 0.0825, 0.2385, 0.1402, 0.0537,\n",
      "        0.1084, 0.0741, 0.0366, 0.0372, 0.0756, 0.0788, 0.0964, 0.0395, 0.0680,\n",
      "        0.0793, 0.1426, 0.5257, 0.1787, 0.1583], grad_fn=<ViewBackward0>)\n",
      "D loss real: 1.1235\n",
      "D loss fake: 0.4326\n",
      "Ts loss 1.8333\n",
      "G loss :-0.4162\n",
      "[1/19] [240/538]\tLoss_dis: 0.7781\tLoss_gen: 18.1547\tD(x): 0.1235\tD(G(x)): 0.5674\n"
     ]
    },
    {
     "name": "stderr",
     "output_type": "stream",
     "text": [
      "301it [01:10,  4.57it/s]"
     ]
    },
    {
     "name": "stdout",
     "output_type": "stream",
     "text": [
      "Id loss 0.4454\n",
      "tensor([0.4882, 0.4823, 0.9062, 0.5770, 0.5996, 0.5093, 0.9101, 0.5512, 0.3854,\n",
      "        0.6017, 0.6193, 0.6295, 0.6585, 0.4744, 0.5430, 0.7808, 0.2449, 0.4417,\n",
      "        0.5509, 0.6546, 0.3501, 0.6604, 0.5024, 0.4722, 0.4833, 0.4650, 0.6322,\n",
      "        0.6957, 0.5366, 0.4458, 0.6831, 0.6838], grad_fn=<ViewBackward0>) tensor([0.1005, 0.1584, 0.1257, 0.1350, 0.0892, 0.0258, 0.1140, 0.1632, 0.1981,\n",
      "        0.1646, 0.1375, 0.5039, 0.1641, 0.2065, 0.4961, 0.2167, 0.0885, 0.1259,\n",
      "        0.0741, 0.3660, 0.1757, 0.1904, 0.1067, 0.0870, 0.1034, 0.1379, 0.1175,\n",
      "        0.1082, 0.1081, 0.1594, 0.1362, 0.0922], grad_fn=<ViewBackward0>)\n",
      "D loss real: 1.1618\n",
      "D loss fake: 0.4306\n",
      "Ts loss 1.8754\n",
      "G loss :-0.4501\n",
      "[1/19] [300/538]\tLoss_dis: 0.7962\tLoss_gen: 18.5265\tD(x): 0.1618\tD(G(x)): 0.5694\n"
     ]
    },
    {
     "name": "stderr",
     "output_type": "stream",
     "text": [
      "361it [01:24,  4.48it/s]"
     ]
    },
    {
     "name": "stdout",
     "output_type": "stream",
     "text": [
      "Id loss 0.4185\n",
      "tensor([0.6185, 0.2668, 0.5632, 0.5289, 0.4326, 0.4779, 0.4346, 0.2570, 0.3655,\n",
      "        0.3445, 0.4601, 0.3841, 0.4447, 0.2889, 0.4590, 0.6374, 0.3997, 0.3925,\n",
      "        0.4139, 0.3835, 0.6305, 0.6524, 0.6003, 0.8694, 0.3988, 0.6299, 0.7298,\n",
      "        0.3325, 0.7496, 0.4250, 0.4911, 0.8042], grad_fn=<ViewBackward0>) tensor([0.2252, 0.3609, 0.1064, 0.1858, 0.2281, 0.4423, 0.6931, 0.1071, 0.2849,\n",
      "        0.2338, 0.1800, 0.1196, 0.2560, 0.2836, 0.1155, 0.2374, 0.2874, 0.1282,\n",
      "        0.1808, 0.2185, 0.0567, 0.1352, 0.1318, 0.1823, 0.3358, 0.1600, 0.1407,\n",
      "        0.1286, 0.1988, 0.2924, 0.1721, 0.2412], grad_fn=<ViewBackward0>)\n",
      "D loss real: 1.2203\n",
      "D loss fake: 0.5042\n",
      "Ts loss 1.8663\n",
      "G loss :-0.4668\n",
      "[1/19] [360/538]\tLoss_dis: 0.8622\tLoss_gen: 18.4057\tD(x): 0.2203\tD(G(x)): 0.4958\n"
     ]
    },
    {
     "name": "stderr",
     "output_type": "stream",
     "text": [
      "421it [01:38,  4.32it/s]"
     ]
    },
    {
     "name": "stdout",
     "output_type": "stream",
     "text": [
      "Id loss 0.3921\n",
      "tensor([0.8658, 0.2076, 0.4483, 0.7162, 0.7728, 0.2940, 0.3945, 0.2478, 0.5126,\n",
      "        0.1363, 0.5324, 0.5491, 0.3711, 0.6284, 0.6851, 0.4973, 0.5173, 0.5789,\n",
      "        0.5409, 0.6516, 0.3792, 0.4521, 0.6014, 0.6826, 0.9608, 0.2542, 0.8600,\n",
      "        0.3326, 0.3721, 0.4718, 0.5732, 0.4639], grad_fn=<ViewBackward0>) tensor([0.1036, 0.1881, 0.2473, 0.0589, 0.3674, 0.2910, 0.5759, 0.1896, 0.1380,\n",
      "        0.2293, 0.1487, 0.3043, 0.3135, 0.1697, 0.2106, 0.2001, 0.3913, 0.2405,\n",
      "        0.2537, 0.4875, 0.3689, 0.1182, 0.2885, 0.1007, 0.2643, 0.1904, 0.3008,\n",
      "        0.1407, 0.1920, 0.4871, 0.4363, 0.1822], grad_fn=<ViewBackward0>)\n",
      "D loss real: 1.2556\n",
      "D loss fake: 0.4828\n",
      "Ts loss 1.8397\n",
      "G loss :-0.4331\n",
      "[1/19] [420/538]\tLoss_dis: 0.8692\tLoss_gen: 18.1599\tD(x): 0.2556\tD(G(x)): 0.5172\n"
     ]
    },
    {
     "name": "stderr",
     "output_type": "stream",
     "text": [
      "481it [01:53,  4.52it/s]"
     ]
    },
    {
     "name": "stdout",
     "output_type": "stream",
     "text": [
      "Id loss 0.3835\n",
      "tensor([0.2286, 0.4768, 0.7405, 0.4570, 0.3713, 0.4915, 0.2752, 0.2737, 0.5780,\n",
      "        0.6218, 0.3587, 0.6110, 0.5061, 0.5978, 0.1731, 0.3818, 0.4731, 0.5675,\n",
      "        0.1817, 0.3392, 0.4766, 0.6461, 0.1480, 0.0563, 0.7988, 0.3330, 0.2958,\n",
      "        0.6887, 0.7026, 0.6400, 0.4703, 0.5781], grad_fn=<ViewBackward0>) tensor([0.2036, 0.2089, 0.3376, 0.1891, 0.4064, 0.2518, 0.7609, 0.2195, 0.3412,\n",
      "        0.1091, 0.1283, 0.1708, 0.1071, 0.1652, 0.1304, 0.2324, 0.2244, 0.1264,\n",
      "        0.1385, 0.2200, 0.1365, 0.1347, 0.0968, 0.1530, 0.1235, 0.5454, 0.1397,\n",
      "        0.2025, 0.1720, 0.2038, 0.2526, 0.1650], grad_fn=<ViewBackward0>)\n",
      "D loss real: 1.2187\n",
      "D loss fake: 0.5457\n",
      "Ts loss 1.8661\n",
      "G loss :-0.5250\n",
      "[1/19] [480/538]\tLoss_dis: 0.8822\tLoss_gen: 18.3276\tD(x): 0.2187\tD(G(x)): 0.4543\n"
     ]
    },
    {
     "name": "stderr",
     "output_type": "stream",
     "text": [
      "539it [02:06,  4.28it/s]\n",
      "0it [00:00, ?it/s]"
     ]
    },
    {
     "name": "stdout",
     "output_type": "stream",
     "text": [
      "Id loss 0.3553\n",
      "tensor([0.5090, 0.6418, 0.8146, 0.5655, 0.4368, 0.6119, 0.2408, 0.3886, 0.4747,\n",
      "        0.4435, 0.8444, 0.4982, 0.3287, 0.5997, 0.6593, 0.4584, 0.5050, 0.8054,\n",
      "        0.5199, 0.5736, 0.7629, 0.5050, 0.4893, 0.4661, 0.2438, 0.5986, 0.4859,\n",
      "        0.8174, 0.5640, 0.3824, 0.7519, 0.4738], grad_fn=<ViewBackward0>) tensor([0.1337, 0.2692, 0.2907, 0.6301, 0.6129, 0.2520, 0.3363, 0.2678, 0.3859,\n",
      "        0.3632, 0.3576, 0.3283, 0.1549, 0.2283, 0.2314, 0.2092, 0.3561, 0.2717,\n",
      "        0.3824, 0.1809, 0.2731, 0.2529, 0.5047, 0.3598, 0.4944, 0.2340, 0.3926,\n",
      "        0.3178, 0.5378, 0.6734, 0.3532, 0.0147], grad_fn=<ViewBackward0>)\n",
      "D loss real: 1.3328\n",
      "D loss fake: 0.4543\n",
      "Ts loss 1.8798\n",
      "G loss :-0.4740\n",
      "[2/19] [0/538]\tLoss_dis: 0.8936\tLoss_gen: 18.5018\tD(x): 0.3328\tD(G(x)): 0.5457\n"
     ]
    },
    {
     "name": "stderr",
     "output_type": "stream",
     "text": [
      "61it [00:13,  4.55it/s]"
     ]
    },
    {
     "name": "stdout",
     "output_type": "stream",
     "text": [
      "Id loss 0.3451\n",
      "tensor([0.2930, 0.6284, 0.9213, 0.5465, 0.3845, 0.5268, 0.3594, 0.1660, 0.4891,\n",
      "        0.5541, 0.5031, 0.5412, 0.5383, 0.5717, 0.2548, 0.8107, 0.5579, 0.6533,\n",
      "        0.4311, 0.3987, 0.7715, 0.3606, 0.7488, 0.5237, 0.5951, 0.6466, 0.6573,\n",
      "        0.6290, 0.5274, 0.9115, 0.3383, 0.7047], grad_fn=<ViewBackward0>) tensor([0.3418, 0.2678, 0.9646, 0.2670, 0.3943, 0.1706, 0.4326, 0.1704, 0.2614,\n",
      "        0.0859, 0.4204, 0.6551, 0.2378, 0.1983, 0.5622, 0.3694, 0.2252, 0.2704,\n",
      "        0.4731, 0.2666, 0.2994, 0.1390, 0.2333, 0.2322, 0.5208, 0.2503, 0.2109,\n",
      "        0.1092, 0.1485, 0.3479, 0.3659, 0.3198], grad_fn=<ViewBackward0>)\n",
      "D loss real: 1.3191\n",
      "D loss fake: 0.4517\n",
      "Ts loss 1.7617\n",
      "G loss :-0.4459\n",
      "[2/19] [60/538]\tLoss_dis: 0.8854\tLoss_gen: 17.3436\tD(x): 0.3191\tD(G(x)): 0.5483\n"
     ]
    },
    {
     "name": "stderr",
     "output_type": "stream",
     "text": [
      "120it [00:28,  3.88it/s]"
     ]
    },
    {
     "name": "stdout",
     "output_type": "stream",
     "text": [
      "Id loss 0.3375\n",
      "tensor([0.2415, 0.6163, 0.3407, 0.2658, 0.7226, 0.6325, 0.3477, 0.6352, 0.3536,\n",
      "        0.5077, 0.6818, 0.6926, 0.6361, 0.5411, 0.7894, 0.6042, 0.6753, 0.4441,\n",
      "        0.6059, 0.5316, 0.5688, 0.5212, 0.7883, 0.4205, 0.6031, 0.5723, 0.6558,\n",
      "        0.4459, 0.4310, 0.7962, 0.5858, 0.6185], grad_fn=<ViewBackward0>) tensor([0.4355, 0.3092, 0.4969, 0.1917, 0.2804, 0.3874, 0.4304, 0.2477, 0.3646,\n",
      "        0.3840, 0.5715, 0.1795, 0.2380, 0.3307, 0.2241, 0.4303, 0.3183, 0.7571,\n",
      "        0.3011, 0.3280, 0.2277, 0.4156, 0.2552, 0.2851, 0.2428, 0.2547, 0.3892,\n",
      "        0.5893, 0.2614, 0.5037, 0.2289, 0.1662], grad_fn=<ViewBackward0>)\n",
      "D loss real: 1.3446\n",
      "D loss fake: 0.4415\n",
      "Ts loss 1.9182\n",
      "G loss :-0.5207\n"
     ]
    },
    {
     "name": "stderr",
     "output_type": "stream",
     "text": [
      "121it [00:28,  3.85it/s]"
     ]
    },
    {
     "name": "stdout",
     "output_type": "stream",
     "text": [
      "[2/19] [120/538]\tLoss_dis: 0.8930\tLoss_gen: 18.8305\tD(x): 0.3446\tD(G(x)): 0.5585\n"
     ]
    },
    {
     "name": "stderr",
     "output_type": "stream",
     "text": [
      "180it [00:43,  3.91it/s]"
     ]
    },
    {
     "name": "stdout",
     "output_type": "stream",
     "text": [
      "Id loss 0.3331\n",
      "tensor([0.7037, 0.8233, 0.3097, 0.6281, 0.3292, 0.6181, 0.4896, 0.3871, 0.3552,\n",
      "        0.7047, 0.9873, 0.7083, 0.5466, 0.7504, 0.7310, 0.4177, 0.5825, 0.5510,\n",
      "        0.4600, 0.5179, 0.4794, 0.2329, 0.5306, 0.5302, 0.4827, 0.5359, 0.2757,\n",
      "        0.6792, 0.7420, 0.5449, 0.7676, 0.4725], grad_fn=<ViewBackward0>) tensor([0.1866, 0.1758, 0.2395, 0.1427, 0.2313, 0.0861, 0.2127, 0.0802, 0.1508,\n",
      "        0.2304, 0.1943, 0.0996, 0.0869, 0.1055, 0.1762, 0.1867, 0.1787, 0.1678,\n",
      "        0.0724, 0.2016, 0.3182, 0.1850, 0.0709, 0.1562, 0.1424, 0.0414, 0.1805,\n",
      "        0.0815, 0.0853, 0.4338, 0.0681, 0.0764], grad_fn=<ViewBackward0>)\n",
      "D loss real: 1.1577\n",
      "D loss fake: 0.4414\n",
      "Ts loss 1.8170\n",
      "G loss :-0.4545\n"
     ]
    },
    {
     "name": "stderr",
     "output_type": "stream",
     "text": [
      "181it [00:44,  3.88it/s]"
     ]
    },
    {
     "name": "stdout",
     "output_type": "stream",
     "text": [
      "[2/19] [180/538]\tLoss_dis: 0.7995\tLoss_gen: 17.8821\tD(x): 0.1577\tD(G(x)): 0.5586\n"
     ]
    },
    {
     "name": "stderr",
     "output_type": "stream",
     "text": [
      "241it [00:57,  4.80it/s]"
     ]
    },
    {
     "name": "stdout",
     "output_type": "stream",
     "text": [
      "Id loss 0.3303\n",
      "tensor([0.5916, 0.6275, 0.7650, 0.6742, 0.5401, 0.8516, 0.6406, 0.5639, 0.7317,\n",
      "        0.8398, 0.6564, 0.6975, 0.5838, 0.4302, 0.6506, 0.4299, 0.5037, 0.4026,\n",
      "        0.6218, 0.4209, 0.5793, 0.4589, 0.6474, 0.9068, 0.4237, 0.5651, 0.8097,\n",
      "        0.7525, 0.4964, 0.4653, 0.8339, 0.6588], grad_fn=<ViewBackward0>) tensor([0.2011, 0.2080, 0.2763, 0.2176, 0.1169, 0.1236, 0.3606, 0.0886, 0.0804,\n",
      "        0.1684, 0.2615, 0.4879, 0.1156, 0.1843, 0.0569, 0.0741, 0.1477, 0.0751,\n",
      "        0.1017, 0.1524, 0.0704, 0.3334, 0.1035, 0.1922, 0.1921, 0.0757, 0.0783,\n",
      "        0.2364, 0.1985, 0.2684, 0.2260, 0.1199], grad_fn=<ViewBackward0>)\n",
      "D loss real: 1.1748\n",
      "D loss fake: 0.3806\n",
      "Ts loss 1.8987\n",
      "G loss :-0.3928\n",
      "[2/19] [240/538]\tLoss_dis: 0.7777\tLoss_gen: 18.7593\tD(x): 0.1748\tD(G(x)): 0.6194\n"
     ]
    },
    {
     "name": "stderr",
     "output_type": "stream",
     "text": [
      "300it [01:11,  3.88it/s]"
     ]
    },
    {
     "name": "stdout",
     "output_type": "stream",
     "text": [
      "Id loss 0.3244\n",
      "tensor([0.7669, 0.8793, 0.5392, 0.7090, 0.5353, 0.7969, 0.3305, 0.3025, 0.9256,\n",
      "        0.5638, 0.4790, 0.9396, 0.6899, 0.6822, 0.9200, 0.3481, 0.7015, 0.8148,\n",
      "        0.9237, 0.6722, 0.6421, 0.4717, 0.6711, 0.6790, 0.5774, 0.6449, 0.6626,\n",
      "        0.5543, 0.5246, 0.7005, 0.9465, 0.7201], grad_fn=<ViewBackward0>) tensor([0.0359, 0.1602, 0.0444, 0.1504, 0.1265, 0.0781, 0.0836, 0.1258, 0.1094,\n",
      "        0.0733, 0.2078, 0.0538, 0.0293, 0.1861, 0.0877, 0.0663, 0.2857, 0.0766,\n",
      "        0.1378, 0.2529, 0.1707, 0.1608, 0.2765, 0.0882, 0.1304, 0.0823, 0.0637,\n",
      "        0.2237, 0.0640, 0.1332, 0.0749, 0.1110], grad_fn=<ViewBackward0>)\n",
      "D loss real: 1.1235\n",
      "D loss fake: 0.3339\n",
      "Ts loss 1.8937\n",
      "G loss :-0.3131\n"
     ]
    },
    {
     "name": "stderr",
     "output_type": "stream",
     "text": [
      "301it [01:11,  3.83it/s]"
     ]
    },
    {
     "name": "stdout",
     "output_type": "stream",
     "text": [
      "[2/19] [300/538]\tLoss_dis: 0.7287\tLoss_gen: 18.7862\tD(x): 0.1235\tD(G(x)): 0.6661\n"
     ]
    },
    {
     "name": "stderr",
     "output_type": "stream",
     "text": [
      "361it [01:27,  3.90it/s]"
     ]
    },
    {
     "name": "stdout",
     "output_type": "stream",
     "text": [
      "Id loss 0.2873\n",
      "tensor([0.5818, 0.7402, 0.6978, 0.5897, 0.5750, 0.6214, 0.6833, 0.6809, 0.4659,\n",
      "        0.9201, 0.5604, 0.5902, 0.5257, 0.8544, 0.5677, 0.9506, 0.5153, 0.7708,\n",
      "        0.8346, 0.6410, 0.7619, 0.5663, 0.7814, 0.5044, 0.5449, 0.6891, 0.6006,\n",
      "        0.5747, 0.6755, 0.3009, 0.4553, 0.6616], grad_fn=<ViewBackward0>) tensor([0.4415, 0.4909, 0.5098, 0.1191, 0.4766, 0.3625, 0.5508, 0.4315, 0.1625,\n",
      "        0.5573, 0.4010, 0.4143, 0.3906, 0.5648, 0.2917, 0.4670, 0.4697, 0.7382,\n",
      "        0.3674, 0.5052, 0.3642, 0.4999, 0.2164, 0.5097, 0.3023, 0.1138, 0.6505,\n",
      "        0.4335, 0.5144, 0.3191, 0.4622, 0.5385], grad_fn=<ViewBackward0>)\n",
      "D loss real: 1.4262\n",
      "D loss fake: 0.3599\n",
      "Ts loss 1.9107\n",
      "G loss :-0.3598\n",
      "[2/19] [360/538]\tLoss_dis: 0.8930\tLoss_gen: 18.8910\tD(x): 0.4261\tD(G(x)): 0.6401\n"
     ]
    },
    {
     "name": "stderr",
     "output_type": "stream",
     "text": [
      "421it [01:39,  4.69it/s]"
     ]
    },
    {
     "name": "stdout",
     "output_type": "stream",
     "text": [
      "Id loss 0.3040\n",
      "tensor([0.5720, 0.8133, 0.5746, 0.6211, 0.9490, 0.5275, 0.7062, 0.3056, 0.4693,\n",
      "        0.2337, 0.5629, 0.6074, 0.4316, 0.5625, 0.4006, 0.6867, 0.7206, 0.8755,\n",
      "        0.5082, 0.8741, 0.5259, 0.5107, 0.6163, 0.7443, 0.5236, 0.8272, 0.3337,\n",
      "        0.5311, 0.4956, 0.6375, 0.5877, 0.5297], grad_fn=<ViewBackward0>) tensor([0.2946, 0.1874, 0.0281, 0.0966, 0.0715, 0.0476, 0.2579, 0.2051, 0.1451,\n",
      "        0.0758, 0.1728, 0.1804, 0.3216, 0.2630, 0.0905, 0.3055, 0.0701, 0.0359,\n",
      "        0.1783, 0.2126, 0.2173, 0.0959, 0.2549, 0.1364, 0.0668, 0.0578, 0.1414,\n",
      "        0.1816, 0.2756, 0.2428, 0.1159, 0.5565], grad_fn=<ViewBackward0>)\n",
      "D loss real: 1.1745\n",
      "D loss fake: 0.4104\n",
      "Ts loss 1.9013\n",
      "G loss :-0.4043\n",
      "[2/19] [420/538]\tLoss_dis: 0.7925\tLoss_gen: 18.7612\tD(x): 0.1745\tD(G(x)): 0.5896\n"
     ]
    },
    {
     "name": "stderr",
     "output_type": "stream",
     "text": [
      "480it [01:55,  3.74it/s]"
     ]
    },
    {
     "name": "stdout",
     "output_type": "stream",
     "text": [
      "Id loss 0.3006\n",
      "tensor([0.6273, 0.7932, 0.7405, 0.5260, 0.7487, 0.5410, 0.7553, 0.6962, 0.6973,\n",
      "        0.4946, 0.7908, 0.7107, 0.8889, 0.6404, 0.5529, 0.6038, 0.5506, 0.5749,\n",
      "        0.6781, 0.7061, 0.8127, 0.8028, 0.6518, 0.5834, 0.6364, 0.9269, 0.1981,\n",
      "        0.3350, 0.9245, 0.5695, 0.3929, 0.7077], grad_fn=<ViewBackward0>) tensor([0.1184, 0.1030, 0.0703, 0.1611, 0.0927, 0.0559, 0.0812, 0.1427, 0.0573,\n",
      "        0.0777, 0.1167, 0.1506, 0.0481, 0.0543, 0.0919, 0.0898, 0.1328, 0.1405,\n",
      "        0.1123, 0.2116, 0.0508, 0.1609, 0.1067, 0.0920, 0.0841, 0.1215, 0.0790,\n",
      "        0.2344, 0.2128, 0.0986, 0.1058, 0.1744], grad_fn=<ViewBackward0>)\n",
      "D loss real: 1.1134\n",
      "D loss fake: 0.3482\n",
      "Ts loss 1.8285\n",
      "G loss :-0.3685\n"
     ]
    },
    {
     "name": "stderr",
     "output_type": "stream",
     "text": [
      "481it [01:55,  3.76it/s]"
     ]
    },
    {
     "name": "stdout",
     "output_type": "stream",
     "text": [
      "[2/19] [480/538]\tLoss_dis: 0.7308\tLoss_gen: 18.0670\tD(x): 0.1134\tD(G(x)): 0.6518\n"
     ]
    },
    {
     "name": "stderr",
     "output_type": "stream",
     "text": [
      "539it [02:07,  4.22it/s]\n",
      "0it [00:00, ?it/s]"
     ]
    },
    {
     "name": "stdout",
     "output_type": "stream",
     "text": [
      "Id loss 0.2925\n",
      "tensor([0.5046, 0.7098, 0.8689, 0.7282, 0.6021, 0.5094, 0.8813, 0.5823, 0.5599,\n",
      "        0.8643, 0.7296, 0.5530, 0.5310, 0.8551, 0.7938, 0.9631, 0.5238, 0.7623,\n",
      "        0.5719, 0.7177, 0.7918, 0.7585, 0.6191, 0.5518, 0.5802, 0.7069, 0.5491,\n",
      "        0.6526, 0.7198, 0.5797, 0.3881, 0.5882], grad_fn=<ViewBackward0>) tensor([0.1980, 0.1465, 0.1538, 0.2006, 0.1134, 0.2277, 0.3149, 0.1202, 0.2150,\n",
      "        0.0389, 0.0929, 0.2323, 0.0846, 0.1467, 0.1408, 0.1625, 0.0924, 0.3330,\n",
      "        0.1089, 0.1059, 0.1448, 0.1546, 0.0337, 0.1086, 0.1765, 0.2077, 0.1279,\n",
      "        0.1082, 0.0670, 0.0509, 0.1870, 0.2239], grad_fn=<ViewBackward0>)\n",
      "D loss real: 1.1506\n",
      "D loss fake: 0.3344\n",
      "Ts loss 1.8705\n",
      "G loss :-0.2963\n",
      "[3/19] [0/538]\tLoss_dis: 0.7425\tLoss_gen: 18.5548\tD(x): 0.1506\tD(G(x)): 0.6656\n"
     ]
    },
    {
     "name": "stderr",
     "output_type": "stream",
     "text": [
      "61it [00:12,  4.72it/s]"
     ]
    },
    {
     "name": "stdout",
     "output_type": "stream",
     "text": [
      "Id loss 0.2877\n",
      "tensor([0.7383, 0.5531, 0.6201, 0.7093, 0.4463, 0.6199, 0.4715, 0.8601, 0.5088,\n",
      "        0.5700, 0.6360, 0.5128, 0.8522, 0.7688, 0.7858, 0.7018, 0.7264, 0.1626,\n",
      "        0.5330, 0.2347, 0.7451, 0.4250, 0.6312, 0.8165, 0.7323, 0.6619, 0.3415,\n",
      "        0.6041, 0.6049, 0.6981, 0.7372, 0.3091], grad_fn=<ViewBackward0>) tensor([0.5644, 0.2589, 0.0554, 0.1888, 0.2436, 0.1298, 0.0886, 0.0624, 0.1802,\n",
      "        0.0933, 0.0802, 0.1264, 0.1673, 0.0763, 0.1418, 0.0977, 0.2077, 0.0864,\n",
      "        0.3325, 0.0468, 0.1989, 0.3230, 0.0861, 0.2665, 0.1070, 0.2827, 0.2466,\n",
      "        0.1419, 0.1285, 0.1025, 0.1249, 0.3013], grad_fn=<ViewBackward0>)\n",
      "D loss real: 1.1731\n",
      "D loss fake: 0.3963\n",
      "Ts loss 1.8693\n",
      "G loss :-0.4163\n",
      "[3/19] [60/538]\tLoss_dis: 0.7847\tLoss_gen: 18.4206\tD(x): 0.1731\tD(G(x)): 0.6037\n"
     ]
    },
    {
     "name": "stderr",
     "output_type": "stream",
     "text": [
      "121it [00:26,  4.57it/s]"
     ]
    },
    {
     "name": "stdout",
     "output_type": "stream",
     "text": [
      "Id loss 0.2726\n",
      "tensor([0.4459, 0.5341, 0.5951, 0.5879, 0.3304, 0.4980, 0.7621, 0.3374, 0.9207,\n",
      "        0.4994, 0.4165, 0.6577, 0.6804, 0.5451, 0.5648, 0.8610, 0.5777, 0.4071,\n",
      "        0.5157, 0.5259, 0.4505, 0.8762, 0.5972, 0.7082, 0.5125, 0.4288, 0.2360,\n",
      "        0.3588, 0.5154, 0.9161, 0.7180, 0.6281], grad_fn=<ViewBackward0>) tensor([0.5715, 0.3516, 0.5640, 0.3375, 0.1438, 0.1904, 0.4221, 0.2973, 0.3879,\n",
      "        0.6990, 0.1574, 0.4470, 0.3012, 0.4717, 0.2595, 0.3241, 0.5766, 0.4263,\n",
      "        0.3365, 0.3607, 0.2075, 0.2188, 0.3951, 0.2184, 0.4309, 0.1319, 0.4764,\n",
      "        0.6669, 0.4661, 0.4182, 0.4995, 0.2989], grad_fn=<ViewBackward0>)\n",
      "D loss real: 1.3767\n",
      "D loss fake: 0.4310\n",
      "Ts loss 1.9102\n",
      "G loss :-0.4261\n",
      "[3/19] [120/538]\tLoss_dis: 0.9038\tLoss_gen: 18.8124\tD(x): 0.3767\tD(G(x)): 0.5690\n"
     ]
    },
    {
     "name": "stderr",
     "output_type": "stream",
     "text": [
      "181it [00:39,  4.70it/s]"
     ]
    },
    {
     "name": "stdout",
     "output_type": "stream",
     "text": [
      "Id loss 0.2781\n",
      "tensor([0.7129, 0.7853, 0.6375, 0.6941, 0.6335, 0.8313, 0.4834, 0.8557, 0.6924,\n",
      "        0.5912, 0.4277, 0.8868, 0.7503, 0.5230, 0.6018, 0.7539, 0.6781, 0.8006,\n",
      "        0.7653, 0.5643, 0.7893, 0.8562, 0.7196, 0.9735, 0.8293, 0.4442, 0.9602,\n",
      "        0.6871, 0.5823, 0.7516, 0.5402, 0.9288], grad_fn=<ViewBackward0>) tensor([0.2016, 0.1802, 0.2500, 0.1476, 0.2159, 0.3941, 0.0783, 0.0587, 0.1807,\n",
      "        0.1040, 0.1201, 0.1031, 0.1102, 0.0280, 0.2641, 0.2000, 0.1175, 0.1650,\n",
      "        0.3630, 0.0719, 0.0489, 0.1330, 0.2078, 0.1242, 0.1531, 0.3429, 0.1310,\n",
      "        0.1404, 0.4042, 0.2608, 0.1972, 0.1457], grad_fn=<ViewBackward0>)\n",
      "D loss real: 1.1764\n",
      "D loss fake: 0.2896\n",
      "Ts loss 1.9173\n",
      "G loss :-0.2618\n",
      "[3/19] [180/538]\tLoss_dis: 0.7330\tLoss_gen: 19.0502\tD(x): 0.1764\tD(G(x)): 0.7104\n"
     ]
    },
    {
     "name": "stderr",
     "output_type": "stream",
     "text": [
      "241it [00:52,  4.39it/s]"
     ]
    },
    {
     "name": "stdout",
     "output_type": "stream",
     "text": [
      "Id loss 0.2768\n",
      "tensor([0.7026, 0.6087, 0.7869, 0.7383, 0.5583, 0.2800, 0.6556, 0.5347, 0.5086,\n",
      "        0.7004, 0.9935, 0.6345, 0.7845, 0.7664, 0.6036, 0.5568, 0.6256, 0.8442,\n",
      "        0.8696, 0.6246, 0.6029, 0.6880, 0.6270, 0.8443, 0.5602, 0.8744, 0.9841,\n",
      "        0.4582, 0.6070, 0.7057, 0.6057, 0.5119], grad_fn=<ViewBackward0>) tensor([0.1252, 0.1753, 0.1636, 0.1586, 0.1265, 0.2974, 0.0892, 0.1676, 0.2564,\n",
      "        0.1955, 0.4195, 0.3595, 0.2516, 0.3693, 0.2457, 0.4125, 0.2931, 0.1107,\n",
      "        0.2416, 0.4087, 0.2696, 0.5038, 0.2948, 0.2093, 0.0149, 0.1842, 0.3985,\n",
      "        0.4256, 0.2520, 0.4371, 0.1833, 0.2315], grad_fn=<ViewBackward0>)\n",
      "D loss real: 1.2585\n",
      "D loss fake: 0.3298\n",
      "Ts loss 1.9207\n",
      "G loss :-0.3121\n",
      "[3/19] [240/538]\tLoss_dis: 0.7941\tLoss_gen: 19.0329\tD(x): 0.2585\tD(G(x)): 0.6702\n"
     ]
    },
    {
     "name": "stderr",
     "output_type": "stream",
     "text": [
      "301it [01:05,  4.64it/s]"
     ]
    },
    {
     "name": "stdout",
     "output_type": "stream",
     "text": [
      "Id loss 0.2806\n",
      "tensor([0.6809, 0.7223, 0.9409, 0.6031, 0.8353, 0.5240, 0.5971, 0.2419, 0.6775,\n",
      "        0.8173, 0.7492, 0.7641, 0.9227, 0.8256, 0.8748, 0.6465, 0.5764, 0.6658,\n",
      "        0.7522, 0.8794, 0.9766, 0.7958, 0.8231, 0.8016, 0.8832, 0.6699, 0.7665,\n",
      "        0.7962, 0.5306, 0.7364, 0.4899, 0.7585], grad_fn=<ViewBackward0>) tensor([0.1406, 0.1237, 0.0521, 0.1915, 0.1586, 0.1871, 0.0929, 0.1007, 0.3717,\n",
      "        0.2537, 0.1369, 0.1719, 0.2007, 0.1592, 0.0932, 0.3034, 0.2669, 0.1325,\n",
      "        0.5279, 0.0550, 0.1658, 0.4369, 0.1822, 0.1419, 0.2005, 0.3204, 0.1148,\n",
      "        0.4419, 0.1350, 0.1282, 0.0650, 0.0097], grad_fn=<ViewBackward0>)\n",
      "D loss real: 1.1895\n",
      "D loss fake: 0.2711\n",
      "Ts loss 1.9609\n",
      "G loss :-0.2747\n",
      "[3/19] [300/538]\tLoss_dis: 0.7303\tLoss_gen: 19.4748\tD(x): 0.1895\tD(G(x)): 0.7289\n"
     ]
    },
    {
     "name": "stderr",
     "output_type": "stream",
     "text": [
      "360it [01:21,  3.85it/s]"
     ]
    },
    {
     "name": "stdout",
     "output_type": "stream",
     "text": [
      "Id loss 0.2743\n",
      "tensor([0.6906, 0.3634, 0.8611, 0.4846, 0.9970, 0.9526, 0.5956, 0.7447, 0.5966,\n",
      "        0.4406, 0.6480, 0.6883, 0.6116, 0.8267, 0.7241, 0.7139, 0.7886, 0.5486,\n",
      "        0.6989, 0.9618, 0.6843, 0.5022, 0.7685, 0.7341, 0.7378, 0.4617, 0.8652,\n",
      "        0.7806, 0.5458, 0.3429, 0.6311, 0.6020], grad_fn=<ViewBackward0>) tensor([0.1272, 0.0993, 0.1055, 0.1524, 0.2307, 0.1583, 0.0419, 0.1095, 0.1314,\n",
      "        0.0879, 0.0789, 0.0923, 0.1558, 0.0669, 0.1756, 0.1428, 0.1509, 0.1197,\n",
      "        0.1546, 0.1629, 0.0660, 0.0488, 0.2254, 0.1325, 0.1067, 0.2285, 0.2765,\n",
      "        0.1463, 0.0373, 0.1173, 0.2672, 0.2026], grad_fn=<ViewBackward0>)\n",
      "D loss real: 1.1375\n",
      "D loss fake: 0.3252\n",
      "Ts loss 1.9055\n",
      "G loss :-0.3219\n"
     ]
    },
    {
     "name": "stderr",
     "output_type": "stream",
     "text": [
      "361it [01:21,  3.82it/s]"
     ]
    },
    {
     "name": "stdout",
     "output_type": "stream",
     "text": [
      "[3/19] [360/538]\tLoss_dis: 0.7313\tLoss_gen: 18.8705\tD(x): 0.1375\tD(G(x)): 0.6748\n"
     ]
    },
    {
     "name": "stderr",
     "output_type": "stream",
     "text": [
      "421it [01:35,  4.65it/s]"
     ]
    },
    {
     "name": "stdout",
     "output_type": "stream",
     "text": [
      "Id loss 0.2601\n",
      "tensor([0.6622, 0.9326, 0.4488, 0.6058, 0.7425, 0.7734, 0.6115, 0.6622, 0.7506,\n",
      "        0.9194, 0.6792, 0.7389, 0.6654, 0.7465, 0.5545, 0.7422, 0.2468, 0.8600,\n",
      "        0.5358, 0.8000, 0.7293, 0.6092, 0.6447, 0.7039, 0.6817, 0.6511, 0.7409,\n",
      "        0.8941, 0.6740, 0.6957, 0.6956, 0.6038], grad_fn=<ViewBackward0>) tensor([0.3518, 0.3559, 0.3977, 0.3332, 0.3494, 0.5463, 0.1772, 0.5298, 0.4569,\n",
      "        0.4788, 0.3091, 0.1992, 0.3211, 0.3848, 0.2687, 0.4146, 0.3959, 0.4221,\n",
      "        0.7764, 0.3918, 0.5840, 0.3820, 0.3881, 0.3591, 0.3777, 0.4199, 0.2643,\n",
      "        0.3546, 0.1591, 0.4371, 0.4751, 0.2494], grad_fn=<ViewBackward0>)\n",
      "D loss real: 1.3847\n",
      "D loss fake: 0.3124\n",
      "Ts loss 1.8105\n",
      "G loss :-0.2941\n",
      "[3/19] [420/538]\tLoss_dis: 0.8486\tLoss_gen: 17.9411\tD(x): 0.3847\tD(G(x)): 0.6876\n"
     ]
    },
    {
     "name": "stderr",
     "output_type": "stream",
     "text": [
      "481it [01:48,  4.47it/s]"
     ]
    },
    {
     "name": "stdout",
     "output_type": "stream",
     "text": [
      "Id loss 0.2654\n",
      "tensor([0.6947, 0.8366, 0.6097, 0.4799, 0.5130, 0.7755, 0.6521, 0.6326, 0.4996,\n",
      "        0.5711, 0.7071, 0.5742, 0.6513, 0.9475, 0.7304, 0.7717, 0.6242, 0.6760,\n",
      "        0.7018, 0.8153, 0.3740, 0.7746, 0.9801, 0.8101, 0.6600, 0.9109, 0.5979,\n",
      "        0.5955, 0.3155, 0.6811, 0.5960, 0.7430], grad_fn=<ViewBackward0>) tensor([0.1560, 0.2467, 0.4175, 0.2045, 0.1476, 0.2169, 0.2569, 0.4278, 0.1360,\n",
      "        0.1662, 0.2491, 0.3297, 0.2555, 0.5046, 0.5454, 0.6812, 0.4084, 0.2507,\n",
      "        0.3953, 0.1979, 0.2347, 0.2109, 0.2352, 0.3836, 0.1815, 0.2545, 0.1593,\n",
      "        0.3222, 0.2151, 0.5556, 0.2989, 0.2608], grad_fn=<ViewBackward0>)\n",
      "D loss real: 1.2971\n",
      "D loss fake: 0.3280\n",
      "Ts loss 1.8924\n",
      "G loss :-0.3179\n",
      "[3/19] [480/538]\tLoss_dis: 0.8126\tLoss_gen: 18.7390\tD(x): 0.2971\tD(G(x)): 0.6720\n"
     ]
    },
    {
     "name": "stderr",
     "output_type": "stream",
     "text": [
      "539it [02:01,  4.45it/s]\n",
      "1it [00:00,  3.94it/s]"
     ]
    },
    {
     "name": "stdout",
     "output_type": "stream",
     "text": [
      "Id loss 0.2615\n",
      "tensor([0.6335, 0.6037, 0.7986, 0.6764, 0.8393, 0.8560, 0.8830, 0.7528, 0.7046,\n",
      "        0.8375, 0.7756, 0.8995, 0.9652, 0.7456, 0.0386, 0.8000, 0.9414, 0.7134,\n",
      "        0.9396, 0.6558, 0.4050, 0.5729, 0.8012, 0.7173, 0.7830, 0.7381, 0.8339,\n",
      "        0.8309, 0.7429, 0.8174, 0.7834, 0.6354], grad_fn=<ViewBackward0>) tensor([0.2023, 0.1214, 0.6471, 0.0099, 0.0943, 0.0131, 0.2169, 0.4049, 0.1123,\n",
      "        0.2760, 0.1389, 0.3475, 0.1608, 0.2880, 0.2489, 0.4673, 0.3694, 0.2895,\n",
      "        0.1773, 0.3813, 0.4734, 0.4602, 0.5990, 0.2785, 0.1838, 0.0312, 0.1481,\n",
      "        0.3980, 0.1948, 0.3042, 0.1795, 0.0922], grad_fn=<ViewBackward0>)\n",
      "D loss real: 1.2597\n",
      "D loss fake: 0.2587\n",
      "Ts loss 1.8722\n",
      "G loss :-0.2828\n",
      "[4/19] [0/538]\tLoss_dis: 0.7592\tLoss_gen: 18.5701\tD(x): 0.2597\tD(G(x)): 0.7413\n"
     ]
    },
    {
     "name": "stderr",
     "output_type": "stream",
     "text": [
      "61it [00:13,  4.64it/s]"
     ]
    },
    {
     "name": "stdout",
     "output_type": "stream",
     "text": [
      "Id loss 0.2649\n",
      "tensor([0.8396, 0.7924, 0.8389, 0.9517, 0.9809, 0.6795, 0.9466, 0.7667, 0.9883,\n",
      "        0.7433, 0.9128, 0.8389, 0.6269, 0.9044, 0.8032, 0.8555, 0.9663, 0.9008,\n",
      "        0.8102, 0.8720, 0.7968, 0.8701, 0.9250, 0.6721, 0.9016, 0.8004, 0.9665,\n",
      "        0.7784, 0.9851, 0.7093, 0.8484, 0.8690], grad_fn=<ViewBackward0>) tensor([0.1473, 0.0736, 0.1318, 0.0645, 0.0974, 0.0788, 0.1473, 0.5679, 0.2261,\n",
      "        0.1488, 0.2421, 0.3149, 0.5729, 0.1637, 0.1137, 0.1897, 0.1257, 0.2090,\n",
      "        0.2476, 0.2297, 0.1486, 0.0295, 0.2930, 0.2445, 0.1338, 0.1263, 0.2419,\n",
      "        0.0611, 0.1720, 0.2722, 0.1335, 0.1956], grad_fn=<ViewBackward0>)\n",
      "D loss real: 1.1920\n",
      "D loss fake: 0.1518\n",
      "Ts loss 1.8219\n",
      "G loss :-0.1472\n",
      "[4/19] [60/538]\tLoss_dis: 0.6719\tLoss_gen: 18.2040\tD(x): 0.1920\tD(G(x)): 0.8482\n"
     ]
    },
    {
     "name": "stderr",
     "output_type": "stream",
     "text": [
      "121it [00:26,  4.70it/s]"
     ]
    },
    {
     "name": "stdout",
     "output_type": "stream",
     "text": [
      "Id loss 0.2569\n",
      "tensor([0.7430, 0.4704, 0.4855, 0.6665, 0.8368, 0.8504, 0.6674, 0.6534, 0.7028,\n",
      "        0.6955, 0.4861, 0.8031, 0.9280, 0.6906, 0.6151, 0.6144, 0.7316, 0.7522,\n",
      "        0.5183, 0.7304, 0.8050, 0.4959, 0.5743, 0.5183, 0.7023, 0.8107, 0.5376,\n",
      "        0.5264, 0.7129, 0.5683, 0.6670, 0.7183], grad_fn=<ViewBackward0>) tensor([0.3130, 0.6419, 0.3249, 0.4020, 0.2814, 0.3202, 0.4269, 0.5149, 0.2832,\n",
      "        0.4834, 0.3745, 0.4926, 0.6079, 0.3004, 0.4365, 0.4619, 0.4533, 0.3465,\n",
      "        0.3383, 0.4780, 0.1854, 0.3566, 0.2945, 0.6697, 0.4205, 0.1450, 0.6454,\n",
      "        0.3065, 0.5058, 0.3685, 0.2512, 0.6911], grad_fn=<ViewBackward0>)\n",
      "D loss real: 1.4101\n",
      "D loss fake: 0.3350\n",
      "Ts loss 1.9207\n",
      "G loss :-0.3064\n",
      "[4/19] [120/538]\tLoss_dis: 0.8726\tLoss_gen: 19.0290\tD(x): 0.4101\tD(G(x)): 0.6650\n"
     ]
    },
    {
     "name": "stderr",
     "output_type": "stream",
     "text": [
      "181it [00:41,  3.61it/s]"
     ]
    },
    {
     "name": "stdout",
     "output_type": "stream",
     "text": [
      "Id loss 0.2541\n",
      "tensor([0.6980, 0.7862, 0.9690, 0.5117, 0.5313, 0.7658, 0.7902, 0.8348, 0.7633,\n",
      "        0.7058, 0.7275, 0.8777, 0.7919, 0.8546, 0.8461, 0.7273, 0.7331, 0.8248,\n",
      "        0.8028, 0.7896, 0.7304, 0.8231, 0.6335, 0.7834, 0.8234, 0.8524, 0.6745,\n",
      "        0.8039, 0.9934, 0.6161, 0.8215, 0.7694], grad_fn=<ViewBackward0>) tensor([0.6533, 0.1724, 0.2731, 0.2614, 0.5052, 0.3647, 0.1317, 0.4033, 0.2170,\n",
      "        0.6464, 0.4455, 0.4755, 0.3118, 0.4824, 0.4360, 0.2035, 0.6135, 0.4182,\n",
      "        0.3152, 0.2152, 0.2096, 0.3567, 0.3455, 0.3908, 0.3528, 0.4279, 0.4916,\n",
      "        0.1646, 0.1063, 0.2860, 0.5672, 0.0424], grad_fn=<ViewBackward0>)\n",
      "D loss real: 1.3527\n",
      "D loss fake: 0.2295\n",
      "Ts loss 1.8946\n",
      "G loss :-0.2578\n",
      "[4/19] [180/538]\tLoss_dis: 0.7911\tLoss_gen: 18.8151\tD(x): 0.3527\tD(G(x)): 0.7705\n"
     ]
    },
    {
     "name": "stderr",
     "output_type": "stream",
     "text": [
      "241it [00:53,  4.62it/s]"
     ]
    },
    {
     "name": "stdout",
     "output_type": "stream",
     "text": [
      "Id loss 0.2661\n",
      "tensor([0.7580, 0.8382, 0.8784, 0.9170, 0.9286, 0.7784, 0.9315, 0.8756, 0.9326,\n",
      "        0.8781, 0.9703, 0.5361, 0.6467, 0.8744, 0.7931, 0.8115, 0.8948, 0.8641,\n",
      "        0.7480, 0.7328, 0.7207, 0.7166, 0.9846, 0.8357, 0.8184, 0.8491, 0.9036,\n",
      "        0.9897, 0.7989, 0.8045, 0.7956, 0.8092], grad_fn=<ViewBackward0>) tensor([0.0877, 0.1401, 0.1202, 0.3758, 0.4265, 0.0383, 0.2888, 0.1749, 0.1469,\n",
      "        0.0553, 0.1006, 0.1523, 0.2876, 0.0833, 0.1439, 0.1608, 0.2248, 0.1437,\n",
      "        0.1966, 0.1062, 0.4818, 0.1406, 0.2000, 0.2149, 0.1558, 0.1199, 0.1285,\n",
      "        0.0405, 0.3536, 0.0597, 0.1709, 0.1453], grad_fn=<ViewBackward0>)\n",
      "D loss real: 1.1771\n",
      "D loss fake: 0.1683\n",
      "Ts loss 1.9065\n",
      "G loss :-0.1677\n",
      "[4/19] [240/538]\tLoss_dis: 0.6727\tLoss_gen: 19.0303\tD(x): 0.1771\tD(G(x)): 0.8317\n"
     ]
    },
    {
     "name": "stderr",
     "output_type": "stream",
     "text": [
      "301it [01:08,  4.59it/s]"
     ]
    },
    {
     "name": "stdout",
     "output_type": "stream",
     "text": [
      "Id loss 0.2644\n",
      "tensor([0.3124, 0.2663, 0.4755, 0.8297, 0.2372, 0.6834, 0.2781, 0.3906, 0.3688,\n",
      "        0.3609, 0.5636, 0.6578, 0.3550, 0.4012, 0.2203, 0.7089, 0.3490, 0.5240,\n",
      "        0.4492, 0.4884, 0.4917, 0.3479, 0.3934, 0.9274, 0.6026, 0.3588, 0.1175,\n",
      "        0.3076, 0.5779, 0.4593, 0.6046, 0.5521], grad_fn=<ViewBackward0>) tensor([0.1661, 0.1678, 0.1197, 0.0318, 0.2078, 0.0398, 0.1588, 0.2257, 0.0745,\n",
      "        0.1309, 0.1257, 0.1327, 0.0774, 0.0778, 0.0581, 0.1519, 0.0544, 0.0144,\n",
      "        0.2112, 0.0868, 0.0437, 0.0653, 0.0222, 0.1083, 0.0421, 0.1495, 0.1369,\n",
      "        0.2003, 0.1181, 0.1552, 0.0136, 0.0612], grad_fn=<ViewBackward0>)\n",
      "D loss real: 1.1072\n",
      "D loss fake: 0.5418\n",
      "Ts loss 1.8224\n",
      "G loss :-0.5822\n",
      "[4/19] [300/538]\tLoss_dis: 0.8245\tLoss_gen: 17.7741\tD(x): 0.1072\tD(G(x)): 0.4582\n"
     ]
    },
    {
     "name": "stderr",
     "output_type": "stream",
     "text": [
      "361it [01:21,  4.64it/s]"
     ]
    },
    {
     "name": "stdout",
     "output_type": "stream",
     "text": [
      "Id loss 0.2602\n",
      "tensor([0.6350, 0.6763, 0.6025, 0.4427, 0.6540, 0.6941, 0.8260, 0.7118, 0.4237,\n",
      "        0.8167, 0.7594, 0.7653, 0.9063, 0.7497, 0.7123, 0.7261, 0.7940, 0.8792,\n",
      "        0.7146, 0.6553, 0.8137, 0.6232, 0.6963, 0.8477, 0.7764, 0.6959, 0.6442,\n",
      "        0.5190, 0.9000, 0.7837, 0.5806, 0.9717], grad_fn=<ViewBackward0>) tensor([0.1298, 0.1687, 0.0935, 0.3069, 0.2630, 0.4042, 0.2392, 0.2868, 0.2011,\n",
      "        0.2084, 0.2878, 0.2522, 0.5794, 0.2657, 0.1236, 0.1666, 0.1244, 0.1546,\n",
      "        0.2299, 0.5221, 0.0818, 0.1200, 0.2476, 0.3421, 0.1154, 0.1157, 0.1723,\n",
      "        0.1488, 0.0878, 0.0925, 0.3584, 0.5606], grad_fn=<ViewBackward0>)\n",
      "D loss real: 1.2328\n",
      "D loss fake: 0.2813\n",
      "Ts loss 1.9095\n",
      "G loss :-0.3113\n",
      "[4/19] [360/538]\tLoss_dis: 0.7571\tLoss_gen: 18.9140\tD(x): 0.2328\tD(G(x)): 0.7187\n"
     ]
    },
    {
     "name": "stderr",
     "output_type": "stream",
     "text": [
      "421it [01:35,  4.65it/s]"
     ]
    },
    {
     "name": "stdout",
     "output_type": "stream",
     "text": [
      "Id loss 0.2638\n",
      "tensor([0.8404, 0.8437, 0.8548, 0.8473, 0.4301, 0.9209, 0.8694, 0.7997, 0.8399,\n",
      "        0.8333, 0.8225, 0.9826, 0.8610, 0.8899, 0.9320, 0.8087, 0.9290, 0.7755,\n",
      "        0.9312, 0.7995, 0.7750, 0.8474, 0.7158, 0.9009, 0.9272, 0.8912, 0.9147,\n",
      "        0.9435, 0.9870, 0.8002, 0.8807, 0.8720], grad_fn=<ViewBackward0>) tensor([0.0792, 0.0825, 0.0379, 0.0739, 0.0750, 0.2456, 0.1906, 0.2522, 0.6027,\n",
      "        0.0100, 0.0501, 0.2491, 0.0954, 0.0780, 0.1551, 0.2187, 0.0790, 0.0419,\n",
      "        0.0408, 0.2754, 0.1892, 0.1994, 0.1454, 0.3152, 0.2395, 0.6830, 0.6128,\n",
      "        0.1281, 0.2710, 0.0856, 0.1677, 0.2401], grad_fn=<ViewBackward0>)\n",
      "D loss real: 1.1941\n",
      "D loss fake: 0.1479\n",
      "Ts loss 1.8694\n",
      "G loss :-0.1552\n",
      "[4/19] [420/538]\tLoss_dis: 0.6710\tLoss_gen: 18.6707\tD(x): 0.1941\tD(G(x)): 0.8521\n"
     ]
    },
    {
     "name": "stderr",
     "output_type": "stream",
     "text": [
      "480it [01:49,  3.83it/s]"
     ]
    },
    {
     "name": "stdout",
     "output_type": "stream",
     "text": [
      "Id loss 0.2690\n",
      "tensor([0.8041, 0.8749, 0.7684, 0.7503, 0.8803, 0.8379, 0.8301, 0.8866, 0.9300,\n",
      "        0.9744, 0.9000, 0.8694, 0.9676, 0.8951, 0.7743, 0.9425, 0.8632, 0.9638,\n",
      "        0.7592, 0.8265, 0.7328, 0.6640, 0.9208, 0.8975, 0.8035, 0.6577, 0.9927,\n",
      "        0.8528, 0.7274, 0.9852, 0.9591, 0.7784], grad_fn=<ViewBackward0>) tensor([0.1138, 0.0548, 0.1160, 0.0746, 0.0646, 0.0737, 0.0251, 0.0420, 0.1111,\n",
      "        0.2386, 0.0379, 0.0629, 0.0383, 0.0791, 0.0510, 0.0494, 0.0480, 0.1510,\n",
      "        0.0982, 0.0677, 0.0780, 0.0325, 0.0259, 0.0883, 0.0998, 0.0711, 0.0478,\n",
      "        0.0397, 0.0574, 0.1123, 0.0464, 0.0614], grad_fn=<ViewBackward0>)\n",
      "D loss real: 1.0737\n",
      "D loss fake: 0.1478\n",
      "Ts loss 1.9695\n",
      "G loss :-0.1655\n"
     ]
    },
    {
     "name": "stderr",
     "output_type": "stream",
     "text": [
      "481it [01:49,  3.85it/s]"
     ]
    },
    {
     "name": "stdout",
     "output_type": "stream",
     "text": [
      "[4/19] [480/538]\tLoss_dis: 0.6107\tLoss_gen: 19.6639\tD(x): 0.0737\tD(G(x)): 0.8522\n"
     ]
    },
    {
     "name": "stderr",
     "output_type": "stream",
     "text": [
      "539it [02:02,  4.39it/s]\n",
      "0it [00:00, ?it/s]"
     ]
    },
    {
     "name": "stdout",
     "output_type": "stream",
     "text": [
      "Id loss 0.2597\n",
      "tensor([0.8135, 0.6235, 0.6220, 0.5849, 0.4683, 0.6133, 0.6475, 0.6498, 0.4898,\n",
      "        0.6402, 0.7312, 0.4217, 0.5769, 0.7620, 0.5802, 0.9900, 0.8973, 0.7977,\n",
      "        0.4983, 0.8455, 0.7599, 0.7158, 0.8310, 0.5144, 0.5976, 0.4036, 0.8229,\n",
      "        0.7088, 0.5309, 0.6999, 0.8045, 0.5871], grad_fn=<ViewBackward0>) tensor([0.1840, 0.5661, 0.3801, 0.1128, 0.0207, 0.1604, 0.3714, 0.1282, 0.1619,\n",
      "        0.1566, 0.2853, 0.3759, 0.2473, 0.1890, 0.1661, 0.5237, 0.0389, 0.4372,\n",
      "        0.2297, 0.3491, 0.7011, 0.0786, 0.3007, 0.2751, 0.2668, 0.0524, 0.2874,\n",
      "        0.1624, 0.3446, 0.1203, 0.1949, 0.3329], grad_fn=<ViewBackward0>)\n",
      "D loss real: 1.2563\n",
      "D loss fake: 0.3366\n",
      "Ts loss 1.8184\n",
      "G loss :-0.3630\n",
      "[5/19] [0/538]\tLoss_dis: 0.7964\tLoss_gen: 17.9512\tD(x): 0.2563\tD(G(x)): 0.6634\n"
     ]
    },
    {
     "name": "stderr",
     "output_type": "stream",
     "text": [
      "61it [00:13,  4.77it/s]"
     ]
    },
    {
     "name": "stdout",
     "output_type": "stream",
     "text": [
      "Id loss 0.2533\n",
      "tensor([0.7352, 0.8045, 0.8056, 0.7553, 0.8090, 0.7497, 0.8110, 0.9292, 0.7929,\n",
      "        0.8387, 0.8783, 0.5582, 0.9894, 0.8581, 0.6724, 0.8511, 0.6882, 0.5856,\n",
      "        0.7133, 0.8968, 0.9739, 0.7966, 0.8335, 0.7540, 0.7423, 0.8320, 0.7871,\n",
      "        0.7722, 0.8062, 0.8635, 0.7136, 0.9061], grad_fn=<ViewBackward0>) tensor([0.4540, 0.1776, 0.3678, 0.3157, 0.3453, 0.1209, 0.6110, 0.2467, 0.3534,\n",
      "        0.4007, 0.3486, 0.2572, 0.2005, 0.5544, 0.5331, 0.0468, 0.3788, 0.2745,\n",
      "        0.4484, 0.1760, 0.2967, 0.1029, 0.7023, 0.5000, 0.3817, 0.2085, 0.2193,\n",
      "        0.1034, 0.5338, 0.3114, 0.3325, 0.4750], grad_fn=<ViewBackward0>)\n",
      "D loss real: 1.3368\n",
      "D loss fake: 0.2030\n",
      "Ts loss 1.9138\n",
      "G loss :-0.2520\n",
      "[5/19] [60/538]\tLoss_dis: 0.7699\tLoss_gen: 19.0131\tD(x): 0.3368\tD(G(x)): 0.7970\n"
     ]
    },
    {
     "name": "stderr",
     "output_type": "stream",
     "text": [
      "121it [00:26,  4.57it/s]"
     ]
    },
    {
     "name": "stdout",
     "output_type": "stream",
     "text": [
      "Id loss 0.2569\n",
      "tensor([0.7511, 0.8293, 0.6236, 0.6807, 0.8438, 0.7269, 0.7238, 0.8565, 0.6991,\n",
      "        0.5759, 0.8314, 0.9127, 0.8209, 0.6476, 0.6516, 0.9312, 0.7732, 0.8315,\n",
      "        0.9615, 0.8436, 0.8791, 0.9752, 0.5144, 0.8969, 0.6499, 0.7929, 0.7964,\n",
      "        0.8382, 0.8959, 0.7469, 0.7917, 0.6055], grad_fn=<ViewBackward0>) tensor([0.5754, 0.0938, 0.1185, 0.2434, 0.1528, 0.1203, 0.3792, 0.3847, 0.1956,\n",
      "        0.3101, 0.4473, 0.3895, 0.2028, 0.1149, 0.1840, 0.1360, 0.0785, 0.1681,\n",
      "        0.2357, 0.1387, 0.3386, 0.2724, 0.3198, 0.1532, 0.1689, 0.4262, 0.1837,\n",
      "        0.2319, 0.1857, 0.1700, 0.1488, 0.1844], grad_fn=<ViewBackward0>)\n",
      "D loss real: 1.2329\n",
      "D loss fake: 0.2219\n",
      "Ts loss 1.9171\n",
      "G loss :-0.2420\n",
      "[5/19] [120/538]\tLoss_dis: 0.7274\tLoss_gen: 19.0576\tD(x): 0.2329\tD(G(x)): 0.7781\n"
     ]
    },
    {
     "name": "stderr",
     "output_type": "stream",
     "text": [
      "181it [00:40,  3.93it/s]"
     ]
    },
    {
     "name": "stdout",
     "output_type": "stream",
     "text": [
      "Id loss 0.2562\n",
      "tensor([0.4228, 0.3814, 0.5932, 0.6721, 0.3943, 0.4580, 0.4747, 0.7441, 0.5027,\n",
      "        0.5242, 0.6276, 0.5079, 0.1895, 0.6666, 0.4179, 0.0876, 0.2572, 0.4990,\n",
      "        0.3559, 0.5112, 0.3835, 0.7610, 0.7374, 0.6887, 0.4734, 0.9014, 0.1884,\n",
      "        0.6154, 0.5431, 0.5059, 0.3816, 0.3514], grad_fn=<ViewBackward0>) tensor([0.1568, 0.2738, 0.2673, 0.0640, 0.1587, 0.2077, 0.3285, 0.2912, 0.2579,\n",
      "        0.1566, 0.0804, 0.0929, 0.1671, 0.2711, 0.2217, 0.1657, 0.1476, 0.2549,\n",
      "        0.2087, 0.2262, 0.5324, 0.0941, 0.2107, 0.3058, 0.4259, 0.2043, 0.3208,\n",
      "        0.0454, 0.1399, 0.3120, 0.1363, 0.2773], grad_fn=<ViewBackward0>)\n",
      "D loss real: 1.2189\n",
      "D loss fake: 0.5056\n",
      "Ts loss 1.8913\n",
      "G loss :-0.4792\n",
      "[5/19] [180/538]\tLoss_dis: 0.8623\tLoss_gen: 18.5617\tD(x): 0.2189\tD(G(x)): 0.4944\n"
     ]
    },
    {
     "name": "stderr",
     "output_type": "stream",
     "text": [
      "241it [00:53,  4.64it/s]"
     ]
    },
    {
     "name": "stdout",
     "output_type": "stream",
     "text": [
      "Id loss 0.2631\n",
      "tensor([0.8059, 0.7286, 0.5621, 0.9445, 0.7407, 0.9869, 0.8123, 0.9917, 0.7938,\n",
      "        0.5370, 0.8103, 0.5967, 0.6220, 0.7470, 0.8031, 0.7888, 0.8013, 0.8302,\n",
      "        0.8199, 0.9008, 0.7404, 0.8241, 0.8197, 0.9695, 0.7105, 0.8169, 0.5276,\n",
      "        0.5818, 0.9262, 0.6834, 0.6846, 0.7970], grad_fn=<ViewBackward0>) tensor([0.1574, 0.1326, 0.0791, 0.2020, 0.0688, 0.0480, 0.1953, 0.0831, 0.2078,\n",
      "        0.1444, 0.0914, 0.0959, 0.1075, 0.3132, 0.0895, 0.2181, 0.1261, 0.3319,\n",
      "        0.3734, 0.1502, 0.0323, 0.2337, 0.2337, 0.0678, 0.3882, 0.2825, 0.0135,\n",
      "        0.1458, 0.0860, 0.1899, 0.1136, 0.0808], grad_fn=<ViewBackward0>)\n",
      "D loss real: 1.1589\n",
      "D loss fake: 0.2280\n",
      "Ts loss 1.8499\n",
      "G loss :-0.2164\n",
      "[5/19] [240/538]\tLoss_dis: 0.6934\tLoss_gen: 18.4146\tD(x): 0.1589\tD(G(x)): 0.7720\n"
     ]
    },
    {
     "name": "stderr",
     "output_type": "stream",
     "text": [
      "301it [01:07,  4.71it/s]"
     ]
    },
    {
     "name": "stdout",
     "output_type": "stream",
     "text": [
      "Id loss 0.2711\n",
      "tensor([0.8048, 0.8432, 0.7617, 0.6868, 0.8084, 0.8924, 0.8059, 0.9640, 0.7865,\n",
      "        0.8901, 0.7741, 0.8999, 0.7873, 0.7367, 0.8442, 0.8942, 0.7722, 0.8914,\n",
      "        0.6207, 0.3236, 0.9695, 0.8249, 0.8047, 0.9728, 0.7467, 0.7719, 0.8500,\n",
      "        0.8921, 0.8967, 0.7964, 0.9003, 0.7707], grad_fn=<ViewBackward0>) tensor([0.0831, 0.0014, 0.0088, 0.0518, 0.0330, 0.0288, 0.0277, 0.0245, 0.0320,\n",
      "        0.0842, 0.0051, 0.0160, 0.0884, 0.0249, 0.0454, 0.0324, 0.0461, 0.0178,\n",
      "        0.0667, 0.0299, 0.0142, 0.0296, 0.0135, 0.0040, 0.0263, 0.0447, 0.0413,\n",
      "        0.0136, 0.0292, 0.0190, 0.0597, 0.0465], grad_fn=<ViewBackward0>)\n",
      "D loss real: 1.0340\n",
      "D loss fake: 0.1880\n",
      "Ts loss 1.8830\n",
      "G loss :-0.1823\n",
      "[5/19] [300/538]\tLoss_dis: 0.6110\tLoss_gen: 18.7832\tD(x): 0.0340\tD(G(x)): 0.8120\n"
     ]
    },
    {
     "name": "stderr",
     "output_type": "stream",
     "text": [
      "360it [01:21,  3.69it/s]"
     ]
    },
    {
     "name": "stdout",
     "output_type": "stream",
     "text": [
      "Id loss 0.2492\n",
      "tensor([0.6273, 0.7346, 0.7357, 0.7619, 0.6027, 0.6377, 0.8296, 0.6284, 0.9111,\n",
      "        0.6490, 0.6522, 0.9085, 0.6976, 0.8510, 0.5791, 0.7613, 0.7731, 0.7395,\n",
      "        0.7219, 0.8759, 0.8974, 0.8543, 0.7655, 0.9833, 0.6554, 0.7190, 0.9743,\n",
      "        0.7672, 0.8369, 0.8471, 0.7635, 0.7285], grad_fn=<ViewBackward0>) tensor([0.7186, 0.5897, 0.5527, 0.5549, 0.4483, 0.4045, 0.4494, 0.1863, 0.7337,\n",
      "        0.4008, 0.7430, 0.4614, 0.3862, 0.5013, 0.7430, 0.2929, 0.6834, 0.4790,\n",
      "        0.5062, 0.6088, 0.4964, 0.8215, 0.8767, 0.4354, 0.4230, 0.3691, 0.5802,\n",
      "        0.6886, 0.5350, 0.5374, 0.5331, 0.5857], grad_fn=<ViewBackward0>)\n",
      "D loss real: 1.5414\n",
      "D loss fake: 0.2353\n",
      "Ts loss 1.8981\n",
      "G loss :-0.1870\n"
     ]
    },
    {
     "name": "stderr",
     "output_type": "stream",
     "text": [
      "361it [01:21,  3.71it/s]"
     ]
    },
    {
     "name": "stdout",
     "output_type": "stream",
     "text": [
      "[5/19] [360/538]\tLoss_dis: 0.8884\tLoss_gen: 18.9190\tD(x): 0.5414\tD(G(x)): 0.7647\n"
     ]
    },
    {
     "name": "stderr",
     "output_type": "stream",
     "text": [
      "421it [01:34,  4.63it/s]"
     ]
    },
    {
     "name": "stdout",
     "output_type": "stream",
     "text": [
      "Id loss 0.2607\n",
      "tensor([0.6541, 0.8555, 0.6183, 0.9510, 0.6434, 0.6616, 0.7484, 0.7266, 0.7191,\n",
      "        0.8900, 0.8228, 0.6327, 0.7058, 0.6892, 0.8184, 0.7252, 0.7716, 0.6593,\n",
      "        0.8181, 0.8347, 0.4547, 0.8602, 0.9486, 0.8584, 0.6184, 0.7976, 0.9184,\n",
      "        0.6606, 0.6387, 0.9342, 0.3888, 0.6205], grad_fn=<ViewBackward0>) tensor([0.0922, 0.3368, 0.1175, 0.1764, 0.0551, 0.0542, 0.1186, 0.3183, 0.1133,\n",
      "        0.1694, 0.1568, 0.1409, 0.0696, 0.2290, 0.3119, 0.1143, 0.0205, 0.2273,\n",
      "        0.1390, 0.1775, 0.0673, 0.1332, 0.1045, 0.0990, 0.1483, 0.0343, 0.1220,\n",
      "        0.1237, 0.0638, 0.1112, 0.1950, 0.0123], grad_fn=<ViewBackward0>)\n",
      "D loss real: 1.1360\n",
      "D loss fake: 0.2611\n",
      "Ts loss 1.7945\n",
      "G loss :-0.2391\n",
      "[5/19] [420/538]\tLoss_dis: 0.6986\tLoss_gen: 17.8358\tD(x): 0.1360\tD(G(x)): 0.7389\n"
     ]
    },
    {
     "name": "stderr",
     "output_type": "stream",
     "text": [
      "481it [01:49,  4.36it/s]"
     ]
    },
    {
     "name": "stdout",
     "output_type": "stream",
     "text": [
      "Id loss 0.2539\n",
      "tensor([0.7959, 0.6297, 0.6685, 0.9872, 0.7945, 0.7069, 0.6441, 0.8364, 0.8398,\n",
      "        0.8743, 0.7795, 0.4750, 0.7485, 0.3457, 0.6320, 0.8928, 0.7086, 0.7394,\n",
      "        0.7880, 0.6992, 0.7381, 0.7949, 0.8721, 0.7137, 0.7351, 0.8813, 0.8030,\n",
      "        0.7452, 0.8219, 0.6762, 0.9919, 0.7000], grad_fn=<ViewBackward0>) tensor([0.1846, 0.1722, 0.0673, 0.3337, 0.3853, 0.1672, 0.4571, 0.1798, 0.3331,\n",
      "        0.0189, 0.1898, 0.2925, 0.7445, 0.1984, 0.2773, 0.4435, 0.1732, 0.1298,\n",
      "        0.1642, 0.1061, 0.4019, 0.6912, 0.1517, 0.2210, 0.1705, 0.3360, 0.2634,\n",
      "        0.2199, 0.2496, 0.2212, 0.1916, 0.1774], grad_fn=<ViewBackward0>)\n",
      "D loss real: 1.2598\n",
      "D loss fake: 0.2481\n",
      "Ts loss 1.8219\n",
      "G loss :-0.2047\n",
      "[5/19] [480/538]\tLoss_dis: 0.7540\tLoss_gen: 18.1411\tD(x): 0.2598\tD(G(x)): 0.7519\n"
     ]
    },
    {
     "name": "stderr",
     "output_type": "stream",
     "text": [
      "539it [02:02,  4.41it/s]\n",
      "0it [00:00, ?it/s]"
     ]
    },
    {
     "name": "stdout",
     "output_type": "stream",
     "text": [
      "Id loss 0.2647\n",
      "tensor([0.6694, 0.2156, 0.8201, 0.8773, 0.4854, 0.5993, 0.7431, 0.6670, 0.6308,\n",
      "        0.6332, 0.4912, 0.5893, 0.2976, 0.4972, 0.5748, 0.6236, 0.7874, 0.5650,\n",
      "        0.5757, 0.6124, 0.5190, 0.6957, 0.6960, 0.4914, 0.7337, 0.6032, 0.5226,\n",
      "        0.7379, 0.6101, 0.6005, 0.6554, 0.4004], grad_fn=<ViewBackward0>) tensor([0.0698, 0.0151, 0.0598, 0.0943, 0.0407, 0.0205, 0.0956, 0.0433, 0.0178,\n",
      "        0.1247, 0.1208, 0.1272, 0.0107, 0.0220, 0.0903, 0.1190, 0.0289, 0.0771,\n",
      "        0.0786, 0.0763, 0.0482, 0.1257, 0.0322, 0.0803, 0.0337, 0.0677, 0.1497,\n",
      "        0.0573, 0.0188, 0.1360, 0.1007, 0.0388], grad_fn=<ViewBackward0>)\n",
      "D loss real: 1.0694\n",
      "D loss fake: 0.3993\n",
      "Ts loss 1.8734\n",
      "G loss :-0.3794\n"
     ]
    },
    {
     "name": "stderr",
     "output_type": "stream",
     "text": [
      "1it [00:00,  3.53it/s]"
     ]
    },
    {
     "name": "stdout",
     "output_type": "stream",
     "text": [
      "[6/19] [0/538]\tLoss_dis: 0.7344\tLoss_gen: 18.4867\tD(x): 0.0694\tD(G(x)): 0.6007\n"
     ]
    },
    {
     "name": "stderr",
     "output_type": "stream",
     "text": [
      "61it [00:13,  4.74it/s]"
     ]
    },
    {
     "name": "stdout",
     "output_type": "stream",
     "text": [
      "Id loss 0.2592\n",
      "tensor([0.7314, 0.8639, 0.9895, 0.7380, 0.8907, 0.8613, 0.9302, 0.8838, 0.9878,\n",
      "        0.9111, 0.9210, 0.9374, 0.9915, 0.8582, 0.8721, 0.8858, 0.9468, 0.8403,\n",
      "        0.9774, 0.9743, 0.9473, 0.9292, 0.9908, 0.9208, 0.9228, 0.9082, 0.9327,\n",
      "        0.7729, 0.9001, 0.7925, 0.9837, 0.9288], grad_fn=<ViewBackward0>) tensor([0.0904, 0.0389, 0.2451, 0.2575, 0.2010, 0.2477, 0.1638, 0.1118, 0.2695,\n",
      "        0.0800, 0.0656, 0.0704, 0.1758, 0.1293, 0.1250, 0.1262, 0.1606, 0.0417,\n",
      "        0.1125, 0.0461, 0.1150, 0.6237, 0.1108, 0.3060, 0.1308, 0.0660, 0.1764,\n",
      "        0.1170, 0.1904, 0.1810, 0.3030, 0.3535], grad_fn=<ViewBackward0>)\n",
      "D loss real: 1.1698\n",
      "D loss fake: 0.0962\n",
      "Ts loss 1.8542\n",
      "G loss :-0.0850\n",
      "[6/19] [60/538]\tLoss_dis: 0.6330\tLoss_gen: 18.5863\tD(x): 0.1698\tD(G(x)): 0.9038\n"
     ]
    },
    {
     "name": "stderr",
     "output_type": "stream",
     "text": [
      "121it [00:26,  4.46it/s]"
     ]
    },
    {
     "name": "stdout",
     "output_type": "stream",
     "text": [
      "Id loss 0.2668\n",
      "tensor([0.5955, 0.9378, 0.8767, 0.8534, 0.6339, 0.7159, 0.7207, 0.6646, 0.6731,\n",
      "        0.6231, 0.6838, 0.8040, 0.9402, 0.4794, 0.9188, 0.7880, 0.7644, 0.6252,\n",
      "        0.6654, 0.8101, 0.8445, 0.8262, 0.5372, 0.8057, 0.9028, 0.6771, 0.7284,\n",
      "        0.8946, 0.8198, 0.6467, 0.7104, 0.6257], grad_fn=<ViewBackward0>) tensor([0.0139, 0.0185, 0.0219, 0.0085, 0.0067, 0.0240, 0.0276, 0.0199, 0.0169,\n",
      "        0.0951, 0.0627, 0.0530, 0.0163, 0.0237, 0.0313, 0.1137, 0.0591, 0.0218,\n",
      "        0.0184, 0.0383, 0.0313, 0.0651, 0.0270, 0.0136, 0.0118, 0.0090, 0.0266,\n",
      "        0.0275, 0.0506, 0.1064, 0.0971, 0.0284], grad_fn=<ViewBackward0>)\n",
      "D loss real: 1.0371\n",
      "D loss fake: 0.2565\n",
      "Ts loss 1.8401\n",
      "G loss :-0.2702\n",
      "[6/19] [120/538]\tLoss_dis: 0.6468\tLoss_gen: 18.2640\tD(x): 0.0371\tD(G(x)): 0.7435\n"
     ]
    },
    {
     "name": "stderr",
     "output_type": "stream",
     "text": [
      "181it [00:40,  4.63it/s]"
     ]
    },
    {
     "name": "stdout",
     "output_type": "stream",
     "text": [
      "Id loss 0.2565\n",
      "tensor([0.9357, 0.8527, 0.8625, 0.9762, 0.8997, 0.8332, 0.7984, 0.8527, 0.8630,\n",
      "        0.9068, 0.9214, 0.8575, 0.8484, 0.8841, 0.7479, 0.9467, 0.7993, 0.9190,\n",
      "        0.8021, 0.8862, 0.9323, 0.9762, 0.8818, 0.9552, 0.9405, 0.8642, 0.9166,\n",
      "        0.9294, 0.9095, 0.9446, 0.9269, 0.9569], grad_fn=<ViewBackward0>) tensor([0.0345, 0.0133, 0.0864, 0.1079, 0.0540, 0.0538, 0.0530, 0.0465, 0.0030,\n",
      "        0.0281, 0.0436, 0.1480, 0.1181, 0.1241, 0.1561, 0.0740, 0.0286, 0.0547,\n",
      "        0.0886, 0.1675, 0.0822, 0.0227, 0.0484, 0.0360, 0.0270, 0.0470, 0.0640,\n",
      "        0.0219, 0.0375, 0.2189, 0.1003, 0.1925], grad_fn=<ViewBackward0>)\n",
      "D loss real: 1.0744\n",
      "D loss fake: 0.1085\n",
      "Ts loss 1.8328\n",
      "G loss :-0.1160\n",
      "[6/19] [180/538]\tLoss_dis: 0.5915\tLoss_gen: 18.3406\tD(x): 0.0744\tD(G(x)): 0.8915\n"
     ]
    },
    {
     "name": "stderr",
     "output_type": "stream",
     "text": [
      "240it [00:54,  3.62it/s]"
     ]
    },
    {
     "name": "stdout",
     "output_type": "stream",
     "text": [
      "Id loss 0.2627\n",
      "tensor([0.5902, 0.6741, 0.6873, 0.7946, 0.7377, 0.4408, 0.9878, 0.9731, 0.6818,\n",
      "        0.7284, 0.8324, 0.8230, 0.9175, 0.9724, 0.9484, 0.9186, 0.7671, 0.8089,\n",
      "        0.7271, 0.5690, 0.8777, 0.8670, 0.5320, 0.7639, 0.8533, 0.7535, 0.7984,\n",
      "        0.6497, 0.8118, 0.6018, 0.7657, 0.8981], grad_fn=<ViewBackward0>) tensor([0.2227, 0.1516, 0.0601, 0.0918, 0.1486, 0.1049, 0.0627, 0.0259, 0.0738,\n",
      "        0.0534, 0.0920, 0.1450, 0.0575, 0.0266, 0.0445, 0.0794, 0.1002, 0.0585,\n",
      "        0.1167, 0.1196, 0.0479, 0.1106, 0.1238, 0.1209, 0.1114, 0.2038, 0.0352,\n",
      "        0.0566, 0.0402, 0.0438, 0.1274, 0.0369], grad_fn=<ViewBackward0>)\n",
      "D loss real: 1.0904\n",
      "D loss fake: 0.2265\n",
      "Ts loss 1.9342\n",
      "G loss :-0.2318\n"
     ]
    },
    {
     "name": "stderr",
     "output_type": "stream",
     "text": [
      "241it [00:54,  3.49it/s]"
     ]
    },
    {
     "name": "stdout",
     "output_type": "stream",
     "text": [
      "[6/19] [240/538]\tLoss_dis: 0.6585\tLoss_gen: 19.2418\tD(x): 0.0904\tD(G(x)): 0.7735\n"
     ]
    },
    {
     "name": "stderr",
     "output_type": "stream",
     "text": [
      "301it [01:07,  4.52it/s]"
     ]
    },
    {
     "name": "stdout",
     "output_type": "stream",
     "text": [
      "Id loss 0.2612\n",
      "tensor([0.2784, 0.5230, 0.5273, 0.6206, 0.8811, 0.3421, 0.3084, 0.5233, 0.7316,\n",
      "        0.5608, 0.5777, 0.4830, 0.3764, 0.7026, 0.4386, 0.3988, 0.4889, 0.3225,\n",
      "        0.8908, 0.5171, 0.5357, 0.4621, 0.6040, 0.5729, 0.6419, 0.5713, 0.5743,\n",
      "        0.3978, 0.8024, 0.4735, 0.5240, 0.7466], grad_fn=<ViewBackward0>) tensor([0.1605, 0.0473, 0.0276, 0.0804, 0.0966, 0.0947, 0.0577, 0.1117, 0.0730,\n",
      "        0.0971, 0.0167, 0.0838, 0.0499, 0.1212, 0.0622, 0.0730, 0.0386, 0.0108,\n",
      "        0.0424, 0.1949, 0.1417, 0.0413, 0.0257, 0.0065, 0.0521, 0.1542, 0.1301,\n",
      "        0.0939, 0.2362, 0.0349, 0.0115, 0.0652], grad_fn=<ViewBackward0>)\n",
      "D loss real: 1.0792\n",
      "D loss fake: 0.4563\n",
      "Ts loss 1.7800\n",
      "G loss :-0.3900\n",
      "[6/19] [300/538]\tLoss_dis: 0.7677\tLoss_gen: 17.5405\tD(x): 0.0792\tD(G(x)): 0.5437\n"
     ]
    },
    {
     "name": "stderr",
     "output_type": "stream",
     "text": [
      "361it [01:21,  4.53it/s]"
     ]
    },
    {
     "name": "stdout",
     "output_type": "stream",
     "text": [
      "Id loss 0.2572\n",
      "tensor([0.3931, 0.8293, 0.7521, 0.8019, 0.7670, 0.7356, 0.7316, 0.6696, 0.8356,\n",
      "        0.7389, 0.8022, 0.4206, 0.7495, 0.6895, 0.8645, 0.8557, 0.7475, 0.4732,\n",
      "        0.8040, 0.5620, 0.8981, 0.6325, 0.8132, 0.9033, 0.8349, 0.6721, 0.9074,\n",
      "        0.7259, 0.7857, 0.9921, 0.8667, 0.9337], grad_fn=<ViewBackward0>) tensor([0.2395, 0.4703, 0.3475, 0.2388, 0.4728, 0.1533, 0.3340, 0.3012, 0.8689,\n",
      "        0.1450, 0.4314, 0.2085, 0.2304, 0.2796, 0.2053, 0.1152, 0.1271, 0.3574,\n",
      "        0.1743, 0.1520, 0.2069, 0.3531, 0.3235, 0.4553, 0.1757, 0.0960, 0.2849,\n",
      "        0.4442, 0.4089, 0.1557, 0.3537, 0.2500], grad_fn=<ViewBackward0>)\n",
      "D loss real: 1.2925\n",
      "D loss fake: 0.2441\n",
      "Ts loss 1.7762\n",
      "G loss :-0.2571\n",
      "[6/19] [360/538]\tLoss_dis: 0.7683\tLoss_gen: 17.6340\tD(x): 0.2925\tD(G(x)): 0.7559\n"
     ]
    },
    {
     "name": "stderr",
     "output_type": "stream",
     "text": [
      "420it [01:35,  3.78it/s]"
     ]
    },
    {
     "name": "stdout",
     "output_type": "stream",
     "text": [
      "Id loss 0.2666\n",
      "tensor([0.9494, 0.8521, 0.9653, 0.9522, 0.9657, 0.8980, 0.9837, 0.8147, 0.8394,\n",
      "        0.9306, 0.9106, 0.8926, 0.9615, 0.9247, 0.9319, 0.9336, 0.9628, 0.9696,\n",
      "        0.9508, 0.9849, 0.9484, 0.9043, 0.8690, 0.9426, 0.9467, 0.9254, 0.8773,\n",
      "        0.9858, 0.8329, 0.9798, 0.9367, 0.6701], grad_fn=<ViewBackward0>) tensor([0.0665, 0.1448, 0.0148, 0.1432, 0.1202, 0.0567, 0.0533, 0.0405, 0.0977,\n",
      "        0.0468, 0.0884, 0.1453, 0.0799, 0.0187, 0.1225, 0.0790, 0.1195, 0.1197,\n",
      "        0.0730, 0.0936, 0.0712, 0.1004, 0.1283, 0.0450, 0.0793, 0.1614, 0.1290,\n",
      "        0.0642, 0.0563, 0.0420, 0.0932, 0.0463], grad_fn=<ViewBackward0>)\n",
      "D loss real: 1.0857\n",
      "D loss fake: 0.0815\n",
      "Ts loss 1.8756\n",
      "G loss :-0.0775\n"
     ]
    },
    {
     "name": "stderr",
     "output_type": "stream",
     "text": [
      "421it [01:35,  3.76it/s]"
     ]
    },
    {
     "name": "stdout",
     "output_type": "stream",
     "text": [
      "[6/19] [420/538]\tLoss_dis: 0.5836\tLoss_gen: 18.8118\tD(x): 0.0857\tD(G(x)): 0.9185\n"
     ]
    },
    {
     "name": "stderr",
     "output_type": "stream",
     "text": [
      "481it [01:49,  4.54it/s]"
     ]
    },
    {
     "name": "stdout",
     "output_type": "stream",
     "text": [
      "Id loss 0.2588\n",
      "tensor([0.8274, 0.9277, 0.8688, 0.9107, 0.9083, 0.8195, 0.9090, 0.8683, 0.8706,\n",
      "        0.8908, 0.9379, 0.8714, 0.9389, 0.9604, 0.7683, 0.9076, 0.9609, 0.9804,\n",
      "        0.9135, 0.9474, 0.7298, 0.9703, 0.8611, 0.9115, 0.8779, 0.9371, 0.9561,\n",
      "        0.8756, 0.9922, 0.9249, 0.9827, 0.7976], grad_fn=<ViewBackward0>) tensor([0.0939, 0.1779, 0.0655, 0.1556, 0.1958, 0.1955, 0.3304, 0.1012, 0.3043,\n",
      "        0.1132, 0.1599, 0.0750, 0.2181, 0.2024, 0.0606, 0.0544, 0.1088, 0.2072,\n",
      "        0.1460, 0.1773, 0.1003, 0.0983, 0.1132, 0.4924, 0.1432, 0.1442, 0.3238,\n",
      "        0.0904, 0.0951, 0.1299, 0.1342, 0.1219], grad_fn=<ViewBackward0>)\n",
      "D loss real: 1.1603\n",
      "D loss fake: 0.0999\n",
      "Ts loss 1.8113\n",
      "G loss :-0.0980\n",
      "[6/19] [480/538]\tLoss_dis: 0.6301\tLoss_gen: 18.1449\tD(x): 0.1603\tD(G(x)): 0.9001\n"
     ]
    },
    {
     "name": "stderr",
     "output_type": "stream",
     "text": [
      "539it [02:03,  4.38it/s]\n",
      "0it [00:00, ?it/s]"
     ]
    },
    {
     "name": "stdout",
     "output_type": "stream",
     "text": [
      "Id loss 0.2550\n",
      "tensor([0.7352, 0.7802, 0.6443, 0.6150, 0.3255, 0.6026, 0.8225, 0.8233, 0.5720,\n",
      "        0.6982, 0.8153, 0.7908, 0.6609, 0.8251, 0.5710, 0.7481, 0.5945, 0.9798,\n",
      "        0.7365, 0.9324, 0.5055, 0.7871, 0.8197, 0.7186, 0.6779, 0.7768, 0.7832,\n",
      "        0.7003, 0.6127, 0.9059, 0.8344, 0.6570], grad_fn=<ViewBackward0>) tensor([0.3528, 0.1036, 0.1497, 0.2363, 0.3541, 0.2237, 0.4974, 0.4423, 0.2963,\n",
      "        0.3930, 0.2604, 0.0881, 0.3234, 0.2560, 0.2532, 0.2525, 0.2200, 0.2114,\n",
      "        0.3004, 0.1193, 0.3379, 0.2182, 0.3902, 0.1984, 0.0583, 0.2249, 0.2919,\n",
      "        0.0811, 0.3158, 0.1107, 0.1153, 0.2242], grad_fn=<ViewBackward0>)\n",
      "D loss real: 1.2469\n",
      "D loss fake: 0.2796\n",
      "Ts loss 1.8970\n",
      "G loss :-0.3450\n",
      "[7/19] [0/538]\tLoss_dis: 0.7633\tLoss_gen: 18.7526\tD(x): 0.2469\tD(G(x)): 0.7204\n"
     ]
    },
    {
     "name": "stderr",
     "output_type": "stream",
     "text": [
      "61it [00:13,  4.64it/s]"
     ]
    },
    {
     "name": "stdout",
     "output_type": "stream",
     "text": [
      "Id loss 0.2697\n",
      "tensor([0.5351, 0.6703, 0.5742, 0.7210, 0.6633, 0.6196, 0.5328, 0.5747, 0.3745,\n",
      "        0.6909, 0.6484, 0.5490, 0.5563, 0.7236, 0.5309, 0.5983, 0.4380, 0.5125,\n",
      "        0.2607, 0.6175, 0.3698, 0.8267, 0.6661, 0.4553, 0.9488, 0.5388, 0.4857,\n",
      "        0.5721, 0.4313, 0.3046, 0.7475, 0.4837], grad_fn=<ViewBackward0>) tensor([0.0128, 0.0050, 0.0150, 0.0187, 0.0045, 0.0054, 0.0172, 0.0063, 0.0050,\n",
      "        0.0195, 0.0078, 0.0253, 0.0137, 0.0079, 0.0037, 0.0227, 0.0140, 0.0130,\n",
      "        0.0347, 0.0040, 0.0062, 0.0044, 0.0035, 0.0047, 0.0164, 0.0156, 0.0272,\n",
      "        0.0118, 0.0282, 0.0040, 0.0112, 0.0087], grad_fn=<ViewBackward0>)\n",
      "D loss real: 1.0124\n",
      "D loss fake: 0.4306\n",
      "Ts loss 1.7530\n",
      "G loss :-0.4374\n",
      "[7/19] [60/538]\tLoss_dis: 0.7215\tLoss_gen: 17.2279\tD(x): 0.0124\tD(G(x)): 0.5694\n"
     ]
    },
    {
     "name": "stderr",
     "output_type": "stream",
     "text": [
      "121it [00:26,  4.57it/s]"
     ]
    },
    {
     "name": "stdout",
     "output_type": "stream",
     "text": [
      "Id loss 0.2589\n",
      "tensor([0.5725, 0.7295, 0.7698, 0.4843, 0.6299, 0.8176, 0.7412, 0.6780, 0.4657,\n",
      "        0.6264, 0.9350, 0.7308, 0.8006, 0.5966, 0.8251, 0.6378, 0.7193, 0.5973,\n",
      "        0.4353, 0.3812, 0.9482, 0.6024, 0.7940, 0.9442, 0.4962, 0.6324, 0.9706,\n",
      "        0.7551, 0.7209, 0.5180, 0.6914, 0.9385], grad_fn=<ViewBackward0>) tensor([0.1302, 0.2596, 0.0170, 0.4357, 0.1390, 0.1227, 0.1107, 0.0920, 0.1415,\n",
      "        0.1836, 0.1065, 0.0729, 0.0634, 0.2081, 0.5015, 0.2633, 0.0952, 0.0950,\n",
      "        0.0274, 0.0198, 0.1568, 0.0879, 0.2380, 0.0440, 0.1050, 0.2043, 0.2662,\n",
      "        0.1132, 0.1617, 0.1368, 0.1380, 0.0638], grad_fn=<ViewBackward0>)\n",
      "D loss real: 1.1500\n",
      "D loss fake: 0.3067\n",
      "Ts loss 1.8992\n",
      "G loss :-0.3014\n",
      "[7/19] [120/538]\tLoss_dis: 0.7284\tLoss_gen: 18.8196\tD(x): 0.1500\tD(G(x)): 0.6933\n"
     ]
    },
    {
     "name": "stderr",
     "output_type": "stream",
     "text": [
      "181it [00:41,  4.64it/s]"
     ]
    },
    {
     "name": "stdout",
     "output_type": "stream",
     "text": [
      "Id loss 0.2496\n",
      "tensor([0.9042, 0.9519, 0.9308, 0.9368, 0.8054, 0.8550, 0.9333, 0.9488, 0.9216,\n",
      "        0.9609, 0.9599, 0.9896, 0.9688, 0.9653, 0.8925, 0.9883, 0.9816, 0.9818,\n",
      "        0.8711, 0.8753, 0.9794, 0.9657, 0.8458, 0.7868, 0.6233, 0.9650, 0.9438,\n",
      "        0.9468, 0.9054, 0.9892, 0.8481, 0.9110], grad_fn=<ViewBackward0>) tensor([0.2581, 0.3319, 0.2177, 0.1142, 0.3172, 0.1769, 0.5921, 0.1355, 0.2136,\n",
      "        0.0305, 0.2592, 0.2981, 0.3115, 0.2934, 0.0966, 0.3250, 0.5260, 0.2508,\n",
      "        0.9085, 0.4372, 0.1421, 0.2701, 0.1517, 0.4083, 0.1540, 0.3303, 0.3106,\n",
      "        0.2554, 0.0948, 0.1707, 0.3755, 0.2801], grad_fn=<ViewBackward0>)\n",
      "D loss real: 1.2824\n",
      "D loss fake: 0.0833\n",
      "Ts loss 1.9324\n",
      "G loss :-0.0798\n",
      "[7/19] [180/538]\tLoss_dis: 0.6829\tLoss_gen: 19.3687\tD(x): 0.2824\tD(G(x)): 0.9167\n"
     ]
    },
    {
     "name": "stderr",
     "output_type": "stream",
     "text": [
      "241it [00:54,  4.39it/s]"
     ]
    },
    {
     "name": "stdout",
     "output_type": "stream",
     "text": [
      "Id loss 0.2610\n",
      "tensor([0.6463, 0.6917, 0.8396, 0.5314, 0.4635, 0.6022, 0.5474, 0.5603, 0.7242,\n",
      "        0.9653, 0.6435, 0.6369, 0.5446, 0.4776, 0.7179, 0.6003, 0.4743, 0.7659,\n",
      "        0.8107, 0.7860, 0.5569, 0.4920, 0.4099, 0.8370, 0.4693, 0.7230, 0.7460,\n",
      "        0.4334, 0.8476, 0.5254, 0.7121, 0.9794], grad_fn=<ViewBackward0>) tensor([0.0756, 0.0506, 0.0630, 0.0724, 0.0424, 0.1362, 0.1887, 0.0684, 0.2839,\n",
      "        0.0105, 0.0508, 0.2078, 0.0047, 0.0551, 0.0433, 0.0759, 0.0839, 0.0840,\n",
      "        0.2287, 0.0469, 0.0776, 0.0277, 0.0804, 0.0375, 0.1304, 0.0660, 0.1598,\n",
      "        0.1039, 0.1459, 0.0394, 0.0559, 0.0828], grad_fn=<ViewBackward0>)\n",
      "D loss real: 1.0900\n",
      "D loss fake: 0.3512\n",
      "Ts loss 1.8669\n",
      "G loss :-0.3330\n",
      "[7/19] [240/538]\tLoss_dis: 0.7206\tLoss_gen: 18.4669\tD(x): 0.0900\tD(G(x)): 0.6488\n"
     ]
    },
    {
     "name": "stderr",
     "output_type": "stream",
     "text": [
      "301it [01:09,  4.40it/s]"
     ]
    },
    {
     "name": "stdout",
     "output_type": "stream",
     "text": [
      "Id loss 0.2559\n",
      "tensor([0.9288, 0.9971, 0.9310, 0.9015, 0.9383, 0.9211, 0.8903, 0.9122, 0.9936,\n",
      "        0.9395, 0.9264, 0.8112, 0.9144, 0.9361, 0.9311, 0.9969, 0.8975, 0.8352,\n",
      "        0.9788, 0.9011, 0.9482, 0.9913, 0.8745, 0.9062, 0.9004, 0.5983, 0.9027,\n",
      "        0.9052, 0.8802, 0.8915, 0.8704, 0.9380], grad_fn=<ViewBackward0>) tensor([0.1428, 0.3431, 0.3644, 0.1913, 0.0775, 0.1595, 0.0786, 0.0266, 0.2820,\n",
      "        0.4482, 0.2236, 0.0769, 0.1303, 0.3971, 0.1331, 0.1311, 0.0927, 0.2035,\n",
      "        0.0992, 0.2846, 0.0644, 0.1260, 0.1008, 0.2661, 0.3587, 0.2794, 0.1726,\n",
      "        0.3120, 0.2267, 0.1560, 0.3257, 0.4521], grad_fn=<ViewBackward0>)\n",
      "D loss real: 1.2102\n",
      "D loss fake: 0.0910\n",
      "Ts loss 1.8764\n",
      "G loss :-0.0824\n",
      "[7/19] [300/538]\tLoss_dis: 0.6506\tLoss_gen: 18.8096\tD(x): 0.2102\tD(G(x)): 0.9090\n"
     ]
    },
    {
     "name": "stderr",
     "output_type": "stream",
     "text": [
      "360it [01:23,  3.75it/s]"
     ]
    },
    {
     "name": "stdout",
     "output_type": "stream",
     "text": [
      "Id loss 0.2510\n",
      "tensor([0.9169, 0.7927, 0.9037, 0.9830, 0.9405, 0.9337, 0.7570, 0.9010, 0.8766,\n",
      "        0.8945, 0.8707, 0.8934, 0.8322, 0.9365, 0.8184, 0.9398, 0.5803, 0.8817,\n",
      "        0.8152, 0.9196, 0.5908, 0.8525, 0.9854, 0.7888, 0.9360, 0.9416, 0.8155,\n",
      "        0.8976, 0.8133, 0.8914, 0.8789, 0.7704], grad_fn=<ViewBackward0>) tensor([0.5737, 0.1883, 0.3707, 0.2026, 0.2162, 0.0050, 0.3260, 0.0871, 0.2871,\n",
      "        0.1372, 0.4808, 0.2065, 0.3759, 0.3857, 0.1080, 0.5674, 0.0873, 0.1963,\n",
      "        0.1110, 0.2049, 0.5448, 0.0613, 0.3789, 0.1037, 0.2801, 0.2173, 0.2516,\n",
      "        0.2063, 0.1634, 0.4097, 0.3849, 0.2520], grad_fn=<ViewBackward0>)\n",
      "D loss real: 1.2616\n",
      "D loss fake: 0.1391\n",
      "Ts loss 1.8887\n",
      "G loss :-0.1217\n"
     ]
    },
    {
     "name": "stderr",
     "output_type": "stream",
     "text": [
      "361it [01:23,  3.74it/s]"
     ]
    },
    {
     "name": "stdout",
     "output_type": "stream",
     "text": [
      "[7/19] [360/538]\tLoss_dis: 0.7003\tLoss_gen: 18.8912\tD(x): 0.2616\tD(G(x)): 0.8609\n"
     ]
    },
    {
     "name": "stderr",
     "output_type": "stream",
     "text": [
      "420it [01:39,  3.73it/s]"
     ]
    },
    {
     "name": "stdout",
     "output_type": "stream",
     "text": [
      "Id loss 0.2582\n",
      "tensor([0.9427, 0.9060, 0.7795, 0.9098, 0.9634, 0.9055, 0.9796, 0.9084, 0.8185,\n",
      "        0.9725, 0.7628, 0.9927, 0.8726, 0.9142, 0.7528, 0.8549, 0.9402, 0.9797,\n",
      "        0.7874, 0.9161, 0.8984, 0.8099, 0.8676, 0.9546, 0.9175, 0.8761, 0.8476,\n",
      "        0.9512, 0.9881, 0.9592, 0.9566, 0.9966], grad_fn=<ViewBackward0>) tensor([0.1849, 0.2686, 0.2004, 0.0965, 0.1641, 0.0572, 0.0724, 0.1182, 0.0730,\n",
      "        0.1455, 0.0369, 0.4341, 0.2759, 0.4255, 0.0684, 0.2422, 0.3341, 0.3708,\n",
      "        0.1880, 0.3595, 0.1763, 0.8073, 0.0126, 0.9674, 0.1472, 0.1890, 0.0348,\n",
      "        0.3588, 0.1452, 0.1319, 0.3454, 0.1906], grad_fn=<ViewBackward0>)\n",
      "D loss real: 1.2382\n",
      "D loss fake: 0.0974\n",
      "Ts loss 1.8845\n",
      "G loss :-0.0961\n"
     ]
    },
    {
     "name": "stderr",
     "output_type": "stream",
     "text": [
      "421it [01:39,  3.78it/s]"
     ]
    },
    {
     "name": "stdout",
     "output_type": "stream",
     "text": [
      "[7/19] [420/538]\tLoss_dis: 0.6678\tLoss_gen: 18.8784\tD(x): 0.2382\tD(G(x)): 0.9026\n"
     ]
    },
    {
     "name": "stderr",
     "output_type": "stream",
     "text": [
      "480it [01:52,  4.63it/s]"
     ]
    },
    {
     "name": "stdout",
     "output_type": "stream",
     "text": [
      "Id loss 0.2668\n",
      "tensor([0.7282, 0.8296, 0.7412, 0.8077, 0.7827, 0.8323, 0.9423, 0.7566, 0.8698,\n",
      "        0.7650, 0.2347, 0.4900, 0.7294, 0.6478, 0.6945, 0.8224, 0.7739, 0.7696,\n",
      "        0.6172, 0.2803, 0.6283, 0.6907, 0.7895, 0.8709, 0.6653, 0.7898, 0.6637,\n",
      "        0.7759, 0.6093, 0.8942, 0.6804, 0.7423], grad_fn=<ViewBackward0>) tensor([0.0326, 0.0194, 0.0317, 0.0111, 0.0490, 0.0230, 0.0177, 0.0131, 0.0249,\n",
      "        0.0493, 0.0268, 0.0255, 0.0609, 0.0648, 0.0336, 0.1453, 0.0420, 0.0414,\n",
      "        0.0158, 0.0068, 0.0149, 0.0421, 0.0565, 0.0191, 0.0209, 0.0397, 0.0354,\n",
      "        0.0284, 0.0283, 0.0070, 0.0190, 0.0553], grad_fn=<ViewBackward0>)\n",
      "D loss real: 1.0344\n",
      "D loss fake: 0.2839\n",
      "Ts loss 1.8279\n",
      "G loss :-0.3155\n",
      "[7/19] [480/538]\tLoss_dis: 0.6591\tLoss_gen: 18.0965\tD(x): 0.0344\tD(G(x)): 0.7161\n"
     ]
    },
    {
     "name": "stderr",
     "output_type": "stream",
     "text": [
      "539it [02:06,  4.25it/s]\n"
     ]
    },
    {
     "name": "stdout",
     "output_type": "stream",
     "text": [
      "Epoch 00008: reducing learning rate of group 0 to 2.0000e-05.\n"
     ]
    },
    {
     "name": "stderr",
     "output_type": "stream",
     "text": [
      "0it [00:00, ?it/s]"
     ]
    },
    {
     "name": "stdout",
     "output_type": "stream",
     "text": [
      "Id loss 0.2698\n",
      "tensor([0.9559, 0.9142, 0.9101, 0.9220, 0.9361, 0.9023, 0.9502, 0.9460, 0.9671,\n",
      "        0.9851, 0.8947, 0.9964, 0.9241, 0.9500, 0.9344, 0.9163, 0.9617, 0.9430,\n",
      "        0.9504, 0.8751, 0.9595, 0.9841, 0.9806, 0.9606, 0.9154, 0.9813, 0.8283,\n",
      "        0.9755, 0.9469, 0.9800, 0.9711, 0.8703], grad_fn=<ViewBackward0>) tensor([0.0427, 0.0877, 0.0339, 0.0694, 0.0679, 0.0229, 0.0403, 0.0994, 0.0048,\n",
      "        0.0227, 0.0514, 0.0278, 0.0432, 0.0321, 0.0003, 0.0207, 0.0233, 0.0181,\n",
      "        0.0221, 0.1049, 0.0656, 0.0301, 0.0364, 0.0566, 0.0808, 0.0417, 0.0335,\n",
      "        0.0273, 0.0805, 0.0565, 0.0393, 0.2263], grad_fn=<ViewBackward0>)\n",
      "D loss real: 1.0503\n",
      "D loss fake: 0.0597\n",
      "Ts loss 1.8513\n",
      "G loss :-0.0559\n"
     ]
    },
    {
     "name": "stderr",
     "output_type": "stream",
     "text": [
      "1it [00:00,  1.98it/s]"
     ]
    },
    {
     "name": "stdout",
     "output_type": "stream",
     "text": [
      "[8/19] [0/538]\tLoss_dis: 0.5550\tLoss_gen: 18.5916\tD(x): 0.0503\tD(G(x)): 0.9403\n"
     ]
    },
    {
     "name": "stderr",
     "output_type": "stream",
     "text": [
      "61it [00:14,  4.29it/s]"
     ]
    },
    {
     "name": "stdout",
     "output_type": "stream",
     "text": [
      "Id loss 0.2606\n",
      "tensor([0.7334, 0.7293, 0.8203, 0.5961, 0.8274, 0.5464, 0.7590, 0.8134, 0.8672,\n",
      "        0.9464, 0.8457, 0.9398, 0.8709, 0.9141, 0.9252, 0.7026, 0.5564, 0.7753,\n",
      "        0.5594, 0.7845, 0.5328, 0.8904, 0.8662, 0.8194, 0.6535, 0.9734, 0.7563,\n",
      "        0.7736, 0.5744, 0.7896, 0.9619, 0.6643], grad_fn=<ViewBackward0>) tensor([0.0348, 0.7409, 0.2815, 0.1192, 0.1560, 0.2349, 0.2701, 0.3442, 0.1732,\n",
      "        0.2294, 0.1804, 0.1568, 0.1064, 0.2303, 0.1492, 0.3832, 0.8604, 0.2843,\n",
      "        0.2042, 0.0210, 0.2234, 0.3697, 0.2440, 0.1854, 0.2601, 0.1642, 0.1003,\n",
      "        0.1561, 0.1708, 0.2368, 0.3074, 0.0429], grad_fn=<ViewBackward0>)\n",
      "D loss real: 1.2382\n",
      "D loss fake: 0.2260\n",
      "Ts loss 1.8962\n",
      "G loss :-0.2338\n",
      "[8/19] [60/538]\tLoss_dis: 0.7321\tLoss_gen: 18.8590\tD(x): 0.2382\tD(G(x)): 0.7740\n"
     ]
    },
    {
     "name": "stderr",
     "output_type": "stream",
     "text": [
      "121it [00:29,  4.35it/s]"
     ]
    },
    {
     "name": "stdout",
     "output_type": "stream",
     "text": [
      "Id loss 0.2720\n",
      "tensor([0.9730, 0.8879, 0.9442, 0.9649, 0.7996, 0.8916, 0.8566, 0.8716, 0.9189,\n",
      "        0.9423, 0.9246, 0.9327, 0.9109, 0.8903, 0.9017, 0.9237, 0.9039, 0.6883,\n",
      "        0.9691, 0.8774, 0.9539, 0.9339, 0.9887, 0.8969, 0.7586, 0.9670, 0.9322,\n",
      "        0.9508, 0.8289, 0.8764, 0.7411, 0.9620], grad_fn=<ViewBackward0>) tensor([0.0311, 0.0237, 0.0174, 0.0155, 0.0128, 0.0267, 0.0035, 0.0188, 0.0190,\n",
      "        0.0137, 0.0394, 0.0247, 0.0078, 0.0253, 0.0398, 0.0443, 0.0410, 0.0084,\n",
      "        0.0149, 0.0188, 0.0192, 0.0172, 0.0523, 0.0058, 0.0322, 0.0460, 0.2047,\n",
      "        0.0334, 0.0082, 0.0201, 0.0359, 0.0142], grad_fn=<ViewBackward0>)\n",
      "D loss real: 1.0292\n",
      "D loss fake: 0.1011\n",
      "Ts loss 1.9164\n",
      "G loss :-0.1073\n",
      "[8/19] [120/538]\tLoss_dis: 0.5652\tLoss_gen: 19.1923\tD(x): 0.0292\tD(G(x)): 0.8989\n"
     ]
    },
    {
     "name": "stderr",
     "output_type": "stream",
     "text": [
      "181it [00:45,  4.49it/s]"
     ]
    },
    {
     "name": "stdout",
     "output_type": "stream",
     "text": [
      "Id loss 0.2796\n",
      "tensor([0.7161, 0.6625, 0.3954, 0.4756, 0.7480, 0.6464, 0.7637, 0.7616, 0.4228,\n",
      "        0.6604, 0.8113, 0.5165, 0.3619, 0.5530, 0.7433, 0.7569, 0.9648, 0.6025,\n",
      "        0.8430, 0.7071, 0.8435, 0.7599, 0.8919, 0.5294, 0.6688, 0.8956, 0.5456,\n",
      "        0.7545, 0.6854, 0.6774, 0.9420, 0.8735], grad_fn=<ViewBackward0>) tensor([0.0055, 0.0127, 0.0083, 0.0131, 0.0188, 0.0110, 0.0131, 0.0064, 0.0055,\n",
      "        0.0019, 0.0113, 0.0015, 0.0045, 0.0039, 0.0026, 0.0064, 0.0291, 0.0120,\n",
      "        0.0051, 0.0025, 0.0021, 0.0087, 0.0084, 0.0074, 0.0017, 0.0094, 0.0117,\n",
      "        0.0003, 0.0110, 0.0082, 0.0048, 0.0016], grad_fn=<ViewBackward0>)\n",
      "D loss real: 1.0078\n",
      "D loss fake: 0.3069\n",
      "Ts loss 1.8360\n",
      "G loss :-0.2893\n",
      "[8/19] [180/538]\tLoss_dis: 0.6573\tLoss_gen: 18.2103\tD(x): 0.0078\tD(G(x)): 0.6931\n"
     ]
    },
    {
     "name": "stderr",
     "output_type": "stream",
     "text": [
      "240it [01:00,  3.72it/s]"
     ]
    },
    {
     "name": "stdout",
     "output_type": "stream",
     "text": [
      "Id loss 0.2693\n",
      "tensor([0.9414, 0.9592, 0.9516, 0.8496, 0.9975, 0.9710, 0.9445, 0.9714, 0.9896,\n",
      "        0.9380, 0.9671, 0.9904, 0.9567, 0.9163, 0.9786, 0.9594, 0.9531, 0.9584,\n",
      "        0.9581, 0.8436, 0.9334, 0.9381, 0.9528, 0.9556, 0.9669, 0.9583, 0.9435,\n",
      "        0.9417, 0.9304, 0.9027, 0.9730, 0.9563], grad_fn=<ViewBackward0>) tensor([0.0536, 0.0221, 0.0163, 0.0325, 0.0372, 0.0352, 0.0273, 0.0470, 0.0118,\n",
      "        0.0257, 0.0681, 0.0132, 0.0272, 0.0153, 0.0722, 0.0161, 0.0169, 0.0316,\n",
      "        0.0312, 0.0736, 0.0222, 0.0112, 0.0172, 0.0390, 0.0929, 0.0034, 0.0812,\n",
      "        0.0323, 0.0342, 0.0494, 0.1425, 0.0139], grad_fn=<ViewBackward0>)\n",
      "D loss real: 1.0379\n",
      "D loss fake: 0.0516\n",
      "Ts loss 1.8397\n",
      "G loss :-0.0604\n"
     ]
    },
    {
     "name": "stderr",
     "output_type": "stream",
     "text": [
      "241it [01:00,  3.68it/s]"
     ]
    },
    {
     "name": "stdout",
     "output_type": "stream",
     "text": [
      "[8/19] [240/538]\tLoss_dis: 0.5448\tLoss_gen: 18.4710\tD(x): 0.0379\tD(G(x)): 0.9484\n"
     ]
    },
    {
     "name": "stderr",
     "output_type": "stream",
     "text": [
      "300it [01:16,  2.68it/s]"
     ]
    },
    {
     "name": "stdout",
     "output_type": "stream",
     "text": [
      "Id loss 0.2780\n",
      "tensor([0.8725, 0.9188, 0.8054, 0.9954, 0.8714, 0.9052, 0.8449, 0.8832, 0.7386,\n",
      "        0.9415, 0.7556, 0.8348, 0.8640, 0.9734, 0.8322, 0.9757, 0.8848, 0.8823,\n",
      "        0.9292, 0.9233, 0.9422, 0.8905, 0.9322, 0.9129, 0.9067, 0.8256, 0.9218,\n",
      "        0.9762, 0.9450, 0.8786, 0.9470, 0.8964], grad_fn=<ViewBackward0>) tensor([0.0140, 0.0147, 0.0154, 0.0238, 0.0141, 0.0587, 0.0053, 0.0135, 0.0152,\n",
      "        0.0230, 0.0035, 0.0170, 0.0320, 0.0126, 0.0441, 0.0232, 0.0252, 0.0246,\n",
      "        0.0259, 0.0030, 0.0162, 0.0212, 0.0178, 0.0388, 0.0141, 0.0189, 0.0180,\n",
      "        0.0039, 0.0123, 0.0527, 0.0177, 0.0084], grad_fn=<ViewBackward0>)\n",
      "D loss real: 1.0203\n",
      "D loss fake: 0.1060\n",
      "Ts loss 1.8056\n",
      "G loss :-0.1117\n"
     ]
    },
    {
     "name": "stderr",
     "output_type": "stream",
     "text": [
      "301it [01:17,  2.74it/s]"
     ]
    },
    {
     "name": "stdout",
     "output_type": "stream",
     "text": [
      "[8/19] [300/538]\tLoss_dis: 0.5631\tLoss_gen: 18.0833\tD(x): 0.0203\tD(G(x)): 0.8940\n"
     ]
    },
    {
     "name": "stderr",
     "output_type": "stream",
     "text": [
      "361it [01:31,  4.83it/s]"
     ]
    },
    {
     "name": "stdout",
     "output_type": "stream",
     "text": [
      "Id loss 0.2683\n",
      "tensor([0.9282, 0.9245, 0.9387, 0.9240, 0.9952, 0.8955, 0.8379, 0.9550, 0.8424,\n",
      "        0.9446, 0.9622, 0.8577, 0.9516, 0.9541, 0.8730, 0.9357, 0.9491, 0.8998,\n",
      "        0.9385, 0.9584, 0.9457, 0.9140, 0.9616, 0.9624, 0.8901, 0.9818, 0.9506,\n",
      "        0.7731, 0.9719, 0.9865, 0.9606, 0.9125], grad_fn=<ViewBackward0>) tensor([0.1446, 0.1895, 0.1084, 0.1318, 0.1114, 0.0622, 0.1059, 0.6586, 0.0883,\n",
      "        0.1434, 0.2020, 0.1046, 0.1947, 0.2354, 0.1190, 0.3431, 0.4206, 0.0548,\n",
      "        0.1991, 0.2065, 0.0027, 0.0702, 0.1534, 0.2007, 0.2603, 0.0815, 0.0771,\n",
      "        0.1902, 0.1402, 0.1607, 0.2076, 0.0862], grad_fn=<ViewBackward0>)\n",
      "D loss real: 1.1705\n",
      "D loss fake: 0.0726\n",
      "Ts loss 1.8514\n",
      "G loss :-0.0819\n",
      "[8/19] [360/538]\tLoss_dis: 0.6215\tLoss_gen: 18.5666\tD(x): 0.1705\tD(G(x)): 0.9274\n"
     ]
    },
    {
     "name": "stderr",
     "output_type": "stream",
     "text": [
      "421it [01:45,  4.68it/s]"
     ]
    },
    {
     "name": "stdout",
     "output_type": "stream",
     "text": [
      "Id loss 0.2664\n",
      "tensor([0.8204, 0.7570, 0.5788, 0.5885, 0.8765, 0.7672, 0.8491, 0.9675, 0.7443,\n",
      "        0.8217, 0.6479, 0.6574, 0.8933, 0.3106, 0.8391, 0.9108, 0.7336, 0.8764,\n",
      "        0.6840, 0.7680, 0.8444, 0.6143, 0.9824, 0.8439, 0.7448, 0.8214, 0.9067,\n",
      "        0.8262, 0.8172, 0.7486, 0.7795, 0.7971], grad_fn=<ViewBackward0>) tensor([0.3631, 0.0770, 0.1729, 0.2560, 0.2864, 0.2673, 0.1980, 0.2692, 0.2465,\n",
      "        0.1863, 0.2128, 0.0862, 0.1816, 0.0912, 0.2286, 0.2108, 0.2287, 0.2414,\n",
      "        0.1033, 0.1090, 0.0806, 0.8171, 0.1647, 0.1240, 0.2754, 0.2174, 0.2311,\n",
      "        0.2297, 0.1761, 0.0547, 0.2568, 0.0695], grad_fn=<ViewBackward0>)\n",
      "D loss real: 1.2098\n",
      "D loss fake: 0.2244\n",
      "Ts loss 1.8661\n",
      "G loss :-0.2116\n",
      "[8/19] [420/538]\tLoss_dis: 0.7171\tLoss_gen: 18.5825\tD(x): 0.2098\tD(G(x)): 0.7756\n"
     ]
    },
    {
     "name": "stderr",
     "output_type": "stream",
     "text": [
      "480it [01:59,  2.99it/s]"
     ]
    },
    {
     "name": "stdout",
     "output_type": "stream",
     "text": [
      "Id loss 0.2631\n",
      "tensor([0.9424, 0.9913, 0.9484, 0.9048, 0.9682, 0.9861, 0.9198, 0.9407, 0.9909,\n",
      "        0.9703, 0.9192, 0.9514, 0.9238, 0.8755, 0.9051, 0.9338, 0.9906, 0.9516,\n",
      "        0.8449, 0.9525, 0.9259, 0.9652, 0.9690, 0.9938, 0.9280, 0.9313, 0.9949,\n",
      "        0.9331, 0.8794, 0.9428, 0.8509, 0.9164], grad_fn=<ViewBackward0>) tensor([0.3057, 0.0048, 0.2688, 0.3508, 0.0689, 0.2645, 0.1988, 0.3891, 0.3012,\n",
      "        0.1726, 0.5088, 0.1885, 0.6877, 0.1658, 0.8259, 0.4641, 0.3340, 0.1940,\n",
      "        0.2293, 0.2993, 0.2607, 0.1489, 0.3121, 0.3524, 0.1346, 0.1194, 0.0638,\n",
      "        0.3140, 0.2010, 0.2063, 0.0554, 0.2683], grad_fn=<ViewBackward0>)\n",
      "D loss real: 1.2706\n",
      "D loss fake: 0.0612\n",
      "Ts loss 1.8543\n",
      "G loss :-0.0757\n"
     ]
    },
    {
     "name": "stderr",
     "output_type": "stream",
     "text": [
      "481it [02:00,  2.71it/s]"
     ]
    },
    {
     "name": "stdout",
     "output_type": "stream",
     "text": [
      "[8/19] [480/538]\tLoss_dis: 0.6659\tLoss_gen: 18.5988\tD(x): 0.2706\tD(G(x)): 0.9388\n"
     ]
    },
    {
     "name": "stderr",
     "output_type": "stream",
     "text": [
      "539it [02:16,  3.96it/s]\n"
     ]
    }
   ],
   "source": [
    "for epoch in range(num_epochs):\n",
    "    g_total_loss = 0\n",
    "    d_total_loss = 0\n",
    "    dis_b = 0\n",
    "    dis_ab = 0\n",
    "\n",
    "    torch.autograd.set_detect_anomaly(True)\n",
    "    for i, (data_A, data_B) in tqdm(enumerate(zip(dataloader_A, dataloader_B))):\n",
    "\n",
    "        real_A = data_A[0].to(device)\n",
    "        real_B = data_B[0].to(device)\n",
    "        # data[0] sunt imaginile\n",
    "        # data[1] sunt labelurile\n",
    "\n",
    "        A1, A2 = slice_images(real_A)\n",
    "        B1, B2 = slice_images(real_B)\n",
    "\n",
    "        A_b_size = A1.size(0)  # batch size\n",
    "        B_b_size = B1.size(0)\n",
    "\n",
    "        if i % 1 == 0:\n",
    "\n",
    "            # Training the discriminator\n",
    "            gen_A1 = generator(A1)\n",
    "            gen_A2 = generator(A2)\n",
    "            gen_B1 = generator(B1)\n",
    "            gen_B2 = generator(B2)\n",
    "\n",
    "            # identity mapping loss\n",
    "            id_loss = (identity_loss(B1, gen_B1) + identity_loss(B2, gen_B2)) / 2\n",
    "            if i % 60 == 0: print(f\"Id loss {id_loss:.4f}\")\n",
    "\n",
    "            AB = assemble_images(gen_A1, gen_A2)\n",
    "\n",
    "            output_AB = discriminator(AB.detach()).view(-1)\n",
    "            output_B = discriminator(real_B).view(-1)\n",
    "            if i % 60 == 0: print(output_AB, output_B)\n",
    "\n",
    "\n",
    "            label_fake = torch.full((B_b_size,), fake_label, dtype=torch.float, device=device)\n",
    "            zero = torch.full((B_b_size,), 0, dtype=torch.float, device=device)\n",
    "            d_loss_real = torch.mean(torch.max(label_fake + output_B, zero))\n",
    "            if i % 60 == 0: print(f\"D loss real: {d_loss_real:.4f}\")\n",
    "\n",
    "            label_real = torch.full((A_b_size,), real_label, dtype=torch.float, device=device)\n",
    "            label_f = torch.full((A_b_size,), fake_label, dtype=torch.float, device=device)\n",
    "            zero = torch.full((A_b_size,), 0, dtype=torch.float, device=device)\n",
    "            #d_loss_fake = adversarial_loss(output_AB, label_fake)\n",
    "            d_loss_fake = torch.mean(torch.max(label_f - output_AB, zero))\n",
    "            if i % 60 == 0: print(f\"D loss fake: {d_loss_fake:.4f}\")\n",
    "\n",
    "            # Train siamese\n",
    "            siamese.zero_grad()\n",
    "            siamese_AB1 = siamese(gen_A1)\n",
    "            siamese_AB2 = siamese(gen_A2)\n",
    "            siamese_A1 = siamese(A1)\n",
    "            siamese_A2 = siamese(A2)\n",
    "\n",
    "\n",
    "            t_loss = cossine_loss((siamese_A1 - siamese_A2), (siamese_AB1 - siamese_AB2))\n",
    "            s_loss = siamese_loss(siamese_A1, siamese_A2)\n",
    "            ts_loss = 3 - t_loss - s_loss\n",
    "\n",
    "            if i % 60 == 0: print(f\"Ts loss {ts_loss:.4f}\")\n",
    "\n",
    "            label_gen = torch.full((A_b_size,), fake_label, dtype=torch.float, device=device)\n",
    "            disc = discriminator(AB.detach()).view(-1)\n",
    "            g_loss = torch.mean(-(label_gen - disc))\n",
    "            if i % 60 == 0: print(f\"G loss :{g_loss:.4f}\")\n",
    "\n",
    "            d_total_loss = (d_loss_real + d_loss_fake) / 2\n",
    "            g_total_loss = g_loss + 10. * ts_loss + 0.5 * id_loss\n",
    "\n",
    "            dis_b = output_B.mean().item()\n",
    "            dis_ab = output_AB.mean().item()\n",
    "\n",
    "            gen_optimizer.zero_grad()\n",
    "            g_total_loss.backward()\n",
    "            gen_optimizer.step()\n",
    "\n",
    "            dis_optimizer.zero_grad()\n",
    "            d_total_loss.backward()\n",
    "            dis_optimizer.step()\n",
    "\n",
    "        else:\n",
    "            d_loss_real, d_loss_fake = traind_discriminator(real_A, real_B)\n",
    "            d_total_loss = (d_loss_real + d_loss_fake) / 2\n",
    "\n",
    "        if i % 60 == 0:\n",
    "            print(f\"[{epoch}/{num_epochs - 1}] [{i}/{len(dataloader_A) - 1}]\\tLoss_dis: {d_total_loss.item():.4f}\\tLoss_gen: {g_total_loss.item():.4f}\\tD(x): {dis_b:.4f}\\tD(G(x)): {dis_ab:.4f}\")\n",
    "\n",
    "        gen_losses.append(g_total_loss.item())\n",
    "        dis_losses.append(d_total_loss.item())\n",
    "\n",
    "        # if iters % 500 == 0 or ((epoch == num_epochs - 1) and (i == len(dataloader) - 1)):\n",
    "        with torch.no_grad():\n",
    "            fake = generator(A1).detach().cpu()\n",
    "        img_lists.append(torchvision.utils.make_grid(fake, padding=2, normalize=True))\n",
    "\n",
    "        iters += 1\n",
    "    scheduler_gen.step(g_total_loss.item())\n",
    "    #scheduler_dis.step(d_total_loss.item())\n",
    "\n",
    "\n",
    "    joblib.dump(generator, filename_gen)\n",
    "    joblib.dump(discriminator, filename_dis)\n",
    "    joblib.dump(siamese, filename_sim)\n",
    "\n",
    "    gen_losses_arr = np.array(gen_losses, dtype=object)\n",
    "    dis_losses_arr = np.array(dis_losses, dtype=object)\n",
    "    img_arr = np.array(img_lists, dtype=object)\n",
    "    np.save('TraVeLGAN/no_smoothing_with_noise_gen4layers_20epoci_new/TraVeLGAN-gen_losses.npy', gen_losses_arr)\n",
    "    np.save('TraVeLGAN/no_smoothing_with_noise_gen4layers_20epoci_new/TraVeLGAN-dis_losses.npy', dis_losses_arr)\n",
    "    np.save('TraVeLGAN/no_smoothing_with_noise_gen4layers_20epoci_new/TraVeLGAN-imgs.npy', img_arr)\n"
   ],
   "metadata": {
    "collapsed": false,
    "is_executing": true,
    "ExecuteTime": {
     "start_time": "2023-06-10T17:04:43.014140148Z"
    }
   }
  },
  {
   "cell_type": "code",
   "execution_count": null,
   "outputs": [],
   "source": [
    "generator = joblib.load(filename_gen)\n",
    "# discriminator = joblib.load(filename_dis)"
   ],
   "metadata": {
    "collapsed": false,
    "is_executing": true
   }
  },
  {
   "cell_type": "code",
   "execution_count": null,
   "outputs": [],
   "source": [
    "test_spec = Image.open(\"Data/SpectrogramsA/pop/pop_spec1.jpg\")\n",
    "make_tensor = torchvision.transforms.ToTensor()\n",
    "test_spec = transform(test_spec)\n",
    "test_spec = torch.transpose(test_spec, 0, 2)\n",
    "\n",
    "fig, axs = plt.subplots(1)\n",
    "axs.imshow(test_spec)\n",
    "plt.show()\n",
    "\n",
    "\n",
    "test_spec = torch.transpose(test_spec, 0, 2)\n",
    "test_spec = torch.unsqueeze(test_spec, 0)\n",
    "# test_spec = torch.transpose(test_spec, 0, 1)\n",
    "\n",
    "print(test_spec.shape)\n",
    "test1, test2 = slice_images(test_spec)\n",
    "test_spec1 = generator(test1)\n",
    "test_spec2 = generator(test2)\n",
    "test_spec = assemble_images(test_spec1, test_spec2)\n",
    "\n",
    "test_spec = torch.squeeze(test_spec, 0)\n",
    "test_spec = torch.transpose(test_spec, 0, 2)\n",
    "\n",
    "print(test_spec.shape)\n",
    "fig, axs = plt.subplots(1)\n",
    "axs.imshow(test_spec.detach())\n",
    "plt.show()\n",
    "\n"
   ],
   "metadata": {
    "collapsed": false,
    "is_executing": true
   }
  },
  {
   "cell_type": "code",
   "execution_count": null,
   "outputs": [],
   "source": [
    "rock_batch = next(iter(dataloader_A))\n",
    "p = rock_batch[0]\n",
    "res = generator(p)\n",
    "#b1, b2 = slice_images(rock_batch)\n",
    "# p1 = generator(b1)\n",
    "# p2 = generator(b2)\n",
    "# p = assemble_images(p1, p2)\n",
    "\n",
    "plt.figure(figsize=(25,25))\n",
    "plt.subplot(1,2,1)\n",
    "plt.axis(\"off\")\n",
    "plt.title(\"Fake images\")\n",
    "plt.imshow(np.transpose(torchvision.utils.make_grid(res.to(device), padding=5, normalize=True).cpu(),(1,2,0)))\n",
    "\n",
    "\n",
    "\n",
    "# plt.subplot()\n",
    "# plt.axis(\"off\")\n",
    "# plt.title(\"Fake Images\")\n",
    "# plt.imshow(np.transpose(res.detach(),(1,2,0)))\n",
    "# plt.show()"
   ],
   "metadata": {
    "collapsed": false,
    "is_executing": true
   }
  },
  {
   "cell_type": "code",
   "execution_count": null,
   "outputs": [],
   "source": [
    "# real_batch = next(iter(dataloader))\n",
    "real_batch = next(iter(dataloader_A))\n",
    "\n",
    "plt.figure(figsize=(25,25))\n",
    "plt.subplot(1,2,1)\n",
    "plt.axis(\"off\")\n",
    "plt.title(\"Real images\")\n",
    "plt.imshow(np.transpose(torchvision.utils.make_grid(rock_batch[0].to(device)[:64], padding=5, normalize=True).cpu(),(1,2,0)))\n",
    "\n",
    "\n",
    "# plt.subplot(1,2,2)\n",
    "# plt.axis(\"off\")\n",
    "# plt.title(\"Fake Images\")\n",
    "# plt.imshow(np.transpose(img_lists[-1],(1,2,0)))\n",
    "# plt.show()"
   ],
   "metadata": {
    "collapsed": false,
    "is_executing": true
   }
  }
 ],
 "metadata": {
  "kernelspec": {
   "display_name": "Python 3",
   "language": "python",
   "name": "python3"
  },
  "language_info": {
   "codemirror_mode": {
    "name": "ipython",
    "version": 2
   },
   "file_extension": ".py",
   "mimetype": "text/x-python",
   "name": "python",
   "nbconvert_exporter": "python",
   "pygments_lexer": "ipython2",
   "version": "2.7.6"
  }
 },
 "nbformat": 4,
 "nbformat_minor": 0
}
