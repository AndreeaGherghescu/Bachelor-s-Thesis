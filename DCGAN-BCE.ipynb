{
 "cells": [
  {
   "cell_type": "markdown",
   "source": [
    "### DCGAN cu optimizari\n",
    "\n",
    "image_size = 32\n",
    "channels = 1"
   ],
   "metadata": {
    "collapsed": false
   }
  },
  {
   "cell_type": "code",
   "execution_count": 17,
   "metadata": {
    "collapsed": true,
    "ExecuteTime": {
     "end_time": "2023-06-07T19:27:46.960882695Z",
     "start_time": "2023-06-07T19:27:46.800165759Z"
    }
   },
   "outputs": [],
   "source": [
    "import pathlib\n",
    "import torch\n",
    "import numpy as np\n",
    "import matplotlib.pyplot as plt\n",
    "import torchvision\n",
    "from tqdm import tqdm\n",
    "from PIL import Image\n",
    "import os\n",
    "from torch.optim.lr_scheduler import ReduceLROnPlateau\n",
    "import joblib"
   ]
  },
  {
   "cell_type": "code",
   "execution_count": 18,
   "outputs": [],
   "source": [
    "ngpu = 0\n",
    "dataroot = \"Data/SpectrogramsB\"\n",
    "filename_gen = \"DCGAN/DCGAN-Gen.joblib\"\n",
    "filename_dis = \"DCGAN/DCGAN-Dis.joblib\"\n",
    "workers = 2\n",
    "batch_size = 32\n",
    "\n",
    "image_size = 32\n",
    "\n",
    "# channels nr for input images\n",
    "nc = 1\n",
    "\n",
    "# size of feature maps in generator\n",
    "ngf = 64\n",
    "\n",
    "# size of feature maps in discriminator\n",
    "ndf = 64\n",
    "\n",
    "num_epochs = 20\n",
    "lr = 0.0002\n",
    "lrD = 0.000001\n",
    "beta1 = 0.5\n",
    "\n",
    "def find_classes(directory:str):\n",
    "    classes = sorted(entry.name for entry in os.scandir(directory) if entry.is_dir())\n",
    "\n",
    "    class_to_index = {class_name: i for i, class_name in enumerate(classes)}\n",
    "\n",
    "    return classes, class_to_index"
   ],
   "metadata": {
    "collapsed": false,
    "ExecuteTime": {
     "end_time": "2023-06-07T19:27:46.962573799Z",
     "start_time": "2023-06-07T19:27:46.845903909Z"
    }
   }
  },
  {
   "cell_type": "code",
   "execution_count": 19,
   "outputs": [],
   "source": [
    "class MyImageFolder(torch.utils.data.Dataset):\n",
    "    def __init__(self, directory:str, transform=None):\n",
    "\n",
    "        self.paths = list(pathlib.Path(directory).glob('*/*.jpg'))\n",
    "\n",
    "        self.transform = transform\n",
    "        self.classes, self.class_to_index = find_classes(directory)\n",
    "\n",
    "    def __len__(self):\n",
    "        return len(self.paths)\n",
    "\n",
    "    def __getitem__(self, index):\n",
    "        img = self.load_image(index)\n",
    "        class_name = self.paths[index].parent.name\n",
    "        class_index = self.class_to_index[class_name]\n",
    "\n",
    "        if self.transform:\n",
    "            return self.transform(img), class_index\n",
    "        else:\n",
    "            return img, class_index\n",
    "\n",
    "    def load_image(self, index):\n",
    "        image_path = self.paths[index]\n",
    "        return Image.open(image_path)\n",
    "\n",
    "transform = torchvision.transforms.Compose([\n",
    "            #torchvision.transforms.RandomResizedCrop(image_size),\n",
    "            #torchvision.transforms.Resize(64),\n",
    "            #torchvision.transforms.RandomCrop(64),\n",
    "            # TODO test this\n",
    "            #torchvision.transforms.RandomResizedCrop(image_size, interpolation=torchvision.transforms.InterpolationMode.BICUBIC),\n",
    "            # torchvision.transforms.RandomHorizontalFlip(p=0.3)\n",
    "\n",
    "            torchvision.transforms.ToTensor(),  # imaginile sunt normalizate intre [0, 1]\n",
    "            torchvision.transforms.Normalize(0.5, 0.5),  # imaginile sunt normalizate intre [-1, 1]\n",
    "        ])\n"
   ],
   "metadata": {
    "collapsed": false,
    "ExecuteTime": {
     "end_time": "2023-06-07T19:27:46.962897631Z",
     "start_time": "2023-06-07T19:27:46.846524782Z"
    }
   }
  },
  {
   "cell_type": "code",
   "execution_count": 20,
   "outputs": [],
   "source": [
    "train_data = MyImageFolder(directory=\"Data/SpectrogramsB\", transform=transform)\n",
    "\n",
    "dataloader = torch.utils.data.DataLoader(train_data, batch_size=batch_size, shuffle=True, num_workers=2)\n",
    "device = torch.device(\"cuda:0\" if (torch.cuda.is_available() and ngpu > 0) else \"cpu\")\n"
   ],
   "metadata": {
    "collapsed": false,
    "ExecuteTime": {
     "end_time": "2023-06-07T19:27:46.964724838Z",
     "start_time": "2023-06-07T19:27:46.847202528Z"
    }
   }
  },
  {
   "cell_type": "code",
   "execution_count": 21,
   "outputs": [],
   "source": [
    "'''\n",
    "Gaussian distribution (also known as normal distribution) is a bell-shaped curve, and it is assumed that during any measurement values will follow a normal distribution with an equal number of measurements above and below the mean value.\n",
    "'''\n",
    "class GaussianNoise(torch.nn.Module):\n",
    "    def __init__(self, std=0.1, decay=0):\n",
    "        super().__init__()\n",
    "        self.std = std\n",
    "        self.decay = decay\n",
    "\n",
    "    def step(self):\n",
    "        self.std = max(self.std - self.decay, 0)\n",
    "\n",
    "    def forward(self, x):\n",
    "        if self.training:\n",
    "            return x + torch.empty_like(x).normal_(std=self.std)\n",
    "        else:\n",
    "            return x"
   ],
   "metadata": {
    "collapsed": false,
    "ExecuteTime": {
     "end_time": "2023-06-07T19:27:47.012914331Z",
     "start_time": "2023-06-07T19:27:46.944216375Z"
    }
   }
  },
  {
   "cell_type": "code",
   "execution_count": 22,
   "outputs": [],
   "source": [
    "'''\n",
    "From the DCGAN paper, the authors specify that all model weights shall be randomly initialized from a Normal distribution with mean=0, stdev=0.02. The weights_init function takes an initialized model as input and reinitializes all convolutional, convolutional-transpose, and batch normalization layers to meet this criteria. This function is applied to the models immediately after initialization.\n",
    "'''\n",
    "def weights_init(m):\n",
    "    classname = m.__class__.__name__\n",
    "    if classname.find('Conv') != -1:\n",
    "        torch.nn.init.normal_(m.weight.data, 0.0, 0.02)\n",
    "    elif classname.find('BatchNorm') != -1:\n",
    "        torch.nn.init.normal_(m.weight.data, 1.0, 0.02)\n",
    "        torch.nn.init.constant_(m.bias.data, 0)"
   ],
   "metadata": {
    "collapsed": false,
    "ExecuteTime": {
     "end_time": "2023-06-07T19:27:47.016411085Z",
     "start_time": "2023-06-07T19:27:46.989548740Z"
    }
   }
  },
  {
   "cell_type": "code",
   "execution_count": 23,
   "outputs": [
    {
     "data": {
      "text/plain": "Sequential(\n  (0): Conv2d(1, 64, kernel_size=(4, 4), stride=(1, 1), padding=(1, 1), bias=False)\n  (1): BatchNorm2d(64, eps=1e-05, momentum=0.1, affine=True, track_running_stats=True)\n  (2): LeakyReLU(negative_slope=True)\n  (3): Conv2d(64, 128, kernel_size=(4, 4), stride=(1, 1), padding=(1, 1), bias=False)\n  (4): BatchNorm2d(128, eps=1e-05, momentum=0.1, affine=True, track_running_stats=True)\n  (5): LeakyReLU(negative_slope=True)\n  (6): Conv2d(128, 256, kernel_size=(4, 4), stride=(2, 2), padding=(1, 1), bias=False)\n  (7): BatchNorm2d(256, eps=1e-05, momentum=0.1, affine=True, track_running_stats=True)\n  (8): LeakyReLU(negative_slope=True)\n  (9): Conv2d(256, 512, kernel_size=(4, 4), stride=(1, 1), padding=(1, 1), bias=False)\n  (10): BatchNorm2d(512, eps=1e-05, momentum=0.1, affine=True, track_running_stats=True)\n  (11): LeakyReLU(negative_slope=True)\n  (12): ConvTranspose2d(512, 256, kernel_size=(4, 4), stride=(1, 1), padding=(1, 1), bias=False)\n  (13): BatchNorm2d(256, eps=1e-05, momentum=0.1, affine=True, track_running_stats=True)\n  (14): LeakyReLU(negative_slope=True)\n  (15): ConvTranspose2d(256, 128, kernel_size=(4, 4), stride=(2, 2), padding=(1, 1), bias=False)\n  (16): BatchNorm2d(128, eps=1e-05, momentum=0.1, affine=True, track_running_stats=True)\n  (17): LeakyReLU(negative_slope=True)\n  (18): ConvTranspose2d(128, 64, kernel_size=(4, 4), stride=(1, 1), padding=(1, 1), bias=False)\n  (19): BatchNorm2d(64, eps=1e-05, momentum=0.1, affine=True, track_running_stats=True)\n  (20): LeakyReLU(negative_slope=True)\n  (21): ConvTranspose2d(64, 1, kernel_size=(4, 4), stride=(1, 1), padding=(1, 1), bias=False)\n  (22): Tanh()\n)"
     },
     "execution_count": 23,
     "metadata": {},
     "output_type": "execute_result"
    }
   ],
   "source": [
    "# TODO train cu si fara GaussianNoise()\n",
    "\n",
    "# maybe ReLU in generator\n",
    "generator = torch.nn.Sequential(\n",
    "    # 1 x 32 x 32\n",
    "\n",
    "    # downsampling\n",
    "    torch.nn.Conv2d(nc, ngf, kernel_size=4, stride=1, padding=1, bias=False),\n",
    "    torch.nn.BatchNorm2d(ngf),\n",
    "    torch.nn.LeakyReLU(True),\n",
    "    # ngf x 31 x 31\n",
    "    torch.nn.Conv2d(ngf, ngf * 2, kernel_size=4, stride=1, padding=1, bias=False),\n",
    "    torch.nn.BatchNorm2d(ngf * 2),\n",
    "    torch.nn.LeakyReLU(True),\n",
    "    # ngf*2 x 30 x 30\n",
    "\n",
    "    # TODO asta in loc de stratul de mai sus\n",
    "    # torch.nn.AvgPool2d(kernel_size=4, stride=2, padding=1)\n",
    "    # ngf x 32 x 32\n",
    "\n",
    "    torch.nn.Conv2d(ngf * 2, ngf * 4, kernel_size=4, stride=2, padding=1, bias=False),\n",
    "    torch.nn.BatchNorm2d(ngf * 4),\n",
    "    torch.nn.LeakyReLU(True),\n",
    "    # ngf*4 x 15 x 15\n",
    "\n",
    "    torch.nn.Conv2d(ngf * 4, ngf * 8, kernel_size=4, stride=1, padding=1, bias=False),\n",
    "    torch.nn.BatchNorm2d(ngf * 8),\n",
    "    torch.nn.LeakyReLU(True),\n",
    "    # ngf*2 x 14 x 14\n",
    "\n",
    "    # upsampling\n",
    "    torch.nn.ConvTranspose2d(ngf * 8, ngf * 4, kernel_size=4, stride=1, padding=1, bias=False),\n",
    "    torch.nn.BatchNorm2d(ngf * 4),\n",
    "    torch.nn.LeakyReLU(True),\n",
    "    # ngf*2 x 15 x 15\n",
    "\n",
    "    torch.nn.ConvTranspose2d(ngf * 4, ngf * 2, kernel_size=4, stride=2, padding=1, bias=False),\n",
    "    torch.nn.BatchNorm2d(ngf * 2),\n",
    "    torch.nn.LeakyReLU(True),\n",
    "    # ngf x 30 x 30\n",
    "\n",
    "    torch.nn.ConvTranspose2d(ngf * 2, ngf, kernel_size=4, stride=1, padding=1, bias=False),\n",
    "    torch.nn.BatchNorm2d(ngf),\n",
    "    torch.nn.LeakyReLU(True),\n",
    "    # ngf x 31 x 31\n",
    "\n",
    "    # TODO asta in loc de stratul de mai sus\n",
    "    # torch.nn.PixelShuffle(upscale_factor=2),\n",
    "    # ngf/2 x 64 x 64\n",
    "\n",
    "\n",
    "    torch.nn.ConvTranspose2d(ngf, nc, kernel_size=4, stride=1, padding=1, bias=False),\n",
    "    torch.nn.Tanh(),\n",
    "    # ngf x 32 x 32\n",
    "\n",
    ")\n",
    "\n",
    "generator.apply(weights_init)\n",
    "\n",
    "\n"
   ],
   "metadata": {
    "collapsed": false,
    "ExecuteTime": {
     "end_time": "2023-06-07T19:27:47.057835662Z",
     "start_time": "2023-06-07T19:27:46.989746769Z"
    }
   }
  },
  {
   "cell_type": "code",
   "execution_count": 24,
   "outputs": [
    {
     "data": {
      "text/plain": "Sequential(\n  (0): GaussianNoise()\n  (1): Conv2d(1, 64, kernel_size=(4, 4), stride=(2, 2), padding=(1, 1), bias=False)\n  (2): LeakyReLU(negative_slope=0.2, inplace=True)\n  (3): GaussianNoise()\n  (4): Conv2d(64, 128, kernel_size=(4, 4), stride=(2, 2), padding=(1, 1), bias=False)\n  (5): BatchNorm2d(128, eps=1e-05, momentum=0.1, affine=True, track_running_stats=True)\n  (6): LeakyReLU(negative_slope=0.2, inplace=True)\n  (7): GaussianNoise()\n  (8): Conv2d(128, 256, kernel_size=(4, 4), stride=(2, 2), padding=(1, 1), bias=False)\n  (9): BatchNorm2d(256, eps=1e-05, momentum=0.1, affine=True, track_running_stats=True)\n  (10): LeakyReLU(negative_slope=0.2, inplace=True)\n  (11): GaussianNoise()\n  (12): Conv2d(256, 1, kernel_size=(4, 4), stride=(1, 1), bias=False)\n  (13): Sigmoid()\n)"
     },
     "execution_count": 24,
     "metadata": {},
     "output_type": "execute_result"
    }
   ],
   "source": [
    "# Discriminator model\n",
    "# TODO train cu si fara GaussianNoise()\n",
    "# TODO de incercat torch.nn.AvgPool2d(kernel_size=4, stride=2, padding=1) in loc de batchnorm\n",
    "# TODO incercat cu torch.nn.Dropout(p=0.3) in loc de BatchNorm2d\n",
    "discriminator = torch.nn.Sequential(\n",
    "    # nc x 32 x 32\n",
    "    GaussianNoise(),\n",
    "    torch.nn.Conv2d(nc, ndf, 4, 2, 1, bias=False),\n",
    "    torch.nn.LeakyReLU(0.2, inplace=True),\n",
    "    # ndf x 16 x 16\n",
    "    GaussianNoise(),\n",
    "    torch.nn.Conv2d(ndf, ndf * 2, 4, 2, 1, bias=False),\n",
    "    torch.nn.BatchNorm2d(ndf * 2),\n",
    "    torch.nn.LeakyReLU(0.2, inplace=True),\n",
    "    # nfd*2 x 8 x 8\n",
    "    GaussianNoise(),\n",
    "    torch.nn.Conv2d(ndf * 2, ndf * 4, 4, 2, 1, bias=False),\n",
    "    torch.nn.BatchNorm2d(ndf * 4),\n",
    "    torch.nn.LeakyReLU(0.2, inplace=True),\n",
    "    # ndf*4 x 4 x 4\n",
    "    # GaussianNoise(),\n",
    "    # torch.nn.Conv2d(ndf * 4, ndf * 8, 4, 2, 1, bias=False),\n",
    "    # torch.nn.BatchNorm2d(ndf * 8),\n",
    "    # torch.nn.LeakyReLU(0.2, inplace=True),\n",
    "    # # nfd*8 x 8 x 8\n",
    "    # GaussianNoise(),\n",
    "    # torch.nn.Conv2d(ndf * 8, ndf * 8, 4, 2, 1, bias=False),\n",
    "    # torch.nn.BatchNorm2d(ndf * 8),\n",
    "    # torch.nn.LeakyReLU(0.2, inplace=True),\n",
    "    # # nfd*8 x 4 x 4\n",
    "    GaussianNoise(),\n",
    "    torch.nn.Conv2d(ndf * 4, 1, 4, 1, 0, bias=False),\n",
    "    torch.nn.Sigmoid(),\n",
    ")\n",
    "discriminator.apply(weights_init)\n",
    "\n"
   ],
   "metadata": {
    "collapsed": false,
    "ExecuteTime": {
     "end_time": "2023-06-07T19:27:47.122574845Z",
     "start_time": "2023-06-07T19:27:47.061567233Z"
    }
   }
  },
  {
   "cell_type": "code",
   "execution_count": 25,
   "outputs": [],
   "source": [
    "criterion = torch.nn.BCELoss()\n",
    "fixed_noise = torch.randn(batch_size, nc, image_size, image_size, device=device)\n",
    "real_label = 1\n",
    "fake_label = 0\n",
    "\n",
    "gen_optimizer = torch.optim.Adam(generator.parameters(), lr=lr, betas=(beta1, 0.999))\n",
    "dis_optimizer = torch.optim.Adam(discriminator.parameters(), lr=lrD, betas=(beta1, 0.999))\n",
    "scheduler_gen = ReduceLROnPlateau(gen_optimizer, patience=1, factor=0.1, min_lr=0.00000001, verbose=True)\n",
    "# scheduler_dis = ReduceLROnPlateau(dis_optimizer, patience=2, factor=0.2, min_lr=0.0000001)"
   ],
   "metadata": {
    "collapsed": false,
    "ExecuteTime": {
     "end_time": "2023-06-07T19:27:47.122823238Z",
     "start_time": "2023-06-07T19:27:47.106752374Z"
    }
   }
  },
  {
   "cell_type": "code",
   "execution_count": 26,
   "outputs": [],
   "source": [
    "def normalize(x, minim, maxim):\n",
    "    return (x - minim) / (maxim - minim)\n",
    "\n",
    "def smooth_label(label):\n",
    "    arr = torch.rand((b_size,), dtype=torch.float, device=device)\n",
    "    if label == 1:\n",
    "        for i in range(arr.shape[0]):\n",
    "            arr[i] = normalize(arr[i], 0.7, 1.2)\n",
    "    else:\n",
    "        for i in range(arr.shape[0]):\n",
    "            arr[i] = normalize(arr[i], 0.0, 0.3)\n",
    "    return arr\n",
    "\n",
    "img_lists = []\n",
    "gen_losses = []\n",
    "dis_losses = []\n",
    "iters = 0\n"
   ],
   "metadata": {
    "collapsed": false,
    "ExecuteTime": {
     "end_time": "2023-06-07T19:27:47.201757211Z",
     "start_time": "2023-06-07T19:27:47.107669166Z"
    }
   }
  },
  {
   "cell_type": "code",
   "execution_count": 27,
   "outputs": [
    {
     "name": "stderr",
     "output_type": "stream",
     "text": [
      "100it [02:25,  1.44s/it]"
     ]
    },
    {
     "name": "stdout",
     "output_type": "stream",
     "text": [
      "[0/19] [100/512]\tLoss_dis: 1.5155\tLoss_gen: 0.7911\tD(x): 0.5279\tD(G(x)): 0.5136 / 0.4899\n"
     ]
    },
    {
     "name": "stderr",
     "output_type": "stream",
     "text": [
      "200it [05:17,  1.68s/it]"
     ]
    },
    {
     "name": "stdout",
     "output_type": "stream",
     "text": [
      "[0/19] [200/512]\tLoss_dis: 1.4076\tLoss_gen: 0.9220\tD(x): 0.5107\tD(G(x)): 0.4357 / 0.4550\n"
     ]
    },
    {
     "name": "stderr",
     "output_type": "stream",
     "text": [
      "300it [08:02,  1.59s/it]"
     ]
    },
    {
     "name": "stdout",
     "output_type": "stream",
     "text": [
      "[0/19] [300/512]\tLoss_dis: 1.6511\tLoss_gen: 0.6445\tD(x): 0.4856\tD(G(x)): 0.5372 / 0.5511\n"
     ]
    },
    {
     "name": "stderr",
     "output_type": "stream",
     "text": [
      "400it [10:46,  1.65s/it]"
     ]
    },
    {
     "name": "stdout",
     "output_type": "stream",
     "text": [
      "[0/19] [400/512]\tLoss_dis: 1.6281\tLoss_gen: 0.5713\tD(x): 0.5514\tD(G(x)): 0.5838 / 0.5976\n"
     ]
    },
    {
     "name": "stderr",
     "output_type": "stream",
     "text": [
      "500it [13:36,  1.55s/it]"
     ]
    },
    {
     "name": "stdout",
     "output_type": "stream",
     "text": [
      "[0/19] [500/512]\tLoss_dis: 1.6098\tLoss_gen: 0.5632\tD(x): 0.5373\tD(G(x)): 0.5576 / 0.6007\n"
     ]
    },
    {
     "name": "stderr",
     "output_type": "stream",
     "text": [
      "513it [13:58,  1.64s/it]\n",
      "100it [02:45,  1.50s/it]"
     ]
    },
    {
     "name": "stdout",
     "output_type": "stream",
     "text": [
      "[1/19] [100/512]\tLoss_dis: 2.0789\tLoss_gen: 0.3136\tD(x): 0.4604\tD(G(x)): 0.6736 / 0.7409\n"
     ]
    },
    {
     "name": "stderr",
     "output_type": "stream",
     "text": [
      "200it [05:36,  1.86s/it]"
     ]
    },
    {
     "name": "stdout",
     "output_type": "stream",
     "text": [
      "[1/19] [200/512]\tLoss_dis: 2.2549\tLoss_gen: 0.3847\tD(x): 0.4350\tD(G(x)): 0.7072 / 0.6937\n"
     ]
    },
    {
     "name": "stderr",
     "output_type": "stream",
     "text": [
      "300it [08:23,  1.68s/it]"
     ]
    },
    {
     "name": "stdout",
     "output_type": "stream",
     "text": [
      "[1/19] [300/512]\tLoss_dis: 2.1688\tLoss_gen: 0.2857\tD(x): 0.4551\tD(G(x)): 0.7036 / 0.7604\n"
     ]
    },
    {
     "name": "stderr",
     "output_type": "stream",
     "text": [
      "400it [11:14,  2.26s/it]"
     ]
    },
    {
     "name": "stdout",
     "output_type": "stream",
     "text": [
      "[1/19] [400/512]\tLoss_dis: 2.2978\tLoss_gen: 0.4131\tD(x): 0.3995\tD(G(x)): 0.6787 / 0.6807\n"
     ]
    },
    {
     "name": "stderr",
     "output_type": "stream",
     "text": [
      "500it [13:54,  1.58s/it]"
     ]
    },
    {
     "name": "stdout",
     "output_type": "stream",
     "text": [
      "[1/19] [500/512]\tLoss_dis: 2.0093\tLoss_gen: 0.4373\tD(x): 0.4453\tD(G(x)): 0.6507 / 0.6666\n"
     ]
    },
    {
     "name": "stderr",
     "output_type": "stream",
     "text": [
      "513it [14:14,  1.66s/it]\n",
      "100it [02:39,  1.57s/it]"
     ]
    },
    {
     "name": "stdout",
     "output_type": "stream",
     "text": [
      "[2/19] [100/512]\tLoss_dis: 1.9867\tLoss_gen: 0.6052\tD(x): 0.4976\tD(G(x)): 0.6712 / 0.5638\n"
     ]
    },
    {
     "name": "stderr",
     "output_type": "stream",
     "text": [
      "200it [05:13,  1.57s/it]"
     ]
    },
    {
     "name": "stdout",
     "output_type": "stream",
     "text": [
      "[2/19] [200/512]\tLoss_dis: 2.1104\tLoss_gen: 0.4322\tD(x): 0.4675\tD(G(x)): 0.6790 / 0.6628\n"
     ]
    },
    {
     "name": "stderr",
     "output_type": "stream",
     "text": [
      "300it [07:51,  1.55s/it]"
     ]
    },
    {
     "name": "stdout",
     "output_type": "stream",
     "text": [
      "[2/19] [300/512]\tLoss_dis: 2.1304\tLoss_gen: 0.4392\tD(x): 0.4071\tD(G(x)): 0.6674 / 0.6604\n"
     ]
    },
    {
     "name": "stderr",
     "output_type": "stream",
     "text": [
      "400it [10:24,  1.55s/it]"
     ]
    },
    {
     "name": "stdout",
     "output_type": "stream",
     "text": [
      "[2/19] [400/512]\tLoss_dis: 1.7238\tLoss_gen: 0.5291\tD(x): 0.4512\tD(G(x)): 0.5464 / 0.6123\n"
     ]
    },
    {
     "name": "stderr",
     "output_type": "stream",
     "text": [
      "500it [12:59,  1.55s/it]"
     ]
    },
    {
     "name": "stdout",
     "output_type": "stream",
     "text": [
      "[2/19] [500/512]\tLoss_dis: 1.8453\tLoss_gen: 0.5877\tD(x): 0.4914\tD(G(x)): 0.6077 / 0.5805\n"
     ]
    },
    {
     "name": "stderr",
     "output_type": "stream",
     "text": [
      "513it [13:19,  1.56s/it]"
     ]
    },
    {
     "name": "stdout",
     "output_type": "stream",
     "text": [
      "Epoch 00003: reducing learning rate of group 0 to 2.0000e-05.\n"
     ]
    },
    {
     "name": "stderr",
     "output_type": "stream",
     "text": [
      "\n",
      "100it [02:33,  1.45s/it]"
     ]
    },
    {
     "name": "stdout",
     "output_type": "stream",
     "text": [
      "[3/19] [100/512]\tLoss_dis: 1.2909\tLoss_gen: 0.9196\tD(x): 0.5186\tD(G(x)): 0.4101 / 0.4353\n"
     ]
    },
    {
     "name": "stderr",
     "output_type": "stream",
     "text": [
      "200it [05:06,  1.44s/it]"
     ]
    },
    {
     "name": "stdout",
     "output_type": "stream",
     "text": [
      "[3/19] [200/512]\tLoss_dis: 1.3438\tLoss_gen: 1.0591\tD(x): 0.5057\tD(G(x)): 0.4151 / 0.3751\n"
     ]
    },
    {
     "name": "stderr",
     "output_type": "stream",
     "text": [
      "300it [07:44,  1.69s/it]"
     ]
    },
    {
     "name": "stdout",
     "output_type": "stream",
     "text": [
      "[3/19] [300/512]\tLoss_dis: 1.4239\tLoss_gen: 0.8574\tD(x): 0.5180\tD(G(x)): 0.4625 / 0.4611\n"
     ]
    },
    {
     "name": "stderr",
     "output_type": "stream",
     "text": [
      "400it [10:21,  1.65s/it]"
     ]
    },
    {
     "name": "stdout",
     "output_type": "stream",
     "text": [
      "[3/19] [400/512]\tLoss_dis: 1.3142\tLoss_gen: 1.0563\tD(x): 0.4975\tD(G(x)): 0.3983 / 0.3857\n"
     ]
    },
    {
     "name": "stderr",
     "output_type": "stream",
     "text": [
      "500it [12:58,  1.58s/it]"
     ]
    },
    {
     "name": "stdout",
     "output_type": "stream",
     "text": [
      "[3/19] [500/512]\tLoss_dis: 1.1144\tLoss_gen: 1.0128\tD(x): 0.6146\tD(G(x)): 0.4248 / 0.3986\n"
     ]
    },
    {
     "name": "stderr",
     "output_type": "stream",
     "text": [
      "513it [13:18,  1.56s/it]\n",
      "100it [02:34,  1.55s/it]"
     ]
    },
    {
     "name": "stdout",
     "output_type": "stream",
     "text": [
      "[4/19] [100/512]\tLoss_dis: 1.0476\tLoss_gen: 1.0084\tD(x): 0.6213\tD(G(x)): 0.3880 / 0.3956\n"
     ]
    },
    {
     "name": "stderr",
     "output_type": "stream",
     "text": [
      "200it [05:12,  1.77s/it]"
     ]
    },
    {
     "name": "stdout",
     "output_type": "stream",
     "text": [
      "[4/19] [200/512]\tLoss_dis: 1.1792\tLoss_gen: 0.9929\tD(x): 0.5762\tD(G(x)): 0.4200 / 0.4044\n"
     ]
    },
    {
     "name": "stderr",
     "output_type": "stream",
     "text": [
      "300it [07:46,  1.56s/it]"
     ]
    },
    {
     "name": "stdout",
     "output_type": "stream",
     "text": [
      "[4/19] [300/512]\tLoss_dis: 1.0285\tLoss_gen: 1.1894\tD(x): 0.5740\tD(G(x)): 0.3259 / 0.3444\n"
     ]
    },
    {
     "name": "stderr",
     "output_type": "stream",
     "text": [
      "400it [10:23,  1.55s/it]"
     ]
    },
    {
     "name": "stdout",
     "output_type": "stream",
     "text": [
      "[4/19] [400/512]\tLoss_dis: 1.0495\tLoss_gen: 1.1625\tD(x): 0.5996\tD(G(x)): 0.3438 / 0.3574\n"
     ]
    },
    {
     "name": "stderr",
     "output_type": "stream",
     "text": [
      "500it [13:01,  1.55s/it]"
     ]
    },
    {
     "name": "stdout",
     "output_type": "stream",
     "text": [
      "[4/19] [500/512]\tLoss_dis: 1.0372\tLoss_gen: 1.0822\tD(x): 0.6401\tD(G(x)): 0.4059 / 0.3914\n"
     ]
    },
    {
     "name": "stderr",
     "output_type": "stream",
     "text": [
      "513it [13:21,  1.56s/it]"
     ]
    },
    {
     "name": "stdout",
     "output_type": "stream",
     "text": [
      "Epoch 00005: reducing learning rate of group 0 to 2.0000e-06.\n"
     ]
    },
    {
     "name": "stderr",
     "output_type": "stream",
     "text": [
      "\n",
      "100it [02:34,  1.44s/it]"
     ]
    },
    {
     "name": "stdout",
     "output_type": "stream",
     "text": [
      "[5/19] [100/512]\tLoss_dis: 0.8582\tLoss_gen: 1.5267\tD(x): 0.6482\tD(G(x)): 0.3028 / 0.2583\n"
     ]
    },
    {
     "name": "stderr",
     "output_type": "stream",
     "text": [
      "200it [05:09,  1.55s/it]"
     ]
    },
    {
     "name": "stdout",
     "output_type": "stream",
     "text": [
      "[5/19] [200/512]\tLoss_dis: 0.7345\tLoss_gen: 1.5469\tD(x): 0.7104\tD(G(x)): 0.2875 / 0.2575\n"
     ]
    },
    {
     "name": "stderr",
     "output_type": "stream",
     "text": [
      "300it [07:42,  1.56s/it]"
     ]
    },
    {
     "name": "stdout",
     "output_type": "stream",
     "text": [
      "[5/19] [300/512]\tLoss_dis: 0.7641\tLoss_gen: 1.5449\tD(x): 0.6492\tD(G(x)): 0.2437 / 0.2528\n"
     ]
    },
    {
     "name": "stderr",
     "output_type": "stream",
     "text": [
      "400it [10:18,  1.54s/it]"
     ]
    },
    {
     "name": "stdout",
     "output_type": "stream",
     "text": [
      "[5/19] [400/512]\tLoss_dis: 0.6416\tLoss_gen: 1.5434\tD(x): 0.7016\tD(G(x)): 0.2278 / 0.2433\n"
     ]
    },
    {
     "name": "stderr",
     "output_type": "stream",
     "text": [
      "500it [12:56,  1.57s/it]"
     ]
    },
    {
     "name": "stdout",
     "output_type": "stream",
     "text": [
      "[5/19] [500/512]\tLoss_dis: 0.7494\tLoss_gen: 1.1763\tD(x): 0.7138\tD(G(x)): 0.3007 / 0.3355\n"
     ]
    },
    {
     "name": "stderr",
     "output_type": "stream",
     "text": [
      "513it [13:15,  1.55s/it]\n",
      "100it [02:34,  1.55s/it]"
     ]
    },
    {
     "name": "stdout",
     "output_type": "stream",
     "text": [
      "[6/19] [100/512]\tLoss_dis: 0.6971\tLoss_gen: 1.4764\tD(x): 0.7146\tD(G(x)): 0.2801 / 0.2857\n"
     ]
    },
    {
     "name": "stderr",
     "output_type": "stream",
     "text": [
      "200it [05:06,  1.60s/it]"
     ]
    },
    {
     "name": "stdout",
     "output_type": "stream",
     "text": [
      "[6/19] [200/512]\tLoss_dis: 0.6726\tLoss_gen: 1.5605\tD(x): 0.7151\tD(G(x)): 0.2523 / 0.2342\n"
     ]
    },
    {
     "name": "stderr",
     "output_type": "stream",
     "text": [
      "300it [07:35,  1.52s/it]"
     ]
    },
    {
     "name": "stdout",
     "output_type": "stream",
     "text": [
      "[6/19] [300/512]\tLoss_dis: 0.6184\tLoss_gen: 1.6268\tD(x): 0.7425\tD(G(x)): 0.2539 / 0.2270\n"
     ]
    },
    {
     "name": "stderr",
     "output_type": "stream",
     "text": [
      "400it [10:03,  1.47s/it]"
     ]
    },
    {
     "name": "stdout",
     "output_type": "stream",
     "text": [
      "[6/19] [400/512]\tLoss_dis: 0.5274\tLoss_gen: 1.5595\tD(x): 0.7813\tD(G(x)): 0.2200 / 0.2398\n"
     ]
    },
    {
     "name": "stderr",
     "output_type": "stream",
     "text": [
      "500it [12:32,  1.46s/it]"
     ]
    },
    {
     "name": "stdout",
     "output_type": "stream",
     "text": [
      "[6/19] [500/512]\tLoss_dis: 0.5885\tLoss_gen: 1.6843\tD(x): 0.7493\tD(G(x)): 0.2167 / 0.2207\n"
     ]
    },
    {
     "name": "stderr",
     "output_type": "stream",
     "text": [
      "513it [12:51,  1.50s/it]"
     ]
    },
    {
     "name": "stdout",
     "output_type": "stream",
     "text": [
      "Epoch 00007: reducing learning rate of group 0 to 2.0000e-07.\n"
     ]
    },
    {
     "name": "stderr",
     "output_type": "stream",
     "text": [
      "\n",
      "100it [02:28,  1.45s/it]"
     ]
    },
    {
     "name": "stdout",
     "output_type": "stream",
     "text": [
      "[7/19] [100/512]\tLoss_dis: 0.5204\tLoss_gen: 1.8732\tD(x): 0.7717\tD(G(x)): 0.2069 / 0.1808\n"
     ]
    },
    {
     "name": "stderr",
     "output_type": "stream",
     "text": [
      "200it [04:57,  1.46s/it]"
     ]
    },
    {
     "name": "stdout",
     "output_type": "stream",
     "text": [
      "[7/19] [200/512]\tLoss_dis: 0.4684\tLoss_gen: 1.9544\tD(x): 0.7751\tD(G(x)): 0.1739 / 0.1734\n"
     ]
    },
    {
     "name": "stderr",
     "output_type": "stream",
     "text": [
      "300it [07:25,  1.36s/it]"
     ]
    },
    {
     "name": "stdout",
     "output_type": "stream",
     "text": [
      "[7/19] [300/512]\tLoss_dis: 0.4236\tLoss_gen: 2.2441\tD(x): 0.7819\tD(G(x)): 0.1446 / 0.1227\n"
     ]
    },
    {
     "name": "stderr",
     "output_type": "stream",
     "text": [
      "400it [09:54,  1.47s/it]"
     ]
    },
    {
     "name": "stdout",
     "output_type": "stream",
     "text": [
      "[7/19] [400/512]\tLoss_dis: 0.3514\tLoss_gen: 2.0474\tD(x): 0.8272\tD(G(x)): 0.1372 / 0.1484\n"
     ]
    },
    {
     "name": "stderr",
     "output_type": "stream",
     "text": [
      "500it [12:22,  1.48s/it]"
     ]
    },
    {
     "name": "stdout",
     "output_type": "stream",
     "text": [
      "[7/19] [500/512]\tLoss_dis: 0.3261\tLoss_gen: 2.5153\tD(x): 0.8536\tD(G(x)): 0.1437 / 0.0963\n"
     ]
    },
    {
     "name": "stderr",
     "output_type": "stream",
     "text": [
      "513it [12:41,  1.48s/it]\n",
      "100it [02:29,  1.48s/it]"
     ]
    },
    {
     "name": "stdout",
     "output_type": "stream",
     "text": [
      "[8/19] [100/512]\tLoss_dis: 0.2301\tLoss_gen: 2.4272\tD(x): 0.8837\tD(G(x)): 0.0951 / 0.1011\n"
     ]
    },
    {
     "name": "stderr",
     "output_type": "stream",
     "text": [
      "200it [04:58,  1.46s/it]"
     ]
    },
    {
     "name": "stdout",
     "output_type": "stream",
     "text": [
      "[8/19] [200/512]\tLoss_dis: 0.3126\tLoss_gen: 2.3867\tD(x): 0.8549\tD(G(x)): 0.1220 / 0.1097\n"
     ]
    },
    {
     "name": "stderr",
     "output_type": "stream",
     "text": [
      "300it [07:28,  1.49s/it]"
     ]
    },
    {
     "name": "stdout",
     "output_type": "stream",
     "text": [
      "[8/19] [300/512]\tLoss_dis: 0.2481\tLoss_gen: 2.6636\tD(x): 0.8811\tD(G(x)): 0.1070 / 0.0932\n"
     ]
    },
    {
     "name": "stderr",
     "output_type": "stream",
     "text": [
      "400it [09:56,  1.46s/it]"
     ]
    },
    {
     "name": "stdout",
     "output_type": "stream",
     "text": [
      "[8/19] [400/512]\tLoss_dis: 0.2464\tLoss_gen: 2.6878\tD(x): 0.8740\tD(G(x)): 0.0959 / 0.0938\n"
     ]
    },
    {
     "name": "stderr",
     "output_type": "stream",
     "text": [
      "500it [12:27,  1.47s/it]"
     ]
    },
    {
     "name": "stdout",
     "output_type": "stream",
     "text": [
      "[8/19] [500/512]\tLoss_dis: 0.2419\tLoss_gen: 2.5990\tD(x): 0.8901\tD(G(x)): 0.1103 / 0.0879\n"
     ]
    },
    {
     "name": "stderr",
     "output_type": "stream",
     "text": [
      "513it [12:46,  1.49s/it]"
     ]
    },
    {
     "name": "stdout",
     "output_type": "stream",
     "text": [
      "Epoch 00009: reducing learning rate of group 0 to 2.0000e-08.\n"
     ]
    },
    {
     "name": "stderr",
     "output_type": "stream",
     "text": [
      "\n",
      "100it [02:27,  1.46s/it]"
     ]
    },
    {
     "name": "stdout",
     "output_type": "stream",
     "text": [
      "[9/19] [100/512]\tLoss_dis: 0.2014\tLoss_gen: 2.7517\tD(x): 0.8985\tD(G(x)): 0.0841 / 0.0862\n"
     ]
    },
    {
     "name": "stderr",
     "output_type": "stream",
     "text": [
      "200it [04:57,  1.49s/it]"
     ]
    },
    {
     "name": "stdout",
     "output_type": "stream",
     "text": [
      "[9/19] [200/512]\tLoss_dis: 0.1469\tLoss_gen: 2.9082\tD(x): 0.9266\tD(G(x)): 0.0657 / 0.0796\n"
     ]
    },
    {
     "name": "stderr",
     "output_type": "stream",
     "text": [
      "300it [07:27,  1.46s/it]"
     ]
    },
    {
     "name": "stdout",
     "output_type": "stream",
     "text": [
      "[9/19] [300/512]\tLoss_dis: 0.1774\tLoss_gen: 2.9310\tD(x): 0.9106\tD(G(x)): 0.0765 / 0.0752\n"
     ]
    },
    {
     "name": "stderr",
     "output_type": "stream",
     "text": [
      "400it [09:56,  1.59s/it]"
     ]
    },
    {
     "name": "stdout",
     "output_type": "stream",
     "text": [
      "[9/19] [400/512]\tLoss_dis: 0.1683\tLoss_gen: 3.0394\tD(x): 0.9176\tD(G(x)): 0.0742 / 0.0701\n"
     ]
    },
    {
     "name": "stderr",
     "output_type": "stream",
     "text": [
      "500it [12:26,  1.46s/it]"
     ]
    },
    {
     "name": "stdout",
     "output_type": "stream",
     "text": [
      "[9/19] [500/512]\tLoss_dis: 0.1577\tLoss_gen: 3.0413\tD(x): 0.9066\tD(G(x)): 0.0523 / 0.0586\n"
     ]
    },
    {
     "name": "stderr",
     "output_type": "stream",
     "text": [
      "513it [12:45,  1.49s/it]\n",
      "100it [02:30,  1.50s/it]"
     ]
    },
    {
     "name": "stdout",
     "output_type": "stream",
     "text": [
      "[10/19] [100/512]\tLoss_dis: 0.1014\tLoss_gen: 3.0632\tD(x): 0.9472\tD(G(x)): 0.0451 / 0.0667\n"
     ]
    },
    {
     "name": "stderr",
     "output_type": "stream",
     "text": [
      "200it [05:00,  1.50s/it]"
     ]
    },
    {
     "name": "stdout",
     "output_type": "stream",
     "text": [
      "[10/19] [200/512]\tLoss_dis: 0.0945\tLoss_gen: 3.0023\tD(x): 0.9446\tD(G(x)): 0.0344 / 0.0692\n"
     ]
    },
    {
     "name": "stderr",
     "output_type": "stream",
     "text": [
      "300it [07:30,  1.50s/it]"
     ]
    },
    {
     "name": "stdout",
     "output_type": "stream",
     "text": [
      "[10/19] [300/512]\tLoss_dis: 0.1362\tLoss_gen: 3.4983\tD(x): 0.9279\tD(G(x)): 0.0545 / 0.0378\n"
     ]
    },
    {
     "name": "stderr",
     "output_type": "stream",
     "text": [
      "400it [09:55,  1.44s/it]"
     ]
    },
    {
     "name": "stdout",
     "output_type": "stream",
     "text": [
      "[10/19] [400/512]\tLoss_dis: 0.0951\tLoss_gen: 3.4984\tD(x): 0.9491\tD(G(x)): 0.0401 / 0.0453\n"
     ]
    },
    {
     "name": "stderr",
     "output_type": "stream",
     "text": [
      "500it [12:19,  1.40s/it]"
     ]
    },
    {
     "name": "stdout",
     "output_type": "stream",
     "text": [
      "[10/19] [500/512]\tLoss_dis: 0.1031\tLoss_gen: 3.6507\tD(x): 0.9367\tD(G(x)): 0.0352 / 0.0329\n"
     ]
    },
    {
     "name": "stderr",
     "output_type": "stream",
     "text": [
      "513it [12:38,  1.48s/it]"
     ]
    },
    {
     "name": "stdout",
     "output_type": "stream",
     "text": [
      "Epoch 00011: reducing learning rate of group 0 to 1.0000e-08.\n"
     ]
    },
    {
     "name": "stderr",
     "output_type": "stream",
     "text": [
      "\n",
      "100it [02:24,  1.39s/it]"
     ]
    },
    {
     "name": "stdout",
     "output_type": "stream",
     "text": [
      "[11/19] [100/512]\tLoss_dis: 0.0904\tLoss_gen: 3.5280\tD(x): 0.9457\tD(G(x)): 0.0322 / 0.0350\n"
     ]
    },
    {
     "name": "stderr",
     "output_type": "stream",
     "text": [
      "200it [04:50,  1.47s/it]"
     ]
    },
    {
     "name": "stdout",
     "output_type": "stream",
     "text": [
      "[11/19] [200/512]\tLoss_dis: 0.0680\tLoss_gen: 3.6622\tD(x): 0.9658\tD(G(x)): 0.0319 / 0.0336\n"
     ]
    },
    {
     "name": "stderr",
     "output_type": "stream",
     "text": [
      "300it [07:14,  1.41s/it]"
     ]
    },
    {
     "name": "stdout",
     "output_type": "stream",
     "text": [
      "[11/19] [300/512]\tLoss_dis: 0.0753\tLoss_gen: 3.9079\tD(x): 0.9593\tD(G(x)): 0.0322 / 0.0283\n"
     ]
    },
    {
     "name": "stderr",
     "output_type": "stream",
     "text": [
      "400it [09:40,  1.43s/it]"
     ]
    },
    {
     "name": "stdout",
     "output_type": "stream",
     "text": [
      "[11/19] [400/512]\tLoss_dis: 0.0679\tLoss_gen: 4.1319\tD(x): 0.9678\tD(G(x)): 0.0337 / 0.0210\n"
     ]
    },
    {
     "name": "stderr",
     "output_type": "stream",
     "text": [
      "500it [12:03,  1.41s/it]"
     ]
    },
    {
     "name": "stdout",
     "output_type": "stream",
     "text": [
      "[11/19] [500/512]\tLoss_dis: 0.0539\tLoss_gen: 4.2180\tD(x): 0.9709\tD(G(x)): 0.0237 / 0.0202\n"
     ]
    },
    {
     "name": "stderr",
     "output_type": "stream",
     "text": [
      "513it [12:22,  1.45s/it]\n",
      "100it [02:25,  1.57s/it]"
     ]
    },
    {
     "name": "stdout",
     "output_type": "stream",
     "text": [
      "[12/19] [100/512]\tLoss_dis: 0.0564\tLoss_gen: 3.9553\tD(x): 0.9719\tD(G(x)): 0.0270 / 0.0286\n"
     ]
    },
    {
     "name": "stderr",
     "output_type": "stream",
     "text": [
      "200it [04:50,  1.51s/it]"
     ]
    },
    {
     "name": "stdout",
     "output_type": "stream",
     "text": [
      "[12/19] [200/512]\tLoss_dis: 0.0527\tLoss_gen: 4.3413\tD(x): 0.9683\tD(G(x)): 0.0199 / 0.0166\n"
     ]
    },
    {
     "name": "stderr",
     "output_type": "stream",
     "text": [
      "300it [07:16,  1.44s/it]"
     ]
    },
    {
     "name": "stdout",
     "output_type": "stream",
     "text": [
      "[12/19] [300/512]\tLoss_dis: 0.0542\tLoss_gen: 4.3080\tD(x): 0.9713\tD(G(x)): 0.0238 / 0.0199\n"
     ]
    },
    {
     "name": "stderr",
     "output_type": "stream",
     "text": [
      "400it [09:40,  1.49s/it]"
     ]
    },
    {
     "name": "stdout",
     "output_type": "stream",
     "text": [
      "[12/19] [400/512]\tLoss_dis: 0.0398\tLoss_gen: 4.2293\tD(x): 0.9772\tD(G(x)): 0.0163 / 0.0234\n"
     ]
    },
    {
     "name": "stderr",
     "output_type": "stream",
     "text": [
      "500it [12:07,  1.48s/it]"
     ]
    },
    {
     "name": "stdout",
     "output_type": "stream",
     "text": [
      "[12/19] [500/512]\tLoss_dis: 0.0395\tLoss_gen: 4.4471\tD(x): 0.9782\tD(G(x)): 0.0171 / 0.0163\n"
     ]
    },
    {
     "name": "stderr",
     "output_type": "stream",
     "text": [
      "513it [12:26,  1.45s/it]\n",
      "100it [02:26,  1.47s/it]"
     ]
    },
    {
     "name": "stdout",
     "output_type": "stream",
     "text": [
      "[13/19] [100/512]\tLoss_dis: 0.0458\tLoss_gen: 4.4014\tD(x): 0.9725\tD(G(x)): 0.0172 / 0.0145\n"
     ]
    },
    {
     "name": "stderr",
     "output_type": "stream",
     "text": [
      "200it [04:49,  1.41s/it]"
     ]
    },
    {
     "name": "stdout",
     "output_type": "stream",
     "text": [
      "[13/19] [200/512]\tLoss_dis: 0.0292\tLoss_gen: 4.5049\tD(x): 0.9833\tD(G(x)): 0.0121 / 0.0144\n"
     ]
    },
    {
     "name": "stderr",
     "output_type": "stream",
     "text": [
      "300it [07:14,  1.47s/it]"
     ]
    },
    {
     "name": "stdout",
     "output_type": "stream",
     "text": [
      "[13/19] [300/512]\tLoss_dis: 0.0346\tLoss_gen: 4.7318\tD(x): 0.9790\tD(G(x)): 0.0129 / 0.0137\n"
     ]
    },
    {
     "name": "stderr",
     "output_type": "stream",
     "text": [
      "400it [09:40,  1.46s/it]"
     ]
    },
    {
     "name": "stdout",
     "output_type": "stream",
     "text": [
      "[13/19] [400/512]\tLoss_dis: 0.0350\tLoss_gen: 4.7946\tD(x): 0.9762\tD(G(x)): 0.0104 / 0.0123\n"
     ]
    },
    {
     "name": "stderr",
     "output_type": "stream",
     "text": [
      "500it [12:05,  1.50s/it]"
     ]
    },
    {
     "name": "stdout",
     "output_type": "stream",
     "text": [
      "[13/19] [500/512]\tLoss_dis: 0.0335\tLoss_gen: 4.8821\tD(x): 0.9759\tD(G(x)): 0.0084 / 0.0106\n"
     ]
    },
    {
     "name": "stderr",
     "output_type": "stream",
     "text": [
      "513it [12:25,  1.45s/it]\n",
      "100it [02:28,  1.60s/it]"
     ]
    },
    {
     "name": "stdout",
     "output_type": "stream",
     "text": [
      "[14/19] [100/512]\tLoss_dis: 0.0237\tLoss_gen: 4.8536\tD(x): 0.9882\tD(G(x)): 0.0117 / 0.0101\n"
     ]
    },
    {
     "name": "stderr",
     "output_type": "stream",
     "text": [
      "200it [04:54,  1.44s/it]"
     ]
    },
    {
     "name": "stdout",
     "output_type": "stream",
     "text": [
      "[14/19] [200/512]\tLoss_dis: 0.0191\tLoss_gen: 4.7153\tD(x): 0.9897\tD(G(x)): 0.0087 / 0.0141\n"
     ]
    },
    {
     "name": "stderr",
     "output_type": "stream",
     "text": [
      "300it [07:21,  1.45s/it]"
     ]
    },
    {
     "name": "stdout",
     "output_type": "stream",
     "text": [
      "[14/19] [300/512]\tLoss_dis: 0.0278\tLoss_gen: 5.1844\tD(x): 0.9822\tD(G(x)): 0.0096 / 0.0093\n"
     ]
    },
    {
     "name": "stderr",
     "output_type": "stream",
     "text": [
      "400it [09:46,  1.39s/it]"
     ]
    },
    {
     "name": "stdout",
     "output_type": "stream",
     "text": [
      "[14/19] [400/512]\tLoss_dis: 0.0226\tLoss_gen: 5.0258\tD(x): 0.9872\tD(G(x)): 0.0095 / 0.0094\n"
     ]
    },
    {
     "name": "stderr",
     "output_type": "stream",
     "text": [
      "500it [12:14,  1.50s/it]"
     ]
    },
    {
     "name": "stdout",
     "output_type": "stream",
     "text": [
      "[14/19] [500/512]\tLoss_dis: 0.0181\tLoss_gen: 5.2788\tD(x): 0.9911\tD(G(x)): 0.0091 / 0.0069\n"
     ]
    },
    {
     "name": "stderr",
     "output_type": "stream",
     "text": [
      "513it [12:32,  1.47s/it]\n",
      "100it [02:25,  1.42s/it]"
     ]
    },
    {
     "name": "stdout",
     "output_type": "stream",
     "text": [
      "[15/19] [100/512]\tLoss_dis: 0.0232\tLoss_gen: 5.4174\tD(x): 0.9850\tD(G(x)): 0.0077 / 0.0085\n"
     ]
    },
    {
     "name": "stderr",
     "output_type": "stream",
     "text": [
      "200it [04:51,  1.44s/it]"
     ]
    },
    {
     "name": "stdout",
     "output_type": "stream",
     "text": [
      "[15/19] [200/512]\tLoss_dis: 0.0145\tLoss_gen: 5.4717\tD(x): 0.9934\tD(G(x)): 0.0078 / 0.0062\n"
     ]
    },
    {
     "name": "stderr",
     "output_type": "stream",
     "text": [
      "300it [07:17,  1.48s/it]"
     ]
    },
    {
     "name": "stdout",
     "output_type": "stream",
     "text": [
      "[15/19] [300/512]\tLoss_dis: 0.0138\tLoss_gen: 5.6934\tD(x): 0.9932\tD(G(x)): 0.0069 / 0.0049\n"
     ]
    },
    {
     "name": "stderr",
     "output_type": "stream",
     "text": [
      "400it [09:47,  1.69s/it]"
     ]
    },
    {
     "name": "stdout",
     "output_type": "stream",
     "text": [
      "[15/19] [400/512]\tLoss_dis: 0.0171\tLoss_gen: 5.4814\tD(x): 0.9909\tD(G(x)): 0.0078 / 0.0064\n"
     ]
    },
    {
     "name": "stderr",
     "output_type": "stream",
     "text": [
      "500it [12:14,  1.49s/it]"
     ]
    },
    {
     "name": "stdout",
     "output_type": "stream",
     "text": [
      "[15/19] [500/512]\tLoss_dis: 0.0141\tLoss_gen: 5.5169\tD(x): 0.9920\tD(G(x)): 0.0059 / 0.0052\n"
     ]
    },
    {
     "name": "stderr",
     "output_type": "stream",
     "text": [
      "513it [12:33,  1.47s/it]\n",
      "100it [02:30,  1.41s/it]"
     ]
    },
    {
     "name": "stdout",
     "output_type": "stream",
     "text": [
      "[16/19] [100/512]\tLoss_dis: 0.0164\tLoss_gen: 5.6330\tD(x): 0.9916\tD(G(x)): 0.0078 / 0.0058\n"
     ]
    },
    {
     "name": "stderr",
     "output_type": "stream",
     "text": [
      "200it [04:58,  1.51s/it]"
     ]
    },
    {
     "name": "stdout",
     "output_type": "stream",
     "text": [
      "[16/19] [200/512]\tLoss_dis: 0.0207\tLoss_gen: 5.7472\tD(x): 0.9847\tD(G(x)): 0.0046 / 0.0053\n"
     ]
    },
    {
     "name": "stderr",
     "output_type": "stream",
     "text": [
      "300it [07:25,  1.41s/it]"
     ]
    },
    {
     "name": "stdout",
     "output_type": "stream",
     "text": [
      "[16/19] [300/512]\tLoss_dis: 0.0119\tLoss_gen: 5.6265\tD(x): 0.9946\tD(G(x)): 0.0064 / 0.0061\n"
     ]
    },
    {
     "name": "stderr",
     "output_type": "stream",
     "text": [
      "400it [09:55,  1.54s/it]"
     ]
    },
    {
     "name": "stdout",
     "output_type": "stream",
     "text": [
      "[16/19] [400/512]\tLoss_dis: 0.0100\tLoss_gen: 5.6943\tD(x): 0.9946\tD(G(x)): 0.0045 / 0.0051\n"
     ]
    },
    {
     "name": "stderr",
     "output_type": "stream",
     "text": [
      "500it [12:25,  1.65s/it]"
     ]
    },
    {
     "name": "stdout",
     "output_type": "stream",
     "text": [
      "[16/19] [500/512]\tLoss_dis: 0.0123\tLoss_gen: 5.4958\tD(x): 0.9937\tD(G(x)): 0.0059 / 0.0054\n"
     ]
    },
    {
     "name": "stderr",
     "output_type": "stream",
     "text": [
      "513it [12:43,  1.49s/it]\n",
      "100it [02:27,  1.56s/it]"
     ]
    },
    {
     "name": "stdout",
     "output_type": "stream",
     "text": [
      "[17/19] [100/512]\tLoss_dis: 0.0095\tLoss_gen: 5.8346\tD(x): 0.9937\tD(G(x)): 0.0032 / 0.0039\n"
     ]
    },
    {
     "name": "stderr",
     "output_type": "stream",
     "text": [
      "200it [04:56,  1.56s/it]"
     ]
    },
    {
     "name": "stdout",
     "output_type": "stream",
     "text": [
      "[17/19] [200/512]\tLoss_dis: 0.0093\tLoss_gen: 5.8379\tD(x): 0.9953\tD(G(x)): 0.0046 / 0.0041\n"
     ]
    },
    {
     "name": "stderr",
     "output_type": "stream",
     "text": [
      "300it [07:25,  1.61s/it]"
     ]
    },
    {
     "name": "stdout",
     "output_type": "stream",
     "text": [
      "[17/19] [300/512]\tLoss_dis: 0.0076\tLoss_gen: 6.1454\tD(x): 0.9956\tD(G(x)): 0.0031 / 0.0029\n"
     ]
    },
    {
     "name": "stderr",
     "output_type": "stream",
     "text": [
      "400it [09:55,  1.41s/it]"
     ]
    },
    {
     "name": "stdout",
     "output_type": "stream",
     "text": [
      "[17/19] [400/512]\tLoss_dis: 0.0073\tLoss_gen: 6.1984\tD(x): 0.9960\tD(G(x)): 0.0032 / 0.0032\n"
     ]
    },
    {
     "name": "stderr",
     "output_type": "stream",
     "text": [
      "500it [12:23,  1.39s/it]"
     ]
    },
    {
     "name": "stdout",
     "output_type": "stream",
     "text": [
      "[17/19] [500/512]\tLoss_dis: 0.0061\tLoss_gen: 6.0487\tD(x): 0.9968\tD(G(x)): 0.0029 / 0.0035\n"
     ]
    },
    {
     "name": "stderr",
     "output_type": "stream",
     "text": [
      "513it [12:42,  1.49s/it]\n",
      "100it [02:29,  1.43s/it]"
     ]
    },
    {
     "name": "stdout",
     "output_type": "stream",
     "text": [
      "[18/19] [100/512]\tLoss_dis: 0.0060\tLoss_gen: 6.2053\tD(x): 0.9972\tD(G(x)): 0.0032 / 0.0032\n"
     ]
    },
    {
     "name": "stderr",
     "output_type": "stream",
     "text": [
      "200it [04:58,  1.39s/it]"
     ]
    },
    {
     "name": "stdout",
     "output_type": "stream",
     "text": [
      "[18/19] [200/512]\tLoss_dis: 0.0063\tLoss_gen: 6.5588\tD(x): 0.9958\tD(G(x)): 0.0020 / 0.0018\n"
     ]
    },
    {
     "name": "stderr",
     "output_type": "stream",
     "text": [
      "300it [07:35,  1.52s/it]"
     ]
    },
    {
     "name": "stdout",
     "output_type": "stream",
     "text": [
      "[18/19] [300/512]\tLoss_dis: 0.0050\tLoss_gen: 6.3290\tD(x): 0.9976\tD(G(x)): 0.0025 / 0.0025\n"
     ]
    },
    {
     "name": "stderr",
     "output_type": "stream",
     "text": [
      "400it [10:04,  1.61s/it]"
     ]
    },
    {
     "name": "stdout",
     "output_type": "stream",
     "text": [
      "[18/19] [400/512]\tLoss_dis: 0.0059\tLoss_gen: 6.4275\tD(x): 0.9972\tD(G(x)): 0.0031 / 0.0027\n"
     ]
    },
    {
     "name": "stderr",
     "output_type": "stream",
     "text": [
      "500it [12:33,  1.55s/it]"
     ]
    },
    {
     "name": "stdout",
     "output_type": "stream",
     "text": [
      "[18/19] [500/512]\tLoss_dis: 0.0058\tLoss_gen: 6.2088\tD(x): 0.9967\tD(G(x)): 0.0026 / 0.0025\n"
     ]
    },
    {
     "name": "stderr",
     "output_type": "stream",
     "text": [
      "513it [12:52,  1.51s/it]\n",
      "100it [02:29,  1.41s/it]"
     ]
    },
    {
     "name": "stdout",
     "output_type": "stream",
     "text": [
      "[19/19] [100/512]\tLoss_dis: 0.0059\tLoss_gen: 6.4272\tD(x): 0.9962\tD(G(x)): 0.0022 / 0.0027\n"
     ]
    },
    {
     "name": "stderr",
     "output_type": "stream",
     "text": [
      "200it [04:58,  1.41s/it]"
     ]
    },
    {
     "name": "stdout",
     "output_type": "stream",
     "text": [
      "[19/19] [200/512]\tLoss_dis: 0.0049\tLoss_gen: 6.7252\tD(x): 0.9969\tD(G(x)): 0.0018 / 0.0017\n"
     ]
    },
    {
     "name": "stderr",
     "output_type": "stream",
     "text": [
      "300it [07:29,  1.43s/it]"
     ]
    },
    {
     "name": "stdout",
     "output_type": "stream",
     "text": [
      "[19/19] [300/512]\tLoss_dis: 0.0047\tLoss_gen: 6.5093\tD(x): 0.9977\tD(G(x)): 0.0025 / 0.0022\n"
     ]
    },
    {
     "name": "stderr",
     "output_type": "stream",
     "text": [
      "400it [09:59,  1.46s/it]"
     ]
    },
    {
     "name": "stdout",
     "output_type": "stream",
     "text": [
      "[19/19] [400/512]\tLoss_dis: 0.0039\tLoss_gen: 6.7180\tD(x): 0.9980\tD(G(x)): 0.0019 / 0.0018\n"
     ]
    },
    {
     "name": "stderr",
     "output_type": "stream",
     "text": [
      "500it [12:29,  1.47s/it]"
     ]
    },
    {
     "name": "stdout",
     "output_type": "stream",
     "text": [
      "[19/19] [500/512]\tLoss_dis: 0.0046\tLoss_gen: 6.8037\tD(x): 0.9972\tD(G(x)): 0.0018 / 0.0019\n"
     ]
    },
    {
     "name": "stderr",
     "output_type": "stream",
     "text": [
      "513it [12:48,  1.50s/it]\n"
     ]
    }
   ],
   "source": [
    "for epoch in range(num_epochs):\n",
    "    err_dis = 0\n",
    "    err_gen = 0\n",
    "    for i, data in tqdm(enumerate(dataloader)):\n",
    "        # initializez gradientii cu 0\n",
    "        discriminator.zero_grad()\n",
    "        real = data[0].to(device)\n",
    "        # data[0] sunt imaginile\n",
    "        # data[1] sunt labelurile\n",
    "\n",
    "        b_size = real.size(0)  # batch size\n",
    "        label = torch.full((b_size,), real_label, dtype=torch.float, device=device)\n",
    "        # TODO test this\n",
    "        # label = smooth_label(real_label)\n",
    "\n",
    "        # print(real_cpu.shape)\n",
    "        # noise_dis = torch.randn(b_size, nc, image_size, image_size, device=device)\n",
    "        # real = real + noise_dis\n",
    "        output = discriminator(real).view(-1)\n",
    "        # print(output.shape)\n",
    "        err_dis_real = criterion(output, label)\n",
    "\n",
    "        # \"backward pass\" refers to process of counting changes in weights\n",
    "        err_dis_real.backward()\n",
    "\n",
    "        dis_x = output.mean().item()\n",
    "        #\n",
    "        noise = torch.randn(b_size, nc, image_size, image_size, device=device)\n",
    "\n",
    "        fake = generator(noise)\n",
    "        # fake = fake + noise_dis\n",
    "        label.fill_(fake_label)\n",
    "        #label = smooth_label(fake_label)\n",
    "\n",
    "\n",
    "        output = discriminator(fake.detach()).view(-1)\n",
    "        # print(\"Discriminated fake\")\n",
    "        err_dis_fake = criterion(output, label)\n",
    "        err_dis_fake.backward()\n",
    "        dis_gen_z1 = output.mean().item()\n",
    "        err_dis = err_dis_real + err_dis_fake\n",
    "        # Update D\n",
    "        dis_optimizer.step()\n",
    "\n",
    "\n",
    "        generator.zero_grad()\n",
    "        label.fill_(real_label)\n",
    "        #label = smooth_label(real_label)\n",
    "        output = discriminator(fake).view(-1)\n",
    "        # print(\"Discriminated fake2\")\n",
    "        err_gen = criterion(output, label)\n",
    "        err_gen.backward()\n",
    "        dis_gen_z2 = output.mean().item()\n",
    "        gen_optimizer.step()\n",
    "\n",
    "        if i % 100 == 0 and i != 0:\n",
    "            print(f\"[{epoch}/{num_epochs - 1}] [{i}/{len(dataloader) - 1}]\\tLoss_dis: {err_dis.item():.4f}\\tLoss_gen: {err_gen.item():.4f}\\tD(x): {dis_x:.4f}\\tD(G(x)): {dis_gen_z1:.4f} / {dis_gen_z2:.4f}\")\n",
    "\n",
    "        gen_losses.append(err_gen.item())\n",
    "        dis_losses.append(err_dis.item())\n",
    "\n",
    "        # if iters % 500 == 0 or ((epoch == num_epochs - 1) and (i == len(dataloader) - 1)):\n",
    "        with torch.no_grad():\n",
    "            fake = generator(fixed_noise).detach().cpu()\n",
    "        img_lists.append(torchvision.utils.make_grid(fake, padding=2, normalize=True))\n",
    "\n",
    "        iters += 1\n",
    "    scheduler_gen.step(err_gen.item())\n",
    "\n",
    "    # scheduler_dis.step(errD.item())\n",
    "\n",
    "\n",
    "    joblib.dump(generator, filename_gen)\n",
    "    joblib.dump(generator, filename_dis)\n",
    "\n",
    "    gen_losses_arr = np.array(gen_losses, dtype=object)\n",
    "    dis_losses_arr = np.array(dis_losses, dtype=object)\n",
    "    np.save('DCGAN/DCGAN-gen_losses.npy', gen_losses_arr)\n",
    "    np.save('DCGAN/DCGAN-dis_losses.npy', dis_losses_arr)\n",
    "\n",
    "# for i, ms in enumerate(img_lists):\n",
    "#     ms = ms.numpy()\n",
    "#     im = Image.fromarray(ms)\n",
    "#     if im.mode != 'L':\n",
    "#         im = im.convert('L')\n",
    "#     im.save(f\"Data/generated/gen_spec{i}.jpg\")\n"
   ],
   "metadata": {
    "collapsed": false,
    "ExecuteTime": {
     "end_time": "2023-06-07T23:46:30.287121522Z",
     "start_time": "2023-06-07T19:27:47.155166930Z"
    }
   }
  },
  {
   "cell_type": "code",
   "execution_count": 28,
   "outputs": [],
   "source": [
    "# generator = joblib.load(filename_gen)\n",
    "# discriminator = joblib.load(filename_dis)\n",
    "\n",
    "# for i, ms in enumerate(img_lists):\n",
    "#     print(ms.shape)\n",
    "#     ms = ms.numpy()\n",
    "#     im = Image.fromarray(ms)\n",
    "#     if im.mode != 'L':\n",
    "#         im = im.convert('L')\n",
    "#     im.save(f\"Data/generated/gen_spec{i}.jpg\")\n"
   ],
   "metadata": {
    "collapsed": false,
    "ExecuteTime": {
     "end_time": "2023-06-07T23:46:30.291169255Z",
     "start_time": "2023-06-07T23:46:30.288071812Z"
    }
   }
  },
  {
   "cell_type": "code",
   "execution_count": 30,
   "outputs": [
    {
     "data": {
      "text/plain": "<Figure size 640x480 with 1 Axes>",
      "image/png": "[encoded data removed]"
     },
     "metadata": {},
     "output_type": "display_data"
    },
    {
     "name": "stdout",
     "output_type": "stream",
     "text": [
      "torch.Size([1, 1, 32, 32])\n",
      "torch.Size([32, 32, 1])\n"
     ]
    },
    {
     "data": {
      "text/plain": "<Figure size 640x480 with 1 Axes>",
      "image/png": "[encoded data removed]"
     },
     "metadata": {},
     "output_type": "display_data"
    }
   ],
   "source": [
    "test_spec = Image.open(\"Data/pop/pop_spec50.jpg\")\n",
    "make_tensor = torchvision.transforms.ToTensor()\n",
    "test_spec = transform(test_spec)\n",
    "test_spec = torch.transpose(test_spec, 0, 2)\n",
    "\n",
    "fig, axs = plt.subplots(1)\n",
    "axs.imshow(test_spec)\n",
    "plt.show()\n",
    "\n",
    "\n",
    "test_spec = torch.transpose(test_spec, 0, 2)\n",
    "test_spec = torch.unsqueeze(test_spec, 0)\n",
    "# test_spec = torch.transpose(test_spec, 0, 1)\n",
    "\n",
    "print(test_spec.shape)\n",
    "test_spec = generator(test_spec)\n",
    "\n",
    "test_spec = torch.squeeze(test_spec, 0)\n",
    "test_spec = torch.transpose(test_spec, 0, 2)\n",
    "\n",
    "print(test_spec.shape)\n",
    "fig, axs = plt.subplots(1)\n",
    "axs.imshow(test_spec.detach())\n",
    "plt.show()\n",
    "\n"
   ],
   "metadata": {
    "collapsed": false,
    "ExecuteTime": {
     "end_time": "2023-06-08T12:02:48.108653617Z",
     "start_time": "2023-06-08T12:02:47.608959990Z"
    }
   }
  },
  {
   "cell_type": "code",
   "execution_count": null,
   "outputs": [],
   "source": [
    "print(\"1\")"
   ],
   "metadata": {
    "collapsed": false
   }
  },
  {
   "cell_type": "code",
   "execution_count": 35,
   "outputs": [
    {
     "data": {
      "text/plain": "<Figure size 1500x1500 with 2 Axes>",
      "image/png": "[encoded data removed]"
     },
     "metadata": {},
     "output_type": "display_data"
    }
   ],
   "source": [
    "# real_batch = next(iter(dataloader))\n",
    "real_batch = next(iter(dataloader))\n",
    "\n",
    "plt.figure(figsize=(15,15))\n",
    "plt.subplot(1,2,1)\n",
    "plt.axis(\"off\")\n",
    "plt.title(\"Real images\")\n",
    "plt.imshow(np.transpose(torchvision.utils.make_grid(real_batch[0].to(device)[:64], padding=5, normalize=True).cpu(),(1,2,0)))\n",
    "\n",
    "\n",
    "plt.subplot(1,2,2)\n",
    "plt.axis(\"off\")\n",
    "plt.title(\"Fake Images\")\n",
    "plt.imshow(np.transpose(img_lists[-1],(1,2,0)))\n",
    "plt.show()"
   ],
   "metadata": {
    "collapsed": false,
    "ExecuteTime": {
     "end_time": "2023-06-08T12:03:24.385110306Z",
     "start_time": "2023-06-08T12:03:23.603384112Z"
    }
   }
  },
  {
   "cell_type": "code",
   "execution_count": null,
   "outputs": [],
   "source": [
    "print(\"1\")"
   ],
   "metadata": {
    "collapsed": false
   }
  }
 ],
 "metadata": {
  "kernelspec": {
   "display_name": "Python 3",
   "language": "python",
   "name": "python3"
  },
  "language_info": {
   "codemirror_mode": {
    "name": "ipython",
    "version": 2
   },
   "file_extension": ".py",
   "mimetype": "text/x-python",
   "name": "python",
   "nbconvert_exporter": "python",
   "pygments_lexer": "ipython2",
   "version": "2.7.6"
  }
 },
 "nbformat": 4,
 "nbformat_minor": 0
}
