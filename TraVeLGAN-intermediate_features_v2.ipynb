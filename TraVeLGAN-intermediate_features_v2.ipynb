{
 "cells": [
  {
   "cell_type": "markdown",
   "source": [
    "### Siamese GAN\n",
    "\n",
    "image_size = 32\n",
    "channels = 1\n",
    "\n",
    "in plus fata de tot restu modelelor, cateagoria A are pop blues country, nu doar pop.\n",
    "Categoria B are doar rock.\n",
    "\n",
    "Am adaugat self.second in discriminator fara gaussian noise, pt ca la feature matching generatorul capata noise ca asa le vede discriminatoru\n",
    "\n",
    "v2\n",
    "lrD = 0.000001\n",
    "feature matching are 2 *\n",
    "gen converge pe la 2000\n",
    "\n",
    "v3\n",
    "lrD = 0.000001\n",
    "feature matching are 4 *"
   ],
   "metadata": {
    "collapsed": false
   }
  },
  {
   "cell_type": "code",
   "execution_count": 1,
   "metadata": {
    "collapsed": true,
    "ExecuteTime": {
     "end_time": "2023-06-04T23:00:59.218967588Z",
     "start_time": "2023-06-04T23:00:57.852605473Z"
    }
   },
   "outputs": [],
   "source": [
    "import pathlib\n",
    "import torch\n",
    "import numpy as np\n",
    "import matplotlib.pyplot as plt\n",
    "import torchvision\n",
    "from tqdm import tqdm\n",
    "from PIL import Image\n",
    "import os\n",
    "from torch.optim.lr_scheduler import ReduceLROnPlateau\n",
    "import joblib"
   ]
  },
  {
   "cell_type": "code",
   "execution_count": 2,
   "outputs": [],
   "source": [
    "ngpu = 0\n",
    "pathA = \"Data/SpectrogramsA\"\n",
    "pathB = \"Data/SpectrogramsB\"\n",
    "filename_gen = \"TraVeLGAN/noise_feat-matching_gen4layers_20epoci_32x16/TraVeLGAN-Gen.joblib\"\n",
    "filename_dis = \"TraVeLGAN/noise_feat-matching_gen4layers_20epoci_32x16/TraVeLGAN-Dis.joblib\"\n",
    "filename_sim = \"TraVeLGAN/noise_feat-matching_gen4layers_20epoci_32x16/TraVeLGAN-Siam.joblib\"\n",
    "workers = 2\n",
    "batch_size = 32\n",
    "\n",
    "image_size = 32\n",
    "\n",
    "# channels nr for input images\n",
    "nc = 1\n",
    "# size of feature maps in generator\n",
    "ngf = 64\n",
    "# size of feature maps in discriminator\n",
    "ndf = 64\n",
    "# length of latent vector\n",
    "lenvec = 128\n",
    "\n",
    "num_epochs = 20\n",
    "lr = 0.0002\n",
    "lrD = 0.000001\n",
    "beta1 = 0.5\n",
    "\n",
    "def find_classes(directory:str):\n",
    "    classes = sorted(entry.name for entry in os.scandir(directory) if entry.is_dir())\n",
    "\n",
    "    class_to_index = {class_name: i for i, class_name in enumerate(classes)}\n",
    "\n",
    "    return classes, class_to_index"
   ],
   "metadata": {
    "collapsed": false,
    "ExecuteTime": {
     "end_time": "2023-06-04T23:00:59.225512850Z",
     "start_time": "2023-06-04T23:00:59.224382346Z"
    }
   }
  },
  {
   "cell_type": "code",
   "execution_count": 3,
   "outputs": [],
   "source": [
    "class MyImageFolder(torch.utils.data.Dataset):\n",
    "    def __init__(self, directory:str, transform=None):\n",
    "\n",
    "        self.paths = list(pathlib.Path(directory).glob('*/*.jpg')) * 3\n",
    "\n",
    "        self.transform = transform\n",
    "        self.classes, self.class_to_index = find_classes(directory)\n",
    "\n",
    "    def __len__(self):\n",
    "        return len(self.paths)\n",
    "\n",
    "    def __getitem__(self, index):\n",
    "        img = self.load_image(index)\n",
    "        class_name = self.paths[index].parent.name\n",
    "        class_index = self.class_to_index[class_name]\n",
    "\n",
    "        if self.transform:\n",
    "            return self.transform(img), class_index\n",
    "        else:\n",
    "            return img, class_index\n",
    "\n",
    "    def load_image(self, index):\n",
    "        image_path = self.paths[index]\n",
    "        return Image.open(image_path)\n",
    "\n",
    "transform = torchvision.transforms.Compose([\n",
    "            #torchvision.transforms.RandomResizedCrop(image_size),\n",
    "            #torchvision.transforms.Resize(64),\n",
    "            #torchvision.transforms.RandomCrop(64),\n",
    "            # TODO test this\n",
    "            #torchvision.transforms.RandomResizedCrop(image_size, interpolation=torchvision.transforms.InterpolationMode.BICUBIC),\n",
    "            # torchvision.transforms.RandomHorizontalFlip(p=0.3)\n",
    "\n",
    "            torchvision.transforms.ToTensor(),  # imaginile sunt normalizate intre [0, 1]\n",
    "            torchvision.transforms.Normalize(0.5, 0.5),  # imaginile sunt normalizate intre [-1, 1]\n",
    "        ])\n"
   ],
   "metadata": {
    "collapsed": false,
    "ExecuteTime": {
     "end_time": "2023-06-04T23:00:59.232445715Z",
     "start_time": "2023-06-04T23:00:59.229169999Z"
    }
   }
  },
  {
   "cell_type": "code",
   "execution_count": 4,
   "outputs": [
    {
     "name": "stdout",
     "output_type": "stream",
     "text": [
      "539\n",
      "513\n"
     ]
    }
   ],
   "source": [
    "train_data_A = MyImageFolder(directory=pathA, transform=transform)\n",
    "train_data_B = MyImageFolder(directory=pathB, transform=transform)\n",
    "\n",
    "dataloader_A = torch.utils.data.DataLoader(train_data_A, batch_size=batch_size, shuffle=True, num_workers=2)\n",
    "dataloader_B = torch.utils.data.DataLoader(train_data_B, batch_size=batch_size, shuffle=True, num_workers=2)\n",
    "\n",
    "print(len(dataloader_A))\n",
    "print(len(dataloader_B))\n",
    "device = torch.device(\"cuda:0\" if (torch.cuda.is_available() and ngpu > 0) else \"cpu\")\n"
   ],
   "metadata": {
    "collapsed": false,
    "ExecuteTime": {
     "end_time": "2023-06-04T23:00:59.336317807Z",
     "start_time": "2023-06-04T23:00:59.235338097Z"
    }
   }
  },
  {
   "cell_type": "code",
   "execution_count": 5,
   "outputs": [],
   "source": [
    "'''\n",
    "Gaussian distribution (also known as normal distribution) is a bell-shaped curve, and it is assumed that during any measurement values will follow a normal distribution with an equal number of measurements above and below the mean value.\n",
    "'''\n",
    "class GaussianNoise(torch.nn.Module):\n",
    "    def __init__(self, std=0.1, decay=0):\n",
    "        super().__init__()\n",
    "        self.std = std\n",
    "        self.decay = decay\n",
    "\n",
    "    def step(self):\n",
    "        self.std = max(self.std - self.decay, 0)\n",
    "\n",
    "    def forward(self, x):\n",
    "        if self.training:\n",
    "            return x + torch.empty_like(x).normal_(std=self.std)\n",
    "        else:\n",
    "            return x"
   ],
   "metadata": {
    "collapsed": false,
    "ExecuteTime": {
     "end_time": "2023-06-04T23:00:59.344494360Z",
     "start_time": "2023-06-04T23:00:59.340864937Z"
    }
   }
  },
  {
   "cell_type": "code",
   "execution_count": 6,
   "outputs": [],
   "source": [
    "'''\n",
    "From the DCGAN paper, the authors specify that all model weights shall be randomly initialized from a Normal distribution with mean=0, stdev=0.02. The weights_init function takes an initialized model as input and reinitializes all convolutional, convolutional-transpose, and batch normalization layers to meet this criteria. This function is applied to the models immediately after initialization.\n",
    "'''\n",
    "def weights_init(m):\n",
    "    classname = m.__class__.__name__\n",
    "    if classname.find('Conv') != -1:\n",
    "        torch.nn.init.normal_(m.weight.data, 0.0, 0.02)\n",
    "    elif classname.find('BatchNorm') != -1:\n",
    "        torch.nn.init.normal_(m.weight.data, 1.0, 0.02)\n",
    "        torch.nn.init.constant_(m.bias.data, 0)"
   ],
   "metadata": {
    "collapsed": false,
    "ExecuteTime": {
     "end_time": "2023-06-04T23:00:59.392920041Z",
     "start_time": "2023-06-04T23:00:59.345534575Z"
    }
   }
  },
  {
   "cell_type": "code",
   "execution_count": 7,
   "outputs": [
    {
     "data": {
      "text/plain": "Sequential(\n  (0): Conv2d(1, 64, kernel_size=(4, 4), stride=(2, 2), padding=(1, 1), bias=False)\n  (1): BatchNorm2d(64, eps=1e-05, momentum=0.1, affine=True, track_running_stats=True)\n  (2): LeakyReLU(negative_slope=True)\n  (3): Conv2d(64, 128, kernel_size=(4, 4), stride=(2, 2), padding=(1, 1), bias=False)\n  (4): BatchNorm2d(128, eps=1e-05, momentum=0.1, affine=True, track_running_stats=True)\n  (5): LeakyReLU(negative_slope=True)\n  (6): ConvTranspose2d(128, 64, kernel_size=(4, 4), stride=(2, 2), padding=(1, 1), bias=False)\n  (7): BatchNorm2d(64, eps=1e-05, momentum=0.1, affine=True, track_running_stats=True)\n  (8): LeakyReLU(negative_slope=True)\n  (9): ConvTranspose2d(64, 1, kernel_size=(4, 4), stride=(2, 2), padding=(1, 1), bias=False)\n  (10): Tanh()\n)"
     },
     "execution_count": 7,
     "metadata": {},
     "output_type": "execute_result"
    }
   ],
   "source": [
    "generator = torch.nn.Sequential(\n",
    "    # 1 x 16 x 16\n",
    "\n",
    "    # downsampling\n",
    "    torch.nn.Conv2d(nc, ngf, kernel_size=4, stride=2, padding=1, bias=False),\n",
    "    torch.nn.BatchNorm2d(ngf),\n",
    "    torch.nn.LeakyReLU(True),\n",
    "    # ngf x 8 x 8\n",
    "    torch.nn.Conv2d(ngf, ngf * 2, kernel_size=4, stride=2, padding=1, bias=False),\n",
    "    torch.nn.BatchNorm2d(ngf * 2),\n",
    "    torch.nn.LeakyReLU(True),\n",
    "    # ngf*2 x 4 x 4\n",
    "\n",
    "\n",
    "    # upsampling\n",
    "    torch.nn.ConvTranspose2d(ngf * 2, ngf, kernel_size=4, stride=2, padding=1, bias=False),\n",
    "    torch.nn.BatchNorm2d(ngf),\n",
    "    torch.nn.LeakyReLU(True),\n",
    "    # ngf*2 x 8 x 8\n",
    "\n",
    "    torch.nn.ConvTranspose2d(ngf, nc, kernel_size=4, stride=2, padding=1, bias=False),\n",
    "    torch.nn.Tanh(),\n",
    "    # ngf x 16 x 16\n",
    "\n",
    ")\n",
    "\n",
    "generator.apply(weights_init)\n",
    "\n",
    "\n"
   ],
   "metadata": {
    "collapsed": false,
    "ExecuteTime": {
     "end_time": "2023-06-04T23:00:59.393235479Z",
     "start_time": "2023-06-04T23:00:59.392776387Z"
    }
   }
  },
  {
   "cell_type": "code",
   "execution_count": 8,
   "outputs": [],
   "source": [
    "# Siamese model\n",
    "\n",
    "siamese = torch.nn.Sequential(\n",
    "    # conv2d\n",
    "    # conv2d\n",
    "    # conv2d\n",
    "\n",
    "        # 1 x 32 x 16\n",
    "    torch.nn.Conv2d(nc, ngf, kernel_size=4, stride=2, padding=1, bias=False),\n",
    "    torch.nn.BatchNorm2d(ngf),\n",
    "    torch.nn.LeakyReLU(True),\n",
    "    # ngf x 16 x 8\n",
    "\n",
    "    torch.nn.Conv2d(ngf, ngf, kernel_size=(3, 3), stride=(2, 1), padding=(1, 1), bias=False),\n",
    "    torch.nn.BatchNorm2d(ngf),\n",
    "    torch.nn.LeakyReLU(True),\n",
    "    # ngf x 8 x 8\n",
    "\n",
    "    torch.nn.Conv2d(ngf, ngf * 2, kernel_size=(3, 3), stride=(1, 2), padding=(1, 1), bias=False),\n",
    "    torch.nn.BatchNorm2d(ngf * 2),\n",
    "    torch.nn.LeakyReLU(True),\n",
    "    # ngf*2 x 8 x 4\n",
    "\n",
    "    # # 1 x 16 x 16\n",
    "    # torch.nn.Conv2d(nc, ngf, kernel_size=(3, 3), stride=(2, 1), padding=(1, 1), bias=False),\n",
    "    # torch.nn.BatchNorm2d(ngf),\n",
    "    # torch.nn.LeakyReLU(True),\n",
    "    # # ngf x 8 x 16\n",
    "    #\n",
    "    # torch.nn.Conv2d(ngf, ngf, kernel_size=(3, 3), stride=(1, 2), padding=(1, 1), bias=False),\n",
    "    # torch.nn.BatchNorm2d(ngf),\n",
    "    # torch.nn.LeakyReLU(True),\n",
    "    # # ngf x 8 x 8\n",
    "    #\n",
    "    # torch.nn.Conv2d(ngf, ngf * 2, kernel_size=(3, 3), stride=(1, 2), padding=(1, 1), bias=False),\n",
    "    # torch.nn.BatchNorm2d(ngf * 2),\n",
    "    # torch.nn.LeakyReLU(True),\n",
    "    # # ngf*2 x 8 x 4\n",
    "\n",
    "    torch.nn.Flatten(),\n",
    "    # ngf*2*8*4\n",
    "    torch.nn.Linear(ngf * 64, lenvec)\n",
    ")"
   ],
   "metadata": {
    "collapsed": false,
    "ExecuteTime": {
     "end_time": "2023-06-04T23:00:59.393332077Z",
     "start_time": "2023-06-04T23:00:59.393056432Z"
    }
   }
  },
  {
   "cell_type": "code",
   "execution_count": 10,
   "outputs": [
    {
     "data": {
      "text/plain": "Discriminator(\n  (main): Sequential(\n    (0): GaussianNoise()\n    (1): Conv2d(1, 64, kernel_size=(4, 4), stride=(2, 2), padding=(1, 1), bias=False)\n    (2): BatchNorm2d(64, eps=1e-05, momentum=0.1, affine=True, track_running_stats=True)\n    (3): LeakyReLU(negative_slope=0.2, inplace=True)\n    (4): GaussianNoise()\n    (5): Conv2d(64, 128, kernel_size=(4, 4), stride=(2, 2), padding=(1, 1), bias=False)\n    (6): BatchNorm2d(128, eps=1e-05, momentum=0.1, affine=True, track_running_stats=True)\n    (7): LeakyReLU(negative_slope=0.2, inplace=True)\n    (8): GaussianNoise()\n    (9): Conv2d(128, 256, kernel_size=(4, 4), stride=(2, 2), padding=(1, 1), bias=False)\n    (10): BatchNorm2d(256, eps=1e-05, momentum=0.1, affine=True, track_running_stats=True)\n    (11): LeakyReLU(negative_slope=0.2, inplace=True)\n    (12): GaussianNoise()\n    (13): Conv2d(256, 1, kernel_size=(4, 4), stride=(1, 1), bias=False)\n    (14): Sigmoid()\n  )\n  (second): Sequential(\n    (0): Conv2d(1, 64, kernel_size=(4, 4), stride=(2, 2), padding=(1, 1), bias=False)\n    (1): BatchNorm2d(64, eps=1e-05, momentum=0.1, affine=True, track_running_stats=True)\n    (2): LeakyReLU(negative_slope=0.2, inplace=True)\n    (3): Conv2d(64, 128, kernel_size=(4, 4), stride=(2, 2), padding=(1, 1), bias=False)\n    (4): BatchNorm2d(128, eps=1e-05, momentum=0.1, affine=True, track_running_stats=True)\n    (5): LeakyReLU(negative_slope=0.2, inplace=True)\n    (6): Conv2d(128, 256, kernel_size=(4, 4), stride=(2, 2), padding=(1, 1), bias=False)\n    (7): BatchNorm2d(256, eps=1e-05, momentum=0.1, affine=True, track_running_stats=True)\n    (8): LeakyReLU(negative_slope=0.2, inplace=True)\n    (9): Conv2d(256, 1, kernel_size=(4, 4), stride=(1, 1), bias=False)\n    (10): Sigmoid()\n  )\n)"
     },
     "execution_count": 10,
     "metadata": {},
     "output_type": "execute_result"
    }
   ],
   "source": [
    "# Discriminator model\n",
    "\n",
    "\n",
    "class Discriminator(torch.nn.Module):\n",
    "    def __init__(self, nc, ndf):\n",
    "        super(Discriminator, self).__init__()\n",
    "\n",
    "        self.main = torch.nn.Sequential(\n",
    "            GaussianNoise(),\n",
    "            torch.nn.Conv2d(nc, ndf, 4, 2, 1, bias=False),\n",
    "            torch.nn.BatchNorm2d(ndf),\n",
    "            torch.nn.LeakyReLU(0.2, inplace=True),\n",
    "            # ndf x 16 x 16\n",
    "\n",
    "            GaussianNoise(),\n",
    "            torch.nn.Conv2d(ndf, ndf * 2, 4, 2, 1, bias=False),\n",
    "            torch.nn.BatchNorm2d(ndf * 2),\n",
    "            torch.nn.LeakyReLU(0.2, inplace=True),\n",
    "            # ndf*2 x 8 x 8\n",
    "\n",
    "            GaussianNoise(),\n",
    "            torch.nn.Conv2d(ndf * 2, ndf * 4, 4, 2, 1, bias=False),\n",
    "            torch.nn.BatchNorm2d(ndf * 4),\n",
    "            torch.nn.LeakyReLU(0.2, inplace=True),\n",
    "            # ndf*4 x 4 x 4\n",
    "\n",
    "            GaussianNoise(),\n",
    "            torch.nn.Conv2d(ndf * 4, 1, 4, 1, 0, bias=False),\n",
    "            torch.nn.Sigmoid()\n",
    "        )\n",
    "\n",
    "        self.second = torch.nn.Sequential(\n",
    "            torch.nn.Conv2d(nc, ndf, 4, 2, 1, bias=False),\n",
    "            torch.nn.BatchNorm2d(ndf),\n",
    "            torch.nn.LeakyReLU(0.2, inplace=True),\n",
    "            # ndf x 16 x 16\n",
    "\n",
    "            torch.nn.Conv2d(ndf, ndf * 2, 4, 2, 1, bias=False),\n",
    "            torch.nn.BatchNorm2d(ndf * 2),\n",
    "            torch.nn.LeakyReLU(0.2, inplace=True),\n",
    "            # ndf*2 x 8 x 8\n",
    "\n",
    "            torch.nn.Conv2d(ndf * 2, ndf * 4, 4, 2, 1, bias=False),\n",
    "            torch.nn.BatchNorm2d(ndf * 4),\n",
    "            torch.nn.LeakyReLU(0.2, inplace=True),\n",
    "            # ndf*4 x 4 x 4\n",
    "\n",
    "            torch.nn.Conv2d(ndf * 4, 1, 4, 1, 0, bias=False),\n",
    "            torch.nn.Sigmoid()\n",
    "        )\n",
    "\n",
    "    def forward(self, x):\n",
    "        return self.main(x)\n",
    "\n",
    "    def get_intermediate_features(self, x):\n",
    "        intermediate_features = []\n",
    "        for module in self.second:\n",
    "            x = module(x)\n",
    "            intermediate_features.append(x)\n",
    "        return intermediate_features[1 : -1]\n",
    "\n",
    "discriminator = Discriminator(nc, ndf)\n",
    "discriminator.apply(weights_init)\n",
    "\n"
   ],
   "metadata": {
    "collapsed": false,
    "ExecuteTime": {
     "end_time": "2023-06-04T23:00:59.483740975Z",
     "start_time": "2023-06-04T23:00:59.393289597Z"
    }
   }
  },
  {
   "cell_type": "code",
   "execution_count": 11,
   "outputs": [],
   "source": [
    "class IdentityLoss(torch.nn.Module):\n",
    "    def __init__(self):\n",
    "        super(IdentityLoss, self).__init__()\n",
    "\n",
    "    def forward(self, real, generated):\n",
    "        identity_loss = torch.nn.functional.l1_loss(real, generated)\n",
    "        return identity_loss\n",
    "\n",
    "class CosineSimilarityLoss(torch.nn.Module):\n",
    "    def __init__(self):\n",
    "        super(CosineSimilarityLoss, self).__init__()\n",
    "\n",
    "    def forward(self, a, b):\n",
    "        a_normalized = torch.nn.functional.normalize(a, dim=1)\n",
    "        b_normalized = torch.nn.functional.normalize(b, dim=1)\n",
    "        cos_sim = torch.mean(torch.nn.functional.cosine_similarity(a_normalized, b_normalized, dim=1))\n",
    "        return cos_sim\n",
    "\n",
    "class SiameseLoss(torch.nn.Module):\n",
    "    def __init__(self, margin):\n",
    "        super(SiameseLoss, self).__init__()\n",
    "        self.margin = margin\n",
    "\n",
    "    def forward(self, a1, a2):\n",
    "        distances = torch.sqrt(torch.sum((a1 - a2) ** 2, dim=-1, keepdim=True))\n",
    "        hinge_loss = torch.square(torch.maximum((self.margin - distances), torch.tensor(0)))\n",
    "        loss = torch.mean(hinge_loss)\n",
    "        return loss"
   ],
   "metadata": {
    "collapsed": false,
    "ExecuteTime": {
     "end_time": "2023-06-04T23:00:59.483918385Z",
     "start_time": "2023-06-04T23:00:59.436752497Z"
    }
   }
  },
  {
   "cell_type": "code",
   "execution_count": 12,
   "outputs": [],
   "source": [
    "adversarial_loss = torch.nn.BCELoss()\n",
    "contrastive_loss = torch.nn.CosineEmbeddingLoss(margin=1.0)\n",
    "identity_loss = IdentityLoss()\n",
    "cossine_loss = CosineSimilarityLoss()\n",
    "siamese_loss = SiameseLoss(1)\n",
    "feature_loss = torch.nn.MSELoss()\n",
    "\n",
    "fixed_noise = torch.randn(batch_size, nc, image_size, image_size, device=device)\n",
    "different_classes = -1\n",
    "same_class = 1\n",
    "real_label = 0\n",
    "fake_label = 1\n",
    "\n",
    "gen_optimizer = torch.optim.Adam(generator.parameters(), lr=lr, betas=(beta1, 0.999))\n",
    "dis_optimizer = torch.optim.Adam(discriminator.parameters(), lr=lrD, betas=(beta1, 0.999))\n",
    "scheduler_gen = ReduceLROnPlateau(gen_optimizer, patience=1, factor=0.1, min_lr=0.00000001, verbose=True)\n",
    "scheduler_dis = ReduceLROnPlateau(dis_optimizer, patience=1, factor=0.1, min_lr=0.0000001)"
   ],
   "metadata": {
    "collapsed": false,
    "ExecuteTime": {
     "end_time": "2023-06-04T23:00:59.483988481Z",
     "start_time": "2023-06-04T23:00:59.436851223Z"
    }
   }
  },
  {
   "cell_type": "code",
   "execution_count": 13,
   "outputs": [],
   "source": [
    "def normalize(x, minim, maxim):\n",
    "    return (x - minim) / (maxim - minim)\n",
    "\n",
    "# def slice_images(batch):\n",
    "#     part1 = batch[:, :, : batch.shape[2] // 2, : batch.shape[3] // 2].clone()\n",
    "#     part2 = batch[:, :, batch.shape[2] // 2 :, : batch.shape[3] // 2].clone()\n",
    "#     part3 = batch[:, :, : batch.shape[2] // 2, batch.shape[3] // 2 :].clone()\n",
    "#     part4 = batch[:, :, batch.shape[2] // 2 :, batch.shape[3] // 2 :].clone()\n",
    "#     return part1, part2, part3, part4\n",
    "#\n",
    "#     # 1 2\n",
    "#     # 3 4\n",
    "#\n",
    "# def assemble_images(part1, part2, part3, part4):\n",
    "#     image1 = torch.cat((part1, part2), dim=3)\n",
    "#     #print(image1.shape)\n",
    "#     image2 = torch.cat((part3, part4), dim=3)\n",
    "#     #print(image2.shape)\n",
    "#     final_image = torch.cat((image1, image2), dim=2)\n",
    "#     #print(final_image.shape)\n",
    "#     return final_image\n",
    "\n",
    "def slice_images(batch):\n",
    "    part1 = batch[:, :, :, :batch.shape[3] // 2].clone()\n",
    "    part2 = batch[:, :, :, batch.shape[3] // 2 :].clone()\n",
    "    return part1, part2\n",
    "\n",
    "def assemble_images(part1, part2):\n",
    "    image = torch.cat([part1, part2], dim=3)\n",
    "    return image\n",
    "\n",
    "img_lists = []\n",
    "gen_losses = []\n",
    "dis_losses = []\n",
    "iters = 0\n"
   ],
   "metadata": {
    "collapsed": false,
    "ExecuteTime": {
     "end_time": "2023-06-04T23:00:59.484050899Z",
     "start_time": "2023-06-04T23:00:59.436914842Z"
    }
   }
  },
  {
   "cell_type": "code",
   "execution_count": 14,
   "outputs": [],
   "source": [
    "# def traind_discriminator(A, B):\n",
    "#     A1, A2 = slice_images(A)\n",
    "#     A_b_size = A1.size(0)\n",
    "#     B_b_size = B.size(0)\n",
    "#     gen_A1 = generator(A1)\n",
    "#     gen_A2 = generator(A2)\n",
    "#     AB = assemble_images(gen_A1, gen_A2)\n",
    "#     output_AB = discriminator(AB.detach()).view(-1)\n",
    "#     output_B = discriminator(B).view(-1)\n",
    "#\n",
    "#     label_fake = torch.full((B_b_size,), fake_label, dtype=torch.float, device=device)\n",
    "#     zero = torch.full((B_b_size,), 0, dtype=torch.float, device=device)\n",
    "#     d_loss_real = torch.mean(torch.max(label_fake + output_B, zero))\n",
    "#\n",
    "#     zero = torch.full((A_b_size,), 0, dtype=torch.float, device=device)\n",
    "#     label_f = torch.full((A_b_size,), fake_label, dtype=torch.float, device=device)\n",
    "#     d_loss_fake = torch.mean(torch.max(label_f - output_AB, zero))\n",
    "#\n",
    "#     d_total_loss = (d_loss_real + d_loss_fake) / 2\n",
    "#\n",
    "#     dis_optimizer.zero_grad()\n",
    "#     d_total_loss.backward()\n",
    "#     dis_optimizer.step()\n",
    "#\n",
    "#     return d_loss_real, d_loss_fake"
   ],
   "metadata": {
    "collapsed": false,
    "ExecuteTime": {
     "end_time": "2023-06-04T23:00:59.484110066Z",
     "start_time": "2023-06-04T23:00:59.436949739Z"
    }
   }
  },
  {
   "cell_type": "code",
   "execution_count": 15,
   "outputs": [
    {
     "name": "stderr",
     "output_type": "stream",
     "text": [
      "1it [00:00,  3.75it/s]"
     ]
    },
    {
     "name": "stdout",
     "output_type": "stream",
     "text": [
      "Id loss 1.9527\n",
      "D loss real: 1.6348\n",
      "D loss fake: 0.3337\n",
      "Ts loss 1.0472\n",
      "G loss :0.6488\n",
      "Feature loss :0.7651\n",
      "[0/19] [0/538]\tLoss_dis: 0.9843\tLoss_gen: 15.1574\tD(x): 0.6348\tD(G(x)): 0.6663\n"
     ]
    },
    {
     "name": "stderr",
     "output_type": "stream",
     "text": [
      "60it [00:14,  3.95it/s]"
     ]
    },
    {
     "name": "stdout",
     "output_type": "stream",
     "text": [
      "Id loss 1.9605\n",
      "D loss real: 1.5054\n",
      "D loss fake: 0.2099\n",
      "Ts loss 0.1175\n",
      "G loss :0.7928\n",
      "Feature loss :0.6480\n"
     ]
    },
    {
     "name": "stderr",
     "output_type": "stream",
     "text": [
      "61it [00:14,  3.92it/s]"
     ]
    },
    {
     "name": "stdout",
     "output_type": "stream",
     "text": [
      "[0/19] [60/538]\tLoss_dis: 0.8577\tLoss_gen: 5.5401\tD(x): 0.5054\tD(G(x)): 0.7901\n"
     ]
    },
    {
     "name": "stderr",
     "output_type": "stream",
     "text": [
      "120it [00:30,  3.87it/s]"
     ]
    },
    {
     "name": "stdout",
     "output_type": "stream",
     "text": [
      "Id loss 1.8625\n",
      "D loss real: 1.3214\n",
      "D loss fake: 0.1614\n",
      "Ts loss 0.1424\n",
      "G loss :0.8560\n",
      "Feature loss :0.6901\n"
     ]
    },
    {
     "name": "stderr",
     "output_type": "stream",
     "text": [
      "121it [00:31,  3.91it/s]"
     ]
    },
    {
     "name": "stdout",
     "output_type": "stream",
     "text": [
      "[0/19] [120/538]\tLoss_dis: 0.7414\tLoss_gen: 5.9716\tD(x): 0.3214\tD(G(x)): 0.8386\n"
     ]
    },
    {
     "name": "stderr",
     "output_type": "stream",
     "text": [
      "180it [00:47,  3.76it/s]"
     ]
    },
    {
     "name": "stdout",
     "output_type": "stream",
     "text": [
      "Id loss 1.7715\n",
      "D loss real: 1.2195\n",
      "D loss fake: 0.0923\n",
      "Ts loss 0.0669\n",
      "G loss :0.9061\n",
      "Feature loss :0.6135\n"
     ]
    },
    {
     "name": "stderr",
     "output_type": "stream",
     "text": [
      "181it [00:47,  3.77it/s]"
     ]
    },
    {
     "name": "stdout",
     "output_type": "stream",
     "text": [
      "[0/19] [180/538]\tLoss_dis: 0.6559\tLoss_gen: 4.9153\tD(x): 0.2195\tD(G(x)): 0.9077\n"
     ]
    },
    {
     "name": "stderr",
     "output_type": "stream",
     "text": [
      "240it [01:03,  4.02it/s]"
     ]
    },
    {
     "name": "stdout",
     "output_type": "stream",
     "text": [
      "Id loss 1.6737\n",
      "D loss real: 1.1967\n",
      "D loss fake: 0.0548\n",
      "Ts loss 0.0781\n",
      "G loss :0.9482\n",
      "Feature loss :0.6367\n"
     ]
    },
    {
     "name": "stderr",
     "output_type": "stream",
     "text": [
      "241it [01:03,  3.98it/s]"
     ]
    },
    {
     "name": "stdout",
     "output_type": "stream",
     "text": [
      "[0/19] [240/538]\tLoss_dis: 0.6258\tLoss_gen: 5.1134\tD(x): 0.1967\tD(G(x)): 0.9452\n"
     ]
    },
    {
     "name": "stderr",
     "output_type": "stream",
     "text": [
      "300it [01:20,  3.11it/s]"
     ]
    },
    {
     "name": "stdout",
     "output_type": "stream",
     "text": [
      "Id loss 1.5799\n",
      "D loss real: 1.1204\n",
      "D loss fake: 0.0630\n",
      "Ts loss 0.1119\n",
      "G loss :0.9440\n",
      "Feature loss :0.5653\n"
     ]
    },
    {
     "name": "stderr",
     "output_type": "stream",
     "text": [
      "301it [01:21,  3.11it/s]"
     ]
    },
    {
     "name": "stdout",
     "output_type": "stream",
     "text": [
      "[0/19] [300/538]\tLoss_dis: 0.5917\tLoss_gen: 5.1142\tD(x): 0.1204\tD(G(x)): 0.9370\n"
     ]
    },
    {
     "name": "stderr",
     "output_type": "stream",
     "text": [
      "360it [01:38,  3.82it/s]"
     ]
    },
    {
     "name": "stdout",
     "output_type": "stream",
     "text": [
      "Id loss 1.4977\n",
      "D loss real: 1.0933\n",
      "D loss fake: 0.0448\n",
      "Ts loss 0.0842\n",
      "G loss :0.9600\n",
      "Feature loss :0.5263\n",
      "[0/19] [360/538]\tLoss_dis: 0.5691\tLoss_gen: 4.6563\tD(x): 0.0933\tD(G(x)): 0.9552\n"
     ]
    },
    {
     "name": "stderr",
     "output_type": "stream",
     "text": [
      "420it [01:54,  3.78it/s]"
     ]
    },
    {
     "name": "stdout",
     "output_type": "stream",
     "text": [
      "Id loss 1.3961\n",
      "D loss real: 1.0682\n",
      "D loss fake: 0.0604\n",
      "Ts loss 0.1776\n",
      "G loss :0.9353\n",
      "Feature loss :0.5875\n"
     ]
    },
    {
     "name": "stderr",
     "output_type": "stream",
     "text": [
      "421it [01:55,  3.69it/s]"
     ]
    },
    {
     "name": "stdout",
     "output_type": "stream",
     "text": [
      "[0/19] [420/538]\tLoss_dis: 0.5643\tLoss_gen: 5.7590\tD(x): 0.0682\tD(G(x)): 0.9396\n"
     ]
    },
    {
     "name": "stderr",
     "output_type": "stream",
     "text": [
      "480it [02:12,  3.82it/s]"
     ]
    },
    {
     "name": "stdout",
     "output_type": "stream",
     "text": [
      "Id loss 1.2783\n",
      "D loss real: 1.0680\n",
      "D loss fake: 0.0586\n",
      "Ts loss 0.0568\n",
      "G loss :0.9403\n",
      "Feature loss :0.5423\n"
     ]
    },
    {
     "name": "stderr",
     "output_type": "stream",
     "text": [
      "481it [02:12,  3.52it/s]"
     ]
    },
    {
     "name": "stdout",
     "output_type": "stream",
     "text": [
      "[0/19] [480/538]\tLoss_dis: 0.5633\tLoss_gen: 4.3164\tD(x): 0.0680\tD(G(x)): 0.9414\n"
     ]
    },
    {
     "name": "stderr",
     "output_type": "stream",
     "text": [
      "513it [02:20,  3.64it/s]\n",
      "0it [00:00, ?it/s]"
     ]
    },
    {
     "name": "stdout",
     "output_type": "stream",
     "text": [
      "Id loss 1.2230\n",
      "D loss real: 1.0671\n",
      "D loss fake: 0.0641\n",
      "Ts loss 0.1234\n",
      "G loss :0.9285\n",
      "Feature loss :0.5607\n"
     ]
    },
    {
     "name": "stderr",
     "output_type": "stream",
     "text": [
      "1it [00:00,  2.76it/s]"
     ]
    },
    {
     "name": "stdout",
     "output_type": "stream",
     "text": [
      "[1/19] [0/538]\tLoss_dis: 0.5656\tLoss_gen: 5.0171\tD(x): 0.0671\tD(G(x)): 0.9359\n"
     ]
    },
    {
     "name": "stderr",
     "output_type": "stream",
     "text": [
      "60it [00:17,  3.46it/s]"
     ]
    },
    {
     "name": "stdout",
     "output_type": "stream",
     "text": [
      "Id loss 1.1000\n",
      "D loss real: 1.0665\n",
      "D loss fake: 0.1289\n",
      "Ts loss 0.0920\n",
      "G loss :0.8693\n",
      "Feature loss :0.5054\n"
     ]
    },
    {
     "name": "stderr",
     "output_type": "stream",
     "text": [
      "61it [00:17,  3.28it/s]"
     ]
    },
    {
     "name": "stdout",
     "output_type": "stream",
     "text": [
      "[1/19] [60/538]\tLoss_dis: 0.5977\tLoss_gen: 4.3612\tD(x): 0.0665\tD(G(x)): 0.8711\n"
     ]
    },
    {
     "name": "stderr",
     "output_type": "stream",
     "text": [
      "120it [00:34,  3.73it/s]"
     ]
    },
    {
     "name": "stdout",
     "output_type": "stream",
     "text": [
      "Id loss 0.9834\n",
      "D loss real: 1.0759\n",
      "D loss fake: 0.1670\n",
      "Ts loss 0.0628\n",
      "G loss :0.8138\n",
      "Feature loss :0.4797\n"
     ]
    },
    {
     "name": "stderr",
     "output_type": "stream",
     "text": [
      "121it [00:35,  3.71it/s]"
     ]
    },
    {
     "name": "stdout",
     "output_type": "stream",
     "text": [
      "[1/19] [120/538]\tLoss_dis: 0.6215\tLoss_gen: 3.8528\tD(x): 0.0759\tD(G(x)): 0.8330\n"
     ]
    },
    {
     "name": "stderr",
     "output_type": "stream",
     "text": [
      "180it [00:53,  3.07it/s]"
     ]
    },
    {
     "name": "stdout",
     "output_type": "stream",
     "text": [
      "Id loss 0.9160\n",
      "D loss real: 1.1092\n",
      "D loss fake: 0.1965\n",
      "Ts loss 0.0998\n",
      "G loss :0.8065\n",
      "Feature loss :0.4480\n"
     ]
    },
    {
     "name": "stderr",
     "output_type": "stream",
     "text": [
      "181it [00:53,  3.04it/s]"
     ]
    },
    {
     "name": "stdout",
     "output_type": "stream",
     "text": [
      "[1/19] [180/538]\tLoss_dis: 0.6528\tLoss_gen: 4.0546\tD(x): 0.1092\tD(G(x)): 0.8035\n"
     ]
    },
    {
     "name": "stderr",
     "output_type": "stream",
     "text": [
      "240it [01:09,  3.71it/s]"
     ]
    },
    {
     "name": "stdout",
     "output_type": "stream",
     "text": [
      "Id loss 0.8117\n",
      "D loss real: 1.0992\n",
      "D loss fake: 0.1190\n",
      "Ts loss 0.0757\n",
      "G loss :0.8717\n",
      "Feature loss :0.3998\n"
     ]
    },
    {
     "name": "stderr",
     "output_type": "stream",
     "text": [
      "241it [01:10,  3.46it/s]"
     ]
    },
    {
     "name": "stdout",
     "output_type": "stream",
     "text": [
      "[1/19] [240/538]\tLoss_dis: 0.6091\tLoss_gen: 3.6341\tD(x): 0.0992\tD(G(x)): 0.8810\n"
     ]
    },
    {
     "name": "stderr",
     "output_type": "stream",
     "text": [
      "300it [01:29,  3.41it/s]"
     ]
    },
    {
     "name": "stdout",
     "output_type": "stream",
     "text": [
      "Id loss 0.7338\n",
      "D loss real: 1.0809\n",
      "D loss fake: 0.1045\n",
      "Ts loss 0.0586\n",
      "G loss :0.8876\n",
      "Feature loss :0.3448\n"
     ]
    },
    {
     "name": "stderr",
     "output_type": "stream",
     "text": [
      "301it [01:29,  3.56it/s]"
     ]
    },
    {
     "name": "stdout",
     "output_type": "stream",
     "text": [
      "[1/19] [300/538]\tLoss_dis: 0.5927\tLoss_gen: 3.2199\tD(x): 0.0809\tD(G(x)): 0.8955\n"
     ]
    },
    {
     "name": "stderr",
     "output_type": "stream",
     "text": [
      "360it [01:45,  3.06it/s]"
     ]
    },
    {
     "name": "stdout",
     "output_type": "stream",
     "text": [
      "Id loss 0.6803\n",
      "D loss real: 1.0772\n",
      "D loss fake: 0.0963\n",
      "Ts loss 0.0823\n",
      "G loss :0.9174\n",
      "Feature loss :0.3600\n"
     ]
    },
    {
     "name": "stderr",
     "output_type": "stream",
     "text": [
      "361it [01:46,  3.03it/s]"
     ]
    },
    {
     "name": "stdout",
     "output_type": "stream",
     "text": [
      "[1/19] [360/538]\tLoss_dis: 0.5868\tLoss_gen: 3.5202\tD(x): 0.0772\tD(G(x)): 0.9037\n"
     ]
    },
    {
     "name": "stderr",
     "output_type": "stream",
     "text": [
      "421it [02:04,  3.97it/s]"
     ]
    },
    {
     "name": "stdout",
     "output_type": "stream",
     "text": [
      "Id loss 0.6122\n",
      "D loss real: 1.1056\n",
      "D loss fake: 0.1421\n",
      "Ts loss 0.0658\n",
      "G loss :0.8101\n",
      "Feature loss :0.2875\n",
      "[1/19] [420/538]\tLoss_dis: 0.6238\tLoss_gen: 2.9243\tD(x): 0.1056\tD(G(x)): 0.8579\n"
     ]
    },
    {
     "name": "stderr",
     "output_type": "stream",
     "text": [
      "480it [02:22,  3.06it/s]"
     ]
    },
    {
     "name": "stdout",
     "output_type": "stream",
     "text": [
      "Id loss 0.5725\n",
      "D loss real: 1.1174\n",
      "D loss fake: 0.1512\n",
      "Ts loss 0.0821\n",
      "G loss :0.8411\n",
      "Feature loss :0.2939\n"
     ]
    },
    {
     "name": "stderr",
     "output_type": "stream",
     "text": [
      "481it [02:22,  3.04it/s]"
     ]
    },
    {
     "name": "stdout",
     "output_type": "stream",
     "text": [
      "[1/19] [480/538]\tLoss_dis: 0.6343\tLoss_gen: 3.1237\tD(x): 0.1174\tD(G(x)): 0.8488\n"
     ]
    },
    {
     "name": "stderr",
     "output_type": "stream",
     "text": [
      "513it [02:32,  3.36it/s]\n",
      "0it [00:00, ?it/s]"
     ]
    },
    {
     "name": "stdout",
     "output_type": "stream",
     "text": [
      "Id loss 0.5468\n",
      "D loss real: 1.1078\n",
      "D loss fake: 0.1356\n",
      "Ts loss 0.0565\n",
      "G loss :0.8791\n",
      "Feature loss :0.2308\n"
     ]
    },
    {
     "name": "stderr",
     "output_type": "stream",
     "text": [
      "1it [00:00,  2.65it/s]"
     ]
    },
    {
     "name": "stdout",
     "output_type": "stream",
     "text": [
      "[2/19] [0/538]\tLoss_dis: 0.6217\tLoss_gen: 2.6405\tD(x): 0.1078\tD(G(x)): 0.8644\n"
     ]
    },
    {
     "name": "stderr",
     "output_type": "stream",
     "text": [
      "60it [00:17,  2.96it/s]"
     ]
    },
    {
     "name": "stdout",
     "output_type": "stream",
     "text": [
      "Id loss 0.5109\n",
      "D loss real: 1.1218\n",
      "D loss fake: 0.1677\n",
      "Ts loss 0.0454\n",
      "G loss :0.8256\n",
      "Feature loss :0.3161\n"
     ]
    },
    {
     "name": "stderr",
     "output_type": "stream",
     "text": [
      "61it [00:17,  2.96it/s]"
     ]
    },
    {
     "name": "stdout",
     "output_type": "stream",
     "text": [
      "[2/19] [60/538]\tLoss_dis: 0.6448\tLoss_gen: 2.7994\tD(x): 0.1218\tD(G(x)): 0.8323\n"
     ]
    },
    {
     "name": "stderr",
     "output_type": "stream",
     "text": [
      "120it [00:34,  3.69it/s]"
     ]
    },
    {
     "name": "stdout",
     "output_type": "stream",
     "text": [
      "Id loss 0.4677\n",
      "D loss real: 1.1516\n",
      "D loss fake: 0.1785\n",
      "Ts loss 0.0695\n",
      "G loss :0.8130\n",
      "Feature loss :0.3275\n"
     ]
    },
    {
     "name": "stderr",
     "output_type": "stream",
     "text": [
      "121it [00:34,  3.59it/s]"
     ]
    },
    {
     "name": "stdout",
     "output_type": "stream",
     "text": [
      "[2/19] [120/538]\tLoss_dis: 0.6650\tLoss_gen: 3.0520\tD(x): 0.1516\tD(G(x)): 0.8215\n"
     ]
    },
    {
     "name": "stderr",
     "output_type": "stream",
     "text": [
      "180it [00:51,  3.66it/s]"
     ]
    },
    {
     "name": "stdout",
     "output_type": "stream",
     "text": [
      "Id loss 0.4386\n",
      "D loss real: 1.1512\n",
      "D loss fake: 0.1611\n",
      "Ts loss 0.0570\n",
      "G loss :0.8502\n",
      "Feature loss :0.2381\n"
     ]
    },
    {
     "name": "stderr",
     "output_type": "stream",
     "text": [
      "181it [00:51,  3.60it/s]"
     ]
    },
    {
     "name": "stdout",
     "output_type": "stream",
     "text": [
      "[2/19] [180/538]\tLoss_dis: 0.6561\tLoss_gen: 2.5917\tD(x): 0.1512\tD(G(x)): 0.8389\n"
     ]
    },
    {
     "name": "stderr",
     "output_type": "stream",
     "text": [
      "240it [01:09,  3.52it/s]"
     ]
    },
    {
     "name": "stdout",
     "output_type": "stream",
     "text": [
      "Id loss 0.4118\n",
      "D loss real: 1.1741\n",
      "D loss fake: 0.1568\n",
      "Ts loss 0.0949\n",
      "G loss :0.8420\n",
      "Feature loss :0.2923\n"
     ]
    },
    {
     "name": "stderr",
     "output_type": "stream",
     "text": [
      "241it [01:10,  3.60it/s]"
     ]
    },
    {
     "name": "stdout",
     "output_type": "stream",
     "text": [
      "[2/19] [240/538]\tLoss_dis: 0.6654\tLoss_gen: 3.1662\tD(x): 0.1741\tD(G(x)): 0.8432\n"
     ]
    },
    {
     "name": "stderr",
     "output_type": "stream",
     "text": [
      "300it [01:27,  3.03it/s]"
     ]
    },
    {
     "name": "stdout",
     "output_type": "stream",
     "text": [
      "Id loss 0.3824\n",
      "D loss real: 1.1823\n",
      "D loss fake: 0.1470\n",
      "Ts loss 0.0704\n",
      "G loss :0.8394\n",
      "Feature loss :0.2542\n"
     ]
    },
    {
     "name": "stderr",
     "output_type": "stream",
     "text": [
      "301it [01:27,  3.03it/s]"
     ]
    },
    {
     "name": "stdout",
     "output_type": "stream",
     "text": [
      "[2/19] [300/538]\tLoss_dis: 0.6647\tLoss_gen: 2.7510\tD(x): 0.1823\tD(G(x)): 0.8530\n"
     ]
    },
    {
     "name": "stderr",
     "output_type": "stream",
     "text": [
      "360it [01:46,  3.68it/s]"
     ]
    },
    {
     "name": "stdout",
     "output_type": "stream",
     "text": [
      "Id loss 0.3511\n",
      "D loss real: 1.1628\n",
      "D loss fake: 0.1395\n",
      "Ts loss 0.0763\n",
      "G loss :0.8417\n",
      "Feature loss :0.2385\n"
     ]
    },
    {
     "name": "stderr",
     "output_type": "stream",
     "text": [
      "361it [01:46,  3.57it/s]"
     ]
    },
    {
     "name": "stdout",
     "output_type": "stream",
     "text": [
      "[2/19] [360/538]\tLoss_dis: 0.6511\tLoss_gen: 2.7338\tD(x): 0.1628\tD(G(x)): 0.8605\n"
     ]
    },
    {
     "name": "stderr",
     "output_type": "stream",
     "text": [
      "420it [02:04,  2.97it/s]"
     ]
    },
    {
     "name": "stdout",
     "output_type": "stream",
     "text": [
      "Id loss 0.3416\n",
      "D loss real: 1.1801\n",
      "D loss fake: 0.1556\n",
      "Ts loss 0.0449\n",
      "G loss :0.8451\n",
      "Feature loss :0.2545\n"
     ]
    },
    {
     "name": "stderr",
     "output_type": "stream",
     "text": [
      "421it [02:04,  2.98it/s]"
     ]
    },
    {
     "name": "stdout",
     "output_type": "stream",
     "text": [
      "[2/19] [420/538]\tLoss_dis: 0.6678\tLoss_gen: 2.4834\tD(x): 0.1801\tD(G(x)): 0.8444\n"
     ]
    },
    {
     "name": "stderr",
     "output_type": "stream",
     "text": [
      "480it [02:24,  3.01it/s]"
     ]
    },
    {
     "name": "stdout",
     "output_type": "stream",
     "text": [
      "Id loss 0.3191\n",
      "D loss real: 1.1840\n",
      "D loss fake: 0.1911\n",
      "Ts loss 0.0356\n",
      "G loss :0.8528\n",
      "Feature loss :0.2605\n"
     ]
    },
    {
     "name": "stderr",
     "output_type": "stream",
     "text": [
      "481it [02:24,  3.16it/s]"
     ]
    },
    {
     "name": "stdout",
     "output_type": "stream",
     "text": [
      "[2/19] [480/538]\tLoss_dis: 0.6875\tLoss_gen: 2.4106\tD(x): 0.1840\tD(G(x)): 0.8089\n"
     ]
    },
    {
     "name": "stderr",
     "output_type": "stream",
     "text": [
      "513it [02:33,  3.35it/s]\n",
      "0it [00:00, ?it/s]"
     ]
    },
    {
     "name": "stdout",
     "output_type": "stream",
     "text": [
      "Id loss 0.3215\n",
      "D loss real: 1.2074\n",
      "D loss fake: 0.1733\n",
      "Ts loss 0.0595\n",
      "G loss :0.8212\n",
      "Feature loss :0.4275\n"
     ]
    },
    {
     "name": "stderr",
     "output_type": "stream",
     "text": [
      "1it [00:00,  2.63it/s]"
     ]
    },
    {
     "name": "stdout",
     "output_type": "stream",
     "text": [
      "[3/19] [0/538]\tLoss_dis: 0.6904\tLoss_gen: 3.2868\tD(x): 0.2074\tD(G(x)): 0.8267\n"
     ]
    },
    {
     "name": "stderr",
     "output_type": "stream",
     "text": [
      "60it [00:18,  3.53it/s]"
     ]
    },
    {
     "name": "stdout",
     "output_type": "stream",
     "text": [
      "Id loss 0.2904\n",
      "D loss real: 1.2161\n",
      "D loss fake: 0.2233\n",
      "Ts loss 0.0418\n",
      "G loss :0.7914\n",
      "Feature loss :0.2402\n"
     ]
    },
    {
     "name": "stderr",
     "output_type": "stream",
     "text": [
      "61it [00:18,  3.59it/s]"
     ]
    },
    {
     "name": "stdout",
     "output_type": "stream",
     "text": [
      "[3/19] [60/538]\tLoss_dis: 0.7197\tLoss_gen: 2.3153\tD(x): 0.2161\tD(G(x)): 0.7767\n"
     ]
    },
    {
     "name": "stderr",
     "output_type": "stream",
     "text": [
      "120it [00:34,  3.61it/s]"
     ]
    },
    {
     "name": "stdout",
     "output_type": "stream",
     "text": [
      "Id loss 0.2836\n",
      "D loss real: 1.2087\n",
      "D loss fake: 0.1961\n",
      "Ts loss 0.0360\n",
      "G loss :0.7912\n",
      "Feature loss :0.2976\n"
     ]
    },
    {
     "name": "stderr",
     "output_type": "stream",
     "text": [
      "121it [00:34,  3.65it/s]"
     ]
    },
    {
     "name": "stdout",
     "output_type": "stream",
     "text": [
      "[3/19] [120/538]\tLoss_dis: 0.7024\tLoss_gen: 2.4832\tD(x): 0.2087\tD(G(x)): 0.8039\n"
     ]
    },
    {
     "name": "stderr",
     "output_type": "stream",
     "text": [
      "180it [00:53,  2.96it/s]"
     ]
    },
    {
     "name": "stdout",
     "output_type": "stream",
     "text": [
      "Id loss 0.2641\n",
      "D loss real: 1.2317\n",
      "D loss fake: 0.2021\n",
      "Ts loss 0.0635\n",
      "G loss :0.7645\n",
      "Feature loss :0.2498\n"
     ]
    },
    {
     "name": "stderr",
     "output_type": "stream",
     "text": [
      "181it [00:53,  2.96it/s]"
     ]
    },
    {
     "name": "stdout",
     "output_type": "stream",
     "text": [
      "[3/19] [180/538]\tLoss_dis: 0.7169\tLoss_gen: 2.5302\tD(x): 0.2317\tD(G(x)): 0.7979\n"
     ]
    },
    {
     "name": "stderr",
     "output_type": "stream",
     "text": [
      "240it [01:13,  3.04it/s]"
     ]
    },
    {
     "name": "stdout",
     "output_type": "stream",
     "text": [
      "Id loss 0.2514\n",
      "D loss real: 1.2163\n",
      "D loss fake: 0.1872\n",
      "Ts loss 0.0389\n",
      "G loss :0.8015\n",
      "Feature loss :0.2400\n"
     ]
    },
    {
     "name": "stderr",
     "output_type": "stream",
     "text": [
      "241it [01:13,  2.99it/s]"
     ]
    },
    {
     "name": "stdout",
     "output_type": "stream",
     "text": [
      "[3/19] [240/538]\tLoss_dis: 0.7017\tLoss_gen: 2.2761\tD(x): 0.2163\tD(G(x)): 0.8128\n"
     ]
    },
    {
     "name": "stderr",
     "output_type": "stream",
     "text": [
      "300it [01:30,  3.48it/s]"
     ]
    },
    {
     "name": "stdout",
     "output_type": "stream",
     "text": [
      "Id loss 0.2510\n",
      "D loss real: 1.1666\n",
      "D loss fake: 0.2806\n",
      "Ts loss 0.0633\n",
      "G loss :0.7244\n",
      "Feature loss :0.2563\n"
     ]
    },
    {
     "name": "stderr",
     "output_type": "stream",
     "text": [
      "301it [01:31,  3.51it/s]"
     ]
    },
    {
     "name": "stdout",
     "output_type": "stream",
     "text": [
      "[3/19] [300/538]\tLoss_dis: 0.7236\tLoss_gen: 2.5078\tD(x): 0.1666\tD(G(x)): 0.7194\n"
     ]
    },
    {
     "name": "stderr",
     "output_type": "stream",
     "text": [
      "360it [01:49,  3.78it/s]"
     ]
    },
    {
     "name": "stdout",
     "output_type": "stream",
     "text": [
      "Id loss 0.2508\n",
      "D loss real: 1.2068\n",
      "D loss fake: 0.2501\n",
      "Ts loss 0.0568\n",
      "G loss :0.7990\n",
      "Feature loss :0.4189\n"
     ]
    },
    {
     "name": "stderr",
     "output_type": "stream",
     "text": [
      "361it [01:49,  3.76it/s]"
     ]
    },
    {
     "name": "stdout",
     "output_type": "stream",
     "text": [
      "[3/19] [360/538]\tLoss_dis: 0.7284\tLoss_gen: 3.1677\tD(x): 0.2068\tD(G(x)): 0.7499\n"
     ]
    },
    {
     "name": "stderr",
     "output_type": "stream",
     "text": [
      "420it [02:08,  2.69it/s]"
     ]
    },
    {
     "name": "stdout",
     "output_type": "stream",
     "text": [
      "Id loss 0.2329\n",
      "D loss real: 1.2666\n",
      "D loss fake: 0.2137\n",
      "Ts loss 0.0495\n",
      "G loss :0.7377\n",
      "Feature loss :0.2628\n"
     ]
    },
    {
     "name": "stderr",
     "output_type": "stream",
     "text": [
      "421it [02:08,  2.70it/s]"
     ]
    },
    {
     "name": "stdout",
     "output_type": "stream",
     "text": [
      "[3/19] [420/538]\tLoss_dis: 0.7402\tLoss_gen: 2.4006\tD(x): 0.2666\tD(G(x)): 0.7863\n"
     ]
    },
    {
     "name": "stderr",
     "output_type": "stream",
     "text": [
      "480it [02:27,  3.72it/s]"
     ]
    },
    {
     "name": "stdout",
     "output_type": "stream",
     "text": [
      "Id loss 0.2164\n",
      "D loss real: 1.2369\n",
      "D loss fake: 0.3265\n",
      "Ts loss 0.0582\n",
      "G loss :0.6834\n",
      "Feature loss :0.2488\n"
     ]
    },
    {
     "name": "stderr",
     "output_type": "stream",
     "text": [
      "481it [02:27,  3.62it/s]"
     ]
    },
    {
     "name": "stdout",
     "output_type": "stream",
     "text": [
      "[3/19] [480/538]\tLoss_dis: 0.7817\tLoss_gen: 2.3692\tD(x): 0.2369\tD(G(x)): 0.6735\n"
     ]
    },
    {
     "name": "stderr",
     "output_type": "stream",
     "text": [
      "513it [02:36,  3.28it/s]\n",
      "0it [00:00, ?it/s]"
     ]
    },
    {
     "name": "stdout",
     "output_type": "stream",
     "text": [
      "Id loss 0.2072\n",
      "D loss real: 1.2587\n",
      "D loss fake: 0.2954\n",
      "Ts loss 0.0767\n",
      "G loss :0.7260\n",
      "Feature loss :0.2114\n"
     ]
    },
    {
     "name": "stderr",
     "output_type": "stream",
     "text": [
      "1it [00:00,  2.61it/s]"
     ]
    },
    {
     "name": "stdout",
     "output_type": "stream",
     "text": [
      "[4/19] [0/538]\tLoss_dis: 0.7770\tLoss_gen: 2.4420\tD(x): 0.2587\tD(G(x)): 0.7046\n"
     ]
    },
    {
     "name": "stderr",
     "output_type": "stream",
     "text": [
      "60it [00:18,  3.25it/s]"
     ]
    },
    {
     "name": "stdout",
     "output_type": "stream",
     "text": [
      "Id loss 0.2020\n",
      "D loss real: 1.2439\n",
      "D loss fake: 0.2836\n",
      "Ts loss 0.0854\n",
      "G loss :0.6869\n",
      "Feature loss :0.2123\n"
     ]
    },
    {
     "name": "stderr",
     "output_type": "stream",
     "text": [
      "61it [00:18,  3.23it/s]"
     ]
    },
    {
     "name": "stdout",
     "output_type": "stream",
     "text": [
      "[4/19] [60/538]\tLoss_dis: 0.7637\tLoss_gen: 2.4907\tD(x): 0.2439\tD(G(x)): 0.7164\n"
     ]
    },
    {
     "name": "stderr",
     "output_type": "stream",
     "text": [
      "120it [00:36,  3.23it/s]"
     ]
    },
    {
     "name": "stdout",
     "output_type": "stream",
     "text": [
      "Id loss 0.1965\n",
      "D loss real: 1.2724\n",
      "D loss fake: 0.3126\n",
      "Ts loss 0.0542\n",
      "G loss :0.6874\n",
      "Feature loss :0.2811\n"
     ]
    },
    {
     "name": "stderr",
     "output_type": "stream",
     "text": [
      "121it [00:37,  3.29it/s]"
     ]
    },
    {
     "name": "stdout",
     "output_type": "stream",
     "text": [
      "[4/19] [120/538]\tLoss_dis: 0.7925\tLoss_gen: 2.4520\tD(x): 0.2724\tD(G(x)): 0.6874\n"
     ]
    },
    {
     "name": "stderr",
     "output_type": "stream",
     "text": [
      "180it [00:55,  3.28it/s]"
     ]
    },
    {
     "name": "stdout",
     "output_type": "stream",
     "text": [
      "Id loss 0.2142\n",
      "D loss real: 1.2959\n",
      "D loss fake: 0.3369\n",
      "Ts loss 0.0538\n",
      "G loss :0.6854\n",
      "Feature loss :0.3625\n"
     ]
    },
    {
     "name": "stderr",
     "output_type": "stream",
     "text": [
      "181it [00:55,  3.30it/s]"
     ]
    },
    {
     "name": "stdout",
     "output_type": "stream",
     "text": [
      "[4/19] [180/538]\tLoss_dis: 0.8164\tLoss_gen: 2.7808\tD(x): 0.2959\tD(G(x)): 0.6631\n"
     ]
    },
    {
     "name": "stderr",
     "output_type": "stream",
     "text": [
      "240it [01:14,  3.23it/s]"
     ]
    },
    {
     "name": "stdout",
     "output_type": "stream",
     "text": [
      "Id loss 0.2111\n",
      "D loss real: 1.2753\n",
      "D loss fake: 0.2700\n",
      "Ts loss 0.0558\n",
      "G loss :0.7311\n",
      "Feature loss :0.3703\n"
     ]
    },
    {
     "name": "stderr",
     "output_type": "stream",
     "text": [
      "241it [01:14,  3.24it/s]"
     ]
    },
    {
     "name": "stdout",
     "output_type": "stream",
     "text": [
      "[4/19] [240/538]\tLoss_dis: 0.7726\tLoss_gen: 2.8759\tD(x): 0.2753\tD(G(x)): 0.7300\n"
     ]
    },
    {
     "name": "stderr",
     "output_type": "stream",
     "text": [
      "300it [01:32,  3.25it/s]"
     ]
    },
    {
     "name": "stdout",
     "output_type": "stream",
     "text": [
      "Id loss 0.1736\n",
      "D loss real: 1.3265\n",
      "D loss fake: 0.2272\n",
      "Ts loss 0.0376\n",
      "G loss :0.7451\n",
      "Feature loss :0.1756\n"
     ]
    },
    {
     "name": "stderr",
     "output_type": "stream",
     "text": [
      "301it [01:32,  3.18it/s]"
     ]
    },
    {
     "name": "stdout",
     "output_type": "stream",
     "text": [
      "[4/19] [300/538]\tLoss_dis: 0.7768\tLoss_gen: 1.9101\tD(x): 0.3265\tD(G(x)): 0.7728\n"
     ]
    },
    {
     "name": "stderr",
     "output_type": "stream",
     "text": [
      "360it [01:50,  3.19it/s]"
     ]
    },
    {
     "name": "stdout",
     "output_type": "stream",
     "text": [
      "Id loss 0.1966\n",
      "D loss real: 1.1928\n",
      "D loss fake: 0.2851\n",
      "Ts loss 0.0348\n",
      "G loss :0.6974\n",
      "Feature loss :0.2971\n"
     ]
    },
    {
     "name": "stderr",
     "output_type": "stream",
     "text": [
      "361it [01:51,  3.20it/s]"
     ]
    },
    {
     "name": "stdout",
     "output_type": "stream",
     "text": [
      "[4/19] [360/538]\tLoss_dis: 0.7390\tLoss_gen: 2.3325\tD(x): 0.1928\tD(G(x)): 0.7149\n"
     ]
    },
    {
     "name": "stderr",
     "output_type": "stream",
     "text": [
      "420it [02:09,  3.27it/s]"
     ]
    },
    {
     "name": "stdout",
     "output_type": "stream",
     "text": [
      "Id loss 0.1682\n",
      "D loss real: 1.3033\n",
      "D loss fake: 0.3493\n",
      "Ts loss 0.0515\n",
      "G loss :0.6997\n",
      "Feature loss :0.2058\n"
     ]
    },
    {
     "name": "stderr",
     "output_type": "stream",
     "text": [
      "421it [02:09,  3.27it/s]"
     ]
    },
    {
     "name": "stdout",
     "output_type": "stream",
     "text": [
      "[4/19] [420/538]\tLoss_dis: 0.8263\tLoss_gen: 2.1220\tD(x): 0.3033\tD(G(x)): 0.6507\n"
     ]
    },
    {
     "name": "stderr",
     "output_type": "stream",
     "text": [
      "480it [02:28,  3.35it/s]"
     ]
    },
    {
     "name": "stdout",
     "output_type": "stream",
     "text": [
      "Id loss 0.1696\n",
      "D loss real: 1.2316\n",
      "D loss fake: 0.3290\n",
      "Ts loss 0.0385\n",
      "G loss :0.7036\n",
      "Feature loss :0.2496\n"
     ]
    },
    {
     "name": "stderr",
     "output_type": "stream",
     "text": [
      "481it [02:28,  3.30it/s]"
     ]
    },
    {
     "name": "stdout",
     "output_type": "stream",
     "text": [
      "[4/19] [480/538]\tLoss_dis: 0.7803\tLoss_gen: 2.1714\tD(x): 0.2316\tD(G(x)): 0.6710\n"
     ]
    },
    {
     "name": "stderr",
     "output_type": "stream",
     "text": [
      "513it [02:38,  3.23it/s]\n",
      "0it [00:00, ?it/s]"
     ]
    },
    {
     "name": "stdout",
     "output_type": "stream",
     "text": [
      "Id loss 0.1808\n",
      "D loss real: 1.2827\n",
      "D loss fake: 0.3017\n",
      "Ts loss 0.0480\n",
      "G loss :0.6436\n",
      "Feature loss :0.3702\n"
     ]
    },
    {
     "name": "stderr",
     "output_type": "stream",
     "text": [
      "1it [00:00,  2.52it/s]"
     ]
    },
    {
     "name": "stdout",
     "output_type": "stream",
     "text": [
      "[5/19] [0/538]\tLoss_dis: 0.7922\tLoss_gen: 2.6952\tD(x): 0.2827\tD(G(x)): 0.6983\n"
     ]
    },
    {
     "name": "stderr",
     "output_type": "stream",
     "text": [
      "60it [00:18,  3.24it/s]"
     ]
    },
    {
     "name": "stdout",
     "output_type": "stream",
     "text": [
      "Id loss 0.1651\n",
      "D loss real: 1.2995\n",
      "D loss fake: 0.2755\n",
      "Ts loss 0.0471\n",
      "G loss :0.7068\n",
      "Feature loss :0.2493\n"
     ]
    },
    {
     "name": "stderr",
     "output_type": "stream",
     "text": [
      "61it [00:18,  3.20it/s]"
     ]
    },
    {
     "name": "stdout",
     "output_type": "stream",
     "text": [
      "[5/19] [60/538]\tLoss_dis: 0.7875\tLoss_gen: 2.2572\tD(x): 0.2995\tD(G(x)): 0.7245\n"
     ]
    },
    {
     "name": "stderr",
     "output_type": "stream",
     "text": [
      "120it [00:37,  3.20it/s]"
     ]
    },
    {
     "name": "stdout",
     "output_type": "stream",
     "text": [
      "Id loss 0.1617\n",
      "D loss real: 1.2665\n",
      "D loss fake: 0.3413\n",
      "Ts loss 0.0587\n",
      "G loss :0.6891\n",
      "Feature loss :0.2673\n"
     ]
    },
    {
     "name": "stderr",
     "output_type": "stream",
     "text": [
      "121it [00:37,  3.13it/s]"
     ]
    },
    {
     "name": "stdout",
     "output_type": "stream",
     "text": [
      "[5/19] [120/538]\tLoss_dis: 0.8039\tLoss_gen: 2.4258\tD(x): 0.2665\tD(G(x)): 0.6587\n"
     ]
    },
    {
     "name": "stderr",
     "output_type": "stream",
     "text": [
      "180it [00:56,  3.29it/s]"
     ]
    },
    {
     "name": "stdout",
     "output_type": "stream",
     "text": [
      "Id loss 0.1630\n",
      "D loss real: 1.2673\n",
      "D loss fake: 0.3291\n",
      "Ts loss 0.0493\n",
      "G loss :0.6873\n",
      "Feature loss :0.2449\n"
     ]
    },
    {
     "name": "stderr",
     "output_type": "stream",
     "text": [
      "181it [00:56,  3.17it/s]"
     ]
    },
    {
     "name": "stdout",
     "output_type": "stream",
     "text": [
      "[5/19] [180/538]\tLoss_dis: 0.7982\tLoss_gen: 2.2415\tD(x): 0.2673\tD(G(x)): 0.6709\n"
     ]
    },
    {
     "name": "stderr",
     "output_type": "stream",
     "text": [
      "240it [01:14,  3.25it/s]"
     ]
    },
    {
     "name": "stdout",
     "output_type": "stream",
     "text": [
      "Id loss 0.1494\n",
      "D loss real: 1.2904\n",
      "D loss fake: 0.3988\n",
      "Ts loss 0.0525\n",
      "G loss :0.7016\n",
      "Feature loss :0.2602\n"
     ]
    },
    {
     "name": "stderr",
     "output_type": "stream",
     "text": [
      "241it [01:15,  3.23it/s]"
     ]
    },
    {
     "name": "stdout",
     "output_type": "stream",
     "text": [
      "[5/19] [240/538]\tLoss_dis: 0.8446\tLoss_gen: 2.3427\tD(x): 0.2904\tD(G(x)): 0.6012\n"
     ]
    },
    {
     "name": "stderr",
     "output_type": "stream",
     "text": [
      "300it [01:33,  3.31it/s]"
     ]
    },
    {
     "name": "stdout",
     "output_type": "stream",
     "text": [
      "Id loss 0.1588\n",
      "D loss real: 1.3419\n",
      "D loss fake: 0.3019\n",
      "Ts loss 0.0245\n",
      "G loss :0.6955\n",
      "Feature loss :0.2485\n"
     ]
    },
    {
     "name": "stderr",
     "output_type": "stream",
     "text": [
      "301it [01:34,  3.32it/s]"
     ]
    },
    {
     "name": "stdout",
     "output_type": "stream",
     "text": [
      "[5/19] [300/538]\tLoss_dis: 0.8219\tLoss_gen: 2.0142\tD(x): 0.3419\tD(G(x)): 0.6981\n"
     ]
    },
    {
     "name": "stderr",
     "output_type": "stream",
     "text": [
      "360it [01:52,  3.23it/s]"
     ]
    },
    {
     "name": "stdout",
     "output_type": "stream",
     "text": [
      "Id loss 0.1671\n",
      "D loss real: 1.2934\n",
      "D loss fake: 0.2906\n",
      "Ts loss 0.0687\n",
      "G loss :0.6631\n",
      "Feature loss :0.2815\n"
     ]
    },
    {
     "name": "stderr",
     "output_type": "stream",
     "text": [
      "361it [01:52,  3.18it/s]"
     ]
    },
    {
     "name": "stdout",
     "output_type": "stream",
     "text": [
      "[5/19] [360/538]\tLoss_dis: 0.7920\tLoss_gen: 2.5595\tD(x): 0.2934\tD(G(x)): 0.7094\n"
     ]
    },
    {
     "name": "stderr",
     "output_type": "stream",
     "text": [
      "420it [02:11,  3.19it/s]"
     ]
    },
    {
     "name": "stdout",
     "output_type": "stream",
     "text": [
      "Id loss 0.1391\n",
      "D loss real: 1.3791\n",
      "D loss fake: 0.3406\n",
      "Ts loss 0.0719\n",
      "G loss :0.6823\n",
      "Feature loss :0.2177\n"
     ]
    },
    {
     "name": "stderr",
     "output_type": "stream",
     "text": [
      "421it [02:11,  3.24it/s]"
     ]
    },
    {
     "name": "stdout",
     "output_type": "stream",
     "text": [
      "[5/19] [420/538]\tLoss_dis: 0.8598\tLoss_gen: 2.3413\tD(x): 0.3791\tD(G(x)): 0.6594\n"
     ]
    },
    {
     "name": "stderr",
     "output_type": "stream",
     "text": [
      "480it [02:30,  3.22it/s]"
     ]
    },
    {
     "name": "stdout",
     "output_type": "stream",
     "text": [
      "Id loss 0.1507\n",
      "D loss real: 1.3135\n",
      "D loss fake: 0.2621\n",
      "Ts loss 0.0413\n",
      "G loss :0.7752\n",
      "Feature loss :0.2853\n"
     ]
    },
    {
     "name": "stderr",
     "output_type": "stream",
     "text": [
      "481it [02:30,  3.11it/s]"
     ]
    },
    {
     "name": "stdout",
     "output_type": "stream",
     "text": [
      "[5/19] [480/538]\tLoss_dis: 0.7878\tLoss_gen: 2.4047\tD(x): 0.3135\tD(G(x)): 0.7379\n"
     ]
    },
    {
     "name": "stderr",
     "output_type": "stream",
     "text": [
      "513it [02:40,  3.20it/s]\n",
      "0it [00:00, ?it/s]"
     ]
    },
    {
     "name": "stdout",
     "output_type": "stream",
     "text": [
      "Id loss 0.1504\n",
      "D loss real: 1.3283\n",
      "D loss fake: 0.2991\n",
      "Ts loss 0.0272\n",
      "G loss :0.7315\n",
      "Feature loss :0.2567\n"
     ]
    },
    {
     "name": "stderr",
     "output_type": "stream",
     "text": [
      "1it [00:00,  2.50it/s]"
     ]
    },
    {
     "name": "stdout",
     "output_type": "stream",
     "text": [
      "[6/19] [0/538]\tLoss_dis: 0.8137\tLoss_gen: 2.1053\tD(x): 0.3283\tD(G(x)): 0.7009\n"
     ]
    },
    {
     "name": "stderr",
     "output_type": "stream",
     "text": [
      "60it [00:18,  3.16it/s]"
     ]
    },
    {
     "name": "stdout",
     "output_type": "stream",
     "text": [
      "Id loss 0.1416\n",
      "D loss real: 1.3357\n",
      "D loss fake: 0.2875\n",
      "Ts loss 0.0548\n",
      "G loss :0.6888\n",
      "Feature loss :0.2982\n"
     ]
    },
    {
     "name": "stderr",
     "output_type": "stream",
     "text": [
      "61it [00:19,  3.10it/s]"
     ]
    },
    {
     "name": "stdout",
     "output_type": "stream",
     "text": [
      "[6/19] [60/538]\tLoss_dis: 0.8116\tLoss_gen: 2.5006\tD(x): 0.3357\tD(G(x)): 0.7125\n"
     ]
    },
    {
     "name": "stderr",
     "output_type": "stream",
     "text": [
      "120it [00:37,  3.28it/s]"
     ]
    },
    {
     "name": "stdout",
     "output_type": "stream",
     "text": [
      "Id loss 0.1487\n",
      "D loss real: 1.3274\n",
      "D loss fake: 0.2964\n",
      "Ts loss 0.0307\n",
      "G loss :0.7337\n",
      "Feature loss :0.2689\n"
     ]
    },
    {
     "name": "stderr",
     "output_type": "stream",
     "text": [
      "121it [00:38,  3.18it/s]"
     ]
    },
    {
     "name": "stdout",
     "output_type": "stream",
     "text": [
      "[6/19] [120/538]\tLoss_dis: 0.8119\tLoss_gen: 2.1911\tD(x): 0.3274\tD(G(x)): 0.7036\n"
     ]
    },
    {
     "name": "stderr",
     "output_type": "stream",
     "text": [
      "180it [00:56,  3.21it/s]"
     ]
    },
    {
     "name": "stdout",
     "output_type": "stream",
     "text": [
      "Id loss 0.1376\n",
      "D loss real: 1.3356\n",
      "D loss fake: 0.3163\n",
      "Ts loss 0.0411\n",
      "G loss :0.6976\n",
      "Feature loss :0.2554\n"
     ]
    },
    {
     "name": "stderr",
     "output_type": "stream",
     "text": [
      "181it [00:56,  3.18it/s]"
     ]
    },
    {
     "name": "stdout",
     "output_type": "stream",
     "text": [
      "[6/19] [180/538]\tLoss_dis: 0.8260\tLoss_gen: 2.1985\tD(x): 0.3356\tD(G(x)): 0.6837\n"
     ]
    },
    {
     "name": "stderr",
     "output_type": "stream",
     "text": [
      "240it [01:15,  3.10it/s]"
     ]
    },
    {
     "name": "stdout",
     "output_type": "stream",
     "text": [
      "Id loss 0.1508\n",
      "D loss real: 1.2951\n",
      "D loss fake: 0.2351\n",
      "Ts loss 0.0350\n",
      "G loss :0.7060\n",
      "Feature loss :0.3503\n"
     ]
    },
    {
     "name": "stderr",
     "output_type": "stream",
     "text": [
      "241it [01:15,  3.13it/s]"
     ]
    },
    {
     "name": "stdout",
     "output_type": "stream",
     "text": [
      "[6/19] [240/538]\tLoss_dis: 0.7651\tLoss_gen: 2.5321\tD(x): 0.2951\tD(G(x)): 0.7649\n"
     ]
    },
    {
     "name": "stderr",
     "output_type": "stream",
     "text": [
      "300it [01:34,  3.04it/s]"
     ]
    },
    {
     "name": "stdout",
     "output_type": "stream",
     "text": [
      "Id loss 0.1343\n",
      "D loss real: 1.3251\n",
      "D loss fake: 0.3005\n",
      "Ts loss 0.0342\n",
      "G loss :0.7441\n",
      "Feature loss :0.2964\n"
     ]
    },
    {
     "name": "stderr",
     "output_type": "stream",
     "text": [
      "301it [01:34,  3.04it/s]"
     ]
    },
    {
     "name": "stdout",
     "output_type": "stream",
     "text": [
      "[6/19] [300/538]\tLoss_dis: 0.8128\tLoss_gen: 2.3386\tD(x): 0.3251\tD(G(x)): 0.6995\n"
     ]
    },
    {
     "name": "stderr",
     "output_type": "stream",
     "text": [
      "360it [01:53,  3.29it/s]"
     ]
    },
    {
     "name": "stdout",
     "output_type": "stream",
     "text": [
      "Id loss 0.1173\n",
      "D loss real: 1.3695\n",
      "D loss fake: 0.3048\n",
      "Ts loss 0.0553\n",
      "G loss :0.6941\n",
      "Feature loss :0.1826\n"
     ]
    },
    {
     "name": "stderr",
     "output_type": "stream",
     "text": [
      "361it [01:53,  3.17it/s]"
     ]
    },
    {
     "name": "stdout",
     "output_type": "stream",
     "text": [
      "[6/19] [360/538]\tLoss_dis: 0.8371\tLoss_gen: 2.0365\tD(x): 0.3695\tD(G(x)): 0.6952\n"
     ]
    },
    {
     "name": "stderr",
     "output_type": "stream",
     "text": [
      "420it [02:12,  3.22it/s]"
     ]
    },
    {
     "name": "stdout",
     "output_type": "stream",
     "text": [
      "Id loss 0.1234\n",
      "D loss real: 1.3639\n",
      "D loss fake: 0.2731\n",
      "Ts loss 0.0529\n",
      "G loss :0.6725\n",
      "Feature loss :0.2124\n"
     ]
    },
    {
     "name": "stderr",
     "output_type": "stream",
     "text": [
      "421it [02:12,  3.24it/s]"
     ]
    },
    {
     "name": "stdout",
     "output_type": "stream",
     "text": [
      "[6/19] [420/538]\tLoss_dis: 0.8185\tLoss_gen: 2.1127\tD(x): 0.3639\tD(G(x)): 0.7269\n"
     ]
    },
    {
     "name": "stderr",
     "output_type": "stream",
     "text": [
      "480it [02:31,  3.21it/s]"
     ]
    },
    {
     "name": "stdout",
     "output_type": "stream",
     "text": [
      "Id loss 0.1270\n",
      "D loss real: 1.4199\n",
      "D loss fake: 0.2692\n",
      "Ts loss 0.0384\n",
      "G loss :0.7550\n",
      "Feature loss :0.2582\n"
     ]
    },
    {
     "name": "stderr",
     "output_type": "stream",
     "text": [
      "481it [02:31,  3.19it/s]"
     ]
    },
    {
     "name": "stdout",
     "output_type": "stream",
     "text": [
      "[6/19] [480/538]\tLoss_dis: 0.8445\tLoss_gen: 2.2354\tD(x): 0.4199\tD(G(x)): 0.7308\n"
     ]
    },
    {
     "name": "stderr",
     "output_type": "stream",
     "text": [
      "513it [02:41,  3.18it/s]\n",
      "0it [00:00, ?it/s]"
     ]
    },
    {
     "name": "stdout",
     "output_type": "stream",
     "text": [
      "Id loss 0.1223\n",
      "D loss real: 1.3300\n",
      "D loss fake: 0.2805\n",
      "Ts loss 0.0382\n",
      "G loss :0.7370\n",
      "Feature loss :0.2503\n"
     ]
    },
    {
     "name": "stderr",
     "output_type": "stream",
     "text": [
      "1it [00:00,  2.05it/s]"
     ]
    },
    {
     "name": "stdout",
     "output_type": "stream",
     "text": [
      "[7/19] [0/538]\tLoss_dis: 0.8052\tLoss_gen: 2.1813\tD(x): 0.3300\tD(G(x)): 0.7195\n"
     ]
    },
    {
     "name": "stderr",
     "output_type": "stream",
     "text": [
      "60it [00:19,  3.13it/s]"
     ]
    },
    {
     "name": "stdout",
     "output_type": "stream",
     "text": [
      "Id loss 0.1360\n",
      "D loss real: 1.2845\n",
      "D loss fake: 0.2640\n",
      "Ts loss 0.0438\n",
      "G loss :0.6970\n",
      "Feature loss :0.3108\n"
     ]
    },
    {
     "name": "stderr",
     "output_type": "stream",
     "text": [
      "61it [00:19,  3.15it/s]"
     ]
    },
    {
     "name": "stdout",
     "output_type": "stream",
     "text": [
      "[7/19] [60/538]\tLoss_dis: 0.7742\tLoss_gen: 2.4466\tD(x): 0.2845\tD(G(x)): 0.7360\n"
     ]
    },
    {
     "name": "stderr",
     "output_type": "stream",
     "text": [
      "120it [00:38,  3.27it/s]"
     ]
    },
    {
     "name": "stdout",
     "output_type": "stream",
     "text": [
      "Id loss 0.1090\n",
      "D loss real: 1.3920\n",
      "D loss fake: 0.3053\n",
      "Ts loss 0.0371\n",
      "G loss :0.7421\n",
      "Feature loss :0.2205\n"
     ]
    },
    {
     "name": "stderr",
     "output_type": "stream",
     "text": [
      "121it [00:38,  3.23it/s]"
     ]
    },
    {
     "name": "stdout",
     "output_type": "stream",
     "text": [
      "[7/19] [120/538]\tLoss_dis: 0.8486\tLoss_gen: 2.0498\tD(x): 0.3920\tD(G(x)): 0.6947\n"
     ]
    },
    {
     "name": "stderr",
     "output_type": "stream",
     "text": [
      "180it [00:57,  3.20it/s]"
     ]
    },
    {
     "name": "stdout",
     "output_type": "stream",
     "text": [
      "Id loss 0.1278\n",
      "D loss real: 1.2985\n",
      "D loss fake: 0.2599\n",
      "Ts loss 0.0485\n",
      "G loss :0.7084\n",
      "Feature loss :0.2112\n"
     ]
    },
    {
     "name": "stderr",
     "output_type": "stream",
     "text": [
      "181it [00:57,  3.19it/s]"
     ]
    },
    {
     "name": "stdout",
     "output_type": "stream",
     "text": [
      "[7/19] [180/538]\tLoss_dis: 0.7792\tLoss_gen: 2.1024\tD(x): 0.2985\tD(G(x)): 0.7401\n"
     ]
    },
    {
     "name": "stderr",
     "output_type": "stream",
     "text": [
      "240it [01:16,  3.23it/s]"
     ]
    },
    {
     "name": "stdout",
     "output_type": "stream",
     "text": [
      "Id loss 0.1177\n",
      "D loss real: 1.3248\n",
      "D loss fake: 0.2624\n",
      "Ts loss 0.0264\n",
      "G loss :0.7318\n",
      "Feature loss :0.2397\n"
     ]
    },
    {
     "name": "stderr",
     "output_type": "stream",
     "text": [
      "241it [01:16,  3.21it/s]"
     ]
    },
    {
     "name": "stdout",
     "output_type": "stream",
     "text": [
      "[7/19] [240/538]\tLoss_dis: 0.7936\tLoss_gen: 2.0134\tD(x): 0.3248\tD(G(x)): 0.7376\n"
     ]
    },
    {
     "name": "stderr",
     "output_type": "stream",
     "text": [
      "300it [01:36,  3.09it/s]"
     ]
    },
    {
     "name": "stdout",
     "output_type": "stream",
     "text": [
      "Id loss 0.1293\n",
      "D loss real: 1.3011\n",
      "D loss fake: 0.2955\n",
      "Ts loss 0.0378\n",
      "G loss :0.7296\n",
      "Feature loss :0.2910\n"
     ]
    },
    {
     "name": "stderr",
     "output_type": "stream",
     "text": [
      "301it [01:36,  2.98it/s]"
     ]
    },
    {
     "name": "stdout",
     "output_type": "stream",
     "text": [
      "[7/19] [300/538]\tLoss_dis: 0.7983\tLoss_gen: 2.3368\tD(x): 0.3011\tD(G(x)): 0.7045\n"
     ]
    },
    {
     "name": "stderr",
     "output_type": "stream",
     "text": [
      "360it [01:54,  3.22it/s]"
     ]
    },
    {
     "name": "stdout",
     "output_type": "stream",
     "text": [
      "Id loss 0.1227\n",
      "D loss real: 1.3446\n",
      "D loss fake: 0.2519\n",
      "Ts loss 0.0314\n",
      "G loss :0.7199\n",
      "Feature loss :0.2422\n"
     ]
    },
    {
     "name": "stderr",
     "output_type": "stream",
     "text": [
      "361it [01:55,  3.27it/s]"
     ]
    },
    {
     "name": "stdout",
     "output_type": "stream",
     "text": [
      "[7/19] [360/538]\tLoss_dis: 0.7982\tLoss_gen: 2.0641\tD(x): 0.3446\tD(G(x)): 0.7481\n"
     ]
    },
    {
     "name": "stderr",
     "output_type": "stream",
     "text": [
      "420it [02:14,  3.26it/s]"
     ]
    },
    {
     "name": "stdout",
     "output_type": "stream",
     "text": [
      "Id loss 0.1216\n",
      "D loss real: 1.3049\n",
      "D loss fake: 0.2896\n",
      "Ts loss 0.0209\n",
      "G loss :0.7469\n",
      "Feature loss :0.2430\n"
     ]
    },
    {
     "name": "stderr",
     "output_type": "stream",
     "text": [
      "421it [02:14,  3.14it/s]"
     ]
    },
    {
     "name": "stdout",
     "output_type": "stream",
     "text": [
      "[7/19] [420/538]\tLoss_dis: 0.7972\tLoss_gen: 1.9884\tD(x): 0.3049\tD(G(x)): 0.7104\n"
     ]
    },
    {
     "name": "stderr",
     "output_type": "stream",
     "text": [
      "480it [02:33,  3.29it/s]"
     ]
    },
    {
     "name": "stdout",
     "output_type": "stream",
     "text": [
      "Id loss 0.1049\n",
      "D loss real: 1.4321\n",
      "D loss fake: 0.2714\n",
      "Ts loss 0.0611\n",
      "G loss :0.7545\n",
      "Feature loss :0.2615\n"
     ]
    },
    {
     "name": "stderr",
     "output_type": "stream",
     "text": [
      "481it [02:33,  3.20it/s]"
     ]
    },
    {
     "name": "stdout",
     "output_type": "stream",
     "text": [
      "[7/19] [480/538]\tLoss_dis: 0.8518\tLoss_gen: 2.4639\tD(x): 0.4321\tD(G(x)): 0.7286\n"
     ]
    },
    {
     "name": "stderr",
     "output_type": "stream",
     "text": [
      "513it [02:43,  3.14it/s]\n",
      "0it [00:00, ?it/s]"
     ]
    },
    {
     "name": "stdout",
     "output_type": "stream",
     "text": [
      "Id loss 0.1266\n",
      "D loss real: 1.3255\n",
      "D loss fake: 0.2417\n",
      "Ts loss 0.0276\n",
      "G loss :0.6745\n",
      "Feature loss :0.2776\n"
     ]
    },
    {
     "name": "stderr",
     "output_type": "stream",
     "text": [
      "1it [00:00,  2.49it/s]"
     ]
    },
    {
     "name": "stdout",
     "output_type": "stream",
     "text": [
      "[8/19] [0/538]\tLoss_dis: 0.7836\tLoss_gen: 2.1238\tD(x): 0.3255\tD(G(x)): 0.7583\n"
     ]
    },
    {
     "name": "stderr",
     "output_type": "stream",
     "text": [
      "60it [00:19,  3.16it/s]"
     ]
    },
    {
     "name": "stdout",
     "output_type": "stream",
     "text": [
      "Id loss 0.1247\n",
      "D loss real: 1.3208\n",
      "D loss fake: 0.3323\n",
      "Ts loss 0.0438\n",
      "G loss :0.7253\n",
      "Feature loss :0.2710\n"
     ]
    },
    {
     "name": "stderr",
     "output_type": "stream",
     "text": [
      "61it [00:19,  3.18it/s]"
     ]
    },
    {
     "name": "stdout",
     "output_type": "stream",
     "text": [
      "[8/19] [60/538]\tLoss_dis: 0.8265\tLoss_gen: 2.3102\tD(x): 0.3208\tD(G(x)): 0.6677\n"
     ]
    },
    {
     "name": "stderr",
     "output_type": "stream",
     "text": [
      "120it [00:38,  3.24it/s]"
     ]
    },
    {
     "name": "stdout",
     "output_type": "stream",
     "text": [
      "Id loss 0.1296\n",
      "D loss real: 1.3600\n",
      "D loss fake: 0.2818\n",
      "Ts loss 0.0523\n",
      "G loss :0.7393\n",
      "Feature loss :0.2693\n"
     ]
    },
    {
     "name": "stderr",
     "output_type": "stream",
     "text": [
      "121it [00:38,  3.15it/s]"
     ]
    },
    {
     "name": "stdout",
     "output_type": "stream",
     "text": [
      "[8/19] [120/538]\tLoss_dis: 0.8209\tLoss_gen: 2.4045\tD(x): 0.3600\tD(G(x)): 0.7182\n"
     ]
    },
    {
     "name": "stderr",
     "output_type": "stream",
     "text": [
      "180it [00:58,  3.25it/s]"
     ]
    },
    {
     "name": "stdout",
     "output_type": "stream",
     "text": [
      "Id loss 0.1006\n",
      "D loss real: 1.3766\n",
      "D loss fake: 0.2935\n",
      "Ts loss 0.0537\n",
      "G loss :0.7384\n",
      "Feature loss :0.1948\n"
     ]
    },
    {
     "name": "stderr",
     "output_type": "stream",
     "text": [
      "181it [00:58,  3.24it/s]"
     ]
    },
    {
     "name": "stdout",
     "output_type": "stream",
     "text": [
      "[8/19] [180/538]\tLoss_dis: 0.8350\tLoss_gen: 2.1047\tD(x): 0.3766\tD(G(x)): 0.7065\n"
     ]
    },
    {
     "name": "stderr",
     "output_type": "stream",
     "text": [
      "240it [01:17,  2.44it/s]"
     ]
    },
    {
     "name": "stdout",
     "output_type": "stream",
     "text": [
      "Id loss 0.1052\n",
      "D loss real: 1.4074\n",
      "D loss fake: 0.2435\n",
      "Ts loss 0.0347\n",
      "G loss :0.7228\n",
      "Feature loss :0.2199\n"
     ]
    },
    {
     "name": "stderr",
     "output_type": "stream",
     "text": [
      "241it [01:18,  2.52it/s]"
     ]
    },
    {
     "name": "stdout",
     "output_type": "stream",
     "text": [
      "[8/19] [240/538]\tLoss_dis: 0.8254\tLoss_gen: 2.0016\tD(x): 0.4074\tD(G(x)): 0.7565\n"
     ]
    },
    {
     "name": "stderr",
     "output_type": "stream",
     "text": [
      "300it [01:36,  3.21it/s]"
     ]
    },
    {
     "name": "stdout",
     "output_type": "stream",
     "text": [
      "Id loss 0.1023\n",
      "D loss real: 1.3775\n",
      "D loss fake: 0.2600\n",
      "Ts loss 0.0701\n",
      "G loss :0.6876\n",
      "Feature loss :0.1960\n"
     ]
    },
    {
     "name": "stderr",
     "output_type": "stream",
     "text": [
      "301it [01:37,  3.20it/s]"
     ]
    },
    {
     "name": "stdout",
     "output_type": "stream",
     "text": [
      "[8/19] [300/538]\tLoss_dis: 0.8188\tLoss_gen: 2.2238\tD(x): 0.3775\tD(G(x)): 0.7400\n"
     ]
    },
    {
     "name": "stderr",
     "output_type": "stream",
     "text": [
      "360it [01:56,  2.99it/s]"
     ]
    },
    {
     "name": "stdout",
     "output_type": "stream",
     "text": [
      "Id loss 0.1023\n",
      "D loss real: 1.3397\n",
      "D loss fake: 0.3053\n",
      "Ts loss 0.0340\n",
      "G loss :0.7744\n",
      "Feature loss :0.2289\n"
     ]
    },
    {
     "name": "stderr",
     "output_type": "stream",
     "text": [
      "361it [01:57,  3.00it/s]"
     ]
    },
    {
     "name": "stdout",
     "output_type": "stream",
     "text": [
      "[8/19] [360/538]\tLoss_dis: 0.8225\tLoss_gen: 2.0807\tD(x): 0.3397\tD(G(x)): 0.6947\n"
     ]
    },
    {
     "name": "stderr",
     "output_type": "stream",
     "text": [
      "420it [02:15,  3.23it/s]"
     ]
    },
    {
     "name": "stdout",
     "output_type": "stream",
     "text": [
      "Id loss 0.1192\n",
      "D loss real: 1.3495\n",
      "D loss fake: 0.2496\n",
      "Ts loss 0.0372\n",
      "G loss :0.6941\n",
      "Feature loss :0.3019\n"
     ]
    },
    {
     "name": "stderr",
     "output_type": "stream",
     "text": [
      "421it [02:16,  3.18it/s]"
     ]
    },
    {
     "name": "stdout",
     "output_type": "stream",
     "text": [
      "[8/19] [420/538]\tLoss_dis: 0.7995\tLoss_gen: 2.3333\tD(x): 0.3495\tD(G(x)): 0.7504\n"
     ]
    },
    {
     "name": "stderr",
     "output_type": "stream",
     "text": [
      "480it [02:35,  3.27it/s]"
     ]
    },
    {
     "name": "stdout",
     "output_type": "stream",
     "text": [
      "Id loss 0.1092\n",
      "D loss real: 1.3040\n",
      "D loss fake: 0.2726\n",
      "Ts loss 0.0322\n",
      "G loss :0.7121\n",
      "Feature loss :0.2492\n"
     ]
    },
    {
     "name": "stderr",
     "output_type": "stream",
     "text": [
      "481it [02:35,  3.09it/s]"
     ]
    },
    {
     "name": "stdout",
     "output_type": "stream",
     "text": [
      "[8/19] [480/538]\tLoss_dis: 0.7883\tLoss_gen: 2.0855\tD(x): 0.3040\tD(G(x)): 0.7274\n"
     ]
    },
    {
     "name": "stderr",
     "output_type": "stream",
     "text": [
      "513it [02:46,  3.09it/s]"
     ]
    },
    {
     "name": "stdout",
     "output_type": "stream",
     "text": [
      "Epoch 00009: reducing learning rate of group 0 to 2.0000e-05.\n"
     ]
    },
    {
     "name": "stderr",
     "output_type": "stream",
     "text": [
      "\n",
      "0it [00:00, ?it/s]"
     ]
    },
    {
     "name": "stdout",
     "output_type": "stream",
     "text": [
      "Id loss 0.1100\n",
      "D loss real: 1.4168\n",
      "D loss fake: 0.2993\n",
      "Ts loss 0.0406\n",
      "G loss :0.6896\n",
      "Feature loss :0.2211\n"
     ]
    },
    {
     "name": "stderr",
     "output_type": "stream",
     "text": [
      "1it [00:00,  2.44it/s]"
     ]
    },
    {
     "name": "stdout",
     "output_type": "stream",
     "text": [
      "[9/19] [0/538]\tLoss_dis: 0.8581\tLoss_gen: 2.0348\tD(x): 0.4168\tD(G(x)): 0.7007\n"
     ]
    },
    {
     "name": "stderr",
     "output_type": "stream",
     "text": [
      "60it [00:19,  2.96it/s]"
     ]
    },
    {
     "name": "stdout",
     "output_type": "stream",
     "text": [
      "Id loss 0.1001\n",
      "D loss real: 1.3736\n",
      "D loss fake: 0.3139\n",
      "Ts loss 0.0289\n",
      "G loss :0.7480\n",
      "Feature loss :0.2349\n"
     ]
    },
    {
     "name": "stderr",
     "output_type": "stream",
     "text": [
      "61it [00:20,  2.91it/s]"
     ]
    },
    {
     "name": "stdout",
     "output_type": "stream",
     "text": [
      "[9/19] [60/538]\tLoss_dis: 0.8438\tLoss_gen: 2.0264\tD(x): 0.3736\tD(G(x)): 0.6861\n"
     ]
    },
    {
     "name": "stderr",
     "output_type": "stream",
     "text": [
      "120it [00:38,  3.02it/s]"
     ]
    },
    {
     "name": "stdout",
     "output_type": "stream",
     "text": [
      "Id loss 0.1097\n",
      "D loss real: 1.3466\n",
      "D loss fake: 0.2559\n",
      "Ts loss 0.0378\n",
      "G loss :0.7031\n",
      "Feature loss :0.2576\n"
     ]
    },
    {
     "name": "stderr",
     "output_type": "stream",
     "text": [
      "121it [00:39,  3.11it/s]"
     ]
    },
    {
     "name": "stdout",
     "output_type": "stream",
     "text": [
      "[9/19] [120/538]\tLoss_dis: 0.8012\tLoss_gen: 2.1665\tD(x): 0.3466\tD(G(x)): 0.7441\n"
     ]
    },
    {
     "name": "stderr",
     "output_type": "stream",
     "text": [
      "180it [00:58,  3.12it/s]"
     ]
    },
    {
     "name": "stdout",
     "output_type": "stream",
     "text": [
      "Id loss 0.1183\n",
      "D loss real: 1.3258\n",
      "D loss fake: 0.2773\n",
      "Ts loss 0.0384\n",
      "G loss :0.7508\n",
      "Feature loss :0.2843\n"
     ]
    },
    {
     "name": "stderr",
     "output_type": "stream",
     "text": [
      "181it [00:58,  3.13it/s]"
     ]
    },
    {
     "name": "stdout",
     "output_type": "stream",
     "text": [
      "[9/19] [180/538]\tLoss_dis: 0.8016\tLoss_gen: 2.3308\tD(x): 0.3258\tD(G(x)): 0.7227\n"
     ]
    },
    {
     "name": "stderr",
     "output_type": "stream",
     "text": [
      "240it [01:17,  3.17it/s]"
     ]
    },
    {
     "name": "stdout",
     "output_type": "stream",
     "text": [
      "Id loss 0.1018\n",
      "D loss real: 1.4523\n",
      "D loss fake: 0.2657\n",
      "Ts loss 0.0176\n",
      "G loss :0.7560\n",
      "Feature loss :0.2733\n"
     ]
    },
    {
     "name": "stderr",
     "output_type": "stream",
     "text": [
      "241it [01:18,  3.24it/s]"
     ]
    },
    {
     "name": "stdout",
     "output_type": "stream",
     "text": [
      "[9/19] [240/538]\tLoss_dis: 0.8590\tLoss_gen: 2.0762\tD(x): 0.4523\tD(G(x)): 0.7343\n"
     ]
    },
    {
     "name": "stderr",
     "output_type": "stream",
     "text": [
      "300it [01:37,  3.11it/s]"
     ]
    },
    {
     "name": "stdout",
     "output_type": "stream",
     "text": [
      "Id loss 0.1112\n",
      "D loss real: 1.3561\n",
      "D loss fake: 0.2509\n",
      "Ts loss 0.0328\n",
      "G loss :0.7475\n",
      "Feature loss :0.3348\n"
     ]
    },
    {
     "name": "stderr",
     "output_type": "stream",
     "text": [
      "301it [01:37,  3.11it/s]"
     ]
    },
    {
     "name": "stdout",
     "output_type": "stream",
     "text": [
      "[9/19] [300/538]\tLoss_dis: 0.8035\tLoss_gen: 2.4707\tD(x): 0.3561\tD(G(x)): 0.7491\n"
     ]
    },
    {
     "name": "stderr",
     "output_type": "stream",
     "text": [
      "360it [01:56,  2.88it/s]"
     ]
    },
    {
     "name": "stdout",
     "output_type": "stream",
     "text": [
      "Id loss 0.1107\n",
      "D loss real: 1.3724\n",
      "D loss fake: 0.2502\n",
      "Ts loss 0.0208\n",
      "G loss :0.7492\n",
      "Feature loss :0.2646\n"
     ]
    },
    {
     "name": "stderr",
     "output_type": "stream",
     "text": [
      "361it [01:57,  2.56it/s]"
     ]
    },
    {
     "name": "stdout",
     "output_type": "stream",
     "text": [
      "[9/19] [360/538]\tLoss_dis: 0.8113\tLoss_gen: 2.0706\tD(x): 0.3724\tD(G(x)): 0.7498\n"
     ]
    },
    {
     "name": "stderr",
     "output_type": "stream",
     "text": [
      "420it [02:16,  3.09it/s]"
     ]
    },
    {
     "name": "stdout",
     "output_type": "stream",
     "text": [
      "Id loss 0.0973\n",
      "D loss real: 1.3659\n",
      "D loss fake: 0.2751\n",
      "Ts loss 0.0181\n",
      "G loss :0.7435\n",
      "Feature loss :0.2030\n"
     ]
    },
    {
     "name": "stderr",
     "output_type": "stream",
     "text": [
      "421it [02:17,  3.09it/s]"
     ]
    },
    {
     "name": "stdout",
     "output_type": "stream",
     "text": [
      "[9/19] [420/538]\tLoss_dis: 0.8205\tLoss_gen: 1.7854\tD(x): 0.3659\tD(G(x)): 0.7249\n"
     ]
    },
    {
     "name": "stderr",
     "output_type": "stream",
     "text": [
      "480it [02:36,  3.16it/s]"
     ]
    },
    {
     "name": "stdout",
     "output_type": "stream",
     "text": [
      "Id loss 0.1213\n",
      "D loss real: 1.3163\n",
      "D loss fake: 0.2250\n",
      "Ts loss 0.0440\n",
      "G loss :0.7548\n",
      "Feature loss :0.3132\n"
     ]
    },
    {
     "name": "stderr",
     "output_type": "stream",
     "text": [
      "481it [02:36,  3.16it/s]"
     ]
    },
    {
     "name": "stdout",
     "output_type": "stream",
     "text": [
      "[9/19] [480/538]\tLoss_dis: 0.7706\tLoss_gen: 2.5081\tD(x): 0.3163\tD(G(x)): 0.7750\n"
     ]
    },
    {
     "name": "stderr",
     "output_type": "stream",
     "text": [
      "513it [02:47,  3.06it/s]\n",
      "0it [00:00, ?it/s]"
     ]
    },
    {
     "name": "stdout",
     "output_type": "stream",
     "text": [
      "Id loss 0.1105\n",
      "D loss real: 1.3333\n",
      "D loss fake: 0.2682\n",
      "Ts loss 0.0448\n",
      "G loss :0.7415\n",
      "Feature loss :0.2652\n"
     ]
    },
    {
     "name": "stderr",
     "output_type": "stream",
     "text": [
      "1it [00:00,  2.39it/s]"
     ]
    },
    {
     "name": "stdout",
     "output_type": "stream",
     "text": [
      "[10/19] [0/538]\tLoss_dis: 0.8007\tLoss_gen: 2.3051\tD(x): 0.3333\tD(G(x)): 0.7318\n"
     ]
    },
    {
     "name": "stderr",
     "output_type": "stream",
     "text": [
      "60it [00:20,  3.04it/s]"
     ]
    },
    {
     "name": "stdout",
     "output_type": "stream",
     "text": [
      "Id loss 0.1012\n",
      "D loss real: 1.3788\n",
      "D loss fake: 0.2131\n",
      "Ts loss 0.0239\n",
      "G loss :0.8124\n",
      "Feature loss :0.2660\n"
     ]
    },
    {
     "name": "stderr",
     "output_type": "stream",
     "text": [
      "61it [00:20,  3.10it/s]"
     ]
    },
    {
     "name": "stdout",
     "output_type": "stream",
     "text": [
      "[10/19] [60/538]\tLoss_dis: 0.7960\tLoss_gen: 2.1659\tD(x): 0.3788\tD(G(x)): 0.7869\n"
     ]
    },
    {
     "name": "stderr",
     "output_type": "stream",
     "text": [
      "120it [00:39,  3.08it/s]"
     ]
    },
    {
     "name": "stdout",
     "output_type": "stream",
     "text": [
      "Id loss 0.1120\n",
      "D loss real: 1.3532\n",
      "D loss fake: 0.2531\n",
      "Ts loss 0.0370\n",
      "G loss :0.7543\n",
      "Feature loss :0.3077\n"
     ]
    },
    {
     "name": "stderr",
     "output_type": "stream",
     "text": [
      "121it [00:40,  3.13it/s]"
     ]
    },
    {
     "name": "stdout",
     "output_type": "stream",
     "text": [
      "[10/19] [120/538]\tLoss_dis: 0.8031\tLoss_gen: 2.4110\tD(x): 0.3532\tD(G(x)): 0.7469\n"
     ]
    },
    {
     "name": "stderr",
     "output_type": "stream",
     "text": [
      "180it [01:00,  3.11it/s]"
     ]
    },
    {
     "name": "stdout",
     "output_type": "stream",
     "text": [
      "Id loss 0.0940\n",
      "D loss real: 1.4189\n",
      "D loss fake: 0.2394\n",
      "Ts loss 0.0480\n",
      "G loss :0.7048\n",
      "Feature loss :0.1894\n"
     ]
    },
    {
     "name": "stderr",
     "output_type": "stream",
     "text": [
      "181it [01:00,  3.14it/s]"
     ]
    },
    {
     "name": "stdout",
     "output_type": "stream",
     "text": [
      "[10/19] [180/538]\tLoss_dis: 0.8291\tLoss_gen: 1.9888\tD(x): 0.4189\tD(G(x)): 0.7606\n"
     ]
    },
    {
     "name": "stderr",
     "output_type": "stream",
     "text": [
      "240it [01:20,  3.02it/s]"
     ]
    },
    {
     "name": "stdout",
     "output_type": "stream",
     "text": [
      "Id loss 0.1075\n",
      "D loss real: 1.3606\n",
      "D loss fake: 0.2287\n",
      "Ts loss 0.0202\n",
      "G loss :0.7497\n",
      "Feature loss :0.2707\n"
     ]
    },
    {
     "name": "stderr",
     "output_type": "stream",
     "text": [
      "241it [01:20,  2.95it/s]"
     ]
    },
    {
     "name": "stdout",
     "output_type": "stream",
     "text": [
      "[10/19] [240/538]\tLoss_dis: 0.7947\tLoss_gen: 2.0886\tD(x): 0.3606\tD(G(x)): 0.7713\n"
     ]
    },
    {
     "name": "stderr",
     "output_type": "stream",
     "text": [
      "300it [01:39,  3.15it/s]"
     ]
    },
    {
     "name": "stdout",
     "output_type": "stream",
     "text": [
      "Id loss 0.0990\n",
      "D loss real: 1.3615\n",
      "D loss fake: 0.2347\n",
      "Ts loss 0.0251\n",
      "G loss :0.7420\n",
      "Feature loss :0.2030\n"
     ]
    },
    {
     "name": "stderr",
     "output_type": "stream",
     "text": [
      "301it [01:40,  3.06it/s]"
     ]
    },
    {
     "name": "stdout",
     "output_type": "stream",
     "text": [
      "[10/19] [300/538]\tLoss_dis: 0.7981\tLoss_gen: 1.8545\tD(x): 0.3615\tD(G(x)): 0.7653\n"
     ]
    },
    {
     "name": "stderr",
     "output_type": "stream",
     "text": [
      "360it [02:00,  2.99it/s]"
     ]
    },
    {
     "name": "stdout",
     "output_type": "stream",
     "text": [
      "Id loss 0.0924\n",
      "D loss real: 1.4042\n",
      "D loss fake: 0.2566\n",
      "Ts loss 0.0277\n",
      "G loss :0.7901\n",
      "Feature loss :0.2183\n"
     ]
    },
    {
     "name": "stderr",
     "output_type": "stream",
     "text": [
      "361it [02:00,  2.89it/s]"
     ]
    },
    {
     "name": "stdout",
     "output_type": "stream",
     "text": [
      "[10/19] [360/538]\tLoss_dis: 0.8304\tLoss_gen: 1.9863\tD(x): 0.4042\tD(G(x)): 0.7434\n"
     ]
    },
    {
     "name": "stderr",
     "output_type": "stream",
     "text": [
      "420it [02:20,  3.15it/s]"
     ]
    },
    {
     "name": "stdout",
     "output_type": "stream",
     "text": [
      "Id loss 0.0827\n",
      "D loss real: 1.4335\n",
      "D loss fake: 0.2627\n",
      "Ts loss 0.0438\n",
      "G loss :0.8070\n",
      "Feature loss :0.1492\n"
     ]
    },
    {
     "name": "stderr",
     "output_type": "stream",
     "text": [
      "421it [02:20,  3.07it/s]"
     ]
    },
    {
     "name": "stdout",
     "output_type": "stream",
     "text": [
      "[10/19] [420/538]\tLoss_dis: 0.8481\tLoss_gen: 1.8827\tD(x): 0.4335\tD(G(x)): 0.7373\n"
     ]
    },
    {
     "name": "stderr",
     "output_type": "stream",
     "text": [
      "480it [02:40,  2.84it/s]"
     ]
    },
    {
     "name": "stdout",
     "output_type": "stream",
     "text": [
      "Id loss 0.0947\n",
      "D loss real: 1.4103\n",
      "D loss fake: 0.2712\n",
      "Ts loss 0.0295\n",
      "G loss :0.7274\n",
      "Feature loss :0.2358\n"
     ]
    },
    {
     "name": "stderr",
     "output_type": "stream",
     "text": [
      "481it [02:40,  2.64it/s]"
     ]
    },
    {
     "name": "stdout",
     "output_type": "stream",
     "text": [
      "[10/19] [480/538]\tLoss_dis: 0.8407\tLoss_gen: 2.0131\tD(x): 0.4103\tD(G(x)): 0.7288\n"
     ]
    },
    {
     "name": "stderr",
     "output_type": "stream",
     "text": [
      "513it [02:51,  2.99it/s]"
     ]
    },
    {
     "name": "stdout",
     "output_type": "stream",
     "text": [
      "Epoch 00011: reducing learning rate of group 0 to 2.0000e-06.\n"
     ]
    },
    {
     "name": "stderr",
     "output_type": "stream",
     "text": [
      "\n",
      "0it [00:00, ?it/s]"
     ]
    },
    {
     "name": "stdout",
     "output_type": "stream",
     "text": [
      "Id loss 0.1113\n",
      "D loss real: 1.3253\n",
      "D loss fake: 0.2711\n",
      "Ts loss 0.0323\n",
      "G loss :0.7120\n",
      "Feature loss :0.2674\n"
     ]
    },
    {
     "name": "stderr",
     "output_type": "stream",
     "text": [
      "1it [00:00,  2.47it/s]"
     ]
    },
    {
     "name": "stdout",
     "output_type": "stream",
     "text": [
      "[11/19] [0/538]\tLoss_dis: 0.7982\tLoss_gen: 2.1599\tD(x): 0.3253\tD(G(x)): 0.7289\n"
     ]
    },
    {
     "name": "stderr",
     "output_type": "stream",
     "text": [
      "60it [00:20,  3.12it/s]"
     ]
    },
    {
     "name": "stdout",
     "output_type": "stream",
     "text": [
      "Id loss 0.1493\n",
      "D loss real: 1.3513\n",
      "D loss fake: 0.2530\n",
      "Ts loss 0.0327\n",
      "G loss :0.7277\n",
      "Feature loss :0.3779\n"
     ]
    },
    {
     "name": "stderr",
     "output_type": "stream",
     "text": [
      "61it [00:20,  3.14it/s]"
     ]
    },
    {
     "name": "stdout",
     "output_type": "stream",
     "text": [
      "[11/19] [60/538]\tLoss_dis: 0.8021\tLoss_gen: 2.6410\tD(x): 0.3513\tD(G(x)): 0.7470\n"
     ]
    },
    {
     "name": "stderr",
     "output_type": "stream",
     "text": [
      "120it [00:40,  2.99it/s]"
     ]
    },
    {
     "name": "stdout",
     "output_type": "stream",
     "text": [
      "Id loss 0.0745\n",
      "D loss real: 1.5689\n",
      "D loss fake: 0.1857\n",
      "Ts loss 0.0232\n",
      "G loss :0.7508\n",
      "Feature loss :0.1217\n"
     ]
    },
    {
     "name": "stderr",
     "output_type": "stream",
     "text": [
      "121it [00:40,  2.94it/s]"
     ]
    },
    {
     "name": "stdout",
     "output_type": "stream",
     "text": [
      "[11/19] [120/538]\tLoss_dis: 0.8773\tLoss_gen: 1.5065\tD(x): 0.5689\tD(G(x)): 0.8143\n"
     ]
    },
    {
     "name": "stderr",
     "output_type": "stream",
     "text": [
      "180it [01:00,  3.01it/s]"
     ]
    },
    {
     "name": "stdout",
     "output_type": "stream",
     "text": [
      "Id loss 0.1192\n",
      "D loss real: 1.2959\n",
      "D loss fake: 0.2051\n",
      "Ts loss 0.0431\n",
      "G loss :0.7595\n",
      "Feature loss :0.3502\n"
     ]
    },
    {
     "name": "stderr",
     "output_type": "stream",
     "text": [
      "181it [01:00,  2.99it/s]"
     ]
    },
    {
     "name": "stdout",
     "output_type": "stream",
     "text": [
      "[11/19] [180/538]\tLoss_dis: 0.7505\tLoss_gen: 2.6509\tD(x): 0.2959\tD(G(x)): 0.7949\n"
     ]
    },
    {
     "name": "stderr",
     "output_type": "stream",
     "text": [
      "240it [01:20,  3.01it/s]"
     ]
    },
    {
     "name": "stdout",
     "output_type": "stream",
     "text": [
      "Id loss 0.1244\n",
      "D loss real: 1.3246\n",
      "D loss fake: 0.2306\n",
      "Ts loss 0.0129\n",
      "G loss :0.7736\n",
      "Feature loss :0.2872\n"
     ]
    },
    {
     "name": "stderr",
     "output_type": "stream",
     "text": [
      "241it [01:21,  3.05it/s]"
     ]
    },
    {
     "name": "stdout",
     "output_type": "stream",
     "text": [
      "[11/19] [240/538]\tLoss_dis: 0.7776\tLoss_gen: 2.1136\tD(x): 0.3246\tD(G(x)): 0.7694\n"
     ]
    },
    {
     "name": "stderr",
     "output_type": "stream",
     "text": [
      "300it [01:40,  2.45it/s]"
     ]
    },
    {
     "name": "stdout",
     "output_type": "stream",
     "text": [
      "Id loss 0.0912\n",
      "D loss real: 1.3272\n",
      "D loss fake: 0.2181\n",
      "Ts loss 0.0252\n",
      "G loss :0.7733\n",
      "Feature loss :0.2196\n"
     ]
    },
    {
     "name": "stderr",
     "output_type": "stream",
     "text": [
      "301it [01:41,  2.52it/s]"
     ]
    },
    {
     "name": "stdout",
     "output_type": "stream",
     "text": [
      "[11/19] [300/538]\tLoss_dis: 0.7727\tLoss_gen: 1.9488\tD(x): 0.3272\tD(G(x)): 0.7819\n"
     ]
    },
    {
     "name": "stderr",
     "output_type": "stream",
     "text": [
      "360it [02:00,  3.11it/s]"
     ]
    },
    {
     "name": "stdout",
     "output_type": "stream",
     "text": [
      "Id loss 0.1154\n",
      "D loss real: 1.3452\n",
      "D loss fake: 0.2456\n",
      "Ts loss 0.0385\n",
      "G loss :0.7621\n",
      "Feature loss :0.2725\n"
     ]
    },
    {
     "name": "stderr",
     "output_type": "stream",
     "text": [
      "361it [02:00,  2.97it/s]"
     ]
    },
    {
     "name": "stdout",
     "output_type": "stream",
     "text": [
      "[11/19] [360/538]\tLoss_dis: 0.7954\tLoss_gen: 2.2942\tD(x): 0.3452\tD(G(x)): 0.7544\n"
     ]
    },
    {
     "name": "stderr",
     "output_type": "stream",
     "text": [
      "420it [02:20,  3.15it/s]"
     ]
    },
    {
     "name": "stdout",
     "output_type": "stream",
     "text": [
      "Id loss 0.1111\n",
      "D loss real: 1.3261\n",
      "D loss fake: 0.2582\n",
      "Ts loss 0.0317\n",
      "G loss :0.7714\n",
      "Feature loss :0.2522\n"
     ]
    },
    {
     "name": "stderr",
     "output_type": "stream",
     "text": [
      "421it [02:20,  3.00it/s]"
     ]
    },
    {
     "name": "stdout",
     "output_type": "stream",
     "text": [
      "[11/19] [420/538]\tLoss_dis: 0.7922\tLoss_gen: 2.1521\tD(x): 0.3261\tD(G(x)): 0.7418\n"
     ]
    },
    {
     "name": "stderr",
     "output_type": "stream",
     "text": [
      "480it [02:40,  2.98it/s]"
     ]
    },
    {
     "name": "stdout",
     "output_type": "stream",
     "text": [
      "Id loss 0.1127\n",
      "D loss real: 1.2948\n",
      "D loss fake: 0.2154\n",
      "Ts loss 0.0379\n",
      "G loss :0.7798\n",
      "Feature loss :0.2601\n"
     ]
    },
    {
     "name": "stderr",
     "output_type": "stream",
     "text": [
      "481it [02:41,  2.96it/s]"
     ]
    },
    {
     "name": "stdout",
     "output_type": "stream",
     "text": [
      "[11/19] [480/538]\tLoss_dis: 0.7551\tLoss_gen: 2.2556\tD(x): 0.2948\tD(G(x)): 0.7846\n"
     ]
    },
    {
     "name": "stderr",
     "output_type": "stream",
     "text": [
      "513it [02:51,  2.99it/s]\n",
      "0it [00:00, ?it/s]"
     ]
    },
    {
     "name": "stdout",
     "output_type": "stream",
     "text": [
      "Id loss 0.0890\n",
      "D loss real: 1.4609\n",
      "D loss fake: 0.2162\n",
      "Ts loss 0.0311\n",
      "G loss :0.7695\n",
      "Feature loss :0.2151\n"
     ]
    },
    {
     "name": "stderr",
     "output_type": "stream",
     "text": [
      "1it [00:00,  2.39it/s]"
     ]
    },
    {
     "name": "stdout",
     "output_type": "stream",
     "text": [
      "[12/19] [0/538]\tLoss_dis: 0.8385\tLoss_gen: 1.9852\tD(x): 0.4609\tD(G(x)): 0.7838\n"
     ]
    },
    {
     "name": "stderr",
     "output_type": "stream",
     "text": [
      "60it [00:20,  2.98it/s]"
     ]
    },
    {
     "name": "stdout",
     "output_type": "stream",
     "text": [
      "Id loss 0.1204\n",
      "D loss real: 1.3079\n",
      "D loss fake: 0.2389\n",
      "Ts loss 0.0289\n",
      "G loss :0.7608\n",
      "Feature loss :0.2873\n"
     ]
    },
    {
     "name": "stderr",
     "output_type": "stream",
     "text": [
      "61it [00:20,  3.08it/s]"
     ]
    },
    {
     "name": "stdout",
     "output_type": "stream",
     "text": [
      "[12/19] [60/538]\tLoss_dis: 0.7734\tLoss_gen: 2.2592\tD(x): 0.3079\tD(G(x)): 0.7611\n"
     ]
    },
    {
     "name": "stderr",
     "output_type": "stream",
     "text": [
      "120it [00:40,  2.94it/s]"
     ]
    },
    {
     "name": "stdout",
     "output_type": "stream",
     "text": [
      "Id loss 0.1015\n",
      "D loss real: 1.2783\n",
      "D loss fake: 0.2345\n",
      "Ts loss 0.0283\n",
      "G loss :0.7970\n",
      "Feature loss :0.2534\n"
     ]
    },
    {
     "name": "stderr",
     "output_type": "stream",
     "text": [
      "121it [00:41,  2.82it/s]"
     ]
    },
    {
     "name": "stdout",
     "output_type": "stream",
     "text": [
      "[12/19] [120/538]\tLoss_dis: 0.7564\tLoss_gen: 2.1445\tD(x): 0.2783\tD(G(x)): 0.7655\n"
     ]
    },
    {
     "name": "stderr",
     "output_type": "stream",
     "text": [
      "180it [01:01,  2.78it/s]"
     ]
    },
    {
     "name": "stdout",
     "output_type": "stream",
     "text": [
      "Id loss 0.0919\n",
      "D loss real: 1.3500\n",
      "D loss fake: 0.2715\n",
      "Ts loss 0.0370\n",
      "G loss :0.7661\n",
      "Feature loss :0.2039\n"
     ]
    },
    {
     "name": "stderr",
     "output_type": "stream",
     "text": [
      "181it [01:01,  2.86it/s]"
     ]
    },
    {
     "name": "stdout",
     "output_type": "stream",
     "text": [
      "[12/19] [180/538]\tLoss_dis: 0.8107\tLoss_gen: 1.9974\tD(x): 0.3500\tD(G(x)): 0.7285\n"
     ]
    },
    {
     "name": "stderr",
     "output_type": "stream",
     "text": [
      "240it [01:21,  2.81it/s]"
     ]
    },
    {
     "name": "stdout",
     "output_type": "stream",
     "text": [
      "Id loss 0.0974\n",
      "D loss real: 1.3049\n",
      "D loss fake: 0.2494\n",
      "Ts loss 0.0253\n",
      "G loss :0.8036\n",
      "Feature loss :0.2396\n"
     ]
    },
    {
     "name": "stderr",
     "output_type": "stream",
     "text": [
      "241it [01:22,  2.82it/s]"
     ]
    },
    {
     "name": "stdout",
     "output_type": "stream",
     "text": [
      "[12/19] [240/538]\tLoss_dis: 0.7771\tLoss_gen: 2.0635\tD(x): 0.3049\tD(G(x)): 0.7506\n"
     ]
    },
    {
     "name": "stderr",
     "output_type": "stream",
     "text": [
      "300it [01:41,  3.09it/s]"
     ]
    },
    {
     "name": "stdout",
     "output_type": "stream",
     "text": [
      "Id loss 0.1050\n",
      "D loss real: 1.3017\n",
      "D loss fake: 0.2527\n",
      "Ts loss 0.0327\n",
      "G loss :0.7439\n",
      "Feature loss :0.2539\n"
     ]
    },
    {
     "name": "stderr",
     "output_type": "stream",
     "text": [
      "301it [01:41,  2.98it/s]"
     ]
    },
    {
     "name": "stdout",
     "output_type": "stream",
     "text": [
      "[12/19] [300/538]\tLoss_dis: 0.7772\tLoss_gen: 2.1390\tD(x): 0.3017\tD(G(x)): 0.7473\n"
     ]
    },
    {
     "name": "stderr",
     "output_type": "stream",
     "text": [
      "360it [02:01,  2.97it/s]"
     ]
    },
    {
     "name": "stdout",
     "output_type": "stream",
     "text": [
      "Id loss 0.1007\n",
      "D loss real: 1.3909\n",
      "D loss fake: 0.2410\n",
      "Ts loss 0.0419\n",
      "G loss :0.7908\n",
      "Feature loss :0.2005\n"
     ]
    },
    {
     "name": "stderr",
     "output_type": "stream",
     "text": [
      "361it [02:02,  2.99it/s]"
     ]
    },
    {
     "name": "stdout",
     "output_type": "stream",
     "text": [
      "[12/19] [360/538]\tLoss_dis: 0.8159\tLoss_gen: 2.0620\tD(x): 0.3909\tD(G(x)): 0.7590\n"
     ]
    },
    {
     "name": "stderr",
     "output_type": "stream",
     "text": [
      "420it [02:22,  3.03it/s]"
     ]
    },
    {
     "name": "stdout",
     "output_type": "stream",
     "text": [
      "Id loss 0.1117\n",
      "D loss real: 1.2475\n",
      "D loss fake: 0.2086\n",
      "Ts loss 0.0211\n",
      "G loss :0.7695\n",
      "Feature loss :0.3205\n"
     ]
    },
    {
     "name": "stderr",
     "output_type": "stream",
     "text": [
      "421it [02:22,  2.93it/s]"
     ]
    },
    {
     "name": "stdout",
     "output_type": "stream",
     "text": [
      "[12/19] [420/538]\tLoss_dis: 0.7280\tLoss_gen: 2.3180\tD(x): 0.2475\tD(G(x)): 0.7914\n"
     ]
    },
    {
     "name": "stderr",
     "output_type": "stream",
     "text": [
      "480it [02:42,  2.85it/s]"
     ]
    },
    {
     "name": "stdout",
     "output_type": "stream",
     "text": [
      "Id loss 0.0887\n",
      "D loss real: 1.3247\n",
      "D loss fake: 0.1967\n",
      "Ts loss 0.0381\n",
      "G loss :0.7724\n",
      "Feature loss :0.2211\n"
     ]
    },
    {
     "name": "stderr",
     "output_type": "stream",
     "text": [
      "481it [02:43,  2.92it/s]"
     ]
    },
    {
     "name": "stdout",
     "output_type": "stream",
     "text": [
      "[12/19] [480/538]\tLoss_dis: 0.7607\tLoss_gen: 2.0822\tD(x): 0.3247\tD(G(x)): 0.8033\n"
     ]
    },
    {
     "name": "stderr",
     "output_type": "stream",
     "text": [
      "513it [02:54,  2.95it/s]\n",
      "0it [00:00, ?it/s]"
     ]
    },
    {
     "name": "stdout",
     "output_type": "stream",
     "text": [
      "Id loss 0.1082\n",
      "D loss real: 1.2907\n",
      "D loss fake: 0.2117\n",
      "Ts loss 0.0217\n",
      "G loss :0.7888\n",
      "Feature loss :0.2668\n"
     ]
    },
    {
     "name": "stderr",
     "output_type": "stream",
     "text": [
      "1it [00:00,  2.50it/s]"
     ]
    },
    {
     "name": "stdout",
     "output_type": "stream",
     "text": [
      "[13/19] [0/538]\tLoss_dis: 0.7512\tLoss_gen: 2.1265\tD(x): 0.2907\tD(G(x)): 0.7883\n"
     ]
    },
    {
     "name": "stderr",
     "output_type": "stream",
     "text": [
      "60it [00:20,  3.07it/s]"
     ]
    },
    {
     "name": "stdout",
     "output_type": "stream",
     "text": [
      "Id loss 0.1008\n",
      "D loss real: 1.3462\n",
      "D loss fake: 0.2231\n",
      "Ts loss 0.0260\n",
      "G loss :0.7510\n",
      "Feature loss :0.2342\n"
     ]
    },
    {
     "name": "stderr",
     "output_type": "stream",
     "text": [
      "61it [00:21,  3.05it/s]"
     ]
    },
    {
     "name": "stdout",
     "output_type": "stream",
     "text": [
      "[13/19] [60/538]\tLoss_dis: 0.7847\tLoss_gen: 1.9984\tD(x): 0.3462\tD(G(x)): 0.7769\n"
     ]
    },
    {
     "name": "stderr",
     "output_type": "stream",
     "text": [
      "120it [00:41,  3.10it/s]"
     ]
    },
    {
     "name": "stdout",
     "output_type": "stream",
     "text": [
      "Id loss 0.1200\n",
      "D loss real: 1.2832\n",
      "D loss fake: 0.2228\n",
      "Ts loss 0.0217\n",
      "G loss :0.7821\n",
      "Feature loss :0.2898\n"
     ]
    },
    {
     "name": "stderr",
     "output_type": "stream",
     "text": [
      "121it [00:41,  3.10it/s]"
     ]
    },
    {
     "name": "stdout",
     "output_type": "stream",
     "text": [
      "[13/19] [120/538]\tLoss_dis: 0.7530\tLoss_gen: 2.2180\tD(x): 0.2832\tD(G(x)): 0.7772\n"
     ]
    },
    {
     "name": "stderr",
     "output_type": "stream",
     "text": [
      "180it [01:01,  3.00it/s]"
     ]
    },
    {
     "name": "stdout",
     "output_type": "stream",
     "text": [
      "Id loss 0.1057\n",
      "D loss real: 1.2902\n",
      "D loss fake: 0.2253\n",
      "Ts loss 0.0238\n",
      "G loss :0.8069\n",
      "Feature loss :0.2684\n"
     ]
    },
    {
     "name": "stderr",
     "output_type": "stream",
     "text": [
      "181it [01:01,  2.93it/s]"
     ]
    },
    {
     "name": "stdout",
     "output_type": "stream",
     "text": [
      "[13/19] [180/538]\tLoss_dis: 0.7577\tLoss_gen: 2.1716\tD(x): 0.2902\tD(G(x)): 0.7747\n"
     ]
    },
    {
     "name": "stderr",
     "output_type": "stream",
     "text": [
      "240it [01:22,  2.89it/s]"
     ]
    },
    {
     "name": "stdout",
     "output_type": "stream",
     "text": [
      "Id loss 0.0910\n",
      "D loss real: 1.4912\n",
      "D loss fake: 0.2456\n",
      "Ts loss 0.0313\n",
      "G loss :0.8096\n",
      "Feature loss :0.1785\n"
     ]
    },
    {
     "name": "stderr",
     "output_type": "stream",
     "text": [
      "241it [01:22,  2.93it/s]"
     ]
    },
    {
     "name": "stdout",
     "output_type": "stream",
     "text": [
      "[13/19] [240/538]\tLoss_dis: 0.8684\tLoss_gen: 1.8823\tD(x): 0.4912\tD(G(x)): 0.7544\n"
     ]
    },
    {
     "name": "stderr",
     "output_type": "stream",
     "text": [
      "300it [01:43,  3.07it/s]"
     ]
    },
    {
     "name": "stdout",
     "output_type": "stream",
     "text": [
      "Id loss 0.1096\n",
      "D loss real: 1.2789\n",
      "D loss fake: 0.2413\n",
      "Ts loss 0.0283\n",
      "G loss :0.7461\n",
      "Feature loss :0.3496\n"
     ]
    },
    {
     "name": "stderr",
     "output_type": "stream",
     "text": [
      "301it [01:43,  3.06it/s]"
     ]
    },
    {
     "name": "stdout",
     "output_type": "stream",
     "text": [
      "[13/19] [300/538]\tLoss_dis: 0.7601\tLoss_gen: 2.4818\tD(x): 0.2789\tD(G(x)): 0.7587\n"
     ]
    },
    {
     "name": "stderr",
     "output_type": "stream",
     "text": [
      "360it [02:03,  3.08it/s]"
     ]
    },
    {
     "name": "stdout",
     "output_type": "stream",
     "text": [
      "Id loss 0.1184\n",
      "D loss real: 1.2305\n",
      "D loss fake: 0.2220\n",
      "Ts loss 0.0314\n",
      "G loss :0.7785\n",
      "Feature loss :0.2662\n"
     ]
    },
    {
     "name": "stderr",
     "output_type": "stream",
     "text": [
      "361it [02:04,  2.94it/s]"
     ]
    },
    {
     "name": "stdout",
     "output_type": "stream",
     "text": [
      "[13/19] [360/538]\tLoss_dis: 0.7263\tLoss_gen: 2.2169\tD(x): 0.2305\tD(G(x)): 0.7780\n"
     ]
    },
    {
     "name": "stderr",
     "output_type": "stream",
     "text": [
      "420it [02:24,  2.90it/s]"
     ]
    },
    {
     "name": "stdout",
     "output_type": "stream",
     "text": [
      "Id loss 0.0984\n",
      "D loss real: 1.4018\n",
      "D loss fake: 0.1945\n",
      "Ts loss 0.0366\n",
      "G loss :0.7325\n",
      "Feature loss :0.2254\n"
     ]
    },
    {
     "name": "stderr",
     "output_type": "stream",
     "text": [
      "421it [02:25,  2.97it/s]"
     ]
    },
    {
     "name": "stdout",
     "output_type": "stream",
     "text": [
      "[13/19] [420/538]\tLoss_dis: 0.7981\tLoss_gen: 2.0494\tD(x): 0.4018\tD(G(x)): 0.8055\n"
     ]
    },
    {
     "name": "stderr",
     "output_type": "stream",
     "text": [
      "480it [02:45,  2.27it/s]"
     ]
    },
    {
     "name": "stdout",
     "output_type": "stream",
     "text": [
      "Id loss 0.1188\n",
      "D loss real: 1.2707\n",
      "D loss fake: 0.2113\n",
      "Ts loss 0.0270\n",
      "G loss :0.7478\n",
      "Feature loss :0.3140\n"
     ]
    },
    {
     "name": "stderr",
     "output_type": "stream",
     "text": [
      "481it [02:46,  2.44it/s]"
     ]
    },
    {
     "name": "stdout",
     "output_type": "stream",
     "text": [
      "[13/19] [480/538]\tLoss_dis: 0.7410\tLoss_gen: 2.3336\tD(x): 0.2707\tD(G(x)): 0.7887\n"
     ]
    },
    {
     "name": "stderr",
     "output_type": "stream",
     "text": [
      "513it [02:57,  2.89it/s]\n",
      "0it [00:00, ?it/s]"
     ]
    },
    {
     "name": "stdout",
     "output_type": "stream",
     "text": [
      "Id loss 0.1025\n",
      "D loss real: 1.4602\n",
      "D loss fake: 0.2094\n",
      "Ts loss 0.0257\n",
      "G loss :0.7533\n",
      "Feature loss :0.3705\n"
     ]
    },
    {
     "name": "stderr",
     "output_type": "stream",
     "text": [
      "1it [00:00,  2.23it/s]"
     ]
    },
    {
     "name": "stdout",
     "output_type": "stream",
     "text": [
      "[14/19] [0/538]\tLoss_dis: 0.8348\tLoss_gen: 2.5432\tD(x): 0.4602\tD(G(x)): 0.7906\n"
     ]
    },
    {
     "name": "stderr",
     "output_type": "stream",
     "text": [
      "60it [00:20,  3.04it/s]"
     ]
    },
    {
     "name": "stdout",
     "output_type": "stream",
     "text": [
      "Id loss 0.0887\n",
      "D loss real: 1.3639\n",
      "D loss fake: 0.2088\n",
      "Ts loss 0.0316\n",
      "G loss :0.7413\n",
      "Feature loss :0.1584\n"
     ]
    },
    {
     "name": "stderr",
     "output_type": "stream",
     "text": [
      "61it [00:21,  3.04it/s]"
     ]
    },
    {
     "name": "stdout",
     "output_type": "stream",
     "text": [
      "[14/19] [60/538]\tLoss_dis: 0.7863\tLoss_gen: 1.7347\tD(x): 0.3639\tD(G(x)): 0.7912\n"
     ]
    },
    {
     "name": "stderr",
     "output_type": "stream",
     "text": [
      "120it [00:41,  2.38it/s]"
     ]
    },
    {
     "name": "stdout",
     "output_type": "stream",
     "text": [
      "Id loss 0.0895\n",
      "D loss real: 1.4243\n",
      "D loss fake: 0.2241\n",
      "Ts loss 0.0263\n",
      "G loss :0.8052\n",
      "Feature loss :0.2251\n"
     ]
    },
    {
     "name": "stderr",
     "output_type": "stream",
     "text": [
      "121it [00:42,  2.52it/s]"
     ]
    },
    {
     "name": "stdout",
     "output_type": "stream",
     "text": [
      "[14/19] [120/538]\tLoss_dis: 0.8242\tLoss_gen: 2.0136\tD(x): 0.4243\tD(G(x)): 0.7759\n"
     ]
    },
    {
     "name": "stderr",
     "output_type": "stream",
     "text": [
      "180it [01:02,  2.56it/s]"
     ]
    },
    {
     "name": "stdout",
     "output_type": "stream",
     "text": [
      "Id loss 0.1004\n",
      "D loss real: 1.3486\n",
      "D loss fake: 0.2019\n",
      "Ts loss 0.0362\n",
      "G loss :0.8020\n",
      "Feature loss :0.2627\n"
     ]
    },
    {
     "name": "stderr",
     "output_type": "stream",
     "text": [
      "181it [01:03,  2.65it/s]"
     ]
    },
    {
     "name": "stdout",
     "output_type": "stream",
     "text": [
      "[14/19] [180/538]\tLoss_dis: 0.7753\tLoss_gen: 2.2655\tD(x): 0.3486\tD(G(x)): 0.7981\n"
     ]
    },
    {
     "name": "stderr",
     "output_type": "stream",
     "text": [
      "240it [01:24,  2.61it/s]"
     ]
    },
    {
     "name": "stdout",
     "output_type": "stream",
     "text": [
      "Id loss 0.0855\n",
      "D loss real: 1.5215\n",
      "D loss fake: 0.2024\n",
      "Ts loss 0.0422\n",
      "G loss :0.7861\n",
      "Feature loss :0.2167\n"
     ]
    },
    {
     "name": "stderr",
     "output_type": "stream",
     "text": [
      "241it [01:24,  2.73it/s]"
     ]
    },
    {
     "name": "stdout",
     "output_type": "stream",
     "text": [
      "[14/19] [240/538]\tLoss_dis: 0.8619\tLoss_gen: 2.1181\tD(x): 0.5215\tD(G(x)): 0.7976\n"
     ]
    },
    {
     "name": "stderr",
     "output_type": "stream",
     "text": [
      "300it [01:45,  2.74it/s]"
     ]
    },
    {
     "name": "stdout",
     "output_type": "stream",
     "text": [
      "Id loss 0.1096\n",
      "D loss real: 1.2917\n",
      "D loss fake: 0.2483\n",
      "Ts loss 0.0404\n",
      "G loss :0.7341\n",
      "Feature loss :0.3238\n"
     ]
    },
    {
     "name": "stderr",
     "output_type": "stream",
     "text": [
      "301it [01:45,  2.72it/s]"
     ]
    },
    {
     "name": "stdout",
     "output_type": "stream",
     "text": [
      "[14/19] [300/538]\tLoss_dis: 0.7700\tLoss_gen: 2.4882\tD(x): 0.2917\tD(G(x)): 0.7517\n"
     ]
    },
    {
     "name": "stderr",
     "output_type": "stream",
     "text": [
      "360it [02:06,  2.85it/s]"
     ]
    },
    {
     "name": "stdout",
     "output_type": "stream",
     "text": [
      "Id loss 0.1237\n",
      "D loss real: 1.2480\n",
      "D loss fake: 0.2259\n",
      "Ts loss 0.0305\n",
      "G loss :0.7827\n",
      "Feature loss :0.2779\n"
     ]
    },
    {
     "name": "stderr",
     "output_type": "stream",
     "text": [
      "361it [02:06,  2.91it/s]"
     ]
    },
    {
     "name": "stdout",
     "output_type": "stream",
     "text": [
      "[14/19] [360/538]\tLoss_dis: 0.7369\tLoss_gen: 2.2612\tD(x): 0.2480\tD(G(x)): 0.7741\n"
     ]
    },
    {
     "name": "stderr",
     "output_type": "stream",
     "text": [
      "420it [02:27,  2.84it/s]"
     ]
    },
    {
     "name": "stdout",
     "output_type": "stream",
     "text": [
      "Id loss 0.1248\n",
      "D loss real: 1.2754\n",
      "D loss fake: 0.2275\n",
      "Ts loss 0.0129\n",
      "G loss :0.7260\n",
      "Feature loss :0.3249\n"
     ]
    },
    {
     "name": "stderr",
     "output_type": "stream",
     "text": [
      "421it [02:28,  2.87it/s]"
     ]
    },
    {
     "name": "stdout",
     "output_type": "stream",
     "text": [
      "[14/19] [420/538]\tLoss_dis: 0.7515\tLoss_gen: 2.2173\tD(x): 0.2754\tD(G(x)): 0.7725\n"
     ]
    },
    {
     "name": "stderr",
     "output_type": "stream",
     "text": [
      "480it [02:49,  3.03it/s]"
     ]
    },
    {
     "name": "stdout",
     "output_type": "stream",
     "text": [
      "Id loss 0.1182\n",
      "D loss real: 1.3088\n",
      "D loss fake: 0.1973\n",
      "Ts loss 0.0148\n",
      "G loss :0.7675\n",
      "Feature loss :0.2962\n"
     ]
    },
    {
     "name": "stderr",
     "output_type": "stream",
     "text": [
      "481it [02:49,  3.03it/s]"
     ]
    },
    {
     "name": "stdout",
     "output_type": "stream",
     "text": [
      "[14/19] [480/538]\tLoss_dis: 0.7531\tLoss_gen: 2.1589\tD(x): 0.3088\tD(G(x)): 0.8027\n"
     ]
    },
    {
     "name": "stderr",
     "output_type": "stream",
     "text": [
      "513it [03:00,  2.84it/s]"
     ]
    },
    {
     "name": "stdout",
     "output_type": "stream",
     "text": [
      "Epoch 00015: reducing learning rate of group 0 to 2.0000e-07.\n"
     ]
    },
    {
     "name": "stderr",
     "output_type": "stream",
     "text": [
      "\n",
      "0it [00:00, ?it/s]"
     ]
    },
    {
     "name": "stdout",
     "output_type": "stream",
     "text": [
      "Id loss 0.0909\n",
      "D loss real: 1.4862\n",
      "D loss fake: 0.2037\n",
      "Ts loss 0.0492\n",
      "G loss :0.7845\n",
      "Feature loss :0.2159\n"
     ]
    },
    {
     "name": "stderr",
     "output_type": "stream",
     "text": [
      "1it [00:00,  2.19it/s]"
     ]
    },
    {
     "name": "stdout",
     "output_type": "stream",
     "text": [
      "[15/19] [0/538]\tLoss_dis: 0.8449\tLoss_gen: 2.1862\tD(x): 0.4862\tD(G(x)): 0.7963\n"
     ]
    },
    {
     "name": "stderr",
     "output_type": "stream",
     "text": [
      "60it [00:21,  2.95it/s]"
     ]
    },
    {
     "name": "stdout",
     "output_type": "stream",
     "text": [
      "Id loss 0.1004\n",
      "D loss real: 1.2968\n",
      "D loss fake: 0.2265\n",
      "Ts loss 0.0216\n",
      "G loss :0.7815\n",
      "Feature loss :0.2241\n"
     ]
    },
    {
     "name": "stderr",
     "output_type": "stream",
     "text": [
      "61it [00:21,  2.76it/s]"
     ]
    },
    {
     "name": "stdout",
     "output_type": "stream",
     "text": [
      "[15/19] [60/538]\tLoss_dis: 0.7616\tLoss_gen: 1.9445\tD(x): 0.2968\tD(G(x)): 0.7735\n"
     ]
    },
    {
     "name": "stderr",
     "output_type": "stream",
     "text": [
      "120it [00:43,  2.37it/s]"
     ]
    },
    {
     "name": "stdout",
     "output_type": "stream",
     "text": [
      "Id loss 0.1183\n",
      "D loss real: 1.2236\n",
      "D loss fake: 0.2128\n",
      "Ts loss 0.0306\n",
      "G loss :0.8146\n",
      "Feature loss :0.2999\n"
     ]
    },
    {
     "name": "stderr",
     "output_type": "stream",
     "text": [
      "121it [00:44,  2.26it/s]"
     ]
    },
    {
     "name": "stdout",
     "output_type": "stream",
     "text": [
      "[15/19] [120/538]\tLoss_dis: 0.7182\tLoss_gen: 2.3790\tD(x): 0.2236\tD(G(x)): 0.7872\n"
     ]
    },
    {
     "name": "stderr",
     "output_type": "stream",
     "text": [
      "180it [01:04,  2.65it/s]"
     ]
    },
    {
     "name": "stdout",
     "output_type": "stream",
     "text": [
      "Id loss 0.0982\n",
      "D loss real: 1.3314\n",
      "D loss fake: 0.1911\n",
      "Ts loss 0.0378\n",
      "G loss :0.7455\n",
      "Feature loss :0.2051\n"
     ]
    },
    {
     "name": "stderr",
     "output_type": "stream",
     "text": [
      "181it [01:04,  2.54it/s]"
     ]
    },
    {
     "name": "stdout",
     "output_type": "stream",
     "text": [
      "[15/19] [180/538]\tLoss_dis: 0.7612\tLoss_gen: 1.9930\tD(x): 0.3314\tD(G(x)): 0.8089\n"
     ]
    },
    {
     "name": "stderr",
     "output_type": "stream",
     "text": [
      "240it [01:23,  2.73it/s]"
     ]
    },
    {
     "name": "stdout",
     "output_type": "stream",
     "text": [
      "Id loss 0.1330\n",
      "D loss real: 1.2117\n",
      "D loss fake: 0.2385\n",
      "Ts loss 0.0301\n",
      "G loss :0.7984\n",
      "Feature loss :0.3917\n"
     ]
    },
    {
     "name": "stderr",
     "output_type": "stream",
     "text": [
      "241it [01:24,  2.62it/s]"
     ]
    },
    {
     "name": "stdout",
     "output_type": "stream",
     "text": [
      "[15/19] [240/538]\tLoss_dis: 0.7251\tLoss_gen: 2.7324\tD(x): 0.2117\tD(G(x)): 0.7615\n"
     ]
    },
    {
     "name": "stderr",
     "output_type": "stream",
     "text": [
      "300it [01:44,  3.05it/s]"
     ]
    },
    {
     "name": "stdout",
     "output_type": "stream",
     "text": [
      "Id loss 0.0926\n",
      "D loss real: 1.4446\n",
      "D loss fake: 0.1795\n",
      "Ts loss 0.0205\n",
      "G loss :0.8164\n",
      "Feature loss :0.1722\n"
     ]
    },
    {
     "name": "stderr",
     "output_type": "stream",
     "text": [
      "301it [01:44,  3.10it/s]"
     ]
    },
    {
     "name": "stdout",
     "output_type": "stream",
     "text": [
      "[15/19] [300/538]\tLoss_dis: 0.8121\tLoss_gen: 1.7567\tD(x): 0.4446\tD(G(x)): 0.8205\n"
     ]
    },
    {
     "name": "stderr",
     "output_type": "stream",
     "text": [
      "360it [02:04,  2.81it/s]"
     ]
    },
    {
     "name": "stdout",
     "output_type": "stream",
     "text": [
      "Id loss 0.1203\n",
      "D loss real: 1.2396\n",
      "D loss fake: 0.1723\n",
      "Ts loss 0.0324\n",
      "G loss :0.8276\n",
      "Feature loss :0.2604\n"
     ]
    },
    {
     "name": "stderr",
     "output_type": "stream",
     "text": [
      "361it [02:04,  2.51it/s]"
     ]
    },
    {
     "name": "stdout",
     "output_type": "stream",
     "text": [
      "[15/19] [360/538]\tLoss_dis: 0.7059\tLoss_gen: 2.2533\tD(x): 0.2396\tD(G(x)): 0.8277\n"
     ]
    },
    {
     "name": "stderr",
     "output_type": "stream",
     "text": [
      "420it [02:25,  3.41it/s]"
     ]
    },
    {
     "name": "stdout",
     "output_type": "stream",
     "text": [
      "Id loss 0.1043\n",
      "D loss real: 1.2594\n",
      "D loss fake: 0.1767\n",
      "Ts loss 0.0203\n",
      "G loss :0.8133\n",
      "Feature loss :0.2839\n"
     ]
    },
    {
     "name": "stderr",
     "output_type": "stream",
     "text": [
      "421it [02:25,  3.40it/s]"
     ]
    },
    {
     "name": "stdout",
     "output_type": "stream",
     "text": [
      "[15/19] [420/538]\tLoss_dis: 0.7181\tLoss_gen: 2.2040\tD(x): 0.2594\tD(G(x)): 0.8233\n"
     ]
    },
    {
     "name": "stderr",
     "output_type": "stream",
     "text": [
      "480it [02:45,  2.67it/s]"
     ]
    },
    {
     "name": "stdout",
     "output_type": "stream",
     "text": [
      "Id loss 0.1083\n",
      "D loss real: 1.2974\n",
      "D loss fake: 0.2040\n",
      "Ts loss 0.0392\n",
      "G loss :0.8287\n",
      "Feature loss :0.2824\n"
     ]
    },
    {
     "name": "stderr",
     "output_type": "stream",
     "text": [
      "481it [02:45,  2.54it/s]"
     ]
    },
    {
     "name": "stdout",
     "output_type": "stream",
     "text": [
      "[15/19] [480/538]\tLoss_dis: 0.7507\tLoss_gen: 2.4043\tD(x): 0.2974\tD(G(x)): 0.7960\n"
     ]
    },
    {
     "name": "stderr",
     "output_type": "stream",
     "text": [
      "513it [02:57,  2.89it/s]\n",
      "0it [00:00, ?it/s]"
     ]
    },
    {
     "name": "stdout",
     "output_type": "stream",
     "text": [
      "Id loss 0.1187\n",
      "D loss real: 1.1812\n",
      "D loss fake: 0.1581\n",
      "Ts loss 0.0246\n",
      "G loss :0.7785\n",
      "Feature loss :0.3855\n"
     ]
    },
    {
     "name": "stderr",
     "output_type": "stream",
     "text": [
      "1it [00:00,  2.18it/s]"
     ]
    },
    {
     "name": "stdout",
     "output_type": "stream",
     "text": [
      "[16/19] [0/538]\tLoss_dis: 0.6697\tLoss_gen: 2.6255\tD(x): 0.1812\tD(G(x)): 0.8419\n"
     ]
    },
    {
     "name": "stderr",
     "output_type": "stream",
     "text": [
      "60it [00:20,  2.15it/s]"
     ]
    },
    {
     "name": "stdout",
     "output_type": "stream",
     "text": [
      "Id loss 0.1075\n",
      "D loss real: 1.3045\n",
      "D loss fake: 0.2160\n",
      "Ts loss 0.0263\n",
      "G loss :0.8256\n",
      "Feature loss :0.2588\n"
     ]
    },
    {
     "name": "stderr",
     "output_type": "stream",
     "text": [
      "61it [00:21,  2.11it/s]"
     ]
    },
    {
     "name": "stdout",
     "output_type": "stream",
     "text": [
      "[16/19] [60/538]\tLoss_dis: 0.7603\tLoss_gen: 2.1776\tD(x): 0.3045\tD(G(x)): 0.7840\n"
     ]
    },
    {
     "name": "stderr",
     "output_type": "stream",
     "text": [
      "120it [00:41,  3.42it/s]"
     ]
    },
    {
     "name": "stdout",
     "output_type": "stream",
     "text": [
      "Id loss 0.1110\n",
      "D loss real: 1.2384\n",
      "D loss fake: 0.2152\n",
      "Ts loss 0.0442\n",
      "G loss :0.7767\n",
      "Feature loss :0.2993\n"
     ]
    },
    {
     "name": "stderr",
     "output_type": "stream",
     "text": [
      "121it [00:42,  3.37it/s]"
     ]
    },
    {
     "name": "stdout",
     "output_type": "stream",
     "text": [
      "[16/19] [120/538]\tLoss_dis: 0.7268\tLoss_gen: 2.4718\tD(x): 0.2384\tD(G(x)): 0.7848\n"
     ]
    },
    {
     "name": "stderr",
     "output_type": "stream",
     "text": [
      "180it [01:03,  2.72it/s]"
     ]
    },
    {
     "name": "stdout",
     "output_type": "stream",
     "text": [
      "Id loss 0.0817\n",
      "D loss real: 1.4529\n",
      "D loss fake: 0.2135\n",
      "Ts loss 0.0275\n",
      "G loss :0.7550\n",
      "Feature loss :0.1490\n"
     ]
    },
    {
     "name": "stderr",
     "output_type": "stream",
     "text": [
      "181it [01:04,  2.56it/s]"
     ]
    },
    {
     "name": "stdout",
     "output_type": "stream",
     "text": [
      "[16/19] [180/538]\tLoss_dis: 0.8332\tLoss_gen: 1.6672\tD(x): 0.4529\tD(G(x)): 0.7865\n"
     ]
    },
    {
     "name": "stderr",
     "output_type": "stream",
     "text": [
      "240it [01:23,  2.30it/s]"
     ]
    },
    {
     "name": "stdout",
     "output_type": "stream",
     "text": [
      "Id loss 0.1064\n",
      "D loss real: 1.3054\n",
      "D loss fake: 0.1921\n",
      "Ts loss 0.0196\n",
      "G loss :0.8236\n",
      "Feature loss :0.2156\n"
     ]
    },
    {
     "name": "stderr",
     "output_type": "stream",
     "text": [
      "241it [01:24,  2.21it/s]"
     ]
    },
    {
     "name": "stdout",
     "output_type": "stream",
     "text": [
      "[16/19] [240/538]\tLoss_dis: 0.7487\tLoss_gen: 1.9353\tD(x): 0.3054\tD(G(x)): 0.8079\n"
     ]
    },
    {
     "name": "stderr",
     "output_type": "stream",
     "text": [
      "300it [01:43,  3.10it/s]"
     ]
    },
    {
     "name": "stdout",
     "output_type": "stream",
     "text": [
      "Id loss 0.0931\n",
      "D loss real: 1.3542\n",
      "D loss fake: 0.1720\n",
      "Ts loss 0.0409\n",
      "G loss :0.7943\n",
      "Feature loss :0.1853\n"
     ]
    },
    {
     "name": "stderr",
     "output_type": "stream",
     "text": [
      "301it [01:44,  2.89it/s]"
     ]
    },
    {
     "name": "stdout",
     "output_type": "stream",
     "text": [
      "[16/19] [300/538]\tLoss_dis: 0.7631\tLoss_gen: 1.9906\tD(x): 0.3542\tD(G(x)): 0.8280\n"
     ]
    },
    {
     "name": "stderr",
     "output_type": "stream",
     "text": [
      "360it [02:04,  3.35it/s]"
     ]
    },
    {
     "name": "stdout",
     "output_type": "stream",
     "text": [
      "Id loss 0.0974\n",
      "D loss real: 1.2509\n",
      "D loss fake: 0.1937\n",
      "Ts loss 0.0395\n",
      "G loss :0.8062\n",
      "Feature loss :0.2177\n"
     ]
    },
    {
     "name": "stderr",
     "output_type": "stream",
     "text": [
      "361it [02:05,  3.25it/s]"
     ]
    },
    {
     "name": "stdout",
     "output_type": "stream",
     "text": [
      "[16/19] [360/538]\tLoss_dis: 0.7223\tLoss_gen: 2.1207\tD(x): 0.2509\tD(G(x)): 0.8063\n"
     ]
    },
    {
     "name": "stderr",
     "output_type": "stream",
     "text": [
      "420it [02:27,  2.67it/s]"
     ]
    },
    {
     "name": "stdout",
     "output_type": "stream",
     "text": [
      "Id loss 0.0886\n",
      "D loss real: 1.3228\n",
      "D loss fake: 0.1941\n",
      "Ts loss 0.0604\n",
      "G loss :0.8047\n",
      "Feature loss :0.1755\n"
     ]
    },
    {
     "name": "stderr",
     "output_type": "stream",
     "text": [
      "421it [02:28,  2.84it/s]"
     ]
    },
    {
     "name": "stdout",
     "output_type": "stream",
     "text": [
      "[16/19] [420/538]\tLoss_dis: 0.7585\tLoss_gen: 2.1545\tD(x): 0.3228\tD(G(x)): 0.8059\n"
     ]
    },
    {
     "name": "stderr",
     "output_type": "stream",
     "text": [
      "480it [02:46,  3.17it/s]"
     ]
    },
    {
     "name": "stdout",
     "output_type": "stream",
     "text": [
      "Id loss 0.0905\n",
      "D loss real: 1.3315\n",
      "D loss fake: 0.1775\n",
      "Ts loss 0.0374\n",
      "G loss :0.8515\n",
      "Feature loss :0.2198\n"
     ]
    },
    {
     "name": "stderr",
     "output_type": "stream",
     "text": [
      "481it [02:47,  3.00it/s]"
     ]
    },
    {
     "name": "stdout",
     "output_type": "stream",
     "text": [
      "[16/19] [480/538]\tLoss_dis: 0.7545\tLoss_gen: 2.1501\tD(x): 0.3315\tD(G(x)): 0.8225\n"
     ]
    },
    {
     "name": "stderr",
     "output_type": "stream",
     "text": [
      "513it [02:57,  2.89it/s]"
     ]
    },
    {
     "name": "stdout",
     "output_type": "stream",
     "text": [
      "Epoch 00017: reducing learning rate of group 0 to 2.0000e-08.\n"
     ]
    },
    {
     "name": "stderr",
     "output_type": "stream",
     "text": [
      "\n",
      "0it [00:00, ?it/s]"
     ]
    },
    {
     "name": "stdout",
     "output_type": "stream",
     "text": [
      "Id loss 0.1349\n",
      "D loss real: 1.2109\n",
      "D loss fake: 0.2250\n",
      "Ts loss 0.0415\n",
      "G loss :0.8066\n",
      "Feature loss :0.3544\n"
     ]
    },
    {
     "name": "stderr",
     "output_type": "stream",
     "text": [
      "1it [00:00,  2.03it/s]"
     ]
    },
    {
     "name": "stdout",
     "output_type": "stream",
     "text": [
      "[17/19] [0/538]\tLoss_dis: 0.7180\tLoss_gen: 2.7065\tD(x): 0.2109\tD(G(x)): 0.7750\n"
     ]
    },
    {
     "name": "stderr",
     "output_type": "stream",
     "text": [
      "60it [00:22,  2.67it/s]"
     ]
    },
    {
     "name": "stdout",
     "output_type": "stream",
     "text": [
      "Id loss 0.1012\n",
      "D loss real: 1.2847\n",
      "D loss fake: 0.1887\n",
      "Ts loss 0.0169\n",
      "G loss :0.8417\n",
      "Feature loss :0.2195\n"
     ]
    },
    {
     "name": "stderr",
     "output_type": "stream",
     "text": [
      "61it [00:22,  2.70it/s]"
     ]
    },
    {
     "name": "stdout",
     "output_type": "stream",
     "text": [
      "[17/19] [60/538]\tLoss_dis: 0.7367\tLoss_gen: 1.9390\tD(x): 0.2847\tD(G(x)): 0.8113\n"
     ]
    },
    {
     "name": "stderr",
     "output_type": "stream",
     "text": [
      "120it [00:41,  3.28it/s]"
     ]
    },
    {
     "name": "stdout",
     "output_type": "stream",
     "text": [
      "Id loss 0.1187\n",
      "D loss real: 1.2451\n",
      "D loss fake: 0.2113\n",
      "Ts loss 0.0312\n",
      "G loss :0.7864\n",
      "Feature loss :0.2524\n"
     ]
    },
    {
     "name": "stderr",
     "output_type": "stream",
     "text": [
      "121it [00:41,  3.04it/s]"
     ]
    },
    {
     "name": "stdout",
     "output_type": "stream",
     "text": [
      "[17/19] [120/538]\tLoss_dis: 0.7282\tLoss_gen: 2.1675\tD(x): 0.2451\tD(G(x)): 0.7887\n"
     ]
    },
    {
     "name": "stderr",
     "output_type": "stream",
     "text": [
      "180it [01:01,  3.36it/s]"
     ]
    },
    {
     "name": "stdout",
     "output_type": "stream",
     "text": [
      "Id loss 0.0982\n",
      "D loss real: 1.2664\n",
      "D loss fake: 0.2110\n",
      "Ts loss 0.0341\n",
      "G loss :0.8034\n",
      "Feature loss :0.2111\n"
     ]
    },
    {
     "name": "stderr",
     "output_type": "stream",
     "text": [
      "181it [01:02,  3.42it/s]"
     ]
    },
    {
     "name": "stdout",
     "output_type": "stream",
     "text": [
      "[17/19] [180/538]\tLoss_dis: 0.7387\tLoss_gen: 2.0376\tD(x): 0.2664\tD(G(x)): 0.7890\n"
     ]
    },
    {
     "name": "stderr",
     "output_type": "stream",
     "text": [
      "240it [01:21,  2.74it/s]"
     ]
    },
    {
     "name": "stdout",
     "output_type": "stream",
     "text": [
      "Id loss 0.0863\n",
      "D loss real: 1.4261\n",
      "D loss fake: 0.2078\n",
      "Ts loss 0.0407\n",
      "G loss :0.7880\n",
      "Feature loss :0.2334\n"
     ]
    },
    {
     "name": "stderr",
     "output_type": "stream",
     "text": [
      "241it [01:22,  2.69it/s]"
     ]
    },
    {
     "name": "stdout",
     "output_type": "stream",
     "text": [
      "[17/19] [240/538]\tLoss_dis: 0.8169\tLoss_gen: 2.1716\tD(x): 0.4261\tD(G(x)): 0.7922\n"
     ]
    },
    {
     "name": "stderr",
     "output_type": "stream",
     "text": [
      "300it [01:43,  3.24it/s]"
     ]
    },
    {
     "name": "stdout",
     "output_type": "stream",
     "text": [
      "Id loss 0.0988\n",
      "D loss real: 1.3219\n",
      "D loss fake: 0.1945\n",
      "Ts loss 0.0344\n",
      "G loss :0.8056\n",
      "Feature loss :0.2663\n"
     ]
    },
    {
     "name": "stderr",
     "output_type": "stream",
     "text": [
      "301it [01:44,  3.21it/s]"
     ]
    },
    {
     "name": "stdout",
     "output_type": "stream",
     "text": [
      "[17/19] [300/538]\tLoss_dis: 0.7582\tLoss_gen: 2.2641\tD(x): 0.3219\tD(G(x)): 0.8055\n"
     ]
    },
    {
     "name": "stderr",
     "output_type": "stream",
     "text": [
      "360it [02:04,  3.03it/s]"
     ]
    },
    {
     "name": "stdout",
     "output_type": "stream",
     "text": [
      "Id loss 0.0941\n",
      "D loss real: 1.3420\n",
      "D loss fake: 0.2188\n",
      "Ts loss 0.0264\n",
      "G loss :0.8032\n",
      "Feature loss :0.2255\n"
     ]
    },
    {
     "name": "stderr",
     "output_type": "stream",
     "text": [
      "361it [02:04,  3.12it/s]"
     ]
    },
    {
     "name": "stdout",
     "output_type": "stream",
     "text": [
      "[17/19] [360/538]\tLoss_dis: 0.7804\tLoss_gen: 2.0162\tD(x): 0.3420\tD(G(x)): 0.7812\n"
     ]
    },
    {
     "name": "stderr",
     "output_type": "stream",
     "text": [
      "420it [02:23,  3.19it/s]"
     ]
    },
    {
     "name": "stdout",
     "output_type": "stream",
     "text": [
      "Id loss 0.1255\n",
      "D loss real: 1.1633\n",
      "D loss fake: 0.1902\n",
      "Ts loss 0.0251\n",
      "G loss :0.8396\n",
      "Feature loss :0.2805\n"
     ]
    },
    {
     "name": "stderr",
     "output_type": "stream",
     "text": [
      "421it [02:24,  3.18it/s]"
     ]
    },
    {
     "name": "stdout",
     "output_type": "stream",
     "text": [
      "[17/19] [420/538]\tLoss_dis: 0.6768\tLoss_gen: 2.2757\tD(x): 0.1633\tD(G(x)): 0.8098\n"
     ]
    },
    {
     "name": "stderr",
     "output_type": "stream",
     "text": [
      "480it [02:45,  3.12it/s]"
     ]
    },
    {
     "name": "stdout",
     "output_type": "stream",
     "text": [
      "Id loss 0.1155\n",
      "D loss real: 1.2032\n",
      "D loss fake: 0.1440\n",
      "Ts loss 0.0446\n",
      "G loss :0.8069\n",
      "Feature loss :0.3233\n"
     ]
    },
    {
     "name": "stderr",
     "output_type": "stream",
     "text": [
      "481it [02:46,  3.19it/s]"
     ]
    },
    {
     "name": "stdout",
     "output_type": "stream",
     "text": [
      "[17/19] [480/538]\tLoss_dis: 0.6736\tLoss_gen: 2.6042\tD(x): 0.2032\tD(G(x)): 0.8560\n"
     ]
    },
    {
     "name": "stderr",
     "output_type": "stream",
     "text": [
      "513it [02:56,  2.91it/s]\n",
      "0it [00:00, ?it/s]"
     ]
    },
    {
     "name": "stdout",
     "output_type": "stream",
     "text": [
      "Id loss 0.0983\n",
      "D loss real: 1.2940\n",
      "D loss fake: 0.1443\n",
      "Ts loss 0.0152\n",
      "G loss :0.8375\n",
      "Feature loss :0.2507\n"
     ]
    },
    {
     "name": "stderr",
     "output_type": "stream",
     "text": [
      "1it [00:00,  2.25it/s]"
     ]
    },
    {
     "name": "stdout",
     "output_type": "stream",
     "text": [
      "[18/19] [0/538]\tLoss_dis: 0.7191\tLoss_gen: 2.0409\tD(x): 0.2940\tD(G(x)): 0.8557\n"
     ]
    },
    {
     "name": "stderr",
     "output_type": "stream",
     "text": [
      "60it [00:19,  3.13it/s]"
     ]
    },
    {
     "name": "stdout",
     "output_type": "stream",
     "text": [
      "Id loss 0.1223\n",
      "D loss real: 1.2344\n",
      "D loss fake: 0.2103\n",
      "Ts loss 0.0383\n",
      "G loss :0.8495\n",
      "Feature loss :0.3195\n"
     ]
    },
    {
     "name": "stderr",
     "output_type": "stream",
     "text": [
      "61it [00:20,  3.27it/s]"
     ]
    },
    {
     "name": "stdout",
     "output_type": "stream",
     "text": [
      "[18/19] [60/538]\tLoss_dis: 0.7223\tLoss_gen: 2.5719\tD(x): 0.2344\tD(G(x)): 0.7897\n"
     ]
    },
    {
     "name": "stderr",
     "output_type": "stream",
     "text": [
      "120it [00:42,  2.65it/s]"
     ]
    },
    {
     "name": "stdout",
     "output_type": "stream",
     "text": [
      "Id loss 0.1046\n",
      "D loss real: 1.3053\n",
      "D loss fake: 0.1953\n",
      "Ts loss 0.0228\n",
      "G loss :0.8284\n",
      "Feature loss :0.2408\n"
     ]
    },
    {
     "name": "stderr",
     "output_type": "stream",
     "text": [
      "121it [00:42,  2.63it/s]"
     ]
    },
    {
     "name": "stdout",
     "output_type": "stream",
     "text": [
      "[18/19] [120/538]\tLoss_dis: 0.7503\tLoss_gen: 2.0717\tD(x): 0.3053\tD(G(x)): 0.8047\n"
     ]
    },
    {
     "name": "stderr",
     "output_type": "stream",
     "text": [
      "180it [01:02,  3.02it/s]"
     ]
    },
    {
     "name": "stdout",
     "output_type": "stream",
     "text": [
      "Id loss 0.0991\n",
      "D loss real: 1.2973\n",
      "D loss fake: 0.1663\n",
      "Ts loss -0.0018\n",
      "G loss :0.8228\n",
      "Feature loss :0.2272\n"
     ]
    },
    {
     "name": "stderr",
     "output_type": "stream",
     "text": [
      "181it [01:02,  3.13it/s]"
     ]
    },
    {
     "name": "stdout",
     "output_type": "stream",
     "text": [
      "[18/19] [180/538]\tLoss_dis: 0.7318\tLoss_gen: 1.7635\tD(x): 0.2973\tD(G(x)): 0.8337\n"
     ]
    },
    {
     "name": "stderr",
     "output_type": "stream",
     "text": [
      "240it [01:22,  3.24it/s]"
     ]
    },
    {
     "name": "stdout",
     "output_type": "stream",
     "text": [
      "Id loss 0.1086\n",
      "D loss real: 1.2447\n",
      "D loss fake: 0.1682\n",
      "Ts loss 0.0231\n",
      "G loss :0.7989\n",
      "Feature loss :0.2531\n"
     ]
    },
    {
     "name": "stderr",
     "output_type": "stream",
     "text": [
      "241it [01:22,  3.23it/s]"
     ]
    },
    {
     "name": "stdout",
     "output_type": "stream",
     "text": [
      "[18/19] [240/538]\tLoss_dis: 0.7064\tLoss_gen: 2.0973\tD(x): 0.2447\tD(G(x)): 0.8318\n"
     ]
    },
    {
     "name": "stderr",
     "output_type": "stream",
     "text": [
      "300it [01:44,  2.94it/s]"
     ]
    },
    {
     "name": "stdout",
     "output_type": "stream",
     "text": [
      "Id loss 0.0949\n",
      "D loss real: 1.3206\n",
      "D loss fake: 0.2123\n",
      "Ts loss 0.0332\n",
      "G loss :0.8339\n",
      "Feature loss :0.2304\n"
     ]
    },
    {
     "name": "stderr",
     "output_type": "stream",
     "text": [
      "301it [01:44,  3.07it/s]"
     ]
    },
    {
     "name": "stdout",
     "output_type": "stream",
     "text": [
      "[18/19] [300/538]\tLoss_dis: 0.7664\tLoss_gen: 2.1350\tD(x): 0.3206\tD(G(x)): 0.7877\n"
     ]
    },
    {
     "name": "stderr",
     "output_type": "stream",
     "text": [
      "360it [02:06,  2.48it/s]"
     ]
    },
    {
     "name": "stdout",
     "output_type": "stream",
     "text": [
      "Id loss 0.1239\n",
      "D loss real: 1.2153\n",
      "D loss fake: 0.1643\n",
      "Ts loss 0.0368\n",
      "G loss :0.8116\n",
      "Feature loss :0.3571\n"
     ]
    },
    {
     "name": "stderr",
     "output_type": "stream",
     "text": [
      "361it [02:06,  2.61it/s]"
     ]
    },
    {
     "name": "stdout",
     "output_type": "stream",
     "text": [
      "[18/19] [360/538]\tLoss_dis: 0.6898\tLoss_gen: 2.6704\tD(x): 0.2153\tD(G(x)): 0.8357\n"
     ]
    },
    {
     "name": "stderr",
     "output_type": "stream",
     "text": [
      "420it [02:25,  3.14it/s]"
     ]
    },
    {
     "name": "stdout",
     "output_type": "stream",
     "text": [
      "Id loss 0.1081\n",
      "D loss real: 1.2226\n",
      "D loss fake: 0.1857\n",
      "Ts loss 0.0367\n",
      "G loss :0.8152\n",
      "Feature loss :0.2607\n"
     ]
    },
    {
     "name": "stderr",
     "output_type": "stream",
     "text": [
      "421it [02:25,  3.24it/s]"
     ]
    },
    {
     "name": "stdout",
     "output_type": "stream",
     "text": [
      "[18/19] [420/538]\tLoss_dis: 0.7042\tLoss_gen: 2.2792\tD(x): 0.2226\tD(G(x)): 0.8143\n"
     ]
    },
    {
     "name": "stderr",
     "output_type": "stream",
     "text": [
      "480it [02:46,  2.54it/s]"
     ]
    },
    {
     "name": "stdout",
     "output_type": "stream",
     "text": [
      "Id loss 0.1143\n",
      "D loss real: 1.2119\n",
      "D loss fake: 0.1677\n",
      "Ts loss 0.0508\n",
      "G loss :0.8300\n",
      "Feature loss :0.3048\n"
     ]
    },
    {
     "name": "stderr",
     "output_type": "stream",
     "text": [
      "481it [02:47,  2.55it/s]"
     ]
    },
    {
     "name": "stdout",
     "output_type": "stream",
     "text": [
      "[18/19] [480/538]\tLoss_dis: 0.6898\tLoss_gen: 2.6142\tD(x): 0.2119\tD(G(x)): 0.8323\n"
     ]
    },
    {
     "name": "stderr",
     "output_type": "stream",
     "text": [
      "513it [02:57,  2.89it/s]"
     ]
    },
    {
     "name": "stdout",
     "output_type": "stream",
     "text": [
      "Epoch 00019: reducing learning rate of group 0 to 1.0000e-08.\n"
     ]
    },
    {
     "name": "stderr",
     "output_type": "stream",
     "text": [
      "\n",
      "0it [00:00, ?it/s]"
     ]
    },
    {
     "name": "stdout",
     "output_type": "stream",
     "text": [
      "Id loss 0.1120\n",
      "D loss real: 1.1926\n",
      "D loss fake: 0.2392\n",
      "Ts loss 0.0230\n",
      "G loss :0.8215\n",
      "Feature loss :0.2762\n"
     ]
    },
    {
     "name": "stderr",
     "output_type": "stream",
     "text": [
      "1it [00:00,  2.58it/s]"
     ]
    },
    {
     "name": "stdout",
     "output_type": "stream",
     "text": [
      "[19/19] [0/538]\tLoss_dis: 0.7159\tLoss_gen: 2.2123\tD(x): 0.1926\tD(G(x)): 0.7608\n"
     ]
    },
    {
     "name": "stderr",
     "output_type": "stream",
     "text": [
      "60it [00:21,  3.23it/s]"
     ]
    },
    {
     "name": "stdout",
     "output_type": "stream",
     "text": [
      "Id loss 0.0784\n",
      "D loss real: 1.5204\n",
      "D loss fake: 0.1652\n",
      "Ts loss 0.0319\n",
      "G loss :0.8339\n",
      "Feature loss :0.1231\n"
     ]
    },
    {
     "name": "stderr",
     "output_type": "stream",
     "text": [
      "61it [00:21,  3.27it/s]"
     ]
    },
    {
     "name": "stdout",
     "output_type": "stream",
     "text": [
      "[19/19] [60/538]\tLoss_dis: 0.8428\tLoss_gen: 1.6840\tD(x): 0.5204\tD(G(x)): 0.8348\n"
     ]
    },
    {
     "name": "stderr",
     "output_type": "stream",
     "text": [
      "120it [00:41,  3.00it/s]"
     ]
    },
    {
     "name": "stdout",
     "output_type": "stream",
     "text": [
      "Id loss 0.1107\n",
      "D loss real: 1.2229\n",
      "D loss fake: 0.1941\n",
      "Ts loss 0.0272\n",
      "G loss :0.8746\n",
      "Feature loss :0.2757\n"
     ]
    },
    {
     "name": "stderr",
     "output_type": "stream",
     "text": [
      "121it [00:41,  3.10it/s]"
     ]
    },
    {
     "name": "stdout",
     "output_type": "stream",
     "text": [
      "[19/19] [120/538]\tLoss_dis: 0.7085\tLoss_gen: 2.3051\tD(x): 0.2229\tD(G(x)): 0.8059\n"
     ]
    },
    {
     "name": "stderr",
     "output_type": "stream",
     "text": [
      "180it [01:02,  2.65it/s]"
     ]
    },
    {
     "name": "stdout",
     "output_type": "stream",
     "text": [
      "Id loss 0.1110\n",
      "D loss real: 1.2366\n",
      "D loss fake: 0.2048\n",
      "Ts loss 0.0139\n",
      "G loss :0.8051\n",
      "Feature loss :0.2916\n"
     ]
    },
    {
     "name": "stderr",
     "output_type": "stream",
     "text": [
      "181it [01:03,  2.46it/s]"
     ]
    },
    {
     "name": "stdout",
     "output_type": "stream",
     "text": [
      "[19/19] [180/538]\tLoss_dis: 0.7207\tLoss_gen: 2.1657\tD(x): 0.2366\tD(G(x)): 0.7952\n"
     ]
    },
    {
     "name": "stderr",
     "output_type": "stream",
     "text": [
      "240it [01:23,  2.56it/s]"
     ]
    },
    {
     "name": "stdout",
     "output_type": "stream",
     "text": [
      "Id loss 0.1418\n",
      "D loss real: 1.1627\n",
      "D loss fake: 0.1765\n",
      "Ts loss 0.0190\n",
      "G loss :0.8324\n",
      "Feature loss :0.4102\n"
     ]
    },
    {
     "name": "stderr",
     "output_type": "stream",
     "text": [
      "241it [01:23,  2.74it/s]"
     ]
    },
    {
     "name": "stdout",
     "output_type": "stream",
     "text": [
      "[19/19] [240/538]\tLoss_dis: 0.6696\tLoss_gen: 2.7344\tD(x): 0.1627\tD(G(x)): 0.8235\n"
     ]
    },
    {
     "name": "stderr",
     "output_type": "stream",
     "text": [
      "300it [01:43,  3.06it/s]"
     ]
    },
    {
     "name": "stdout",
     "output_type": "stream",
     "text": [
      "Id loss 0.0964\n",
      "D loss real: 1.2882\n",
      "D loss fake: 0.1693\n",
      "Ts loss 0.0296\n",
      "G loss :0.8358\n",
      "Feature loss :0.3164\n"
     ]
    },
    {
     "name": "stderr",
     "output_type": "stream",
     "text": [
      "301it [01:43,  3.10it/s]"
     ]
    },
    {
     "name": "stdout",
     "output_type": "stream",
     "text": [
      "[19/19] [300/538]\tLoss_dis: 0.7288\tLoss_gen: 2.4455\tD(x): 0.2882\tD(G(x)): 0.8307\n"
     ]
    },
    {
     "name": "stderr",
     "output_type": "stream",
     "text": [
      "360it [02:04,  3.09it/s]"
     ]
    },
    {
     "name": "stdout",
     "output_type": "stream",
     "text": [
      "Id loss 0.1045\n",
      "D loss real: 1.2668\n",
      "D loss fake: 0.1601\n",
      "Ts loss 0.0315\n",
      "G loss :0.8224\n",
      "Feature loss :0.2406\n"
     ]
    },
    {
     "name": "stderr",
     "output_type": "stream",
     "text": [
      "361it [02:04,  3.18it/s]"
     ]
    },
    {
     "name": "stdout",
     "output_type": "stream",
     "text": [
      "[19/19] [360/538]\tLoss_dis: 0.7134\tLoss_gen: 2.1522\tD(x): 0.2668\tD(G(x)): 0.8399\n"
     ]
    },
    {
     "name": "stderr",
     "output_type": "stream",
     "text": [
      "420it [02:26,  3.10it/s]"
     ]
    },
    {
     "name": "stdout",
     "output_type": "stream",
     "text": [
      "Id loss 0.1202\n",
      "D loss real: 1.1884\n",
      "D loss fake: 0.1494\n",
      "Ts loss 0.0293\n",
      "G loss :0.8350\n",
      "Feature loss :0.2955\n"
     ]
    },
    {
     "name": "stderr",
     "output_type": "stream",
     "text": [
      "421it [02:26,  3.22it/s]"
     ]
    },
    {
     "name": "stdout",
     "output_type": "stream",
     "text": [
      "[19/19] [420/538]\tLoss_dis: 0.6689\tLoss_gen: 2.3704\tD(x): 0.1884\tD(G(x)): 0.8506\n"
     ]
    },
    {
     "name": "stderr",
     "output_type": "stream",
     "text": [
      "480it [02:48,  3.30it/s]"
     ]
    },
    {
     "name": "stdout",
     "output_type": "stream",
     "text": [
      "Id loss 0.0949\n",
      "D loss real: 1.2918\n",
      "D loss fake: 0.1839\n",
      "Ts loss 0.0204\n",
      "G loss :0.8335\n",
      "Feature loss :0.2027\n"
     ]
    },
    {
     "name": "stderr",
     "output_type": "stream",
     "text": [
      "481it [02:48,  3.34it/s]"
     ]
    },
    {
     "name": "stdout",
     "output_type": "stream",
     "text": [
      "[19/19] [480/538]\tLoss_dis: 0.7378\tLoss_gen: 1.8957\tD(x): 0.2918\tD(G(x)): 0.8161\n"
     ]
    },
    {
     "name": "stderr",
     "output_type": "stream",
     "text": [
      "513it [02:59,  2.86it/s]\n"
     ]
    }
   ],
   "source": [
    "for epoch in range(num_epochs):\n",
    "    g_total_loss = 0\n",
    "    d_total_loss = 0\n",
    "    dis_b = 0\n",
    "    dis_ab = 0\n",
    "\n",
    "    torch.autograd.set_detect_anomaly(True)\n",
    "    for i, (data_A, data_B) in tqdm(enumerate(zip(dataloader_A, dataloader_B))):\n",
    "\n",
    "        real_A = data_A[0].to(device)\n",
    "        real_B = data_B[0].to(device)\n",
    "        # data[0] sunt imaginile\n",
    "        # data[1] sunt labelurile\n",
    "\n",
    "        # A1, A2, A3, A4 = slice_images(real_A)\n",
    "        # B1, B2, B3, B4 = slice_images(real_B)\n",
    "        A1, A2 = slice_images(real_A)\n",
    "        B1, B2 = slice_images(real_B)\n",
    "\n",
    "        A_b_size = A1.size(0)  # batch size\n",
    "        B_b_size = B1.size(0)\n",
    "\n",
    "        # Training the discriminator\n",
    "        gen_A1 = generator(A1)\n",
    "        gen_A2 = generator(A2)\n",
    "        # gen_A3 = generator(A3)\n",
    "        # gen_A4 = generator(A4)\n",
    "        gen_B1 = generator(B1)\n",
    "        gen_B2 = generator(B2)\n",
    "        # gen_B3 = generator(B3)\n",
    "        # gen_B4 = generator(B4)\n",
    "\n",
    "        # identity mapping loss\n",
    "        # id_loss = (identity_loss(B1, gen_B1) + identity_loss(B2, gen_B2) +\n",
    "        #            identity_loss(B3, gen_B3) + identity_loss(B4, gen_B4)) / 2\n",
    "        id_loss = (identity_loss(B1, gen_B1) + identity_loss(B2, gen_B2)) / 2\n",
    "        if i % 60 == 0: print(f\"Id loss {id_loss:.4f}\")\n",
    "\n",
    "        #AB = assemble_images(gen_A1, gen_A2, gen_A3, gen_A4)\n",
    "        AB = assemble_images(gen_A1, gen_A2)\n",
    "\n",
    "        B_features = discriminator.get_intermediate_features(real_B)\n",
    "        AB_features = discriminator.get_intermediate_features(AB)\n",
    "\n",
    "\n",
    "        feature_matching_loss = 0\n",
    "        count = 0\n",
    "        for B_feat, AB_feat in zip(B_features, AB_features):\n",
    "            if B_feat.size() == AB_feat.size():\n",
    "                loss = feature_loss(AB_feat, B_feat.detach())\n",
    "                feature_matching_loss += loss\n",
    "                count += 1\n",
    "\n",
    "        if count != 0:\n",
    "            feature_matching_loss /= count\n",
    "\n",
    "        output_AB = discriminator(AB.detach()).view(-1)\n",
    "        output_B = discriminator(real_B).view(-1)\n",
    "        #if i % 60 == 0: print(output_AB, output_B)\n",
    "\n",
    "\n",
    "        label_fake = torch.full((B_b_size,), fake_label, dtype=torch.float, device=device)\n",
    "        zero = torch.full((B_b_size,), 0, dtype=torch.float, device=device)\n",
    "        #d_loss_real = adversarial_loss(output_B, label_real)\n",
    "        d_loss_real = torch.mean(torch.max(label_fake + output_B, zero))\n",
    "        if i % 60 == 0: print(f\"D loss real: {d_loss_real:.4f}\")\n",
    "\n",
    "        label_real = torch.full((A_b_size,), real_label, dtype=torch.float, device=device)\n",
    "        label_f = torch.full((A_b_size,), fake_label, dtype=torch.float, device=device)\n",
    "        zero = torch.full((A_b_size,), 0, dtype=torch.float, device=device)\n",
    "        #d_loss_fake = adversarial_loss(output_AB, label_fake)\n",
    "        d_loss_fake = torch.mean(torch.max(label_f - output_AB, zero))\n",
    "        if i % 60 == 0: print(f\"D loss fake: {d_loss_fake:.4f}\")\n",
    "        # Train siamese\n",
    "        siamese.zero_grad()\n",
    "        siamese_AB1 = siamese(gen_A1)\n",
    "        siamese_AB2 = siamese(gen_A2)\n",
    "        siamese_A1 = siamese(A1)\n",
    "        siamese_A2 = siamese(A2)\n",
    "\n",
    "        # travel loss + siamese loss\n",
    "        # t1 = reduce_mean(((siamese_A1 - siamese_A2) - (siamese_AB1 - siamese_AB2)) ** 2)\n",
    "        # t2 = reduce_mean( reduce_sum( - (l2_norm(siamese_A1 - siamese_AB2) * l2_norm(siamese_AB1 -siamese_AB2))))\n",
    "        t_loss = cossine_loss((siamese_A1 - siamese_A2), (siamese_AB1 - siamese_AB2))\n",
    "        #t_loss.backward()\n",
    "        # asta cred ca e contrastive loss with a twist\n",
    "\n",
    "        # s_loss = reduce_mean(square(maximum(delta - s_loss), 0)\n",
    "        s_loss = siamese_loss(siamese_A1, siamese_A2)\n",
    "        ts_loss = 1 + t_loss - s_loss\n",
    "        if i % 60 == 0: print(f\"Ts loss {ts_loss:.4f}\")\n",
    "\n",
    "        label_gen = torch.full((A_b_size,), real_label, dtype=torch.float, device=device)\n",
    "        disc = discriminator(AB.detach()).view(-1)\n",
    "        #g_loss = adversarial_loss(disc, label_gen)\n",
    "        g_loss = torch.mean(disc - label_gen)\n",
    "        if i % 60 == 0: print(f\"G loss :{g_loss:.4f}\")\n",
    "        if i % 60 == 0: print(f\"Feature loss :{feature_matching_loss:.4f}\")\n",
    "        # g_loss = reduce_mean( - output_AB)\n",
    "\n",
    "        # rd_loss = reduce_mean(maximum(1 - real_B, 0)\n",
    "        # fd_loss = reduce_mean(maximum(1 + fake, 0)\n",
    "        # rd_loss.backward()\n",
    "        # fd_loss.backward()\n",
    "\n",
    "        d_total_loss = (d_loss_real + d_loss_fake) / 2\n",
    "        g_total_loss = g_loss + 10. * ts_loss + 0.5 * id_loss + 4. * feature_matching_loss\n",
    "\n",
    "        dis_b = output_B.mean().item()\n",
    "        dis_ab = output_AB.mean().item()\n",
    "\n",
    "        gen_optimizer.zero_grad()\n",
    "        g_total_loss.backward()\n",
    "        gen_optimizer.step()\n",
    "\n",
    "        dis_optimizer.zero_grad()\n",
    "        d_total_loss.backward()\n",
    "        dis_optimizer.step()\n",
    "\n",
    "        # else:\n",
    "        #     d_loss_real, d_loss_fake = traind_discriminator(real_A, real_B)\n",
    "        #     d_total_loss = (d_loss_real + d_loss_fake) / 2\n",
    "\n",
    "        if i % 60 == 0:\n",
    "            print(f\"[{epoch}/{num_epochs - 1}] [{i}/{len(dataloader_A) - 1}]\\tLoss_dis: {d_total_loss.item():.4f}\\tLoss_gen: {g_total_loss.item():.4f}\\tD(x): {dis_b:.4f}\\tD(G(x)): {dis_ab:.4f}\")\n",
    "\n",
    "        gen_losses.append(g_total_loss.item())\n",
    "        dis_losses.append(d_total_loss.item())\n",
    "\n",
    "        # if iters % 500 == 0 or ((epoch == num_epochs - 1) and (i == len(dataloader) - 1)):\n",
    "        with torch.no_grad():\n",
    "            fake = generator(A1).detach().cpu()\n",
    "        img_lists.append(torchvision.utils.make_grid(fake, padding=2, normalize=True))\n",
    "\n",
    "        iters += 1\n",
    "    scheduler_gen.step(g_total_loss.item())\n",
    "    scheduler_dis.step(d_total_loss.item())\n",
    "\n",
    "\n",
    "    joblib.dump(generator, filename_gen)\n",
    "    joblib.dump(discriminator, filename_dis)\n",
    "    joblib.dump(siamese, filename_sim)\n",
    "\n",
    "    gen_losses_arr = np.array(gen_losses, dtype=object)\n",
    "    dis_losses_arr = np.array(dis_losses, dtype=object)\n",
    "    img_arr = np.array(img_lists, dtype=object)\n",
    "    np.save('TraVeLGAN/noise_feat-matching_gen4layers_20epoci_32x16/TraVeLGAN-gen_losses.npy', gen_losses_arr)\n",
    "    np.save('TraVeLGAN/noise_feat-matching_gen4layers_20epoci_32x16/TraVeLGAN-dis_losses.npy', dis_losses_arr)\n",
    "    np.save('TraVeLGAN/noise_feat-matching_gen4layers_20epoci_32x16/TraVeLGAN-imgs.npy', img_arr)\n",
    "\n"
   ],
   "metadata": {
    "collapsed": false,
    "ExecuteTime": {
     "end_time": "2023-06-04T23:56:47.976396608Z",
     "start_time": "2023-06-04T23:00:59.437002054Z"
    }
   }
  },
  {
   "cell_type": "code",
   "execution_count": 16,
   "outputs": [],
   "source": [
    "# generator = joblib.load(filename_gen)\n",
    "#\n",
    "# discriminator = joblib.load(filename_dis)\n",
    "\n",
    "# for i, ms in enumerate(img_lists):\n",
    "#     print(ms.shape)\n",
    "#     ms = ms.numpy()\n",
    "#     im = Image.fromarray(ms)\n",
    "#     if im.mode != 'L':\n",
    "#         im = im.convert('L')\n",
    "#     im.save(f\"Data/generated/gen_spec{i}.jpg\")\n"
   ],
   "metadata": {
    "collapsed": false,
    "ExecuteTime": {
     "end_time": "2023-06-04T23:56:47.987008675Z",
     "start_time": "2023-06-04T23:56:47.913133640Z"
    }
   }
  },
  {
   "cell_type": "code",
   "execution_count": 17,
   "outputs": [
    {
     "data": {
      "text/plain": "<Figure size 640x480 with 1 Axes>",
      "image/png": "[encoded data removed]"
     },
     "metadata": {},
     "output_type": "display_data"
    },
    {
     "name": "stdout",
     "output_type": "stream",
     "text": [
      "torch.Size([1, 1, 32, 32])\n"
     ]
    },
    {
     "ename": "ValueError",
     "evalue": "too many values to unpack (expected 2)",
     "output_type": "error",
     "traceback": [
      "\u001B[0;31m---------------------------------------------------------------------------\u001B[0m",
      "\u001B[0;31mValueError\u001B[0m                                Traceback (most recent call last)",
      "Cell \u001B[0;32mIn[17], line 16\u001B[0m\n\u001B[1;32m     13\u001B[0m \u001B[38;5;66;03m# test_spec = torch.transpose(test_spec, 0, 1)\u001B[39;00m\n\u001B[1;32m     15\u001B[0m \u001B[38;5;28mprint\u001B[39m(test_spec\u001B[38;5;241m.\u001B[39mshape)\n\u001B[0;32m---> 16\u001B[0m test1, test2 \u001B[38;5;241m=\u001B[39m slice_images(test_spec)\n\u001B[1;32m     17\u001B[0m test_spec1 \u001B[38;5;241m=\u001B[39m generator(test1)\n\u001B[1;32m     18\u001B[0m test_spec2 \u001B[38;5;241m=\u001B[39m generator(test2)\n",
      "\u001B[0;31mValueError\u001B[0m: too many values to unpack (expected 2)"
     ]
    }
   ],
   "source": [
    "test_spec = Image.open(\"Data/SpectrogramsA/pop/pop_spec53.jpg\")\n",
    "make_tensor = torchvision.transforms.ToTensor()\n",
    "test_spec = transform(test_spec)\n",
    "test_spec = torch.transpose(test_spec, 0, 2)\n",
    "\n",
    "fig, axs = plt.subplots(1)\n",
    "axs.imshow(test_spec)\n",
    "plt.show()\n",
    "\n",
    "\n",
    "test_spec = torch.transpose(test_spec, 0, 2)\n",
    "test_spec = torch.unsqueeze(test_spec, 0)\n",
    "# test_spec = torch.transpose(test_spec, 0, 1)\n",
    "\n",
    "print(test_spec.shape)\n",
    "test1, test2 = slice_images(test_spec)\n",
    "test_spec1 = generator(test1)\n",
    "test_spec2 = generator(test2)\n",
    "test_spec = assemble_images(test_spec1, test_spec2)\n",
    "\n",
    "test_spec = torch.squeeze(test_spec, 0)\n",
    "test_spec = torch.transpose(test_spec, 0, 2)\n",
    "\n",
    "print(test_spec.shape)\n",
    "fig, axs = plt.subplots(1)\n",
    "axs.imshow(test_spec.detach())\n",
    "plt.show()\n",
    "\n"
   ],
   "metadata": {
    "collapsed": false,
    "ExecuteTime": {
     "end_time": "2023-06-04T23:56:48.454884401Z",
     "start_time": "2023-06-04T23:56:47.931191616Z"
    }
   }
  },
  {
   "cell_type": "code",
   "execution_count": null,
   "outputs": [],
   "source": [
    "rock_batch = next(iter(dataloader_B))\n",
    "p = rock_batch[0]\n",
    "res = generator(p)\n",
    "#b1, b2 = slice_images(rock_batch)\n",
    "# p1 = generator(b1)\n",
    "# p2 = generator(b2)\n",
    "# p = assemble_images(p1, p2)\n",
    "\n",
    "plt.figure(figsize=(25,25))\n",
    "plt.subplot(1,2,1)\n",
    "plt.axis(\"off\")\n",
    "plt.title(\"Fake images\")\n",
    "plt.imshow(np.transpose(torchvision.utils.make_grid(res.to(device), padding=5, normalize=True).cpu(),(1,2,0)))\n",
    "\n",
    "\n",
    "\n",
    "# plt.subplot()\n",
    "# plt.axis(\"off\")\n",
    "# plt.title(\"Fake Images\")\n",
    "# plt.imshow(np.transpose(res.detach(),(1,2,0)))\n",
    "# plt.show()"
   ],
   "metadata": {
    "collapsed": false,
    "ExecuteTime": {
     "start_time": "2023-06-04T23:56:48.446641555Z"
    }
   }
  },
  {
   "cell_type": "code",
   "execution_count": null,
   "outputs": [],
   "source": [
    "# real_batch = next(iter(dataloader))\n",
    "real_batch = next(iter(dataloader_A))\n",
    "\n",
    "plt.figure(figsize=(25,25))\n",
    "plt.subplot(1,2,1)\n",
    "plt.axis(\"off\")\n",
    "plt.title(\"Real images\")\n",
    "plt.imshow(np.transpose(torchvision.utils.make_grid(rock_batch[0].to(device)[:64], padding=5, normalize=True).cpu(),(1,2,0)))\n",
    "\n",
    "\n",
    "# plt.subplot(1,2,2)\n",
    "# plt.axis(\"off\")\n",
    "# plt.title(\"Fake Images\")\n",
    "# plt.imshow(np.transpose(img_lists[-1],(1,2,0)))\n",
    "# plt.show()"
   ],
   "metadata": {
    "collapsed": false
   }
  },
  {
   "cell_type": "code",
   "execution_count": null,
   "outputs": [],
   "source": [
    "print(\"1\")"
   ],
   "metadata": {
    "collapsed": false
   }
  }
 ],
 "metadata": {
  "kernelspec": {
   "display_name": "Python 3",
   "language": "python",
   "name": "python3"
  },
  "language_info": {
   "codemirror_mode": {
    "name": "ipython",
    "version": 2
   },
   "file_extension": ".py",
   "mimetype": "text/x-python",
   "name": "python",
   "nbconvert_exporter": "python",
   "pygments_lexer": "ipython2",
   "version": "2.7.6"
  }
 },
 "nbformat": 4,
 "nbformat_minor": 0
}
