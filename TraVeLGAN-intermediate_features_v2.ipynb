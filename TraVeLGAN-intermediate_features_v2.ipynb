{
 "cells": [
  {
   "cell_type": "markdown",
   "source": [
    "### Siamese GAN\n",
    "\n",
    "image_size = 32\n",
    "channels = 1\n",
    "\n",
    "in plus fata de tot restu modelelor, cateagoria A are pop blues country, nu doar pop.\n",
    "Categoria B are doar rock.\n",
    "\n",
    "Am adaugat self.second in discriminator fara gaussian noise, pt ca la feature matching generatorul capata noise ca asa le vede discriminatoru\n",
    "\n",
    "v2\n",
    "lrD = 0.000001\n",
    "feature matching are 2 *\n",
    "gen converge pe la 2000\n",
    "\n",
    "v3\n",
    "lrD = 0.000001\n",
    "feature matching are 4 *"
   ],
   "metadata": {
    "collapsed": false
   }
  },
  {
   "cell_type": "code",
   "execution_count": 58,
   "metadata": {
    "collapsed": true,
    "ExecuteTime": {
     "end_time": "2023-06-10T16:34:20.339221216Z",
     "start_time": "2023-06-10T16:34:20.271305033Z"
    }
   },
   "outputs": [],
   "source": [
    "import pathlib\n",
    "import torch\n",
    "import numpy as np\n",
    "import matplotlib.pyplot as plt\n",
    "import torchvision\n",
    "from tqdm import tqdm\n",
    "from PIL import Image\n",
    "import os\n",
    "from torch.optim.lr_scheduler import ReduceLROnPlateau\n",
    "import joblib"
   ]
  },
  {
   "cell_type": "code",
   "execution_count": 59,
   "outputs": [],
   "source": [
    "ngpu = 0\n",
    "pathA = \"Data/SpectrogramsA\"\n",
    "pathB = \"Data/SpectrogramsB\"\n",
    "filename_gen = \"TraVeLGAN/noise_feat-matching_gen4layers_20epoci_32x16_lrd=0.00001/TraVeLGAN-Gen.joblib\"\n",
    "filename_dis = \"TraVeLGAN/noise_feat-matching_gen4layers_20epoci_32x16_lrd=0.00001/TraVeLGAN-Dis.joblib\"\n",
    "filename_sim = \"TraVeLGAN/noise_feat-matching_gen4layers_20epoci_32x16_lrd=0.00001/TraVeLGAN-Siam.joblib\"\n",
    "workers = 2\n",
    "batch_size = 32\n",
    "\n",
    "image_size = 32\n",
    "\n",
    "# channels nr for input images\n",
    "nc = 1\n",
    "# size of feature maps in generator\n",
    "ngf = 64\n",
    "# size of feature maps in discriminator\n",
    "ndf = 64\n",
    "# length of latent vector\n",
    "lenvec = 128\n",
    "\n",
    "num_epochs = 7\n",
    "lr = 0.0002\n",
    "lrD = 0.00001\n",
    "beta1 = 0.5\n",
    "\n",
    "def find_classes(directory:str):\n",
    "    classes = sorted(entry.name for entry in os.scandir(directory) if entry.is_dir())\n",
    "\n",
    "    class_to_index = {class_name: i for i, class_name in enumerate(classes)}\n",
    "\n",
    "    return classes, class_to_index"
   ],
   "metadata": {
    "collapsed": false,
    "ExecuteTime": {
     "end_time": "2023-06-10T16:34:20.339486094Z",
     "start_time": "2023-06-10T16:34:20.277218939Z"
    }
   }
  },
  {
   "cell_type": "code",
   "execution_count": 60,
   "outputs": [],
   "source": [
    "class MyImageFolder(torch.utils.data.Dataset):\n",
    "    def __init__(self, directory:str, transform=None):\n",
    "\n",
    "        self.paths = list(pathlib.Path(directory).glob('*/*.jpg')) * 3\n",
    "\n",
    "        self.transform = transform\n",
    "        self.classes, self.class_to_index = find_classes(directory)\n",
    "\n",
    "    def __len__(self):\n",
    "        return len(self.paths)\n",
    "\n",
    "    def __getitem__(self, index):\n",
    "        img = self.load_image(index)\n",
    "        class_name = self.paths[index].parent.name\n",
    "        class_index = self.class_to_index[class_name]\n",
    "\n",
    "        if self.transform:\n",
    "            return self.transform(img), class_index\n",
    "        else:\n",
    "            return img, class_index\n",
    "\n",
    "    def load_image(self, index):\n",
    "        image_path = self.paths[index]\n",
    "        return Image.open(image_path)\n",
    "\n",
    "transform = torchvision.transforms.Compose([\n",
    "            #torchvision.transforms.RandomResizedCrop(image_size),\n",
    "            #torchvision.transforms.Resize(64),\n",
    "            #torchvision.transforms.RandomCrop(64),\n",
    "            # TODO test this\n",
    "            #torchvision.transforms.RandomResizedCrop(image_size, interpolation=torchvision.transforms.InterpolationMode.BICUBIC),\n",
    "            # torchvision.transforms.RandomHorizontalFlip(p=0.3)\n",
    "\n",
    "            torchvision.transforms.ToTensor(),  # imaginile sunt normalizate intre [0, 1]\n",
    "            torchvision.transforms.Normalize(0.5, 0.5),  # imaginile sunt normalizate intre [-1, 1]\n",
    "        ])\n"
   ],
   "metadata": {
    "collapsed": false,
    "ExecuteTime": {
     "end_time": "2023-06-10T16:34:20.439664602Z",
     "start_time": "2023-06-10T16:34:20.286863006Z"
    }
   }
  },
  {
   "cell_type": "code",
   "execution_count": 61,
   "outputs": [
    {
     "name": "stdout",
     "output_type": "stream",
     "text": [
      "539\n",
      "1538\n"
     ]
    }
   ],
   "source": [
    "train_data_A = MyImageFolder(directory=pathA, transform=transform)\n",
    "train_data_B = MyImageFolder(directory=pathB, transform=transform)\n",
    "\n",
    "dataloader_A = torch.utils.data.DataLoader(train_data_A, batch_size=batch_size, shuffle=True, num_workers=2)\n",
    "dataloader_B = torch.utils.data.DataLoader(train_data_B, batch_size=batch_size, shuffle=True, num_workers=2)\n",
    "\n",
    "print(len(dataloader_A))\n",
    "print(len(dataloader_B))\n",
    "device = torch.device(\"cuda:0\" if (torch.cuda.is_available() and ngpu > 0) else \"cpu\")\n"
   ],
   "metadata": {
    "collapsed": false,
    "ExecuteTime": {
     "end_time": "2023-06-10T16:34:20.456899369Z",
     "start_time": "2023-06-10T16:34:20.293081828Z"
    }
   }
  },
  {
   "cell_type": "code",
   "execution_count": 62,
   "outputs": [],
   "source": [
    "'''\n",
    "Gaussian distribution (also known as normal distribution) is a bell-shaped curve, and it is assumed that during any measurement values will follow a normal distribution with an equal number of measurements above and below the mean value.\n",
    "'''\n",
    "class GaussianNoise(torch.nn.Module):\n",
    "    def __init__(self, std=0.1, decay=0):\n",
    "        super().__init__()\n",
    "        self.std = std\n",
    "        self.decay = decay\n",
    "\n",
    "    def step(self):\n",
    "        self.std = max(self.std - self.decay, 0)\n",
    "\n",
    "    def forward(self, x):\n",
    "        if self.training:\n",
    "            return x + torch.empty_like(x).normal_(std=self.std)\n",
    "        else:\n",
    "            return x"
   ],
   "metadata": {
    "collapsed": false,
    "ExecuteTime": {
     "end_time": "2023-06-10T16:34:20.507023168Z",
     "start_time": "2023-06-10T16:34:20.460522825Z"
    }
   }
  },
  {
   "cell_type": "code",
   "execution_count": 63,
   "outputs": [],
   "source": [
    "'''\n",
    "From the DCGAN paper, the authors specify that all model weights shall be randomly initialized from a Normal distribution with mean=0, stdev=0.02. The weights_init function takes an initialized model as input and reinitializes all convolutional, convolutional-transpose, and batch normalization layers to meet this criteria. This function is applied to the models immediately after initialization.\n",
    "'''\n",
    "def weights_init(m):\n",
    "    classname = m.__class__.__name__\n",
    "    if classname.find('Conv') != -1:\n",
    "        torch.nn.init.normal_(m.weight.data, 0.0, 0.02)\n",
    "    elif classname.find('BatchNorm') != -1:\n",
    "        torch.nn.init.normal_(m.weight.data, 1.0, 0.02)\n",
    "        torch.nn.init.constant_(m.bias.data, 0)"
   ],
   "metadata": {
    "collapsed": false,
    "ExecuteTime": {
     "end_time": "2023-06-10T16:34:20.507210194Z",
     "start_time": "2023-06-10T16:34:20.506289646Z"
    }
   }
  },
  {
   "cell_type": "code",
   "execution_count": 64,
   "outputs": [
    {
     "data": {
      "text/plain": "Sequential(\n  (0): Conv2d(1, 64, kernel_size=(4, 4), stride=(2, 2), padding=(1, 1), bias=False)\n  (1): BatchNorm2d(64, eps=1e-05, momentum=0.1, affine=True, track_running_stats=True)\n  (2): LeakyReLU(negative_slope=True)\n  (3): Conv2d(64, 128, kernel_size=(4, 4), stride=(2, 2), padding=(1, 1), bias=False)\n  (4): BatchNorm2d(128, eps=1e-05, momentum=0.1, affine=True, track_running_stats=True)\n  (5): LeakyReLU(negative_slope=True)\n  (6): ConvTranspose2d(128, 64, kernel_size=(4, 4), stride=(2, 2), padding=(1, 1), bias=False)\n  (7): BatchNorm2d(64, eps=1e-05, momentum=0.1, affine=True, track_running_stats=True)\n  (8): LeakyReLU(negative_slope=True)\n  (9): ConvTranspose2d(64, 1, kernel_size=(4, 4), stride=(2, 2), padding=(1, 1), bias=False)\n  (10): Tanh()\n)"
     },
     "execution_count": 64,
     "metadata": {},
     "output_type": "execute_result"
    }
   ],
   "source": [
    "generator = torch.nn.Sequential(\n",
    "    # 1 x 16 x 16\n",
    "\n",
    "    # downsampling\n",
    "    torch.nn.Conv2d(nc, ngf, kernel_size=4, stride=2, padding=1, bias=False),\n",
    "    torch.nn.BatchNorm2d(ngf),\n",
    "    torch.nn.LeakyReLU(True),\n",
    "    # ngf x 8 x 8\n",
    "    torch.nn.Conv2d(ngf, ngf * 2, kernel_size=4, stride=2, padding=1, bias=False),\n",
    "    torch.nn.BatchNorm2d(ngf * 2),\n",
    "    torch.nn.LeakyReLU(True),\n",
    "    # ngf*2 x 4 x 4\n",
    "\n",
    "\n",
    "    # upsampling\n",
    "    torch.nn.ConvTranspose2d(ngf * 2, ngf, kernel_size=4, stride=2, padding=1, bias=False),\n",
    "    torch.nn.BatchNorm2d(ngf),\n",
    "    torch.nn.LeakyReLU(True),\n",
    "    # ngf*2 x 8 x 8\n",
    "\n",
    "    torch.nn.ConvTranspose2d(ngf, nc, kernel_size=4, stride=2, padding=1, bias=False),\n",
    "    torch.nn.Tanh(),\n",
    "    # ngf x 16 x 16\n",
    "\n",
    ")\n",
    "\n",
    "generator.apply(weights_init)\n",
    "\n",
    "\n"
   ],
   "metadata": {
    "collapsed": false,
    "ExecuteTime": {
     "end_time": "2023-06-10T16:34:20.507428349Z",
     "start_time": "2023-06-10T16:34:20.506551538Z"
    }
   }
  },
  {
   "cell_type": "code",
   "execution_count": 65,
   "outputs": [],
   "source": [
    "# Siamese model\n",
    "\n",
    "siamese = torch.nn.Sequential(\n",
    "    # conv2d\n",
    "    # conv2d\n",
    "    # conv2d\n",
    "\n",
    "        # 1 x 32 x 16\n",
    "    torch.nn.Conv2d(nc, ngf, kernel_size=4, stride=2, padding=1, bias=False),\n",
    "    torch.nn.BatchNorm2d(ngf),\n",
    "    torch.nn.LeakyReLU(True),\n",
    "    # ngf x 16 x 8\n",
    "\n",
    "    torch.nn.Conv2d(ngf, ngf, kernel_size=(3, 3), stride=(2, 1), padding=(1, 1), bias=False),\n",
    "    torch.nn.BatchNorm2d(ngf),\n",
    "    torch.nn.LeakyReLU(True),\n",
    "    # ngf x 8 x 8\n",
    "\n",
    "    torch.nn.Conv2d(ngf, ngf * 2, kernel_size=(3, 3), stride=(1, 2), padding=(1, 1), bias=False),\n",
    "    torch.nn.BatchNorm2d(ngf * 2),\n",
    "    torch.nn.LeakyReLU(True),\n",
    "    # ngf*2 x 8 x 4\n",
    "\n",
    "    # # 1 x 16 x 16\n",
    "    # torch.nn.Conv2d(nc, ngf, kernel_size=(3, 3), stride=(2, 1), padding=(1, 1), bias=False),\n",
    "    # torch.nn.BatchNorm2d(ngf),\n",
    "    # torch.nn.LeakyReLU(True),\n",
    "    # # ngf x 8 x 16\n",
    "    #\n",
    "    # torch.nn.Conv2d(ngf, ngf, kernel_size=(3, 3), stride=(1, 2), padding=(1, 1), bias=False),\n",
    "    # torch.nn.BatchNorm2d(ngf),\n",
    "    # torch.nn.LeakyReLU(True),\n",
    "    # # ngf x 8 x 8\n",
    "    #\n",
    "    # torch.nn.Conv2d(ngf, ngf * 2, kernel_size=(3, 3), stride=(1, 2), padding=(1, 1), bias=False),\n",
    "    # torch.nn.BatchNorm2d(ngf * 2),\n",
    "    # torch.nn.LeakyReLU(True),\n",
    "    # # ngf*2 x 8 x 4\n",
    "\n",
    "    torch.nn.Flatten(),\n",
    "    # ngf*2*8*4\n",
    "    torch.nn.Linear(ngf * 64, lenvec)\n",
    ")"
   ],
   "metadata": {
    "collapsed": false,
    "ExecuteTime": {
     "end_time": "2023-06-10T16:34:20.507544885Z",
     "start_time": "2023-06-10T16:34:20.506735935Z"
    }
   }
  },
  {
   "cell_type": "code",
   "execution_count": 66,
   "outputs": [
    {
     "data": {
      "text/plain": "Discriminator(\n  (main): Sequential(\n    (0): GaussianNoise()\n    (1): Conv2d(1, 64, kernel_size=(4, 4), stride=(2, 2), padding=(1, 1), bias=False)\n    (2): BatchNorm2d(64, eps=1e-05, momentum=0.1, affine=True, track_running_stats=True)\n    (3): LeakyReLU(negative_slope=0.2, inplace=True)\n    (4): GaussianNoise()\n    (5): Conv2d(64, 128, kernel_size=(4, 4), stride=(2, 2), padding=(1, 1), bias=False)\n    (6): BatchNorm2d(128, eps=1e-05, momentum=0.1, affine=True, track_running_stats=True)\n    (7): LeakyReLU(negative_slope=0.2, inplace=True)\n    (8): GaussianNoise()\n    (9): Conv2d(128, 256, kernel_size=(4, 4), stride=(2, 2), padding=(1, 1), bias=False)\n    (10): BatchNorm2d(256, eps=1e-05, momentum=0.1, affine=True, track_running_stats=True)\n    (11): LeakyReLU(negative_slope=0.2, inplace=True)\n    (12): GaussianNoise()\n    (13): Conv2d(256, 1, kernel_size=(4, 4), stride=(1, 1), bias=False)\n    (14): Sigmoid()\n  )\n  (second): Sequential(\n    (0): Conv2d(1, 64, kernel_size=(4, 4), stride=(2, 2), padding=(1, 1), bias=False)\n    (1): BatchNorm2d(64, eps=1e-05, momentum=0.1, affine=True, track_running_stats=True)\n    (2): LeakyReLU(negative_slope=0.2, inplace=True)\n    (3): Conv2d(64, 128, kernel_size=(4, 4), stride=(2, 2), padding=(1, 1), bias=False)\n    (4): BatchNorm2d(128, eps=1e-05, momentum=0.1, affine=True, track_running_stats=True)\n    (5): LeakyReLU(negative_slope=0.2, inplace=True)\n    (6): Conv2d(128, 256, kernel_size=(4, 4), stride=(2, 2), padding=(1, 1), bias=False)\n    (7): BatchNorm2d(256, eps=1e-05, momentum=0.1, affine=True, track_running_stats=True)\n    (8): LeakyReLU(negative_slope=0.2, inplace=True)\n    (9): Conv2d(256, 1, kernel_size=(4, 4), stride=(1, 1), bias=False)\n    (10): Sigmoid()\n  )\n)"
     },
     "execution_count": 66,
     "metadata": {},
     "output_type": "execute_result"
    }
   ],
   "source": [
    "# Discriminator model\n",
    "\n",
    "\n",
    "class Discriminator(torch.nn.Module):\n",
    "    def __init__(self, nc, ndf):\n",
    "        super(Discriminator, self).__init__()\n",
    "\n",
    "        self.main = torch.nn.Sequential(\n",
    "            GaussianNoise(),\n",
    "            torch.nn.Conv2d(nc, ndf, 4, 2, 1, bias=False),\n",
    "            torch.nn.BatchNorm2d(ndf),\n",
    "            torch.nn.LeakyReLU(0.2, inplace=True),\n",
    "            # ndf x 16 x 16\n",
    "\n",
    "            GaussianNoise(),\n",
    "            torch.nn.Conv2d(ndf, ndf * 2, 4, 2, 1, bias=False),\n",
    "            torch.nn.BatchNorm2d(ndf * 2),\n",
    "            torch.nn.LeakyReLU(0.2, inplace=True),\n",
    "            # ndf*2 x 8 x 8\n",
    "\n",
    "            GaussianNoise(),\n",
    "            torch.nn.Conv2d(ndf * 2, ndf * 4, 4, 2, 1, bias=False),\n",
    "            torch.nn.BatchNorm2d(ndf * 4),\n",
    "            torch.nn.LeakyReLU(0.2, inplace=True),\n",
    "            # ndf*4 x 4 x 4\n",
    "\n",
    "            GaussianNoise(),\n",
    "            torch.nn.Conv2d(ndf * 4, 1, 4, 1, 0, bias=False),\n",
    "            torch.nn.Sigmoid()\n",
    "        )\n",
    "\n",
    "        self.second = torch.nn.Sequential(\n",
    "            torch.nn.Conv2d(nc, ndf, 4, 2, 1, bias=False),\n",
    "            torch.nn.BatchNorm2d(ndf),\n",
    "            torch.nn.LeakyReLU(0.2, inplace=True),\n",
    "            # ndf x 16 x 16\n",
    "\n",
    "            torch.nn.Conv2d(ndf, ndf * 2, 4, 2, 1, bias=False),\n",
    "            torch.nn.BatchNorm2d(ndf * 2),\n",
    "            torch.nn.LeakyReLU(0.2, inplace=True),\n",
    "            # ndf*2 x 8 x 8\n",
    "\n",
    "            torch.nn.Conv2d(ndf * 2, ndf * 4, 4, 2, 1, bias=False),\n",
    "            torch.nn.BatchNorm2d(ndf * 4),\n",
    "            torch.nn.LeakyReLU(0.2, inplace=True),\n",
    "            # ndf*4 x 4 x 4\n",
    "\n",
    "            torch.nn.Conv2d(ndf * 4, 1, 4, 1, 0, bias=False),\n",
    "            torch.nn.Sigmoid()\n",
    "        )\n",
    "\n",
    "    def forward(self, x):\n",
    "        return self.main(x)\n",
    "\n",
    "    def get_intermediate_features(self, x):\n",
    "        intermediate_features = []\n",
    "        for module in self.second:\n",
    "            x = module(x)\n",
    "            intermediate_features.append(x)\n",
    "        return intermediate_features[1 : -1]\n",
    "\n",
    "discriminator = Discriminator(nc, ndf)\n",
    "discriminator.apply(weights_init)\n",
    "\n"
   ],
   "metadata": {
    "collapsed": false,
    "ExecuteTime": {
     "end_time": "2023-06-10T16:34:20.558062215Z",
     "start_time": "2023-06-10T16:34:20.550669776Z"
    }
   }
  },
  {
   "cell_type": "code",
   "execution_count": 67,
   "outputs": [],
   "source": [
    "class IdentityLoss(torch.nn.Module):\n",
    "    def __init__(self):\n",
    "        super(IdentityLoss, self).__init__()\n",
    "\n",
    "    def forward(self, real, generated):\n",
    "        identity_loss = torch.nn.functional.l1_loss(real, generated)\n",
    "        return identity_loss\n",
    "\n",
    "class CosineSimilarityLoss(torch.nn.Module):\n",
    "    # daca e 1 sunt lfl\n",
    "    # daca e 0 sunt ortogonali sau unrelated\n",
    "    # daca e -1 sunt opusi sau dissimilar\n",
    "    def __init__(self):\n",
    "        super(CosineSimilarityLoss, self).__init__()\n",
    "\n",
    "    def forward(self, a, b):\n",
    "        a_normalized = torch.nn.functional.normalize(a, dim=1)\n",
    "        b_normalized = torch.nn.functional.normalize(b, dim=1)\n",
    "        cos_sim = torch.mean(torch.nn.functional.cosine_similarity(a_normalized, b_normalized, dim=1))\n",
    "        return cos_sim\n",
    "\n",
    "class SiameseLoss(torch.nn.Module):\n",
    "    def __init__(self, margin):\n",
    "        super(SiameseLoss, self).__init__()\n",
    "        self.margin = margin\n",
    "\n",
    "    def forward(self, a1, a2):\n",
    "        distances = torch.sqrt(torch.sum((a1 - a2) ** 2, dim=-1, keepdim=True))\n",
    "        hinge_loss = torch.square(torch.maximum((self.margin - distances), torch.tensor(0)))\n",
    "        loss = torch.mean(hinge_loss)\n",
    "        return loss"
   ],
   "metadata": {
    "collapsed": false,
    "ExecuteTime": {
     "end_time": "2023-06-10T16:34:20.558305210Z",
     "start_time": "2023-06-10T16:34:20.551675905Z"
    }
   }
  },
  {
   "cell_type": "code",
   "execution_count": 68,
   "outputs": [],
   "source": [
    "adversarial_loss = torch.nn.BCELoss()\n",
    "#contrastive_loss = torch.nn.CosineEmbeddingLoss(margin=1.0)\n",
    "identity_loss = IdentityLoss()\n",
    "cossine_loss = CosineSimilarityLoss()\n",
    "siamese_loss = SiameseLoss(1)\n",
    "feature_loss = torch.nn.MSELoss()\n",
    "\n",
    "fixed_noise = torch.randn(batch_size, nc, image_size, image_size, device=device)\n",
    "different_classes = -1\n",
    "same_class = 1\n",
    "real_label = 0\n",
    "fake_label = 1\n",
    "\n",
    "gen_optimizer = torch.optim.Adam(generator.parameters(), lr=lr, betas=(beta1, 0.999))\n",
    "dis_optimizer = torch.optim.Adam(discriminator.parameters(), lr=lrD, betas=(beta1, 0.999))\n",
    "scheduler_gen = ReduceLROnPlateau(gen_optimizer, patience=1, factor=0.1, min_lr=0.00000001, verbose=True)\n",
    "scheduler_dis = ReduceLROnPlateau(dis_optimizer, patience=1, factor=0.1, min_lr=0.0000001)"
   ],
   "metadata": {
    "collapsed": false,
    "ExecuteTime": {
     "end_time": "2023-06-10T16:34:20.558443615Z",
     "start_time": "2023-06-10T16:34:20.553014599Z"
    }
   }
  },
  {
   "cell_type": "code",
   "execution_count": 69,
   "outputs": [],
   "source": [
    "def normalize(x, minim, maxim):\n",
    "    return (x - minim) / (maxim - minim)\n",
    "\n",
    "# def slice_images(batch):\n",
    "#     part1 = batch[:, :, : batch.shape[2] // 2, : batch.shape[3] // 2].clone()\n",
    "#     part2 = batch[:, :, batch.shape[2] // 2 :, : batch.shape[3] // 2].clone()\n",
    "#     part3 = batch[:, :, : batch.shape[2] // 2, batch.shape[3] // 2 :].clone()\n",
    "#     part4 = batch[:, :, batch.shape[2] // 2 :, batch.shape[3] // 2 :].clone()\n",
    "#     return part1, part2, part3, part4\n",
    "#\n",
    "#     # 1 2\n",
    "#     # 3 4\n",
    "#\n",
    "# def assemble_images(part1, part2, part3, part4):\n",
    "#     image1 = torch.cat((part1, part2), dim=3)\n",
    "#     #print(image1.shape)\n",
    "#     image2 = torch.cat((part3, part4), dim=3)\n",
    "#     #print(image2.shape)\n",
    "#     final_image = torch.cat((image1, image2), dim=2)\n",
    "#     #print(final_image.shape)\n",
    "#     return final_image\n",
    "\n",
    "def slice_images(batch):\n",
    "    part1 = batch[:, :, :, :batch.shape[3] // 2].clone()\n",
    "    part2 = batch[:, :, :, batch.shape[3] // 2 :].clone()\n",
    "    return part1, part2\n",
    "\n",
    "def assemble_images(part1, part2):\n",
    "    image = torch.cat([part1, part2], dim=3)\n",
    "    return image\n",
    "\n",
    "img_lists = []\n",
    "gen_losses = []\n",
    "dis_losses = []\n",
    "iters = 0\n"
   ],
   "metadata": {
    "collapsed": false,
    "ExecuteTime": {
     "end_time": "2023-06-10T16:34:20.569043889Z",
     "start_time": "2023-06-10T16:34:20.559645619Z"
    }
   }
  },
  {
   "cell_type": "code",
   "execution_count": 70,
   "outputs": [],
   "source": [
    "# def traind_discriminator(A, B):\n",
    "#     A1, A2 = slice_images(A)\n",
    "#     A_b_size = A1.size(0)\n",
    "#     B_b_size = B.size(0)\n",
    "#     gen_A1 = generator(A1)\n",
    "#     gen_A2 = generator(A2)\n",
    "#     AB = assemble_images(gen_A1, gen_A2)\n",
    "#     output_AB = discriminator(AB.detach()).view(-1)\n",
    "#     output_B = discriminator(B).view(-1)\n",
    "#\n",
    "#     label_fake = torch.full((B_b_size,), fake_label, dtype=torch.float, device=device)\n",
    "#     zero = torch.full((B_b_size,), 0, dtype=torch.float, device=device)\n",
    "#     d_loss_real = torch.mean(torch.max(label_fake + output_B, zero))\n",
    "#\n",
    "#     zero = torch.full((A_b_size,), 0, dtype=torch.float, device=device)\n",
    "#     label_f = torch.full((A_b_size,), fake_label, dtype=torch.float, device=device)\n",
    "#     d_loss_fake = torch.mean(torch.max(label_f - output_AB, zero))\n",
    "#\n",
    "#     d_total_loss = (d_loss_real + d_loss_fake) / 2\n",
    "#\n",
    "#     dis_optimizer.zero_grad()\n",
    "#     d_total_loss.backward()\n",
    "#     dis_optimizer.step()\n",
    "#\n",
    "#     return d_loss_real, d_loss_fake"
   ],
   "metadata": {
    "collapsed": false,
    "ExecuteTime": {
     "end_time": "2023-06-10T16:34:20.569339836Z",
     "start_time": "2023-06-10T16:34:20.562634633Z"
    }
   }
  },
  {
   "cell_type": "code",
   "execution_count": 71,
   "outputs": [
    {
     "name": "stderr",
     "output_type": "stream",
     "text": [
      "0it [00:00, ?it/s]"
     ]
    },
    {
     "name": "stdout",
     "output_type": "stream",
     "text": [
      "Id loss 0.9825\n",
      "D loss real: 1.4095\n",
      "D loss fake: 0.3614\n",
      "Ts loss 2.7871\n",
      "G loss :0.6527\n",
      "Feature loss :0.8304\n"
     ]
    },
    {
     "name": "stderr",
     "output_type": "stream",
     "text": [
      "1it [00:00,  2.35it/s]"
     ]
    },
    {
     "name": "stdout",
     "output_type": "stream",
     "text": [
      "[0/6] [0/538]\tLoss_dis: 0.8854\tLoss_gen: 30.6760\tD(x): 0.4095\tD(G(x)): 0.6386\n"
     ]
    },
    {
     "name": "stderr",
     "output_type": "stream",
     "text": [
      "60it [00:17,  3.16it/s]"
     ]
    },
    {
     "name": "stdout",
     "output_type": "stream",
     "text": [
      "Id loss 0.9090\n",
      "D loss real: 1.0321\n",
      "D loss fake: 0.0249\n",
      "Ts loss 2.1719\n",
      "G loss :0.9774\n",
      "Feature loss :0.7701\n"
     ]
    },
    {
     "name": "stderr",
     "output_type": "stream",
     "text": [
      "61it [00:17,  3.02it/s]"
     ]
    },
    {
     "name": "stdout",
     "output_type": "stream",
     "text": [
      "[0/6] [60/538]\tLoss_dis: 0.5285\tLoss_gen: 24.6905\tD(x): 0.0321\tD(G(x)): 0.9751\n"
     ]
    },
    {
     "name": "stderr",
     "output_type": "stream",
     "text": [
      "120it [00:35,  3.34it/s]"
     ]
    },
    {
     "name": "stdout",
     "output_type": "stream",
     "text": [
      "Id loss 0.8488\n",
      "D loss real: 1.0158\n",
      "D loss fake: 0.0118\n",
      "Ts loss 2.0978\n",
      "G loss :0.9880\n",
      "Feature loss :0.7541\n"
     ]
    },
    {
     "name": "stderr",
     "output_type": "stream",
     "text": [
      "121it [00:35,  3.20it/s]"
     ]
    },
    {
     "name": "stdout",
     "output_type": "stream",
     "text": [
      "[0/6] [120/538]\tLoss_dis: 0.5138\tLoss_gen: 23.8990\tD(x): 0.0158\tD(G(x)): 0.9882\n"
     ]
    },
    {
     "name": "stderr",
     "output_type": "stream",
     "text": [
      "180it [00:54,  3.19it/s]"
     ]
    },
    {
     "name": "stdout",
     "output_type": "stream",
     "text": [
      "Id loss 0.8140\n",
      "D loss real: 1.0062\n",
      "D loss fake: 0.0088\n",
      "Ts loss 2.0963\n",
      "G loss :0.9917\n",
      "Feature loss :0.7311\n"
     ]
    },
    {
     "name": "stderr",
     "output_type": "stream",
     "text": [
      "181it [00:54,  3.23it/s]"
     ]
    },
    {
     "name": "stdout",
     "output_type": "stream",
     "text": [
      "[0/6] [180/538]\tLoss_dis: 0.5075\tLoss_gen: 23.8234\tD(x): 0.0062\tD(G(x)): 0.9912\n"
     ]
    },
    {
     "name": "stderr",
     "output_type": "stream",
     "text": [
      "240it [01:17,  2.99it/s]"
     ]
    },
    {
     "name": "stdout",
     "output_type": "stream",
     "text": [
      "Id loss 0.7794\n",
      "D loss real: 1.0031\n",
      "D loss fake: 0.0041\n",
      "Ts loss 2.0480\n",
      "G loss :0.9972\n",
      "Feature loss :0.6459\n"
     ]
    },
    {
     "name": "stderr",
     "output_type": "stream",
     "text": [
      "241it [01:17,  3.08it/s]"
     ]
    },
    {
     "name": "stdout",
     "output_type": "stream",
     "text": [
      "[0/6] [240/538]\tLoss_dis: 0.5036\tLoss_gen: 23.1585\tD(x): 0.0031\tD(G(x)): 0.9959\n"
     ]
    },
    {
     "name": "stderr",
     "output_type": "stream",
     "text": [
      "300it [01:41,  2.25it/s]"
     ]
    },
    {
     "name": "stdout",
     "output_type": "stream",
     "text": [
      "Id loss 0.7279\n",
      "D loss real: 1.0034\n",
      "D loss fake: 0.0048\n",
      "Ts loss 2.0139\n",
      "G loss :0.9948\n",
      "Feature loss :0.7000\n"
     ]
    },
    {
     "name": "stderr",
     "output_type": "stream",
     "text": [
      "301it [01:42,  2.16it/s]"
     ]
    },
    {
     "name": "stdout",
     "output_type": "stream",
     "text": [
      "[0/6] [300/538]\tLoss_dis: 0.5041\tLoss_gen: 22.8979\tD(x): 0.0034\tD(G(x)): 0.9952\n"
     ]
    },
    {
     "name": "stderr",
     "output_type": "stream",
     "text": [
      "360it [02:01,  3.49it/s]"
     ]
    },
    {
     "name": "stdout",
     "output_type": "stream",
     "text": [
      "Id loss 0.6785\n",
      "D loss real: 1.0038\n",
      "D loss fake: 0.0046\n",
      "Ts loss 2.0154\n",
      "G loss :0.9940\n",
      "Feature loss :0.6360\n"
     ]
    },
    {
     "name": "stderr",
     "output_type": "stream",
     "text": [
      "361it [02:01,  3.25it/s]"
     ]
    },
    {
     "name": "stdout",
     "output_type": "stream",
     "text": [
      "[0/6] [360/538]\tLoss_dis: 0.5042\tLoss_gen: 22.7595\tD(x): 0.0038\tD(G(x)): 0.9954\n"
     ]
    },
    {
     "name": "stderr",
     "output_type": "stream",
     "text": [
      "420it [02:26,  2.52it/s]"
     ]
    },
    {
     "name": "stdout",
     "output_type": "stream",
     "text": [
      "Id loss 0.6321\n",
      "D loss real: 1.0025\n",
      "D loss fake: 0.0138\n",
      "Ts loss 1.9354\n",
      "G loss :0.9857\n",
      "Feature loss :0.5357\n"
     ]
    },
    {
     "name": "stderr",
     "output_type": "stream",
     "text": [
      "421it [02:27,  2.50it/s]"
     ]
    },
    {
     "name": "stdout",
     "output_type": "stream",
     "text": [
      "[0/6] [420/538]\tLoss_dis: 0.5082\tLoss_gen: 21.7271\tD(x): 0.0025\tD(G(x)): 0.9862\n"
     ]
    },
    {
     "name": "stderr",
     "output_type": "stream",
     "text": [
      "480it [02:48,  3.00it/s]"
     ]
    },
    {
     "name": "stdout",
     "output_type": "stream",
     "text": [
      "Id loss 0.5651\n",
      "D loss real: 1.0114\n",
      "D loss fake: 0.0310\n",
      "Ts loss 1.9829\n",
      "G loss :0.9676\n",
      "Feature loss :0.6675\n"
     ]
    },
    {
     "name": "stderr",
     "output_type": "stream",
     "text": [
      "481it [02:48,  3.11it/s]"
     ]
    },
    {
     "name": "stdout",
     "output_type": "stream",
     "text": [
      "[0/6] [480/538]\tLoss_dis: 0.5212\tLoss_gen: 22.4144\tD(x): 0.0114\tD(G(x)): 0.9690\n"
     ]
    },
    {
     "name": "stderr",
     "output_type": "stream",
     "text": [
      "539it [03:06,  2.89it/s]\n",
      "/tmp/ipykernel_5968/507361612.py:146: FutureWarning: The input object of type 'Tensor' is an array-like implementing one of the corresponding protocols (`__array__`, `__array_interface__` or `__array_struct__`); but not a sequence (or 0-D). In the future, this object will be coerced as if it was first converted using `np.array(obj)`. To retain the old behaviour, you have to either modify the type 'Tensor', or assign to an empty array created with `np.empty(correct_shape, dtype=object)`.\n",
      "  img_arr = np.array(img_lists, dtype=object)\n",
      "0it [00:00, ?it/s]"
     ]
    },
    {
     "name": "stdout",
     "output_type": "stream",
     "text": [
      "Id loss 0.5169\n",
      "D loss real: 1.0151\n",
      "D loss fake: 0.0371\n",
      "Ts loss 1.9112\n",
      "G loss :0.9666\n",
      "Feature loss :0.5482\n"
     ]
    },
    {
     "name": "stderr",
     "output_type": "stream",
     "text": [
      "1it [00:00,  1.71it/s]"
     ]
    },
    {
     "name": "stdout",
     "output_type": "stream",
     "text": [
      "[1/6] [0/538]\tLoss_dis: 0.5261\tLoss_gen: 21.4335\tD(x): 0.0151\tD(G(x)): 0.9629\n"
     ]
    },
    {
     "name": "stderr",
     "output_type": "stream",
     "text": [
      "60it [00:19,  3.36it/s]"
     ]
    },
    {
     "name": "stdout",
     "output_type": "stream",
     "text": [
      "Id loss 0.4567\n",
      "D loss real: 1.0413\n",
      "D loss fake: 0.0237\n",
      "Ts loss 1.9802\n",
      "G loss :0.9848\n",
      "Feature loss :0.5261\n"
     ]
    },
    {
     "name": "stderr",
     "output_type": "stream",
     "text": [
      "61it [00:19,  3.34it/s]"
     ]
    },
    {
     "name": "stdout",
     "output_type": "stream",
     "text": [
      "[1/6] [60/538]\tLoss_dis: 0.5325\tLoss_gen: 22.0674\tD(x): 0.0413\tD(G(x)): 0.9763\n"
     ]
    },
    {
     "name": "stderr",
     "output_type": "stream",
     "text": [
      "120it [00:39,  2.71it/s]"
     ]
    },
    {
     "name": "stdout",
     "output_type": "stream",
     "text": [
      "Id loss 0.4370\n",
      "D loss real: 1.0182\n",
      "D loss fake: 0.0208\n",
      "Ts loss 1.9336\n",
      "G loss :0.9870\n",
      "Feature loss :0.4526\n"
     ]
    },
    {
     "name": "stderr",
     "output_type": "stream",
     "text": [
      "121it [00:39,  2.62it/s]"
     ]
    },
    {
     "name": "stdout",
     "output_type": "stream",
     "text": [
      "[1/6] [120/538]\tLoss_dis: 0.5195\tLoss_gen: 21.4468\tD(x): 0.0182\tD(G(x)): 0.9792\n"
     ]
    },
    {
     "name": "stderr",
     "output_type": "stream",
     "text": [
      "180it [00:57,  3.19it/s]"
     ]
    },
    {
     "name": "stdout",
     "output_type": "stream",
     "text": [
      "Id loss 0.4008\n",
      "D loss real: 1.0265\n",
      "D loss fake: 0.0137\n",
      "Ts loss 1.8666\n",
      "G loss :0.9910\n",
      "Feature loss :0.5344\n"
     ]
    },
    {
     "name": "stderr",
     "output_type": "stream",
     "text": [
      "181it [00:58,  3.13it/s]"
     ]
    },
    {
     "name": "stdout",
     "output_type": "stream",
     "text": [
      "[1/6] [180/538]\tLoss_dis: 0.5201\tLoss_gen: 20.9257\tD(x): 0.0265\tD(G(x)): 0.9863\n"
     ]
    },
    {
     "name": "stderr",
     "output_type": "stream",
     "text": [
      "240it [01:18,  3.43it/s]"
     ]
    },
    {
     "name": "stdout",
     "output_type": "stream",
     "text": [
      "Id loss 0.3834\n",
      "D loss real: 1.0960\n",
      "D loss fake: 0.0175\n",
      "Ts loss 1.8771\n",
      "G loss :0.9875\n",
      "Feature loss :0.5468\n"
     ]
    },
    {
     "name": "stderr",
     "output_type": "stream",
     "text": [
      "241it [01:18,  3.41it/s]"
     ]
    },
    {
     "name": "stdout",
     "output_type": "stream",
     "text": [
      "[1/6] [240/538]\tLoss_dis: 0.5567\tLoss_gen: 21.0438\tD(x): 0.0960\tD(G(x)): 0.9825\n"
     ]
    },
    {
     "name": "stderr",
     "output_type": "stream",
     "text": [
      "300it [01:37,  3.49it/s]"
     ]
    },
    {
     "name": "stdout",
     "output_type": "stream",
     "text": [
      "Id loss 0.3578\n",
      "D loss real: 1.0529\n",
      "D loss fake: 0.0096\n",
      "Ts loss 1.8736\n",
      "G loss :0.9879\n",
      "Feature loss :0.5410\n"
     ]
    },
    {
     "name": "stderr",
     "output_type": "stream",
     "text": [
      "301it [01:38,  3.45it/s]"
     ]
    },
    {
     "name": "stdout",
     "output_type": "stream",
     "text": [
      "[1/6] [300/538]\tLoss_dis: 0.5312\tLoss_gen: 20.9845\tD(x): 0.0529\tD(G(x)): 0.9904\n"
     ]
    },
    {
     "name": "stderr",
     "output_type": "stream",
     "text": [
      "360it [01:58,  2.76it/s]"
     ]
    },
    {
     "name": "stdout",
     "output_type": "stream",
     "text": [
      "Id loss 0.3539\n",
      "D loss real: 1.0135\n",
      "D loss fake: 0.0150\n",
      "Ts loss 1.8623\n",
      "G loss :0.9803\n",
      "Feature loss :0.5031\n"
     ]
    },
    {
     "name": "stderr",
     "output_type": "stream",
     "text": [
      "361it [01:58,  2.69it/s]"
     ]
    },
    {
     "name": "stdout",
     "output_type": "stream",
     "text": [
      "[1/6] [360/538]\tLoss_dis: 0.5143\tLoss_gen: 20.7860\tD(x): 0.0135\tD(G(x)): 0.9850\n"
     ]
    },
    {
     "name": "stderr",
     "output_type": "stream",
     "text": [
      "420it [02:16,  3.30it/s]"
     ]
    },
    {
     "name": "stdout",
     "output_type": "stream",
     "text": [
      "Id loss 0.3362\n",
      "D loss real: 1.0442\n",
      "D loss fake: 0.0134\n",
      "Ts loss 1.9167\n",
      "G loss :0.9842\n",
      "Feature loss :0.4188\n"
     ]
    },
    {
     "name": "stderr",
     "output_type": "stream",
     "text": [
      "421it [02:16,  3.26it/s]"
     ]
    },
    {
     "name": "stdout",
     "output_type": "stream",
     "text": [
      "[1/6] [420/538]\tLoss_dis: 0.5288\tLoss_gen: 21.1570\tD(x): 0.0442\tD(G(x)): 0.9866\n"
     ]
    },
    {
     "name": "stderr",
     "output_type": "stream",
     "text": [
      "480it [02:35,  3.15it/s]"
     ]
    },
    {
     "name": "stdout",
     "output_type": "stream",
     "text": [
      "Id loss 0.3354\n",
      "D loss real: 1.0018\n",
      "D loss fake: 0.0252\n",
      "Ts loss 1.8587\n",
      "G loss :0.9626\n",
      "Feature loss :0.3656\n"
     ]
    },
    {
     "name": "stderr",
     "output_type": "stream",
     "text": [
      "481it [02:35,  3.07it/s]"
     ]
    },
    {
     "name": "stdout",
     "output_type": "stream",
     "text": [
      "[1/6] [480/538]\tLoss_dis: 0.5135\tLoss_gen: 20.4490\tD(x): 0.0018\tD(G(x)): 0.9748\n"
     ]
    },
    {
     "name": "stderr",
     "output_type": "stream",
     "text": [
      "539it [02:54,  3.09it/s]\n",
      "0it [00:00, ?it/s]"
     ]
    },
    {
     "name": "stdout",
     "output_type": "stream",
     "text": [
      "Id loss 0.3195\n",
      "D loss real: 1.0023\n",
      "D loss fake: 0.0156\n",
      "Ts loss 1.8819\n",
      "G loss :0.9814\n",
      "Feature loss :0.4485\n"
     ]
    },
    {
     "name": "stderr",
     "output_type": "stream",
     "text": [
      "1it [00:00,  2.40it/s]"
     ]
    },
    {
     "name": "stdout",
     "output_type": "stream",
     "text": [
      "[2/6] [0/538]\tLoss_dis: 0.5090\tLoss_gen: 20.8569\tD(x): 0.0023\tD(G(x)): 0.9844\n"
     ]
    },
    {
     "name": "stderr",
     "output_type": "stream",
     "text": [
      "60it [00:18,  3.26it/s]"
     ]
    },
    {
     "name": "stdout",
     "output_type": "stream",
     "text": [
      "Id loss 0.3022\n",
      "D loss real: 1.0064\n",
      "D loss fake: 0.0168\n",
      "Ts loss 1.8864\n",
      "G loss :0.9785\n",
      "Feature loss :0.4434\n"
     ]
    },
    {
     "name": "stderr",
     "output_type": "stream",
     "text": [
      "61it [00:18,  3.22it/s]"
     ]
    },
    {
     "name": "stdout",
     "output_type": "stream",
     "text": [
      "[2/6] [60/538]\tLoss_dis: 0.5116\tLoss_gen: 20.8804\tD(x): 0.0064\tD(G(x)): 0.9832\n"
     ]
    },
    {
     "name": "stderr",
     "output_type": "stream",
     "text": [
      "120it [00:39,  2.99it/s]"
     ]
    },
    {
     "name": "stdout",
     "output_type": "stream",
     "text": [
      "Id loss 0.2889\n",
      "D loss real: 1.0687\n",
      "D loss fake: 0.0200\n",
      "Ts loss 1.8501\n",
      "G loss :0.9661\n",
      "Feature loss :0.6367\n"
     ]
    },
    {
     "name": "stderr",
     "output_type": "stream",
     "text": [
      "121it [00:39,  3.00it/s]"
     ]
    },
    {
     "name": "stdout",
     "output_type": "stream",
     "text": [
      "[2/6] [120/538]\tLoss_dis: 0.5443\tLoss_gen: 20.8853\tD(x): 0.0687\tD(G(x)): 0.9800\n"
     ]
    },
    {
     "name": "stderr",
     "output_type": "stream",
     "text": [
      "180it [00:59,  3.60it/s]"
     ]
    },
    {
     "name": "stdout",
     "output_type": "stream",
     "text": [
      "Id loss 0.2944\n",
      "D loss real: 1.0174\n",
      "D loss fake: 0.0113\n",
      "Ts loss 1.8870\n",
      "G loss :0.9949\n",
      "Feature loss :0.5150\n"
     ]
    },
    {
     "name": "stderr",
     "output_type": "stream",
     "text": [
      "181it [00:59,  3.62it/s]"
     ]
    },
    {
     "name": "stdout",
     "output_type": "stream",
     "text": [
      "[2/6] [180/538]\tLoss_dis: 0.5144\tLoss_gen: 21.0426\tD(x): 0.0174\tD(G(x)): 0.9887\n"
     ]
    },
    {
     "name": "stderr",
     "output_type": "stream",
     "text": [
      "240it [01:18,  3.27it/s]"
     ]
    },
    {
     "name": "stdout",
     "output_type": "stream",
     "text": [
      "Id loss 0.2980\n",
      "D loss real: 1.0026\n",
      "D loss fake: 0.0048\n",
      "Ts loss 1.8227\n",
      "G loss :0.9930\n",
      "Feature loss :0.4965\n"
     ]
    },
    {
     "name": "stderr",
     "output_type": "stream",
     "text": [
      "241it [01:18,  3.31it/s]"
     ]
    },
    {
     "name": "stdout",
     "output_type": "stream",
     "text": [
      "[2/6] [240/538]\tLoss_dis: 0.5037\tLoss_gen: 20.3624\tD(x): 0.0026\tD(G(x)): 0.9952\n"
     ]
    },
    {
     "name": "stderr",
     "output_type": "stream",
     "text": [
      "300it [01:37,  2.93it/s]"
     ]
    },
    {
     "name": "stdout",
     "output_type": "stream",
     "text": [
      "Id loss 0.2993\n",
      "D loss real: 1.0004\n",
      "D loss fake: 0.0012\n",
      "Ts loss 1.8979\n",
      "G loss :0.9982\n",
      "Feature loss :0.3810\n"
     ]
    },
    {
     "name": "stderr",
     "output_type": "stream",
     "text": [
      "301it [01:38,  3.04it/s]"
     ]
    },
    {
     "name": "stdout",
     "output_type": "stream",
     "text": [
      "[2/6] [300/538]\tLoss_dis: 0.5008\tLoss_gen: 20.8885\tD(x): 0.0004\tD(G(x)): 0.9988\n"
     ]
    },
    {
     "name": "stderr",
     "output_type": "stream",
     "text": [
      "360it [01:55,  2.87it/s]"
     ]
    },
    {
     "name": "stdout",
     "output_type": "stream",
     "text": [
      "Id loss 0.2828\n",
      "D loss real: 1.0208\n",
      "D loss fake: 0.0033\n",
      "Ts loss 1.8323\n",
      "G loss :0.9975\n",
      "Feature loss :0.5045\n"
     ]
    },
    {
     "name": "stderr",
     "output_type": "stream",
     "text": [
      "361it [01:56,  2.62it/s]"
     ]
    },
    {
     "name": "stdout",
     "output_type": "stream",
     "text": [
      "[2/6] [360/538]\tLoss_dis: 0.5121\tLoss_gen: 20.4704\tD(x): 0.0208\tD(G(x)): 0.9967\n"
     ]
    },
    {
     "name": "stderr",
     "output_type": "stream",
     "text": [
      "420it [02:14,  3.39it/s]"
     ]
    },
    {
     "name": "stdout",
     "output_type": "stream",
     "text": [
      "Id loss 0.2893\n",
      "D loss real: 1.0013\n",
      "D loss fake: 0.0049\n",
      "Ts loss 1.8864\n",
      "G loss :0.9974\n",
      "Feature loss :0.3752\n"
     ]
    },
    {
     "name": "stderr",
     "output_type": "stream",
     "text": [
      "421it [02:14,  3.40it/s]"
     ]
    },
    {
     "name": "stdout",
     "output_type": "stream",
     "text": [
      "[2/6] [420/538]\tLoss_dis: 0.5031\tLoss_gen: 20.7561\tD(x): 0.0013\tD(G(x)): 0.9951\n"
     ]
    },
    {
     "name": "stderr",
     "output_type": "stream",
     "text": [
      "480it [02:34,  3.20it/s]"
     ]
    },
    {
     "name": "stdout",
     "output_type": "stream",
     "text": [
      "Id loss 0.2864\n",
      "D loss real: 1.0212\n",
      "D loss fake: 0.0033\n",
      "Ts loss 1.8267\n",
      "G loss :0.9976\n",
      "Feature loss :0.4438\n"
     ]
    },
    {
     "name": "stderr",
     "output_type": "stream",
     "text": [
      "481it [02:35,  3.11it/s]"
     ]
    },
    {
     "name": "stdout",
     "output_type": "stream",
     "text": [
      "[2/6] [480/538]\tLoss_dis: 0.5123\tLoss_gen: 20.2952\tD(x): 0.0212\tD(G(x)): 0.9967\n"
     ]
    },
    {
     "name": "stderr",
     "output_type": "stream",
     "text": [
      "539it [02:54,  3.08it/s]\n",
      "0it [00:00, ?it/s]"
     ]
    },
    {
     "name": "stdout",
     "output_type": "stream",
     "text": [
      "Id loss 0.2895\n",
      "D loss real: 1.0062\n",
      "D loss fake: 0.0161\n",
      "Ts loss 2.0212\n",
      "G loss :0.9936\n",
      "Feature loss :0.3942\n"
     ]
    },
    {
     "name": "stderr",
     "output_type": "stream",
     "text": [
      "1it [00:00,  2.79it/s]"
     ]
    },
    {
     "name": "stdout",
     "output_type": "stream",
     "text": [
      "[3/6] [0/538]\tLoss_dis: 0.5111\tLoss_gen: 22.1391\tD(x): 0.0062\tD(G(x)): 0.9839\n"
     ]
    },
    {
     "name": "stderr",
     "output_type": "stream",
     "text": [
      "60it [00:20,  3.33it/s]"
     ]
    },
    {
     "name": "stdout",
     "output_type": "stream",
     "text": [
      "Id loss 0.2870\n",
      "D loss real: 1.0007\n",
      "D loss fake: 0.0014\n",
      "Ts loss 1.8455\n",
      "G loss :0.9970\n",
      "Feature loss :0.4383\n"
     ]
    },
    {
     "name": "stderr",
     "output_type": "stream",
     "text": [
      "61it [00:20,  3.28it/s]"
     ]
    },
    {
     "name": "stdout",
     "output_type": "stream",
     "text": [
      "[3/6] [60/538]\tLoss_dis: 0.5010\tLoss_gen: 20.4720\tD(x): 0.0007\tD(G(x)): 0.9986\n"
     ]
    },
    {
     "name": "stderr",
     "output_type": "stream",
     "text": [
      "120it [00:38,  3.37it/s]"
     ]
    },
    {
     "name": "stdout",
     "output_type": "stream",
     "text": [
      "Id loss 0.2783\n",
      "D loss real: 1.0173\n",
      "D loss fake: 0.0081\n",
      "Ts loss 1.9420\n",
      "G loss :0.9971\n",
      "Feature loss :0.4878\n"
     ]
    },
    {
     "name": "stderr",
     "output_type": "stream",
     "text": [
      "121it [00:38,  3.30it/s]"
     ]
    },
    {
     "name": "stdout",
     "output_type": "stream",
     "text": [
      "[3/6] [120/538]\tLoss_dis: 0.5127\tLoss_gen: 21.5317\tD(x): 0.0173\tD(G(x)): 0.9919\n"
     ]
    },
    {
     "name": "stderr",
     "output_type": "stream",
     "text": [
      "180it [00:57,  3.18it/s]"
     ]
    },
    {
     "name": "stdout",
     "output_type": "stream",
     "text": [
      "Id loss 0.2637\n",
      "D loss real: 1.1072\n",
      "D loss fake: 0.0036\n",
      "Ts loss 1.8795\n",
      "G loss :0.9989\n",
      "Feature loss :0.6013\n"
     ]
    },
    {
     "name": "stderr",
     "output_type": "stream",
     "text": [
      "181it [00:57,  3.12it/s]"
     ]
    },
    {
     "name": "stdout",
     "output_type": "stream",
     "text": [
      "[3/6] [180/538]\tLoss_dis: 0.5554\tLoss_gen: 21.1287\tD(x): 0.1072\tD(G(x)): 0.9964\n"
     ]
    },
    {
     "name": "stderr",
     "output_type": "stream",
     "text": [
      "240it [01:16,  2.88it/s]"
     ]
    },
    {
     "name": "stdout",
     "output_type": "stream",
     "text": [
      "Id loss 0.2803\n",
      "D loss real: 1.0045\n",
      "D loss fake: 0.0010\n",
      "Ts loss 1.9605\n",
      "G loss :0.9983\n",
      "Feature loss :0.5359\n"
     ]
    },
    {
     "name": "stderr",
     "output_type": "stream",
     "text": [
      "241it [01:17,  2.95it/s]"
     ]
    },
    {
     "name": "stdout",
     "output_type": "stream",
     "text": [
      "[3/6] [240/538]\tLoss_dis: 0.5027\tLoss_gen: 21.8152\tD(x): 0.0045\tD(G(x)): 0.9990\n"
     ]
    },
    {
     "name": "stderr",
     "output_type": "stream",
     "text": [
      "300it [01:36,  2.51it/s]"
     ]
    },
    {
     "name": "stdout",
     "output_type": "stream",
     "text": [
      "Id loss 0.2850\n",
      "D loss real: 1.0013\n",
      "D loss fake: 0.0005\n",
      "Ts loss 1.8154\n",
      "G loss :0.9958\n",
      "Feature loss :0.6681\n"
     ]
    },
    {
     "name": "stderr",
     "output_type": "stream",
     "text": [
      "301it [01:36,  2.44it/s]"
     ]
    },
    {
     "name": "stdout",
     "output_type": "stream",
     "text": [
      "[3/6] [300/538]\tLoss_dis: 0.5009\tLoss_gen: 20.6283\tD(x): 0.0013\tD(G(x)): 0.9995\n"
     ]
    },
    {
     "name": "stderr",
     "output_type": "stream",
     "text": [
      "360it [01:54,  2.79it/s]"
     ]
    },
    {
     "name": "stdout",
     "output_type": "stream",
     "text": [
      "Id loss 0.2821\n",
      "D loss real: 1.0302\n",
      "D loss fake: 0.0051\n",
      "Ts loss 1.8761\n",
      "G loss :0.9954\n",
      "Feature loss :0.4657\n"
     ]
    },
    {
     "name": "stderr",
     "output_type": "stream",
     "text": [
      "361it [01:54,  2.68it/s]"
     ]
    },
    {
     "name": "stdout",
     "output_type": "stream",
     "text": [
      "[3/6] [360/538]\tLoss_dis: 0.5176\tLoss_gen: 20.8290\tD(x): 0.0302\tD(G(x)): 0.9949\n"
     ]
    },
    {
     "name": "stderr",
     "output_type": "stream",
     "text": [
      "420it [02:13,  3.44it/s]"
     ]
    },
    {
     "name": "stdout",
     "output_type": "stream",
     "text": [
      "Id loss 0.2833\n",
      "D loss real: 1.0008\n",
      "D loss fake: 0.0040\n",
      "Ts loss 1.8751\n",
      "G loss :0.9969\n",
      "Feature loss :0.5002\n"
     ]
    },
    {
     "name": "stderr",
     "output_type": "stream",
     "text": [
      "421it [02:13,  3.24it/s]"
     ]
    },
    {
     "name": "stdout",
     "output_type": "stream",
     "text": [
      "[3/6] [420/538]\tLoss_dis: 0.5024\tLoss_gen: 20.8896\tD(x): 0.0008\tD(G(x)): 0.9960\n"
     ]
    },
    {
     "name": "stderr",
     "output_type": "stream",
     "text": [
      "480it [02:31,  3.43it/s]"
     ]
    },
    {
     "name": "stdout",
     "output_type": "stream",
     "text": [
      "Id loss 0.2914\n",
      "D loss real: 1.0003\n",
      "D loss fake: 0.0030\n",
      "Ts loss 2.0011\n",
      "G loss :0.9973\n",
      "Feature loss :0.4077\n"
     ]
    },
    {
     "name": "stderr",
     "output_type": "stream",
     "text": [
      "481it [02:31,  3.08it/s]"
     ]
    },
    {
     "name": "stdout",
     "output_type": "stream",
     "text": [
      "[3/6] [480/538]\tLoss_dis: 0.5017\tLoss_gen: 21.9695\tD(x): 0.0003\tD(G(x)): 0.9970\n"
     ]
    },
    {
     "name": "stderr",
     "output_type": "stream",
     "text": [
      "539it [02:49,  3.17it/s]\n",
      "0it [00:00, ?it/s]"
     ]
    },
    {
     "name": "stdout",
     "output_type": "stream",
     "text": [
      "Id loss 0.2854\n",
      "D loss real: 1.0338\n",
      "D loss fake: 0.0030\n",
      "Ts loss 1.8297\n",
      "G loss :0.9973\n",
      "Feature loss :0.4527\n"
     ]
    },
    {
     "name": "stderr",
     "output_type": "stream",
     "text": [
      "1it [00:00,  2.48it/s]"
     ]
    },
    {
     "name": "stdout",
     "output_type": "stream",
     "text": [
      "[4/6] [0/538]\tLoss_dis: 0.5184\tLoss_gen: 20.3422\tD(x): 0.0338\tD(G(x)): 0.9970\n"
     ]
    },
    {
     "name": "stderr",
     "output_type": "stream",
     "text": [
      "60it [00:17,  2.74it/s]"
     ]
    },
    {
     "name": "stdout",
     "output_type": "stream",
     "text": [
      "Id loss 0.2837\n",
      "D loss real: 1.0006\n",
      "D loss fake: 0.0077\n",
      "Ts loss 1.8871\n",
      "G loss :0.9983\n",
      "Feature loss :0.5724\n"
     ]
    },
    {
     "name": "stderr",
     "output_type": "stream",
     "text": [
      "61it [00:18,  2.64it/s]"
     ]
    },
    {
     "name": "stdout",
     "output_type": "stream",
     "text": [
      "[4/6] [60/538]\tLoss_dis: 0.5042\tLoss_gen: 21.1556\tD(x): 0.0006\tD(G(x)): 0.9923\n"
     ]
    },
    {
     "name": "stderr",
     "output_type": "stream",
     "text": [
      "120it [00:35,  3.07it/s]"
     ]
    },
    {
     "name": "stdout",
     "output_type": "stream",
     "text": [
      "Id loss 0.2860\n",
      "D loss real: 1.0031\n",
      "D loss fake: 0.0010\n",
      "Ts loss 1.8902\n",
      "G loss :0.9983\n",
      "Feature loss :0.4881\n"
     ]
    },
    {
     "name": "stderr",
     "output_type": "stream",
     "text": [
      "121it [00:36,  2.63it/s]"
     ]
    },
    {
     "name": "stdout",
     "output_type": "stream",
     "text": [
      "[4/6] [120/538]\tLoss_dis: 0.5020\tLoss_gen: 21.0197\tD(x): 0.0031\tD(G(x)): 0.9990\n"
     ]
    },
    {
     "name": "stderr",
     "output_type": "stream",
     "text": [
      "180it [00:54,  3.58it/s]"
     ]
    },
    {
     "name": "stdout",
     "output_type": "stream",
     "text": [
      "Id loss 0.2810\n",
      "D loss real: 1.0009\n",
      "D loss fake: 0.0020\n",
      "Ts loss 1.8869\n",
      "G loss :0.9985\n",
      "Feature loss :0.4751\n"
     ]
    },
    {
     "name": "stderr",
     "output_type": "stream",
     "text": [
      "181it [00:54,  3.53it/s]"
     ]
    },
    {
     "name": "stdout",
     "output_type": "stream",
     "text": [
      "[4/6] [180/538]\tLoss_dis: 0.5014\tLoss_gen: 20.9585\tD(x): 0.0009\tD(G(x)): 0.9980\n"
     ]
    },
    {
     "name": "stderr",
     "output_type": "stream",
     "text": [
      "240it [01:15,  3.56it/s]"
     ]
    },
    {
     "name": "stdout",
     "output_type": "stream",
     "text": [
      "Id loss 0.2870\n",
      "D loss real: 1.0011\n",
      "D loss fake: 0.0006\n",
      "Ts loss 1.9089\n",
      "G loss :0.9991\n",
      "Feature loss :0.4208\n"
     ]
    },
    {
     "name": "stderr",
     "output_type": "stream",
     "text": [
      "241it [01:15,  3.62it/s]"
     ]
    },
    {
     "name": "stdout",
     "output_type": "stream",
     "text": [
      "[4/6] [240/538]\tLoss_dis: 0.5008\tLoss_gen: 21.0732\tD(x): 0.0011\tD(G(x)): 0.9994\n"
     ]
    },
    {
     "name": "stderr",
     "output_type": "stream",
     "text": [
      "300it [01:32,  2.75it/s]"
     ]
    },
    {
     "name": "stdout",
     "output_type": "stream",
     "text": [
      "Id loss 0.2896\n",
      "D loss real: 1.0001\n",
      "D loss fake: 0.0030\n",
      "Ts loss 1.8372\n",
      "G loss :0.9974\n",
      "Feature loss :0.3993\n"
     ]
    },
    {
     "name": "stderr",
     "output_type": "stream",
     "text": [
      "301it [01:33,  2.73it/s]"
     ]
    },
    {
     "name": "stdout",
     "output_type": "stream",
     "text": [
      "[4/6] [300/538]\tLoss_dis: 0.5015\tLoss_gen: 20.3127\tD(x): 0.0001\tD(G(x)): 0.9970\n"
     ]
    },
    {
     "name": "stderr",
     "output_type": "stream",
     "text": [
      "360it [01:49,  3.54it/s]"
     ]
    },
    {
     "name": "stdout",
     "output_type": "stream",
     "text": [
      "Id loss 0.2787\n",
      "D loss real: 1.0048\n",
      "D loss fake: 0.0002\n",
      "Ts loss 1.9433\n",
      "G loss :0.9997\n",
      "Feature loss :0.5190\n"
     ]
    },
    {
     "name": "stderr",
     "output_type": "stream",
     "text": [
      "361it [01:50,  3.22it/s]"
     ]
    },
    {
     "name": "stdout",
     "output_type": "stream",
     "text": [
      "[4/6] [360/538]\tLoss_dis: 0.5025\tLoss_gen: 21.6103\tD(x): 0.0048\tD(G(x)): 0.9998\n"
     ]
    },
    {
     "name": "stderr",
     "output_type": "stream",
     "text": [
      "420it [02:07,  3.48it/s]"
     ]
    },
    {
     "name": "stdout",
     "output_type": "stream",
     "text": [
      "Id loss 0.2912\n",
      "D loss real: 1.0008\n",
      "D loss fake: 0.0034\n",
      "Ts loss 1.8481\n",
      "G loss :0.9989\n",
      "Feature loss :0.5412\n"
     ]
    },
    {
     "name": "stderr",
     "output_type": "stream",
     "text": [
      "421it [02:08,  3.49it/s]"
     ]
    },
    {
     "name": "stdout",
     "output_type": "stream",
     "text": [
      "[4/6] [420/538]\tLoss_dis: 0.5021\tLoss_gen: 20.7076\tD(x): 0.0008\tD(G(x)): 0.9966\n"
     ]
    },
    {
     "name": "stderr",
     "output_type": "stream",
     "text": [
      "480it [02:27,  3.67it/s]"
     ]
    },
    {
     "name": "stdout",
     "output_type": "stream",
     "text": [
      "Id loss 0.2887\n",
      "D loss real: 1.0002\n",
      "D loss fake: 0.0103\n",
      "Ts loss 1.8586\n",
      "G loss :0.9790\n",
      "Feature loss :0.2763\n"
     ]
    },
    {
     "name": "stderr",
     "output_type": "stream",
     "text": [
      "481it [02:27,  3.61it/s]"
     ]
    },
    {
     "name": "stdout",
     "output_type": "stream",
     "text": [
      "[4/6] [480/538]\tLoss_dis: 0.5053\tLoss_gen: 20.2624\tD(x): 0.0002\tD(G(x)): 0.9897\n"
     ]
    },
    {
     "name": "stderr",
     "output_type": "stream",
     "text": [
      "539it [02:46,  3.24it/s]\n",
      "0it [00:00, ?it/s]"
     ]
    },
    {
     "name": "stdout",
     "output_type": "stream",
     "text": [
      "Id loss 0.2826\n",
      "D loss real: 1.0003\n",
      "D loss fake: 0.0029\n",
      "Ts loss 1.9417\n",
      "G loss :0.9957\n",
      "Feature loss :0.4522\n"
     ]
    },
    {
     "name": "stderr",
     "output_type": "stream",
     "text": [
      "1it [00:00,  2.93it/s]"
     ]
    },
    {
     "name": "stdout",
     "output_type": "stream",
     "text": [
      "[5/6] [0/538]\tLoss_dis: 0.5016\tLoss_gen: 21.4580\tD(x): 0.0003\tD(G(x)): 0.9971\n"
     ]
    },
    {
     "name": "stderr",
     "output_type": "stream",
     "text": [
      "60it [00:17,  2.97it/s]"
     ]
    },
    {
     "name": "stdout",
     "output_type": "stream",
     "text": [
      "Id loss 0.2737\n",
      "D loss real: 1.0151\n",
      "D loss fake: 0.0048\n",
      "Ts loss 1.8205\n",
      "G loss :0.9984\n",
      "Feature loss :0.5110\n"
     ]
    },
    {
     "name": "stderr",
     "output_type": "stream",
     "text": [
      "61it [00:18,  3.15it/s]"
     ]
    },
    {
     "name": "stdout",
     "output_type": "stream",
     "text": [
      "[5/6] [60/538]\tLoss_dis: 0.5100\tLoss_gen: 20.3627\tD(x): 0.0151\tD(G(x)): 0.9952\n"
     ]
    },
    {
     "name": "stderr",
     "output_type": "stream",
     "text": [
      "120it [00:36,  2.67it/s]"
     ]
    },
    {
     "name": "stdout",
     "output_type": "stream",
     "text": [
      "Id loss 0.2939\n",
      "D loss real: 1.0000\n",
      "D loss fake: 0.0025\n",
      "Ts loss 1.8760\n",
      "G loss :0.9961\n",
      "Feature loss :0.3564\n"
     ]
    },
    {
     "name": "stderr",
     "output_type": "stream",
     "text": [
      "121it [00:36,  2.65it/s]"
     ]
    },
    {
     "name": "stdout",
     "output_type": "stream",
     "text": [
      "[5/6] [120/538]\tLoss_dis: 0.5013\tLoss_gen: 20.6155\tD(x): 0.0000\tD(G(x)): 0.9975\n"
     ]
    },
    {
     "name": "stderr",
     "output_type": "stream",
     "text": [
      "180it [00:54,  3.63it/s]"
     ]
    },
    {
     "name": "stdout",
     "output_type": "stream",
     "text": [
      "Id loss 0.2850\n",
      "D loss real: 1.0002\n",
      "D loss fake: 0.0020\n",
      "Ts loss 1.8262\n",
      "G loss :0.9976\n",
      "Feature loss :0.5719\n"
     ]
    },
    {
     "name": "stderr",
     "output_type": "stream",
     "text": [
      "181it [00:55,  3.54it/s]"
     ]
    },
    {
     "name": "stdout",
     "output_type": "stream",
     "text": [
      "[5/6] [180/538]\tLoss_dis: 0.5011\tLoss_gen: 20.5462\tD(x): 0.0002\tD(G(x)): 0.9980\n"
     ]
    },
    {
     "name": "stderr",
     "output_type": "stream",
     "text": [
      "240it [01:13,  3.39it/s]"
     ]
    },
    {
     "name": "stdout",
     "output_type": "stream",
     "text": [
      "Id loss 0.2894\n",
      "D loss real: 1.0002\n",
      "D loss fake: 0.0012\n",
      "Ts loss 1.8459\n",
      "G loss :0.9987\n",
      "Feature loss :0.4515\n"
     ]
    },
    {
     "name": "stderr",
     "output_type": "stream",
     "text": [
      "241it [01:14,  3.27it/s]"
     ]
    },
    {
     "name": "stdout",
     "output_type": "stream",
     "text": [
      "[5/6] [240/538]\tLoss_dis: 0.5007\tLoss_gen: 20.5051\tD(x): 0.0002\tD(G(x)): 0.9988\n"
     ]
    },
    {
     "name": "stderr",
     "output_type": "stream",
     "text": [
      "300it [01:31,  3.56it/s]"
     ]
    },
    {
     "name": "stdout",
     "output_type": "stream",
     "text": [
      "Id loss 0.2739\n",
      "D loss real: 1.0385\n",
      "D loss fake: 0.0016\n",
      "Ts loss 1.8231\n",
      "G loss :0.9980\n",
      "Feature loss :0.5718\n"
     ]
    },
    {
     "name": "stderr",
     "output_type": "stream",
     "text": [
      "301it [01:31,  3.43it/s]"
     ]
    },
    {
     "name": "stdout",
     "output_type": "stream",
     "text": [
      "[5/6] [300/538]\tLoss_dis: 0.5201\tLoss_gen: 20.5093\tD(x): 0.0385\tD(G(x)): 0.9984\n"
     ]
    },
    {
     "name": "stderr",
     "output_type": "stream",
     "text": [
      "360it [01:52,  3.40it/s]"
     ]
    },
    {
     "name": "stdout",
     "output_type": "stream",
     "text": [
      "Id loss 0.2898\n",
      "D loss real: 1.0004\n",
      "D loss fake: 0.0007\n",
      "Ts loss 1.9026\n",
      "G loss :0.9989\n",
      "Feature loss :0.4761\n"
     ]
    },
    {
     "name": "stderr",
     "output_type": "stream",
     "text": [
      "361it [01:52,  3.34it/s]"
     ]
    },
    {
     "name": "stdout",
     "output_type": "stream",
     "text": [
      "[5/6] [360/538]\tLoss_dis: 0.5005\tLoss_gen: 21.1220\tD(x): 0.0004\tD(G(x)): 0.9993\n"
     ]
    },
    {
     "name": "stderr",
     "output_type": "stream",
     "text": [
      "420it [02:09,  3.56it/s]"
     ]
    },
    {
     "name": "stdout",
     "output_type": "stream",
     "text": [
      "Id loss 0.2949\n",
      "D loss real: 1.0000\n",
      "D loss fake: 0.0009\n",
      "Ts loss 1.8453\n",
      "G loss :0.9991\n",
      "Feature loss :0.3968\n"
     ]
    },
    {
     "name": "stderr",
     "output_type": "stream",
     "text": [
      "421it [02:09,  3.55it/s]"
     ]
    },
    {
     "name": "stdout",
     "output_type": "stream",
     "text": [
      "[5/6] [420/538]\tLoss_dis: 0.5005\tLoss_gen: 20.3929\tD(x): 0.0000\tD(G(x)): 0.9991\n"
     ]
    },
    {
     "name": "stderr",
     "output_type": "stream",
     "text": [
      "480it [02:26,  2.93it/s]"
     ]
    },
    {
     "name": "stdout",
     "output_type": "stream",
     "text": [
      "Id loss 0.2884\n",
      "D loss real: 1.0001\n",
      "D loss fake: 0.0425\n",
      "Ts loss 1.8689\n",
      "G loss :0.9818\n",
      "Feature loss :0.5096\n"
     ]
    },
    {
     "name": "stderr",
     "output_type": "stream",
     "text": [
      "481it [02:27,  2.92it/s]"
     ]
    },
    {
     "name": "stdout",
     "output_type": "stream",
     "text": [
      "[5/6] [480/538]\tLoss_dis: 0.5213\tLoss_gen: 20.8337\tD(x): 0.0001\tD(G(x)): 0.9575\n"
     ]
    },
    {
     "name": "stderr",
     "output_type": "stream",
     "text": [
      "539it [02:45,  3.26it/s]\n"
     ]
    },
    {
     "name": "stdout",
     "output_type": "stream",
     "text": [
      "Epoch 00006: reducing learning rate of group 0 to 2.0000e-05.\n"
     ]
    },
    {
     "name": "stderr",
     "output_type": "stream",
     "text": [
      "0it [00:00, ?it/s]"
     ]
    },
    {
     "name": "stdout",
     "output_type": "stream",
     "text": [
      "Id loss 0.2828\n",
      "D loss real: 1.0033\n",
      "D loss fake: 0.0022\n",
      "Ts loss 1.9365\n",
      "G loss :0.9975\n",
      "Feature loss :0.4263\n"
     ]
    },
    {
     "name": "stderr",
     "output_type": "stream",
     "text": [
      "1it [00:00,  2.86it/s]"
     ]
    },
    {
     "name": "stdout",
     "output_type": "stream",
     "text": [
      "[6/6] [0/538]\tLoss_dis: 0.5027\tLoss_gen: 21.3562\tD(x): 0.0033\tD(G(x)): 0.9978\n"
     ]
    },
    {
     "name": "stderr",
     "output_type": "stream",
     "text": [
      "60it [00:16,  3.55it/s]"
     ]
    },
    {
     "name": "stdout",
     "output_type": "stream",
     "text": [
      "Id loss 0.2932\n",
      "D loss real: 1.0004\n",
      "D loss fake: 0.0092\n",
      "Ts loss 1.8163\n",
      "G loss :0.9882\n",
      "Feature loss :0.3598\n"
     ]
    },
    {
     "name": "stderr",
     "output_type": "stream",
     "text": [
      "61it [00:16,  3.59it/s]"
     ]
    },
    {
     "name": "stdout",
     "output_type": "stream",
     "text": [
      "[6/6] [60/538]\tLoss_dis: 0.5048\tLoss_gen: 20.0177\tD(x): 0.0004\tD(G(x)): 0.9908\n"
     ]
    },
    {
     "name": "stderr",
     "output_type": "stream",
     "text": [
      "120it [00:34,  3.13it/s]"
     ]
    },
    {
     "name": "stdout",
     "output_type": "stream",
     "text": [
      "Id loss 0.2920\n",
      "D loss real: 1.0004\n",
      "D loss fake: 0.0008\n",
      "Ts loss 1.8626\n",
      "G loss :0.9970\n",
      "Feature loss :0.5070\n"
     ]
    },
    {
     "name": "stderr",
     "output_type": "stream",
     "text": [
      "121it [00:34,  2.96it/s]"
     ]
    },
    {
     "name": "stdout",
     "output_type": "stream",
     "text": [
      "[6/6] [120/538]\tLoss_dis: 0.5006\tLoss_gen: 20.7827\tD(x): 0.0004\tD(G(x)): 0.9992\n"
     ]
    },
    {
     "name": "stderr",
     "output_type": "stream",
     "text": [
      "180it [00:54,  3.21it/s]"
     ]
    },
    {
     "name": "stdout",
     "output_type": "stream",
     "text": [
      "Id loss 0.2870\n",
      "D loss real: 1.0018\n",
      "D loss fake: 0.0079\n",
      "Ts loss 1.9414\n",
      "G loss :0.9850\n",
      "Feature loss :0.3702\n"
     ]
    },
    {
     "name": "stderr",
     "output_type": "stream",
     "text": [
      "181it [00:54,  3.32it/s]"
     ]
    },
    {
     "name": "stdout",
     "output_type": "stream",
     "text": [
      "[6/6] [180/538]\tLoss_dis: 0.5049\tLoss_gen: 21.2827\tD(x): 0.0018\tD(G(x)): 0.9921\n"
     ]
    },
    {
     "name": "stderr",
     "output_type": "stream",
     "text": [
      "240it [01:12,  2.79it/s]"
     ]
    },
    {
     "name": "stdout",
     "output_type": "stream",
     "text": [
      "Id loss 0.2904\n",
      "D loss real: 1.0006\n",
      "D loss fake: 0.0036\n",
      "Ts loss 1.8234\n",
      "G loss :0.9980\n",
      "Feature loss :0.5354\n"
     ]
    },
    {
     "name": "stderr",
     "output_type": "stream",
     "text": [
      "241it [01:12,  2.78it/s]"
     ]
    },
    {
     "name": "stdout",
     "output_type": "stream",
     "text": [
      "[6/6] [240/538]\tLoss_dis: 0.5021\tLoss_gen: 20.4478\tD(x): 0.0006\tD(G(x)): 0.9964\n"
     ]
    },
    {
     "name": "stderr",
     "output_type": "stream",
     "text": [
      "300it [01:30,  3.33it/s]"
     ]
    },
    {
     "name": "stdout",
     "output_type": "stream",
     "text": [
      "Id loss 0.2864\n",
      "D loss real: 1.0320\n",
      "D loss fake: 0.0022\n",
      "Ts loss 1.8161\n",
      "G loss :0.9984\n",
      "Feature loss :0.4250\n"
     ]
    },
    {
     "name": "stderr",
     "output_type": "stream",
     "text": [
      "301it [01:30,  3.40it/s]"
     ]
    },
    {
     "name": "stdout",
     "output_type": "stream",
     "text": [
      "[6/6] [300/538]\tLoss_dis: 0.5171\tLoss_gen: 20.1530\tD(x): 0.0320\tD(G(x)): 0.9978\n"
     ]
    },
    {
     "name": "stderr",
     "output_type": "stream",
     "text": [
      "360it [01:48,  2.88it/s]"
     ]
    },
    {
     "name": "stdout",
     "output_type": "stream",
     "text": [
      "Id loss 0.2947\n",
      "D loss real: 1.0004\n",
      "D loss fake: 0.0005\n",
      "Ts loss 1.8591\n",
      "G loss :0.9995\n",
      "Feature loss :0.4360\n"
     ]
    },
    {
     "name": "stderr",
     "output_type": "stream",
     "text": [
      "361it [01:48,  3.01it/s]"
     ]
    },
    {
     "name": "stdout",
     "output_type": "stream",
     "text": [
      "[6/6] [360/538]\tLoss_dis: 0.5004\tLoss_gen: 20.6094\tD(x): 0.0004\tD(G(x)): 0.9995\n"
     ]
    },
    {
     "name": "stderr",
     "output_type": "stream",
     "text": [
      "420it [02:06,  2.90it/s]"
     ]
    },
    {
     "name": "stdout",
     "output_type": "stream",
     "text": [
      "Id loss 0.2900\n",
      "D loss real: 1.0009\n",
      "D loss fake: 0.0030\n",
      "Ts loss 1.8507\n",
      "G loss :0.9928\n",
      "Feature loss :0.3459\n"
     ]
    },
    {
     "name": "stderr",
     "output_type": "stream",
     "text": [
      "421it [02:06,  2.81it/s]"
     ]
    },
    {
     "name": "stdout",
     "output_type": "stream",
     "text": [
      "[6/6] [420/538]\tLoss_dis: 0.5019\tLoss_gen: 20.3363\tD(x): 0.0009\tD(G(x)): 0.9970\n"
     ]
    },
    {
     "name": "stderr",
     "output_type": "stream",
     "text": [
      "480it [02:27,  3.16it/s]"
     ]
    },
    {
     "name": "stdout",
     "output_type": "stream",
     "text": [
      "Id loss 0.3076\n",
      "D loss real: 1.0000\n",
      "D loss fake: 0.0097\n",
      "Ts loss 1.7176\n",
      "G loss :0.9965\n",
      "Feature loss :0.3259\n"
     ]
    },
    {
     "name": "stderr",
     "output_type": "stream",
     "text": [
      "481it [02:27,  3.31it/s]"
     ]
    },
    {
     "name": "stdout",
     "output_type": "stream",
     "text": [
      "[6/6] [480/538]\tLoss_dis: 0.5049\tLoss_gen: 18.9779\tD(x): 0.0000\tD(G(x)): 0.9903\n"
     ]
    },
    {
     "name": "stderr",
     "output_type": "stream",
     "text": [
      "539it [02:47,  3.22it/s]\n"
     ]
    }
   ],
   "source": [
    "for epoch in range(num_epochs):\n",
    "    g_total_loss = 0\n",
    "    d_total_loss = 0\n",
    "    dis_b = 0\n",
    "    dis_ab = 0\n",
    "\n",
    "    torch.autograd.set_detect_anomaly(True)\n",
    "    for i, (data_A, data_B) in tqdm(enumerate(zip(dataloader_A, dataloader_B))):\n",
    "\n",
    "        real_A = data_A[0].to(device)\n",
    "        real_B = data_B[0].to(device)\n",
    "        # data[0] sunt imaginile\n",
    "        # data[1] sunt labelurile\n",
    "\n",
    "        # A1, A2, A3, A4 = slice_images(real_A)\n",
    "        # B1, B2, B3, B4 = slice_images(real_B)\n",
    "        A1, A2 = slice_images(real_A)\n",
    "        B1, B2 = slice_images(real_B)\n",
    "\n",
    "        A_b_size = A1.size(0)  # batch size\n",
    "        B_b_size = B1.size(0)\n",
    "\n",
    "        # Training the discriminator\n",
    "        gen_A1 = generator(A1)\n",
    "        gen_A2 = generator(A2)\n",
    "        # gen_A3 = generator(A3)\n",
    "        # gen_A4 = generator(A4)\n",
    "        gen_B1 = generator(B1)\n",
    "        gen_B2 = generator(B2)\n",
    "        # gen_B3 = generator(B3)\n",
    "        # gen_B4 = generator(B4)\n",
    "\n",
    "        # identity mapping loss\n",
    "        # id_loss = (identity_loss(B1, gen_B1) + identity_loss(B2, gen_B2) +\n",
    "        #            identity_loss(B3, gen_B3) + identity_loss(B4, gen_B4)) / 2\n",
    "        id_loss = (identity_loss(B1, gen_B1) + identity_loss(B2, gen_B2)) / 2\n",
    "        if i % 60 == 0: print(f\"Id loss {id_loss:.4f}\")\n",
    "\n",
    "        #AB = assemble_images(gen_A1, gen_A2, gen_A3, gen_A4)\n",
    "        AB = assemble_images(gen_A1, gen_A2)\n",
    "\n",
    "        B_features = discriminator.get_intermediate_features(real_B)\n",
    "        AB_features = discriminator.get_intermediate_features(AB)\n",
    "\n",
    "\n",
    "        feature_matching_loss = 0\n",
    "        count = 0\n",
    "        for B_feat, AB_feat in zip(B_features, AB_features):\n",
    "            if B_feat.size() == AB_feat.size():\n",
    "                loss = feature_loss(AB_feat, B_feat.detach())\n",
    "                feature_matching_loss += loss\n",
    "                count += 1\n",
    "\n",
    "        if count != 0:\n",
    "            feature_matching_loss /= count\n",
    "\n",
    "        output_AB = discriminator(AB.detach()).view(-1)\n",
    "        output_B = discriminator(real_B).view(-1)\n",
    "        #if i % 60 == 0: print(output_AB, output_B)\n",
    "\n",
    "\n",
    "        label_fake = torch.full((B_b_size,), fake_label, dtype=torch.float, device=device)\n",
    "        zero = torch.full((B_b_size,), 0, dtype=torch.float, device=device)\n",
    "        #d_loss_real = adversarial_loss(output_B, label_real)\n",
    "        d_loss_real = torch.mean(torch.max(label_fake + output_B, zero))\n",
    "        if i % 60 == 0: print(f\"D loss real: {d_loss_real:.4f}\")\n",
    "\n",
    "        label_real = torch.full((A_b_size,), real_label, dtype=torch.float, device=device)\n",
    "        label_f = torch.full((A_b_size,), fake_label, dtype=torch.float, device=device)\n",
    "        zero = torch.full((A_b_size,), 0, dtype=torch.float, device=device)\n",
    "        #d_loss_fake = adversarial_loss(output_AB, label_fake)\n",
    "        d_loss_fake = torch.mean(torch.max(label_f - output_AB, zero))\n",
    "        if i % 60 == 0: print(f\"D loss fake: {d_loss_fake:.4f}\")\n",
    "        # Train siamese\n",
    "        siamese.zero_grad()\n",
    "        siamese_AB1 = siamese(gen_A1)\n",
    "        siamese_AB2 = siamese(gen_A2)\n",
    "        siamese_A1 = siamese(A1)\n",
    "        siamese_A2 = siamese(A2)\n",
    "\n",
    "        # travel loss + siamese loss\n",
    "        # t1 = reduce_mean(((siamese_A1 - siamese_A2) - (siamese_AB1 - siamese_AB2)) ** 2)\n",
    "        # t2 = reduce_mean( reduce_sum( - (l2_norm(siamese_A1 - siamese_AB2) * l2_norm(siamese_AB1 -siamese_AB2))))\n",
    "        t_loss = cossine_loss((siamese_A1 - siamese_A2), (siamese_AB1 - siamese_AB2))\n",
    "        #t_loss.backward()\n",
    "        # asta cred ca e contrastive loss with a twist\n",
    "\n",
    "        # s_loss = reduce_mean(square(maximum(delta - s_loss), 0)\n",
    "        s_loss = siamese_loss(siamese_A1, siamese_A2)\n",
    "        ts_loss = 3 - t_loss - s_loss\n",
    "        if i % 60 == 0: print(f\"Ts loss {ts_loss:.4f}\")\n",
    "\n",
    "        label_gen = torch.full((A_b_size,), real_label, dtype=torch.float, device=device)\n",
    "        disc = discriminator(AB.detach()).view(-1)\n",
    "        #g_loss = adversarial_loss(disc, label_gen)\n",
    "        g_loss = torch.mean(disc - label_gen)\n",
    "        if i % 60 == 0: print(f\"G loss :{g_loss:.4f}\")\n",
    "        if i % 60 == 0: print(f\"Feature loss :{feature_matching_loss:.4f}\")\n",
    "        # g_loss = reduce_mean( - output_AB)\n",
    "\n",
    "        # rd_loss = reduce_mean(maximum(1 - real_B, 0)\n",
    "        # fd_loss = reduce_mean(maximum(1 + fake, 0)\n",
    "        # rd_loss.backward()\n",
    "        # fd_loss.backward()\n",
    "\n",
    "        d_total_loss = (d_loss_real + d_loss_fake) / 2\n",
    "        g_total_loss = g_loss + 10. * ts_loss + 0.5 * id_loss + 2. * feature_matching_loss\n",
    "\n",
    "        dis_b = output_B.mean().item()\n",
    "        dis_ab = output_AB.mean().item()\n",
    "\n",
    "        gen_optimizer.zero_grad()\n",
    "        g_total_loss.backward()\n",
    "        gen_optimizer.step()\n",
    "\n",
    "        dis_optimizer.zero_grad()\n",
    "        d_total_loss.backward()\n",
    "        dis_optimizer.step()\n",
    "\n",
    "        # else:\n",
    "        #     d_loss_real, d_loss_fake = traind_discriminator(real_A, real_B)\n",
    "        #     d_total_loss = (d_loss_real + d_loss_fake) / 2\n",
    "\n",
    "        if i % 60 == 0:\n",
    "            print(f\"[{epoch}/{num_epochs - 1}] [{i}/{len(dataloader_A) - 1}]\\tLoss_dis: {d_total_loss.item():.4f}\\tLoss_gen: {g_total_loss.item():.4f}\\tD(x): {dis_b:.4f}\\tD(G(x)): {dis_ab:.4f}\")\n",
    "\n",
    "        gen_losses.append(g_total_loss.item())\n",
    "        dis_losses.append(d_total_loss.item())\n",
    "\n",
    "        # if iters % 500 == 0 or ((epoch == num_epochs - 1) and (i == len(dataloader) - 1)):\n",
    "        with torch.no_grad():\n",
    "            fake = generator(A1).detach().cpu()\n",
    "        img_lists.append(torchvision.utils.make_grid(fake, padding=2, normalize=True))\n",
    "\n",
    "        iters += 1\n",
    "    scheduler_gen.step(g_total_loss.item())\n",
    "    scheduler_dis.step(d_total_loss.item())\n",
    "\n",
    "\n",
    "    joblib.dump(generator, filename_gen)\n",
    "    joblib.dump(discriminator, filename_dis)\n",
    "    joblib.dump(siamese, filename_sim)\n",
    "\n",
    "    gen_losses_arr = np.array(gen_losses, dtype=object)\n",
    "    dis_losses_arr = np.array(dis_losses, dtype=object)\n",
    "    img_arr = np.array(img_lists, dtype=object)\n",
    "    np.save('TraVeLGAN/noise_feat-matching_gen4layers_20epoci_32x16_lrd=0.00001/TraVeLGAN-gen_losses.npy', gen_losses_arr)\n",
    "    np.save('TraVeLGAN/noise_feat-matching_gen4layers_20epoci_32x16_lrd=0.00001/TraVeLGAN-dis_losses.npy', dis_losses_arr)\n",
    "    np.save('TraVeLGAN/noise_feat-matching_gen4layers_20epoci_32x16_lrd=0.00001/TraVeLGAN-imgs.npy', img_arr)\n",
    "\n"
   ],
   "metadata": {
    "collapsed": false,
    "ExecuteTime": {
     "end_time": "2023-06-10T16:55:06.125593904Z",
     "start_time": "2023-06-10T16:34:20.585995937Z"
    }
   }
  },
  {
   "cell_type": "code",
   "execution_count": 72,
   "outputs": [],
   "source": [
    "#generator = joblib.load(filename_gen)\n",
    "#\n",
    "# discriminator = joblib.load(filename_dis)\n",
    "\n",
    "# for i, ms in enumerate(img_lists):\n",
    "#     print(ms.shape)\n",
    "#     ms = ms.numpy()\n",
    "#     im = Image.fromarray(ms)\n",
    "#     if im.mode != 'L':\n",
    "#         im = im.convert('L')\n",
    "#     im.save(f\"Data/generated/gen_spec{i}.jpg\")\n"
   ],
   "metadata": {
    "collapsed": false,
    "ExecuteTime": {
     "end_time": "2023-06-10T16:55:06.130207402Z",
     "start_time": "2023-06-10T16:55:06.125860073Z"
    }
   }
  },
  {
   "cell_type": "code",
   "execution_count": 73,
   "outputs": [
    {
     "data": {
      "text/plain": "<Figure size 640x480 with 1 Axes>",
      "image/png": "[encoded data removed]"
     },
     "metadata": {},
     "output_type": "display_data"
    },
    {
     "name": "stdout",
     "output_type": "stream",
     "text": [
      "torch.Size([1, 1, 32, 32])\n",
      "torch.Size([32, 32, 1])\n"
     ]
    },
    {
     "data": {
      "text/plain": "<Figure size 640x480 with 1 Axes>",
      "image/png": "[encoded data removed]"
     },
     "metadata": {},
     "output_type": "display_data"
    }
   ],
   "source": [
    "test_spec = Image.open(\"Data/SpectrogramsA/pop/pop_spec3.jpg\")\n",
    "make_tensor = torchvision.transforms.ToTensor()\n",
    "test_spec = transform(test_spec)\n",
    "test_spec = torch.transpose(test_spec, 0, 2)\n",
    "\n",
    "fig, axs = plt.subplots(1)\n",
    "axs.imshow(test_spec)\n",
    "plt.show()\n",
    "\n",
    "\n",
    "test_spec = torch.transpose(test_spec, 0, 2)\n",
    "test_spec = torch.unsqueeze(test_spec, 0)\n",
    "# test_spec = torch.transpose(test_spec, 0, 1)\n",
    "\n",
    "print(test_spec.shape)\n",
    "# test1, test2 = slice_images(test_spec)\n",
    "# test_spec1 = generator(test1)\n",
    "# test_spec2 = generator(test2)\n",
    "# test_spec = assemble_images(test_spec1, test_spec2)\n",
    "test_spec = generator(test_spec)\n",
    "\n",
    "test_spec = torch.squeeze(test_spec, 0)\n",
    "test_spec = torch.transpose(test_spec, 0, 2)\n",
    "\n",
    "print(test_spec.shape)\n",
    "fig, axs = plt.subplots(1)\n",
    "axs.imshow(test_spec.detach())\n",
    "plt.show()\n",
    "\n"
   ],
   "metadata": {
    "collapsed": false,
    "ExecuteTime": {
     "end_time": "2023-06-10T16:55:06.524970452Z",
     "start_time": "2023-06-10T16:55:06.128557995Z"
    }
   }
  },
  {
   "cell_type": "code",
   "execution_count": 74,
   "outputs": [
    {
     "data": {
      "text/plain": "<matplotlib.image.AxesImage at 0x7efcb7c0d760>"
     },
     "execution_count": 74,
     "metadata": {},
     "output_type": "execute_result"
    },
    {
     "data": {
      "text/plain": "<Figure size 2500x2500 with 1 Axes>",
      "image/png": "[encoded data removed]"
     },
     "metadata": {},
     "output_type": "display_data"
    }
   ],
   "source": [
    "rock_batch = next(iter(dataloader_B))\n",
    "p = rock_batch[0]\n",
    "res = generator(p)\n",
    "#b1, b2 = slice_images(rock_batch)\n",
    "# p1 = generator(b1)\n",
    "# p2 = generator(b2)\n",
    "# p = assemble_images(p1, p2)\n",
    "\n",
    "plt.figure(figsize=(25,25))\n",
    "plt.subplot(1,2,1)\n",
    "plt.axis(\"off\")\n",
    "plt.title(\"Fake images\")\n",
    "plt.imshow(np.transpose(torchvision.utils.make_grid(res.to(device), padding=5, normalize=True).cpu(),(1,2,0)))\n",
    "\n",
    "\n",
    "\n",
    "# plt.subplot()\n",
    "# plt.axis(\"off\")\n",
    "# plt.title(\"Fake Images\")\n",
    "# plt.imshow(np.transpose(res.detach(),(1,2,0)))\n",
    "# plt.show()"
   ],
   "metadata": {
    "collapsed": false,
    "ExecuteTime": {
     "end_time": "2023-06-10T16:55:07.144596692Z",
     "start_time": "2023-06-10T16:55:06.526136525Z"
    }
   }
  },
  {
   "cell_type": "code",
   "execution_count": 75,
   "outputs": [
    {
     "data": {
      "text/plain": "<matplotlib.image.AxesImage at 0x7efcc8d3ad00>"
     },
     "execution_count": 75,
     "metadata": {},
     "output_type": "execute_result"
    },
    {
     "data": {
      "text/plain": "<Figure size 2500x2500 with 1 Axes>",
      "image/png": "[encoded data removed]"
     },
     "metadata": {},
     "output_type": "display_data"
    }
   ],
   "source": [
    "# real_batch = next(iter(dataloader))\n",
    "real_batch = next(iter(dataloader_A))\n",
    "\n",
    "plt.figure(figsize=(25,25))\n",
    "plt.subplot(1,2,1)\n",
    "plt.axis(\"off\")\n",
    "plt.title(\"Real images\")\n",
    "plt.imshow(np.transpose(torchvision.utils.make_grid(rock_batch[0].to(device)[:64], padding=5, normalize=True).cpu(),(1,2,0)))\n",
    "\n",
    "\n",
    "# plt.subplot(1,2,2)\n",
    "# plt.axis(\"off\")\n",
    "# plt.title(\"Fake Images\")\n",
    "# plt.imshow(np.transpose(img_lists[-1],(1,2,0)))\n",
    "# plt.show()"
   ],
   "metadata": {
    "collapsed": false,
    "ExecuteTime": {
     "end_time": "2023-06-10T16:55:07.565671938Z",
     "start_time": "2023-06-10T16:55:07.143675876Z"
    }
   }
  },
  {
   "cell_type": "code",
   "execution_count": 76,
   "outputs": [
    {
     "name": "stdout",
     "output_type": "stream",
     "text": [
      "1\n"
     ]
    }
   ],
   "source": [
    "print(\"1\")"
   ],
   "metadata": {
    "collapsed": false,
    "ExecuteTime": {
     "end_time": "2023-06-10T16:55:07.566040313Z",
     "start_time": "2023-06-10T16:55:07.564122778Z"
    }
   }
  }
 ],
 "metadata": {
  "kernelspec": {
   "display_name": "Python 3",
   "language": "python",
   "name": "python3"
  },
  "language_info": {
   "codemirror_mode": {
    "name": "ipython",
    "version": 2
   },
   "file_extension": ".py",
   "mimetype": "text/x-python",
   "name": "python",
   "nbconvert_exporter": "python",
   "pygments_lexer": "ipython2",
   "version": "2.7.6"
  }
 },
 "nbformat": 4,
 "nbformat_minor": 0
}
